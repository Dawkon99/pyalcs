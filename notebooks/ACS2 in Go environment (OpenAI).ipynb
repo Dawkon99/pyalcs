{
 "cells": [
  {
   "cell_type": "code",
   "execution_count": 1,
   "metadata": {},
   "outputs": [],
   "source": [
    "import logging\n",
    "import random\n",
    "\n",
    "import numpy as np\n",
    "\n",
    "import gym\n",
    "from gym.envs.board_game import go\n",
    "\n",
    "logging.basicConfig(level=logging.INFO)"
   ]
  },
  {
   "cell_type": "markdown",
   "metadata": {},
   "source": [
    "# ACS2 in Go environment\n",
    "## Playing Go with Pachi\n",
    "OpenAI engine for playing Go uses *Pachi framework* (can be also used for other board games such as Weiqi or Baduk).\n",
    "\n",
    "From the [docs](http://repo.or.cz/pachi.git/blob_plain/HEAD:/README) we can read that: \n",
    "\n",
    "> The default engine plays by Chinese rules and should be about 7d KGS strength on 9x9. On 19x19 (using e.g. six-way Intel i7), it can hold a solid KGS 2d rank.  When using a large cluster (64 machines, 20 cores each), it maintains KGS 3d to 4d and has won e.g. a 7-stone handicap game against Zhou Junxun 9p. \n",
    "\n",
    "> By default, Pachi currently uses the UCT engine that combines Monte Carlo approach with tree search; UCB1AMAF tree policy using the RAVE method is used for tree search, while the Moggy playout policy using 3x3 patterns and various tactical checks is used for the semi-random Monte Carlo playouts.  Large-scale board patterns are used in the tree search.\n",
    "\n",
    "> At the same time, we keep trying a wide variety of other approaches and enhancements. Pachi is an active research platform and quite a few improvements have been already achieved. We rigorously play-test new features and enable them by default only when they give a universal strength boost."
   ]
  },
  {
   "cell_type": "markdown",
   "metadata": {},
   "source": [
    "Begin with initializing the environment into initial state and visualizing state into console."
   ]
  },
  {
   "cell_type": "code",
   "execution_count": 2,
   "metadata": {},
   "outputs": [
    {
     "name": "stderr",
     "output_type": "stream",
     "text": [
      "INFO:gym.envs.registration:Making new env: Go9x9-v0\n"
     ]
    },
    {
     "name": "stdout",
     "output_type": "stream",
     "text": [
      "To play: black\n",
      "Move:   0  Komi: 0.0  Handicap: 0  Captures B: 0 W: 0\n",
      "      A B C D E F G H J  \n",
      "    +-------------------+\n",
      "  9 | . . . . . . . . . |\n",
      "  8 | . . . . . . . . . |\n",
      "  7 | . . . . . . . . . |\n",
      "  6 | . . . . . . . . . |\n",
      "  5 | . . . . . . . . . |\n",
      "  4 | . . . . . . . . . |\n",
      "  3 | . . . . . . . . . |\n",
      "  2 | . . . . . . . . . |\n",
      "  1 | . . . . . . . . . |\n",
      "    +-------------------+\n"
     ]
    }
   ],
   "source": [
    "env = gym.make('Go9x9-v0')\n",
    "\n",
    "# Reset the state\n",
    "state = env.reset()\n",
    "\n",
    "# Render current state\n",
    "print(env._state)"
   ]
  },
  {
   "cell_type": "markdown",
   "metadata": {},
   "source": [
    "Pachi uses it's own way of describing state of the Go play. To represent action we need to convert it from symbolic symbol (such as *A8*) to internal numeric representation. OpenAi delivers function for mapping but in order to know what actions are possible we need to know mapping between all representations."
   ]
  },
  {
   "cell_type": "code",
   "execution_count": 3,
   "metadata": {},
   "outputs": [],
   "source": [
    "def moves_9x9():\n",
    "    \"\"\"\n",
    "    Return a list of all available moves (such as A8) on 9x9 board.\n",
    "    \"\"\"\n",
    "    rows = [chr(i) for i in range(ord('A'),ord('H')+1)]\n",
    "    cols = list(range(1, 8 + 1))\n",
    "    actions = []\n",
    "\n",
    "    for row in rows:\n",
    "        for col in cols:\n",
    "            actions.append(\"{}{}\".format(row, col))\n",
    "\n",
    "    return actions"
   ]
  },
  {
   "cell_type": "markdown",
   "metadata": {},
   "source": [
    "We can define a function performing action mapping from numbers from `0-64` to Pachi internal representation"
   ]
  },
  {
   "cell_type": "code",
   "execution_count": 4,
   "metadata": {},
   "outputs": [],
   "source": [
    "def map_action(action_idx):\n",
    "    \"\"\"\n",
    "    Maps action with given index (0, num_actions) to Pachi representation.\n",
    "    \"\"\"\n",
    "    moves = [(move, go.str_to_action(env._state.board, move)) for move in moves_9x9()]\n",
    "    return moves[action_idx][1]"
   ]
  },
  {
   "cell_type": "markdown",
   "metadata": {},
   "source": [
    "To perform a move let's pick up a random opening action"
   ]
  },
  {
   "cell_type": "code",
   "execution_count": 5,
   "metadata": {},
   "outputs": [
    {
     "name": "stdout",
     "output_type": "stream",
     "text": [
      "Action idx: [29] - Pachi action: [30]\n"
     ]
    }
   ],
   "source": [
    "action_idx = random.randint(0, 63)\n",
    "action = map_action(action_idx)\n",
    "\n",
    "print(\"Action idx: [{}] - Pachi action: [{}]\".format(action_idx, action))"
   ]
  },
  {
   "cell_type": "markdown",
   "metadata": {},
   "source": [
    "Now we can execute it getting back all possible information"
   ]
  },
  {
   "cell_type": "code",
   "execution_count": 6,
   "metadata": {},
   "outputs": [
    {
     "name": "stdout",
     "output_type": "stream",
     "text": [
      "Reward: [0.0]\n",
      "Done: [False]\n",
      "To play: black\n",
      "Move:   2  Komi: 0.0  Handicap: 0  Captures B: 0 W: 0\n",
      "      A B C D E F G H J  \n",
      "    +-------------------+\n",
      "  9 | . . . . . . . . . |\n",
      "  8 | . . . . . . . . . |\n",
      "  7 | . . . . O). . . . |\n",
      "  6 | . . . X . . . . . |\n",
      "  5 | . . . . . . . . . |\n",
      "  4 | . . . . . . . . . |\n",
      "  3 | . . . . . . . . . |\n",
      "  2 | . . . . . . . . . |\n",
      "  1 | . . . . . . . . . |\n",
      "    +-------------------+\n"
     ]
    }
   ],
   "source": [
    "state, reward, done, info = env.step(action)\n",
    "\n",
    "print(\"Reward: [{}]\".format(reward))\n",
    "print(\"Done: [{}]\".format(done))\n",
    "print(info['state'])"
   ]
  },
  {
   "cell_type": "markdown",
   "metadata": {},
   "source": [
    "## ACS2"
   ]
  },
  {
   "cell_type": "code",
   "execution_count": 7,
   "metadata": {},
   "outputs": [],
   "source": [
    "# Import PyALCS code from local path\n",
    "import sys\n",
    "sys.path.append('/Users/khozzy/Projects/pyalcs')\n",
    "\n",
    "from alcs import ACS2, ACS2Configuration\n",
    "\n",
    "# Enable automatic module reload\n",
    "%load_ext autoreload\n",
    "%autoreload 2"
   ]
  },
  {
   "cell_type": "markdown",
   "metadata": {},
   "source": [
    "Configure agent. In this case we have to specify the classifier length (state of the board), number of possible actions (all possible moves). The state returned by the environment is not suitable to be used in ACS2 classifier. Therefore a special mapper function is created."
   ]
  },
  {
   "cell_type": "code",
   "execution_count": 8,
   "metadata": {},
   "outputs": [],
   "source": [
    "def map_state(state):\n",
    "    \"\"\"\n",
    "    Returns a flatten array of board state of given state.\n",
    "    Black stones are represented as 'B', whites as 'W'\n",
    "    \"\"\"\n",
    "    black_stones = state[0]\n",
    "    white_stones = state[1] * 2\n",
    "    \n",
    "    board = (black_stones + white_stones).astype('str')\n",
    "    board[board == '1'] = 'B'\n",
    "    board[board == '2'] = 'W'\n",
    "    \n",
    "    return list(board.flatten())"
   ]
  },
  {
   "cell_type": "markdown",
   "metadata": {},
   "source": [
    "We want our agent to focus more on exploration than exploitation (`epsilon` parameter)."
   ]
  },
  {
   "cell_type": "code",
   "execution_count": 15,
   "metadata": {},
   "outputs": [
    {
     "name": "stdout",
     "output_type": "stream",
     "text": [
      "ACS2Configuration:\n",
      "\t- Classifier length: [81]\n",
      "\t- Number of possible actions: [64]\n",
      "\t- Classifier wildcard: [#]\n",
      "\t- Perception mapper function: [<function map_state at 0x10c12e620>]\n",
      "\t- Action mapper function: [<function map_action at 0x10d215620>]\n",
      "\t- Do GA: [False]\n",
      "\t- Do subsumption: [True]\n",
      "\t- Beta: [0.05]\n",
      "\t- ...\n",
      "\t- Epsilon: [0.7]\n"
     ]
    }
   ],
   "source": [
    "CLASSIFIER_LENGTH=env._state.board.size ** 2\n",
    "NUMBER_OF_POSSIBLE_ACTIONS=len(moves_9x9())\n",
    "\n",
    "cfg = ACS2Configuration(\n",
    "    classifier_length=CLASSIFIER_LENGTH,\n",
    "    number_of_possible_actions=NUMBER_OF_POSSIBLE_ACTIONS,\n",
    "    perception_mapper_fcn=map_state,\n",
    "    action_mapper_fcn=map_action,\n",
    "    epsilon=0.7\n",
    ")\n",
    "\n",
    "print(cfg)"
   ]
  },
  {
   "cell_type": "markdown",
   "metadata": {},
   "source": [
    "Now we can build the agent using previously defined configuration."
   ]
  },
  {
   "cell_type": "code",
   "execution_count": 16,
   "metadata": {},
   "outputs": [],
   "source": [
    "agent = ACS2(cfg)"
   ]
  },
  {
   "cell_type": "markdown",
   "metadata": {},
   "source": [
    "Explore best action."
   ]
  },
  {
   "cell_type": "code",
   "execution_count": 17,
   "metadata": {},
   "outputs": [],
   "source": [
    "population, metrics = agent.explore(env, 10)"
   ]
  },
  {
   "cell_type": "code",
   "execution_count": 18,
   "metadata": {},
   "outputs": [
    {
     "data": {
      "text/plain": [
       "[#################################0#########################################0#####-24-#################################W#########################################B##### @ 0x10dcbfdd8,\n",
       " ####################0#################0##########################################-20-####################W#################B########################################## @ 0x10dcfb048,\n",
       " ##############################################0####0#############################-11-##############################################B####W############################# @ 0x10dcbf550,\n",
       " #############0#################0#################################################-37-#############W#################B################################################# @ 0x10dcbf198,\n",
       " ############0###########################################################0########-0-############W###########################################################B######## @ 0x10dcdcc88,\n",
       " ####################################################################0#####0######-16-####################################################################W#####B###### @ 0x10dcdc358,\n",
       " #################################################################################-41-################################################################################# @ 0x10dcdc7f0,\n",
       " ##############0###########################################0######################-47-##############B###########################################W###################### @ 0x10dcdc7b8,\n",
       " #################################################################0#########0#####-24-#################################################################W#########B##### @ 0x10dcdcf98,\n",
       " ###############################################################0######0##########-1-###############################################################B######W########## @ 0x10dcdc668,\n",
       " #################################################################################-1-################################################################################# @ 0x10dcdc550,\n",
       " ##############0######0###########################################################-47-##############B######W########################################################### @ 0x10dcdc518,\n",
       " ##################################################################0########0#####-24-##################################################################W########B##### @ 0x10dcdca20,\n",
       " ######################################################00#########################-2-######################################################BW######################### @ 0x10dcdc860,\n",
       " #################################################################################-2-################################################################################# @ 0x10dcdc470,\n",
       " #############################################0#############0#####################-3-#############################################B#############W##################### @ 0x10dcdca90,\n",
       " ###########################################0#######0#############################-60-###########################################B#######W############################# @ 0x10dcdc8d0,\n",
       " #################################################################################-3-################################################################################# @ 0x10dcdc940,\n",
       " ###############################0####0############################################-4-###############################W####B############################################ @ 0x10dcdcb00,\n",
       " #################################################################################-4-################################################################################# @ 0x10dcdc048,\n",
       " ####################0##############################0#############################-51-####################W##############################B############################# @ 0x10dce3c18,\n",
       " ###################0####################################0########################-14-###################B####################################W######################## @ 0x10dcdc630,\n",
       " ############################0#######0############################################-4-############################W#######B############################################ @ 0x10dce3a20,\n",
       " ##########0##############################################################0#######-8-##########W##############################################################B####### @ 0x10dcdc4e0,\n",
       " ###########################0###############################0#####################-5-###########################B###############################W##################### @ 0x10dce3cc0,\n",
       " ##############0################0#################################################-47-##############B################W################################################# @ 0x10dcdc9e8,\n",
       " ########################0##################################################0#####-24-########################W##################################################B##### @ 0x10dce3c88,\n",
       " ##################0B##################################0##########################-2-##################W0##################################B########################## @ 0x10dcdcdd8,\n",
       " #################################################################################-5-################################################################################# @ 0x10dce3ba8,\n",
       " ##########0##########0###########################################################-15-##########B##########W########################################################### @ 0x10dcdc978,\n",
       " ######################################0#0########################################-36-######################################W#B######################################## @ 0x10dce3b70,\n",
       " ###################################################0####0########################-51-###################################################B####W######################## @ 0x10dcdcd30,\n",
       " ##################0#########0####################################################-6-##################B#########W#################################################### @ 0x10dce3dd8,\n",
       " #################################################################################-6-################################################################################# @ 0x10dcdcf60,\n",
       " #########0######################################################0################-7-#########B######################################################W################ @ 0x10dce3978,\n",
       " ##########0########################################0#############################-15-##########B########################################W############################# @ 0x10dcdc780,\n",
       " #######################00########################################################-46-#######################BW######################################################## @ 0x10dce38d0,\n",
       " #########################################00######################################-52-#########################################WB###################################### @ 0x10dcdceb8,\n",
       " #################################################################################-7-################################################################################# @ 0x10dce3860,\n",
       " #########0##############################################0########################-7-#########B##############################################W######################## @ 0x10dcdc710,\n",
       " #################################################0#0#############################-35-#################################################B#W############################# @ 0x10dce3a90,\n",
       " #######################0#################0#######################################-46-#######################B#################W####################################### @ 0x10dcdce80,\n",
       " #######################################################0########0################-9-#######################################################W########B################ @ 0x10dce3160,\n",
       " #################################################################################-9-################################################################################# @ 0x10dcdcf28,\n",
       " #######################0#########################0###############################-35-#######################W#########################B############################### @ 0x10dce3128,\n",
       " ###############################################0#######0#########################-10-###############################################W#######B######################### @ 0x10dcdc898,\n",
       " ##################0#####################################0########################-6-##################B#####################################W######################## @ 0x10dce3358,\n",
       " #################################################################################-10-################################################################################# @ 0x10dcdc588]"
      ]
     },
     "execution_count": 18,
     "metadata": {},
     "output_type": "execute_result"
    }
   ],
   "source": [
    "population"
   ]
  }
 ],
 "metadata": {
  "kernelspec": {
   "display_name": "Python 3",
   "language": "python",
   "name": "python3"
  },
  "language_info": {
   "codemirror_mode": {
    "name": "ipython",
    "version": 3
   },
   "file_extension": ".py",
   "mimetype": "text/x-python",
   "name": "python",
   "nbconvert_exporter": "python",
   "pygments_lexer": "ipython3",
   "version": "3.6.3"
  }
 },
 "nbformat": 4,
 "nbformat_minor": 2
}
