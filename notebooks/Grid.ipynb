{
 "cells": [
  {
   "cell_type": "code",
   "execution_count": 1,
   "metadata": {},
   "outputs": [],
   "source": [
    "%matplotlib inline\n",
    "\n",
    "# Logger\n",
    "import logging\n",
    "logging.basicConfig(level=logging.INFO)\n",
    "\n",
    "import numpy as np\n",
    "import matplotlib\n",
    "import matplotlib.pyplot as plt\n",
    "\n",
    "from copy import deepcopy\n",
    "\n",
    "# Import local paths\n",
    "import sys, os\n",
    "sys.path.insert(0, os.path.abspath('..'))\n",
    "sys.path.insert(0, os.path.abspath('../../openai-envs'))\n",
    "\n",
    "# Enable automatic module reload\n",
    "%load_ext autoreload\n",
    "%autoreload 2\n",
    "\n",
    "# Load PyALCS module\n",
    "from lcs import Perception\n",
    "from lcs.metrics import population_metrics\n",
    "from lcs.agents.acs2 import ACS2, Configuration, ClassifiersList\n",
    "\n",
    "# Load environments\n",
    "import gym\n",
    "import gym_grid"
   ]
  },
  {
   "cell_type": "markdown",
   "metadata": {},
   "source": [
    "# Grid\n",
    "\n",
    "Actions:\n",
    "\n",
    "    MOVE_LEFT = 0\n",
    "    MOVE_RIGHT = 1\n",
    "    MOVE_UP = 2\n",
    "    MOVE_DOWN = 3\n"
   ]
  },
  {
   "cell_type": "code",
   "execution_count": 2,
   "metadata": {},
   "outputs": [],
   "source": [
    "def avg_fitness(pop):\n",
    "    return np.mean([cl.fitness for cl in pop if cl.is_reliable() and cl.does_anticipate_change()])\n",
    "\n",
    "# collect more metrics\n",
    "def grid_metrics(pop, env):\n",
    "    metrics = {}\n",
    "    metrics['avg_fitness'] = avg_fitness(pop)\n",
    "#     metrics.update(population_metrics(pop, env))\n",
    "    \n",
    "    return metrics"
   ]
  },
  {
   "cell_type": "code",
   "execution_count": 3,
   "metadata": {},
   "outputs": [],
   "source": [
    "cfg = Configuration(\n",
    "        classifier_length=2,\n",
    "        number_of_possible_actions=4,\n",
    "        epsilon=1.0,\n",
    "        beta=0.01,\n",
    "        gamma=0.97,\n",
    "        theta_i=0.05,\n",
    "        theta_as=10,\n",
    "        theta_exp=50,\n",
    "        theta_ga=50,\n",
    "        do_ga=True,\n",
    "        mu=0.04,\n",
    "        u_max=2,\n",
    "        metrics_trial_frequency=50,\n",
    "        user_metrics_collector_fcn=grid_metrics) # grid_metrics"
   ]
  },
  {
   "cell_type": "code",
   "execution_count": 4,
   "metadata": {},
   "outputs": [],
   "source": [
    "def print_cl(cl):\n",
    "    action = None\n",
    "    if cl.action == 0:\n",
    "        action = '⬅'\n",
    "    if cl.action == 1:\n",
    "        action = '➡'\n",
    "    if cl.action == 2:\n",
    "        action = '⬆'\n",
    "    if cl.action == 3:\n",
    "        action = '⬇'\n",
    "    print(f\"{cl.condition} - {action} - {cl.effect} [fit: {cl.fitness:.3f}, r: {cl.r:.2f}, ir: {cl.ir:.2f}], exp: {cl.exp}\")"
   ]
  },
  {
   "cell_type": "code",
   "execution_count": 5,
   "metadata": {},
   "outputs": [],
   "source": [
    "def print_simple_stats(population, metrics):\n",
    "    pop_size = len(population)\n",
    "    \n",
    "    # avg step in trial\n",
    "    steps = []\n",
    "    for m in metrics:\n",
    "        steps.append(m['steps_in_trial'])\n",
    "\n",
    "    print(f\"Population of {pop_size}, avg steps {sum(steps)/len(steps)}, all steps {sum(steps)}\")     "
   ]
  },
  {
   "cell_type": "code",
   "execution_count": 6,
   "metadata": {},
   "outputs": [],
   "source": [
    "def plot_population(metrics, ax=None):\n",
    "    if ax is None:\n",
    "        ax = plt.gca()\n",
    "        \n",
    "    trials = [m['trial'] for m in metrics]\n",
    "    \n",
    "    population_size = [m['numerosity'] for m in metrics]\n",
    "    reliable_size = [m['reliable'] for m in metrics]\n",
    "    \n",
    "    ax.plot(trials, population_size, 'b', label='all')\n",
    "    ax.plot(trials, reliable_size, 'r', label='reliable')\n",
    "    \n",
    "    ax.set_title(\"Population size\")\n",
    "    ax.set_xlabel(\"Trial\")\n",
    "    ax.set_ylabel(\"Number of macroclassifiers\")\n",
    "    ax.legend(loc='best')"
   ]
  },
  {
   "cell_type": "code",
   "execution_count": 7,
   "metadata": {},
   "outputs": [],
   "source": [
    "def plot_avg_fitness(metrics, ax=None):\n",
    "    if ax is None:\n",
    "        ax = plt.gca()\n",
    "        \n",
    "    trials = [m['trial'] for m in metrics]\n",
    "    \n",
    "    avg_fitness = [m['avg_fitness'] for m in metrics]\n",
    "    \n",
    "    ax.plot(trials, avg_fitness, 'b')\n",
    "    \n",
    "    ax.set_title(\"Average fitness\")\n",
    "    ax.set_xlabel(\"Trial\")\n",
    "    ax.set_ylabel(\"Fitness value\")"
   ]
  },
  {
   "cell_type": "markdown",
   "metadata": {},
   "source": [
    "## Grid"
   ]
  },
  {
   "cell_type": "markdown",
   "metadata": {},
   "source": [
    "### Exploration"
   ]
  },
  {
   "cell_type": "code",
   "execution_count": 8,
   "metadata": {},
   "outputs": [],
   "source": [
    "grid = gym.make('grid-10-v0')"
   ]
  },
  {
   "cell_type": "code",
   "execution_count": null,
   "metadata": {},
   "outputs": [
    {
     "name": "stderr",
     "output_type": "stream",
     "text": [
      "/Users/khozzy/miniconda/envs/pyalcs/lib/python3.7/site-packages/numpy/core/fromnumeric.py:3257: RuntimeWarning: Mean of empty slice.\n",
      "  out=out, **kwargs)\n",
      "/Users/khozzy/miniconda/envs/pyalcs/lib/python3.7/site-packages/numpy/core/_methods.py:161: RuntimeWarning: invalid value encountered in double_scalars\n",
      "  ret = ret.dtype.type(ret / rcount)\n",
      "INFO:lcs.agents.Agent:{'trial': 0, 'steps_in_trial': 25, 'reward': 1000, 'avg_fitness': nan}\n",
      "INFO:lcs.agents.Agent:{'trial': 700, 'steps_in_trial': 7, 'reward': 1000, 'avg_fitness': 334.41202278837955}\n",
      "INFO:lcs.agents.Agent:{'trial': 1400, 'steps_in_trial': 2000, 'reward': 0, 'avg_fitness': 421.25251316890814}\n"
     ]
    }
   ],
   "source": [
    "%%time\n",
    "agent = ACS2(cfg)\n",
    "population, metrics = agent.explore(grid, 7000)"
   ]
  },
  {
   "cell_type": "code",
   "execution_count": null,
   "metadata": {},
   "outputs": [],
   "source": [
    "# print_simple_stats(population, metrics)"
   ]
  },
  {
   "cell_type": "code",
   "execution_count": null,
   "metadata": {},
   "outputs": [],
   "source": [
    "for cl in sorted(population, key=lambda cl: -cl.fitness):\n",
    "    if cl.does_anticipate_change():\n",
    "        print_cl(cl)"
   ]
  },
  {
   "cell_type": "code",
   "execution_count": null,
   "metadata": {},
   "outputs": [],
   "source": [
    "# plot_population(metrics)"
   ]
  },
  {
   "cell_type": "code",
   "execution_count": null,
   "metadata": {},
   "outputs": [],
   "source": [
    "plot_avg_fitness(metrics)"
   ]
  },
  {
   "cell_type": "markdown",
   "metadata": {},
   "source": [
    "### Exploitation"
   ]
  },
  {
   "cell_type": "code",
   "execution_count": null,
   "metadata": {},
   "outputs": [],
   "source": [
    "%%time\n",
    "agent = ACS2(cfg, deepcopy(population))\n",
    "pop_exploit, metric_exploit = agent.exploit(grid, 500)"
   ]
  },
  {
   "cell_type": "code",
   "execution_count": null,
   "metadata": {},
   "outputs": [],
   "source": [
    "# print_simple_stats(pop_exploit, metric_exploit)"
   ]
  },
  {
   "cell_type": "code",
   "execution_count": null,
   "metadata": {},
   "outputs": [],
   "source": [
    "for cl in sorted(pop_exploit, key=lambda cl: -cl.fitness):\n",
    "    if cl.does_anticipate_change():\n",
    "                print_cl(cl)"
   ]
  },
  {
   "cell_type": "markdown",
   "metadata": {},
   "source": [
    "### Manual tests"
   ]
  },
  {
   "cell_type": "code",
   "execution_count": null,
   "metadata": {},
   "outputs": [],
   "source": [
    "state = Perception((\"4\",\"1\"))\n",
    "\n",
    "match = pop_exploit.form_match_set(state)\n",
    "for cl in sorted(match, key=lambda cl: -cl.fitness):\n",
    "        if cl.does_anticipate_change():\n",
    "            print_cl(cl)\n",
    "#         else:\n",
    "#             print_cl(cl)"
   ]
  },
  {
   "cell_type": "code",
   "execution_count": null,
   "metadata": {},
   "outputs": [],
   "source": [
    "import random\n",
    "\n",
    "def find_best_moves(population, state):\n",
    "    def best_fitness(match_set, action):\n",
    "        action_set = [cl for cl in match_set.form_action_set(action) if cl.does_anticipate_change()]\n",
    "        random.shuffle(action_set)  # in case there are many actions available\n",
    "        if len(action_set):\n",
    "            best_cl = max(action_set, key=lambda cl: cl.fitness)\n",
    "            return best_cl.fitness\n",
    "        else:\n",
    "            return 0  # if classifier predicts no change it's fitness is set to 0\n",
    "    \n",
    "    matching = population.form_match_set(state)\n",
    "    \n",
    "    return {\n",
    "        \"left\": best_fitness(matching, 0),\n",
    "        \"right\": best_fitness(matching, 1),\n",
    "        \"up\": best_fitness(matching, 2),\n",
    "        \"down\": best_fitness(matching, 3)\n",
    "        \n",
    "    }\n",
    "\n",
    "find_best_moves(population, Perception((\"1\", \"1\")))"
   ]
  },
  {
   "cell_type": "code",
   "execution_count": null,
   "metadata": {},
   "outputs": [],
   "source": [
    "dim = 10\n",
    "step = 1. / dim\n",
    "\n",
    "states = []\n",
    "\n",
    "for x in range(0, dim):\n",
    "    for y in range(0, dim):\n",
    "        states.append({\n",
    "            \"pos\": (x * step, y * step),\n",
    "            \"cord\": (x+1, y+1),\n",
    "            \"best\": find_best_moves(population, Perception((str(x+1), str(y+1))))\n",
    "        })\n",
    "\n",
    "# show first one\n",
    "states[:1]"
   ]
  },
  {
   "cell_type": "code",
   "execution_count": null,
   "metadata": {},
   "outputs": [],
   "source": [
    "from itertools import chain\n",
    "\n",
    "fitness_values = list()\n",
    "for s in states:\n",
    "    for v in s['best'].values():\n",
    "        if v is not None:\n",
    "            fitness_values.append(v)"
   ]
  },
  {
   "cell_type": "code",
   "execution_count": null,
   "metadata": {},
   "outputs": [],
   "source": [
    "plt.hist(fitness_values, bins=100)\n",
    "plt.title('Fitness values distribution')\n",
    "plt.xlabel('Fitness value')\n",
    "plt.show()"
   ]
  },
  {
   "cell_type": "code",
   "execution_count": null,
   "metadata": {},
   "outputs": [],
   "source": [
    "import matplotlib.pyplot as plt\n",
    "import matplotlib.patches as patches\n",
    "import matplotlib.colors as colors\n",
    "import matplotlib.cm as cmx\n",
    "\n",
    "\n",
    "cm = plt.get_cmap('seismic')\n",
    "cNorm  = colors.Normalize(vmin=min(fitness_values), vmax=max(fitness_values))\n",
    "scalarMap = cmx.ScalarMappable(norm=cNorm, cmap=cm)\n",
    "\n",
    "fig, ax = plt.subplots(1, figsize=(10,10))\n",
    "\n",
    "ax.set_title('Fitness map for Grid environment')\n",
    "for state in states:\n",
    "    (pos_x, pos_y) = state['pos']\n",
    "    rect = patches.Rectangle((pos_x, pos_y), .2, .2, linewidth=2, edgecolor='black', facecolor='none', alpha=.7)\n",
    "    \n",
    "    alpha_triangles = 0.7\n",
    "    \n",
    "    down = plt.Polygon([(pos_x, pos_y), (pos_x+step, pos_y), (pos_x+step/2, pos_y+step/2)],\n",
    "                       color=scalarMap.to_rgba(state['best']['down']),\n",
    "                       alpha=alpha_triangles,linewidth=0)\n",
    "    up = plt.Polygon([(pos_x, pos_y+step), (pos_x+step, pos_y+step), (pos_x+step/2, pos_y+step/2)],\n",
    "                     color=scalarMap.to_rgba(state['best']['up']),\n",
    "                     alpha=alpha_triangles, linewidth=0)\n",
    "    left = plt.Polygon([(pos_x, pos_y), (pos_x, pos_y+step), (pos_x+step/2, pos_y+step/2)],\n",
    "                     color=scalarMap.to_rgba(state['best']['left']),\n",
    "                     alpha=alpha_triangles, linewidth=0)\n",
    "    right = plt.Polygon([(pos_x+step, pos_y), (pos_x+step, pos_y+step), (pos_x+step/2, pos_y+step/2)],\n",
    "                     color=scalarMap.to_rgba(state['best']['right']),\n",
    "                     alpha=alpha_triangles, linewidth=0)\n",
    "    \n",
    "    plt.text(pos_x+step/2, pos_y+step/2, state['cord'], fontsize=11)  # cords\n",
    "    \n",
    "#     plt.text(pos_x+.07, pos_y+0.008,\n",
    "#              round(state['best']['down'], 5),\n",
    "#              fontsize=8)\n",
    "#     plt.text(pos_x+.07, pos_y+0.18,\n",
    "#              round(state['best']['up'], 5),\n",
    "#              fontsize=8)\n",
    "#     plt.text(pos_x+0.008, pos_y+0.07,\n",
    "#              round(state['best']['left'], 5),\n",
    "#              fontsize=8,\n",
    "#              rotation=90)\n",
    "#     plt.text(pos_x+0.17, pos_y+0.07,\n",
    "#              round(state['best']['right'], 5),\n",
    "#              fontsize=8,\n",
    "#              rotation=-90)\n",
    "    \n",
    "    ax.add_patch(rect)\n",
    "    ax.add_patch(down)\n",
    "    ax.add_patch(up)\n",
    "    ax.add_patch(left)\n",
    "    ax.add_patch(right)\n",
    "\n",
    "plt.show()"
   ]
  }
 ],
 "metadata": {
  "kernelspec": {
   "display_name": "Python 3",
   "language": "python",
   "name": "python3"
  },
  "language_info": {
   "codemirror_mode": {
    "name": "ipython",
    "version": 3
   },
   "file_extension": ".py",
   "mimetype": "text/x-python",
   "name": "python",
   "nbconvert_exporter": "python",
   "pygments_lexer": "ipython3",
   "version": "3.7.0"
  }
 },
 "nbformat": 4,
 "nbformat_minor": 4
}
