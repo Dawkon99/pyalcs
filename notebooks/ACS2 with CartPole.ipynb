{
 "cells": [
  {
   "cell_type": "code",
   "execution_count": 1,
   "metadata": {},
   "outputs": [],
   "source": [
    "# Logger\n",
    "import logging\n",
    "logging.basicConfig(level=logging.INFO)\n",
    "\n",
    "from math import sqrt, pow\n",
    "\n",
    "\n",
    "import gym\n",
    "\n",
    "import pandas as pd\n",
    "import numpy as np\n",
    "\n",
    "# Import local paths\n",
    "import sys, os\n",
    "sys.path.append(os.path.abspath('../'))\n",
    "\n",
    "from lcs.agents import EnvironmentAdapter\n",
    "from lcs.agents.acs2 import ACS2, Configuration, ClassifiersList\n",
    "\n",
    "import matplotlib.pyplot as plt\n",
    "%matplotlib inline"
   ]
  },
  {
   "cell_type": "code",
   "execution_count": 2,
   "metadata": {},
   "outputs": [],
   "source": [
    "def print_cl(cl):\n",
    "    action = None\n",
    "    marked = ''\n",
    "    \n",
    "    if cl.action == 0:\n",
    "        action = 'L'\n",
    "    if cl.action == 1:\n",
    "        action = 'R'\n",
    "    \n",
    "    if cl.is_marked():\n",
    "        marked = '(*)'\n",
    "    \n",
    "    return (f\"{cl.condition} - {action} - {cl.effect} [fit: {cl.fitness:.3f}, r: {cl.r:.2f}, ir: {cl.ir:.2f}] {marked}\")"
   ]
  },
  {
   "cell_type": "markdown",
   "metadata": {},
   "source": [
    "## The first step is interact randomly with the environment to get maximum values for observations (later discretization)"
   ]
  },
  {
   "cell_type": "code",
   "execution_count": 3,
   "metadata": {},
   "outputs": [
    {
     "data": {
      "text/plain": [
       "222920"
      ]
     },
     "execution_count": 3,
     "metadata": {},
     "output_type": "execute_result"
    }
   ],
   "source": [
    "env = gym.make('CartPole-v0')\n",
    "\n",
    "observations = []\n",
    "\n",
    "for _ in range(10_000):\n",
    "    env.reset()\n",
    "    done = False\n",
    "    while not done:\n",
    "        obs, reward, done, _ = env.step(env.action_space.sample())\n",
    "        observations.append(obs)\n",
    "\n",
    "env.close()\n",
    "\n",
    "df = pd.DataFrame(\n",
    "    observations,\n",
    "    columns=['cart_position','cart_velocity','pole_angle','pole_tip_velocity'])\n",
    "\n",
    "len(df)"
   ]
  },
  {
   "cell_type": "code",
   "execution_count": 4,
   "metadata": {},
   "outputs": [
    {
     "data": {
      "text/html": [
       "<div>\n",
       "<style scoped>\n",
       "    .dataframe tbody tr th:only-of-type {\n",
       "        vertical-align: middle;\n",
       "    }\n",
       "\n",
       "    .dataframe tbody tr th {\n",
       "        vertical-align: top;\n",
       "    }\n",
       "\n",
       "    .dataframe thead th {\n",
       "        text-align: right;\n",
       "    }\n",
       "</style>\n",
       "<table border=\"1\" class=\"dataframe\">\n",
       "  <thead>\n",
       "    <tr style=\"text-align: right;\">\n",
       "      <th></th>\n",
       "      <th>cart_position</th>\n",
       "      <th>cart_velocity</th>\n",
       "      <th>pole_angle</th>\n",
       "      <th>pole_tip_velocity</th>\n",
       "    </tr>\n",
       "  </thead>\n",
       "  <tbody>\n",
       "    <tr>\n",
       "      <th>min</th>\n",
       "      <td>-1.886550</td>\n",
       "      <td>-3.010702</td>\n",
       "      <td>-0.263261</td>\n",
       "      <td>-3.317738</td>\n",
       "    </tr>\n",
       "    <tr>\n",
       "      <th>max</th>\n",
       "      <td>1.920572</td>\n",
       "      <td>2.807046</td>\n",
       "      <td>0.269485</td>\n",
       "      <td>3.380160</td>\n",
       "    </tr>\n",
       "  </tbody>\n",
       "</table>\n",
       "</div>"
      ],
      "text/plain": [
       "     cart_position  cart_velocity  pole_angle  pole_tip_velocity\n",
       "min      -1.886550      -3.010702   -0.263261          -3.317738\n",
       "max       1.920572       2.807046    0.269485           3.380160"
      ]
     },
     "execution_count": 4,
     "metadata": {},
     "output_type": "execute_result"
    }
   ],
   "source": [
    "df.describe().loc[['min','max']]"
   ]
  },
  {
   "cell_type": "markdown",
   "metadata": {},
   "source": [
    "# Creating bins"
   ]
  },
  {
   "cell_type": "code",
   "execution_count": 5,
   "metadata": {},
   "outputs": [],
   "source": [
    "# the loop-up table approach probably would be faster\n",
    "\n",
    "class Mapper:\n",
    "    def __init__(self, bins, x1, x2):\n",
    "        self.bins = bins\n",
    "        self.x1 = x1\n",
    "        self.x2 = x2\n",
    "        self.step = sqrt(pow(x2-x1, 2)) / bins\n",
    "    \n",
    "    def to_bin(self, x):\n",
    "        for i in range(self.bins):\n",
    "            start = self.x1 + i * self.step\n",
    "            end = start + self.step\n",
    "            if start <= x <= end:\n",
    "                return str(i)\n",
    "            \n",
    "        raise ValueError('Illegal value passed' + str(x))\n",
    "    \n",
    "    def to_val(self, b):\n",
    "        return self.x1 + int(b) * self.step"
   ]
  },
  {
   "cell_type": "code",
   "execution_count": 6,
   "metadata": {},
   "outputs": [
    {
     "name": "stdout",
     "output_type": "stream",
     "text": [
      "3\n",
      "4.2\n"
     ]
    }
   ],
   "source": [
    "m = Mapper(10, -4.2, 4.2)\n",
    "\n",
    "print(m.to_bin(-1.6))\n",
    "print(m.to_val('10'))"
   ]
  },
  {
   "cell_type": "markdown",
   "metadata": {},
   "source": [
    "# Create the environment adapter"
   ]
  },
  {
   "cell_type": "code",
   "execution_count": 7,
   "metadata": {},
   "outputs": [],
   "source": [
    "class CartPoleAdapter(EnvironmentAdapter):\n",
    "    @staticmethod\n",
    "    def to_genotype(phenotype):\n",
    "        bins = 10\n",
    "        mappers = [\n",
    "            Mapper(bins, -4.8, 4.8),\n",
    "            Mapper(bins, -3.5, 3.5),\n",
    "            Mapper(bins, -0.27, 0.27),\n",
    "            Mapper(bins, -3.7, 3.7)\n",
    "        ]\n",
    "        return tuple(mapper.to_bin(obs) for obs, mapper in zip(phenotype, mappers))"
   ]
  },
  {
   "cell_type": "code",
   "execution_count": 8,
   "metadata": {},
   "outputs": [
    {
     "data": {
      "text/plain": [
       "('7', '7', '4', '9')"
      ]
     },
     "execution_count": 8,
     "metadata": {},
     "output_type": "execute_result"
    }
   ],
   "source": [
    "ad = CartPoleAdapter()\n",
    "ad.to_genotype([2, 2, 0, 3])"
   ]
  },
  {
   "cell_type": "markdown",
   "metadata": {},
   "source": [
    "# ACS2 Configuration"
   ]
  },
  {
   "cell_type": "code",
   "execution_count": 9,
   "metadata": {},
   "outputs": [],
   "source": [
    "cfg = Configuration(\n",
    "            classifier_length=4,\n",
    "            number_of_possible_actions=2,\n",
    "            epsilon=1.0,\n",
    "            beta=0.05,\n",
    "            gamma=0.95,\n",
    "            theta_exp=50,\n",
    "            theta_ga=50,\n",
    "            do_ga=True,\n",
    "            mu=0.03,\n",
    "            u_max=4,\n",
    "            metrics_trial_frequency=5,\n",
    "            environment_adapter=CartPoleAdapter)"
   ]
  },
  {
   "cell_type": "code",
   "execution_count": 10,
   "metadata": {},
   "outputs": [
    {
     "name": "stderr",
     "output_type": "stream",
     "text": [
      "INFO:lcs.agents.Agent:{'trial': 0, 'steps_in_trial': 15, 'reward': 1.0}\n",
      "INFO:lcs.agents.Agent:{'trial': 100, 'steps_in_trial': 13, 'reward': 1.0}\n",
      "INFO:lcs.agents.Agent:{'trial': 200, 'steps_in_trial': 19, 'reward': 1.0}\n",
      "INFO:lcs.agents.Agent:{'trial': 300, 'steps_in_trial': 78, 'reward': 1.0}\n",
      "INFO:lcs.agents.Agent:{'trial': 400, 'steps_in_trial': 22, 'reward': 1.0}\n",
      "INFO:lcs.agents.Agent:{'trial': 500, 'steps_in_trial': 40, 'reward': 1.0}\n",
      "INFO:lcs.agents.Agent:{'trial': 600, 'steps_in_trial': 28, 'reward': 1.0}\n",
      "INFO:lcs.agents.Agent:{'trial': 700, 'steps_in_trial': 23, 'reward': 1.0}\n",
      "INFO:lcs.agents.Agent:{'trial': 800, 'steps_in_trial': 28, 'reward': 1.0}\n",
      "INFO:lcs.agents.Agent:{'trial': 900, 'steps_in_trial': 22, 'reward': 1.0}\n",
      "INFO:lcs.agents.Agent:{'trial': 1000, 'steps_in_trial': 12, 'reward': 1.0}\n",
      "INFO:lcs.agents.Agent:{'trial': 1100, 'steps_in_trial': 23, 'reward': 1.0}\n",
      "INFO:lcs.agents.Agent:{'trial': 1200, 'steps_in_trial': 17, 'reward': 1.0}\n",
      "INFO:lcs.agents.Agent:{'trial': 1300, 'steps_in_trial': 47, 'reward': 1.0}\n",
      "INFO:lcs.agents.Agent:{'trial': 1400, 'steps_in_trial': 21, 'reward': 1.0}\n",
      "INFO:lcs.agents.Agent:{'trial': 1500, 'steps_in_trial': 47, 'reward': 1.0}\n",
      "INFO:lcs.agents.Agent:{'trial': 1600, 'steps_in_trial': 29, 'reward': 1.0}\n",
      "INFO:lcs.agents.Agent:{'trial': 1700, 'steps_in_trial': 41, 'reward': 1.0}\n",
      "INFO:lcs.agents.Agent:{'trial': 1800, 'steps_in_trial': 29, 'reward': 1.0}\n",
      "INFO:lcs.agents.Agent:{'trial': 1900, 'steps_in_trial': 19, 'reward': 1.0}\n",
      "INFO:lcs.agents.Agent:{'trial': 2000, 'steps_in_trial': 34, 'reward': 1.0}\n",
      "INFO:lcs.agents.Agent:{'trial': 2100, 'steps_in_trial': 20, 'reward': 1.0}\n",
      "INFO:lcs.agents.Agent:{'trial': 2200, 'steps_in_trial': 33, 'reward': 1.0}\n",
      "INFO:lcs.agents.Agent:{'trial': 2300, 'steps_in_trial': 28, 'reward': 1.0}\n",
      "INFO:lcs.agents.Agent:{'trial': 2400, 'steps_in_trial': 66, 'reward': 1.0}\n",
      "INFO:lcs.agents.Agent:{'trial': 2500, 'steps_in_trial': 31, 'reward': 1.0}\n",
      "INFO:lcs.agents.Agent:{'trial': 2600, 'steps_in_trial': 23, 'reward': 1.0}\n",
      "INFO:lcs.agents.Agent:{'trial': 2700, 'steps_in_trial': 38, 'reward': 1.0}\n",
      "INFO:lcs.agents.Agent:{'trial': 2800, 'steps_in_trial': 68, 'reward': 1.0}\n",
      "INFO:lcs.agents.Agent:{'trial': 2900, 'steps_in_trial': 35, 'reward': 1.0}\n",
      "INFO:lcs.agents.Agent:{'trial': 3000, 'steps_in_trial': 20, 'reward': 1.0}\n",
      "INFO:lcs.agents.Agent:{'trial': 3100, 'steps_in_trial': 25, 'reward': 1.0}\n",
      "INFO:lcs.agents.Agent:{'trial': 3200, 'steps_in_trial': 41, 'reward': 1.0}\n",
      "INFO:lcs.agents.Agent:{'trial': 3300, 'steps_in_trial': 51, 'reward': 1.0}\n",
      "INFO:lcs.agents.Agent:{'trial': 3400, 'steps_in_trial': 25, 'reward': 1.0}\n",
      "INFO:lcs.agents.Agent:{'trial': 3500, 'steps_in_trial': 14, 'reward': 1.0}\n",
      "INFO:lcs.agents.Agent:{'trial': 3600, 'steps_in_trial': 28, 'reward': 1.0}\n",
      "INFO:lcs.agents.Agent:{'trial': 3700, 'steps_in_trial': 16, 'reward': 1.0}\n",
      "INFO:lcs.agents.Agent:{'trial': 3800, 'steps_in_trial': 55, 'reward': 1.0}\n",
      "INFO:lcs.agents.Agent:{'trial': 3900, 'steps_in_trial': 21, 'reward': 1.0}\n",
      "INFO:lcs.agents.Agent:{'trial': 4000, 'steps_in_trial': 27, 'reward': 1.0}\n",
      "INFO:lcs.agents.Agent:{'trial': 4100, 'steps_in_trial': 27, 'reward': 1.0}\n",
      "INFO:lcs.agents.Agent:{'trial': 4200, 'steps_in_trial': 22, 'reward': 1.0}\n",
      "INFO:lcs.agents.Agent:{'trial': 4300, 'steps_in_trial': 23, 'reward': 1.0}\n",
      "INFO:lcs.agents.Agent:{'trial': 4400, 'steps_in_trial': 35, 'reward': 1.0}\n",
      "INFO:lcs.agents.Agent:{'trial': 4500, 'steps_in_trial': 22, 'reward': 1.0}\n",
      "INFO:lcs.agents.Agent:{'trial': 4600, 'steps_in_trial': 24, 'reward': 1.0}\n",
      "INFO:lcs.agents.Agent:{'trial': 4700, 'steps_in_trial': 33, 'reward': 1.0}\n",
      "INFO:lcs.agents.Agent:{'trial': 4800, 'steps_in_trial': 43, 'reward': 1.0}\n",
      "INFO:lcs.agents.Agent:{'trial': 4900, 'steps_in_trial': 18, 'reward': 1.0}\n"
     ]
    }
   ],
   "source": [
    "env = gym.make('CartPole-v0')\n",
    "\n",
    "explorer = ACS2(cfg)\n",
    "population_explore, metrics_explore = explorer.explore(env, 5_000)"
   ]
  },
  {
   "cell_type": "code",
   "execution_count": 11,
   "metadata": {},
   "outputs": [
    {
     "name": "stdout",
     "output_type": "stream",
     "text": [
      "2233\n"
     ]
    }
   ],
   "source": [
    "print(len(population_explore))"
   ]
  },
  {
   "cell_type": "code",
   "execution_count": 12,
   "metadata": {},
   "outputs": [
    {
     "name": "stdout",
     "output_type": "stream",
     "text": [
      "5555 - R - ###4 [fit: 2.758, r: 2.81, ir: 1.00] \n",
      "5454 - L - ###5 [fit: 2.687, r: 2.77, ir: 1.00] \n",
      "5444 - L - ###5 [fit: 2.682, r: 2.72, ir: 1.00] \n",
      "5545 - L - #4## [fit: 2.651, r: 2.83, ir: 1.00] \n",
      "4545 - L - #4## [fit: 2.650, r: 2.68, ir: 1.00] \n",
      "4545 - R - ###4 [fit: 2.621, r: 2.64, ir: 1.00] \n",
      "5454 - R - #5## [fit: 2.616, r: 2.66, ir: 1.00] \n",
      "5555 - L - #4## [fit: 2.606, r: 2.72, ir: 1.00] \n",
      "4454 - R - #5## [fit: 2.566, r: 2.62, ir: 1.00] \n",
      "4555 - L - #4## [fit: 2.559, r: 2.76, ir: 1.00] \n",
      "4454 - L - ###5 [fit: 2.549, r: 2.68, ir: 1.00] \n",
      "5545 - R - ###4 [fit: 2.545, r: 2.60, ir: 1.00] \n",
      "5444 - R - #5## [fit: 2.529, r: 2.56, ir: 1.00] \n",
      "5434 - L - ###5 [fit: 2.454, r: 2.52, ir: 1.00] \n",
      "4555 - R - ###4 [fit: 2.437, r: 2.62, ir: 1.00] \n",
      "4444 - L - ###5 [fit: 2.432, r: 2.58, ir: 1.00] \n",
      "4444 - R - #5## [fit: 2.416, r: 2.70, ir: 1.00] \n",
      "5545 - L - #45# [fit: 2.384, r: 2.83, ir: 1.00] \n",
      "4565 - R - ###4 [fit: 2.373, r: 2.78, ir: 1.00] \n",
      "5554 - L - #4#5 [fit: 2.360, r: 2.92, ir: 1.00] \n",
      "4334 - R - #4## [fit: 2.353, r: 2.49, ir: 1.00] \n",
      "4565 - L - #4## [fit: 2.322, r: 2.69, ir: 1.00] \n",
      "5434 - R - #5## [fit: 2.255, r: 2.50, ir: 1.00] \n",
      "4554 - L - #4#5 [fit: 2.245, r: 2.77, ir: 1.00] \n",
      "5335 - R - #4## [fit: 2.176, r: 2.70, ir: 1.00] \n",
      "5425 - L - #### [fit: 2.176, r: 2.56, ir: 1.00] \n",
      "4464 - L - ###5 [fit: 2.152, r: 2.50, ir: 0.99] \n",
      "4434 - L - ###5 [fit: 2.146, r: 2.48, ir: 1.00] \n",
      "#464 - L - ###5 [fit: 2.141, r: 2.54, ir: 1.00] (*)\n",
      "4325 - L - #### [fit: 2.094, r: 2.52, ir: 1.00] \n"
     ]
    }
   ],
   "source": [
    "for cl in sorted(population_explore, key=lambda cl: -cl.fitness)[:30]:\n",
    "    print(print_cl(cl))"
   ]
  },
  {
   "cell_type": "code",
   "execution_count": 13,
   "metadata": {},
   "outputs": [
    {
     "name": "stdout",
     "output_type": "stream",
     "text": [
      "Avg steps 28.804\n"
     ]
    },
    {
     "data": {
      "image/png": "[encoded data removed]",
      "text/plain": [
       "<Figure size 432x288 with 1 Axes>"
      ]
     },
     "metadata": {
      "needs_background": "light"
     },
     "output_type": "display_data"
    }
   ],
   "source": [
    "explore_df = pd.DataFrame(metrics_explore)\n",
    "explore_df.set_index('trial', inplace=True)\n",
    "print(f\"Avg steps {explore_df['steps_in_trial'].mean()}\")\n",
    "explore_df['steps_in_trial'].plot();"
   ]
  },
  {
   "cell_type": "code",
   "execution_count": 14,
   "metadata": {},
   "outputs": [
    {
     "name": "stderr",
     "output_type": "stream",
     "text": [
      "INFO:lcs.agents.Agent:{'trial': 0, 'steps_in_trial': 187, 'reward': 1.0}\n"
     ]
    }
   ],
   "source": [
    "exploiter = ACS2(cfg, population_explore)\n",
    "population_exploit, metrics_exploit = explorer.exploit(env, 100)"
   ]
  },
  {
   "cell_type": "code",
   "execution_count": 15,
   "metadata": {},
   "outputs": [
    {
     "name": "stdout",
     "output_type": "stream",
     "text": [
      "Avg steps 142.0\n"
     ]
    },
    {
     "data": {
      "image/png": "[encoded data removed]",
      "text/plain": [
       "<Figure size 432x288 with 1 Axes>"
      ]
     },
     "metadata": {
      "needs_background": "light"
     },
     "output_type": "display_data"
    }
   ],
   "source": [
    "exploit_df = pd.DataFrame(metrics_exploit)\n",
    "exploit_df.set_index('trial', inplace=True)\n",
    "print(f\"Avg steps {exploit_df['steps_in_trial'].mean()}\")\n",
    "exploit_df['steps_in_trial'].plot();"
   ]
  }
 ],
 "metadata": {
  "kernelspec": {
   "display_name": "Python 3",
   "language": "python",
   "name": "python3"
  },
  "language_info": {
   "codemirror_mode": {
    "name": "ipython",
    "version": 3
   },
   "file_extension": ".py",
   "mimetype": "text/x-python",
   "name": "python",
   "nbconvert_exporter": "python",
   "pygments_lexer": "ipython3",
   "version": "3.7.0"
  }
 },
 "nbformat": 4,
 "nbformat_minor": 4
}
