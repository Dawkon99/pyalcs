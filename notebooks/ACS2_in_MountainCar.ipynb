{
 "cells": [
  {
   "cell_type": "markdown",
   "metadata": {},
   "source": [
    "# ACS in Mountain Car environment"
   ]
  },
  {
   "cell_type": "code",
   "execution_count": 1,
   "metadata": {},
   "outputs": [],
   "source": [
    "# Logger\n",
    "import logging\n",
    "logging.basicConfig(level=logging.INFO)\n",
    "\n",
    "import random\n",
    "import pickle\n",
    "\n",
    "import gym\n",
    "\n",
    "import pandas as pd\n",
    "import numpy as np\n",
    "\n",
    "# Import local paths\n",
    "import sys, os\n",
    "sys.path.append(os.path.abspath('../'))\n",
    "\n",
    "from lcs import Perception\n",
    "from lcs.agents import EnvironmentAdapter\n",
    "from lcs.agents.acs2 import ACS2, Configuration, ClassifiersList\n",
    "from lcs.metrics import population_metrics\n",
    "\n",
    "import matplotlib.pyplot as plt\n",
    "import matplotlib.cm as cm\n",
    "\n",
    "%matplotlib inline"
   ]
  },
  {
   "cell_type": "markdown",
   "metadata": {},
   "source": [
    "## TODO\n",
    "- ✅ https://www.youtube.com/watch?v=rBzOyjywtPw\n",
    "- ✅ https://repl.it/@MichaelMegliola/MountainCarQ-argmax-only\n",
    "- https://en.wikipedia.org/wiki/Learned_helplessness\n",
    "- maybe some projection of the input space for simpler problem\n",
    "- ✅explore / exploit decay\n",
    "- car final position metric\n",
    "- ✅policy visualization (2d plot)?\n",
    "- extend mountain car to return energy as reward\n",
    "- ✅classifiers plot\n",
    "- profiler co działa najbardziej spowalnia"
   ]
  },
  {
   "cell_type": "code",
   "execution_count": 7,
   "metadata": {
    "tags": [
     "parameters"
    ]
   },
   "outputs": [],
   "source": [
    "trials = 50\n",
    "decay = False\n",
    "bins = 14"
   ]
  },
  {
   "cell_type": "markdown",
   "metadata": {},
   "source": [
    "## Environment\n",
    "Description - https://github.com/openai/gym/wiki/MountainCar-v0\n",
    "\n",
    "![aa](http://gym.openai.com/v2018-02-21/videos/MountainCar-v0-270f34b9-f23e-4d95-a933-4c902b4f4435/poster.jpg)"
   ]
  },
  {
   "cell_type": "code",
   "execution_count": 2,
   "metadata": {},
   "outputs": [],
   "source": [
    "env = gym.make('MountainCar-v0')\n",
    "env._max_episode_steps = 1000\n",
    "\n",
    "_range, _low = (env.observation_space.high - env.observation_space.low, env.observation_space.low)"
   ]
  },
  {
   "cell_type": "markdown",
   "metadata": {},
   "source": [
    "## Agent configuration"
   ]
  },
  {
   "cell_type": "markdown",
   "metadata": {},
   "source": [
    "### Discretization of continuous input\n",
    "Values for bins are taken from https://gist.github.com/vblank182/83e29f16755320f82936d211761bfeea"
   ]
  },
  {
   "cell_type": "code",
   "execution_count": 3,
   "metadata": {},
   "outputs": [],
   "source": [
    "class MountainCarAdapter(EnvironmentAdapter):\n",
    "    BINS = bins\n",
    "    \n",
    "    @classmethod\n",
    "    def to_genotype(cls, obs):\n",
    "        return np.round(((obs - _low) / _range) * cls.BINS).astype(int).astype(str)"
   ]
  },
  {
   "cell_type": "markdown",
   "metadata": {},
   "source": [
    "### Fitness function\n",
    "Energy approach is tested. But.... what to do with the wildcard?"
   ]
  },
  {
   "cell_type": "code",
   "execution_count": 4,
   "metadata": {},
   "outputs": [],
   "source": [
    "def energy(cl):\n",
    "    # object energy is calculated like postition * velocity. We favour when it's closer to the right side and moving faster        \n",
    "    return int(cl.condition[0]) * int(cl.condition[1])"
   ]
  },
  {
   "cell_type": "markdown",
   "metadata": {},
   "source": [
    "### Evaluation metric"
   ]
  },
  {
   "cell_type": "code",
   "execution_count": 5,
   "metadata": {},
   "outputs": [],
   "source": [
    "def avg_fitness(pop):\n",
    "    return np.mean([cl.fitness for cl in pop if cl.is_reliable()])\n",
    "\n",
    "# collect more metrics\n",
    "def mc_metrics(pop, env):\n",
    "    metrics = {}\n",
    "    metrics['avg_fitness'] = avg_fitness(pop)\n",
    "    metrics.update(population_metrics(pop, env))\n",
    "    \n",
    "    return metrics"
   ]
  },
  {
   "cell_type": "markdown",
   "metadata": {},
   "source": [
    "### Building final configuration object"
   ]
  },
  {
   "cell_type": "code",
   "execution_count": 6,
   "metadata": {},
   "outputs": [],
   "source": [
    "cfg = Configuration(\n",
    "            classifier_length=2,\n",
    "            number_of_possible_actions=3,\n",
    "            epsilon=1.0,\n",
    "            beta=0.2,\n",
    "            gamma=0.95,\n",
    "            theta_exp=100,\n",
    "            theta_ga=50,\n",
    "            do_ga=True,\n",
    "            mu=0.03,\n",
    "            u_max=2,\n",
    "            metrics_trial_frequency=5,\n",
    "            user_metrics_collector_fcn=mc_metrics,\n",
    "            environment_adapter=MountainCarAdapter)"
   ]
  },
  {
   "cell_type": "markdown",
   "metadata": {},
   "source": [
    "## Experiments"
   ]
  },
  {
   "cell_type": "code",
   "execution_count": 8,
   "metadata": {},
   "outputs": [
    {
     "name": "stdout",
     "output_type": "stream",
     "text": [
      "Running 50 trials, decay=False\n"
     ]
    }
   ],
   "source": [
    "print(f'Running {trials} trials, decay={decay}, bins={bins}')"
   ]
  },
  {
   "cell_type": "code",
   "execution_count": 9,
   "metadata": {},
   "outputs": [
    {
     "name": "stderr",
     "output_type": "stream",
     "text": [
      "INFO:lcs.agents.Agent:{'trial': 0, 'steps_in_trial': 1000, 'reward': -1.0, 'avg_fitness': -1.165528375963443, 'population': 367, 'numerosity': 523, 'reliable': 38}\n",
      "INFO:lcs.agents.Agent:{'trial': 5, 'steps_in_trial': 1000, 'reward': -1.0, 'avg_fitness': -1.207192173378042, 'population': 367, 'numerosity': 874, 'reliable': 51}\n",
      "INFO:lcs.agents.Agent:{'trial': 10, 'steps_in_trial': 1000, 'reward': -1.0, 'avg_fitness': -1.134927721111107, 'population': 370, 'numerosity': 1347, 'reliable': 63}\n",
      "INFO:lcs.agents.Agent:{'trial': 15, 'steps_in_trial': 1000, 'reward': -1.0, 'avg_fitness': -1.1284117137335992, 'population': 366, 'numerosity': 1446, 'reliable': 57}\n",
      "INFO:lcs.agents.Agent:{'trial': 20, 'steps_in_trial': 1000, 'reward': -1.0, 'avg_fitness': -1.145636209002594, 'population': 365, 'numerosity': 1456, 'reliable': 54}\n",
      "INFO:lcs.agents.Agent:{'trial': 25, 'steps_in_trial': 1000, 'reward': -1.0, 'avg_fitness': -1.1727717104469277, 'population': 353, 'numerosity': 1486, 'reliable': 62}\n",
      "INFO:lcs.agents.Agent:{'trial': 30, 'steps_in_trial': 1000, 'reward': -1.0, 'avg_fitness': -1.1604119859009072, 'population': 363, 'numerosity': 1551, 'reliable': 53}\n",
      "INFO:lcs.agents.Agent:{'trial': 35, 'steps_in_trial': 1000, 'reward': -1.0, 'avg_fitness': -1.1663790413167203, 'population': 356, 'numerosity': 1536, 'reliable': 52}\n",
      "INFO:lcs.agents.Agent:{'trial': 40, 'steps_in_trial': 1000, 'reward': -1.0, 'avg_fitness': -1.165321017054619, 'population': 354, 'numerosity': 1538, 'reliable': 57}\n",
      "INFO:lcs.agents.Agent:{'trial': 45, 'steps_in_trial': 1000, 'reward': -1.0, 'avg_fitness': -1.1658737609834142, 'population': 347, 'numerosity': 1539, 'reliable': 57}\n"
     ]
    },
    {
     "name": "stdout",
     "output_type": "stream",
     "text": [
      "CPU times: user 1min, sys: 492 ms, total: 1min\n",
      "Wall time: 1min 5s\n"
     ]
    }
   ],
   "source": [
    "%%time\n",
    "\n",
    "agent = ACS2(cfg)\n",
    "population, metrics = agent.explore(env, trials, decay=decay)"
   ]
  },
  {
   "cell_type": "code",
   "execution_count": 10,
   "metadata": {},
   "outputs": [],
   "source": [
    "# helper function for printing classifier details\n",
    "def print_cl(cl):\n",
    "    action = None\n",
    "    marked = ''\n",
    "    \n",
    "    if cl.action == 0:\n",
    "        action = 'L'\n",
    "    if cl.action == 1:\n",
    "        action = '-'\n",
    "    if cl.action == 2:\n",
    "        action = 'R'\n",
    "    \n",
    "    if cl.is_marked():\n",
    "        marked = '(*)'\n",
    "    \n",
    "    return (f\"{cl.condition} - {action} - {cl.effect} [fit: {cl.fitness:.3f}, r: {cl.r:.2f}, q: {cl.q:.2f}, exp: {cl.exp}, num: {cl.num} {marked}]\")"
   ]
  },
  {
   "cell_type": "code",
   "execution_count": 11,
   "metadata": {},
   "outputs": [
    {
     "name": "stdout",
     "output_type": "stream",
     "text": [
      "Explore population size: 346\n",
      "Reliable classifiers: 59\n",
      "\n",
      "67 - L - ## [fit: -1.007, r: -1.01, q: 0.99, exp: 3600, num: 19 ]\n",
      "57 - - - ## [fit: -1.017, r: -1.02, q: 1.00, exp: 7109, num: 19 ]\n",
      "57 - R - ## [fit: -1.019, r: -1.03, q: 0.99, exp: 7970, num: 16 ]\n",
      "#7 - R - ## [fit: -1.023, r: -1.02, q: 1.00, exp: 16, num: 1 ]\n",
      "54 - L - ## [fit: -1.055, r: -1.15, q: 0.91, exp: 8, num: 5 ]\n",
      "610 - R - ## [fit: -1.059, r: -1.16, q: 0.92, exp: 3, num: 2 ]\n",
      "29 - - - #10 [fit: -1.064, r: -1.16, q: 0.92, exp: 2, num: 2 ]\n",
      "65 - L - ## [fit: -1.068, r: -1.18, q: 0.91, exp: 48, num: 19 ]\n",
      "64 - R - 55 [fit: -1.069, r: -1.17, q: 0.92, exp: 1, num: 1 ]\n",
      "711 - L - 810 [fit: -1.071, r: -1.17, q: 0.92, exp: 1, num: 1 ]\n",
      "810 - - - ## [fit: -1.086, r: -1.15, q: 0.94, exp: 2, num: 3 ]\n",
      "87 - L - ## [fit: -1.089, r: -1.14, q: 0.96, exp: 15, num: 8 ]\n",
      "67 - R - ## [fit: -1.089, r: -1.09, q: 1.00, exp: 3315, num: 19 ]\n",
      "99 - - - ## [fit: -1.096, r: -1.16, q: 0.94, exp: 4, num: 2 ]\n",
      "54 - R - ## [fit: -1.105, r: -1.16, q: 0.96, exp: 13, num: 8 ]\n",
      "88 - - - ## [fit: -1.108, r: -1.16, q: 0.96, exp: 8, num: 5 ]\n",
      "87 - R - ## [fit: -1.112, r: -1.12, q: 0.99, exp: 15, num: 8 ]\n",
      "510 - R - ## [fit: -1.113, r: -1.13, q: 0.98, exp: 7, num: 6 ]\n",
      "35 - R - #6 [fit: -1.116, r: -1.15, q: 0.97, exp: 8, num: 3 ]\n",
      "88 - L - #7 [fit: -1.118, r: -1.16, q: 0.97, exp: 5, num: 3 ]\n",
      "86 - L - 7# [fit: -1.120, r: -1.17, q: 0.96, exp: 3, num: 3 ]\n",
      "37 - L - ## [fit: -1.120, r: -1.14, q: 0.98, exp: 21, num: 14 ]\n",
      "711 - R - ## [fit: -1.125, r: -1.23, q: 0.92, exp: 4, num: 3 ]\n",
      "37 - - - ## [fit: -1.126, r: -1.14, q: 0.99, exp: 29, num: 13 ]\n",
      "86 - - - ## [fit: -1.130, r: -1.14, q: 0.99, exp: 5, num: 4 ]\n",
      "38 - - - ## [fit: -1.134, r: -1.14, q: 1.00, exp: 18, num: 11 ]\n",
      "96 - - - ## [fit: -1.135, r: -1.21, q: 0.94, exp: 4, num: 2 ]\n",
      "45 - R - #6 [fit: -1.138, r: -1.23, q: 0.93, exp: 6, num: 4 ]\n",
      "78 - - - ## [fit: -1.153, r: -1.16, q: 0.99, exp: 52, num: 18 ]\n",
      "65 - - - ## [fit: -1.155, r: -1.16, q: 1.00, exp: 36, num: 19 ]\n",
      "36 - L - ## [fit: -1.157, r: -1.16, q: 1.00, exp: 20, num: 11 ]\n",
      "#9 - R - ## [fit: -1.162, r: -1.23, q: 0.94, exp: 8, num: 2 ]\n",
      "55 - R - #6 [fit: -1.162, r: -1.27, q: 0.91, exp: 8, num: 2 ]\n",
      "59 - R - ## [fit: -1.163, r: -1.21, q: 0.96, exp: 58, num: 18 ]\n",
      "76 - R - ## [fit: -1.164, r: -1.18, q: 0.99, exp: 37, num: 16 ]\n",
      "63 - - - ## [fit: -1.165, r: -1.24, q: 0.94, exp: 3, num: 1 ]\n",
      "18 - R - ## [fit: -1.170, r: -1.20, q: 0.97, exp: 4, num: 2 ]\n",
      "75 - L - ## [fit: -1.173, r: -1.18, q: 0.99, exp: 17, num: 11 ]\n",
      "84 - - - ## [fit: -1.178, r: -1.23, q: 0.96, exp: 3, num: 3 ]\n",
      "77 - R - ## [fit: -1.183, r: -1.21, q: 0.98, exp: 61, num: 20 ]\n",
      "78 - R - ## [fit: -1.188, r: -1.19, q: 1.00, exp: 52, num: 20 ]\n",
      "45 - L - ## [fit: -1.195, r: -1.19, q: 1.00, exp: 29, num: 12 ]\n",
      "59 - - - ## [fit: -1.219, r: -1.22, q: 1.00, exp: 50, num: 19 ]\n",
      "47 - - - ## [fit: -1.227, r: -1.29, q: 0.95, exp: 310, num: 20 ]\n",
      "55 - - - ## [fit: -1.259, r: -1.32, q: 0.95, exp: 49, num: 19 ]\n",
      "68 - - - ## [fit: -1.282, r: -1.31, q: 0.98, exp: 620, num: 16 ]\n",
      "56 - - - ## [fit: -1.283, r: -1.28, q: 1.00, exp: 1303, num: 19 ]\n",
      "47 - L - ## [fit: -1.287, r: -1.29, q: 1.00, exp: 312, num: 18 ]\n",
      "46 - - - ## [fit: -1.295, r: -1.33, q: 0.98, exp: 144, num: 20 ]\n",
      "69 - R - ## [fit: -1.309, r: -1.31, q: 1.00, exp: 47, num: 17 ]\n"
     ]
    }
   ],
   "source": [
    "reliable = [cl for cl in population if cl.is_reliable()]\n",
    "\n",
    "print(f\"Explore population size: {len(population)}\")\n",
    "print(f\"Reliable classifiers: {len(reliable)}\\n\")\n",
    "\n",
    "for cl in sorted(reliable, key=lambda cl: -cl.fitness)[:50]:\n",
    "    print(print_cl(cl))"
   ]
  },
  {
   "cell_type": "code",
   "execution_count": 12,
   "metadata": {},
   "outputs": [
    {
     "data": {
      "text/html": [
       "<div>\n",
       "<style scoped>\n",
       "    .dataframe tbody tr th:only-of-type {\n",
       "        vertical-align: middle;\n",
       "    }\n",
       "\n",
       "    .dataframe tbody tr th {\n",
       "        vertical-align: top;\n",
       "    }\n",
       "\n",
       "    .dataframe thead th {\n",
       "        text-align: right;\n",
       "    }\n",
       "</style>\n",
       "<table border=\"1\" class=\"dataframe\">\n",
       "  <thead>\n",
       "    <tr style=\"text-align: right;\">\n",
       "      <th></th>\n",
       "      <th>steps_in_trial</th>\n",
       "      <th>reward</th>\n",
       "      <th>avg_fitness</th>\n",
       "      <th>population</th>\n",
       "      <th>numerosity</th>\n",
       "      <th>reliable</th>\n",
       "    </tr>\n",
       "    <tr>\n",
       "      <th>trial</th>\n",
       "      <th></th>\n",
       "      <th></th>\n",
       "      <th></th>\n",
       "      <th></th>\n",
       "      <th></th>\n",
       "      <th></th>\n",
       "    </tr>\n",
       "  </thead>\n",
       "  <tbody>\n",
       "    <tr>\n",
       "      <th>0</th>\n",
       "      <td>1000</td>\n",
       "      <td>-1.0</td>\n",
       "      <td>-1.165528</td>\n",
       "      <td>367</td>\n",
       "      <td>523</td>\n",
       "      <td>38</td>\n",
       "    </tr>\n",
       "    <tr>\n",
       "      <th>5</th>\n",
       "      <td>1000</td>\n",
       "      <td>-1.0</td>\n",
       "      <td>-1.207192</td>\n",
       "      <td>367</td>\n",
       "      <td>874</td>\n",
       "      <td>51</td>\n",
       "    </tr>\n",
       "    <tr>\n",
       "      <th>10</th>\n",
       "      <td>1000</td>\n",
       "      <td>-1.0</td>\n",
       "      <td>-1.134928</td>\n",
       "      <td>370</td>\n",
       "      <td>1347</td>\n",
       "      <td>63</td>\n",
       "    </tr>\n",
       "    <tr>\n",
       "      <th>15</th>\n",
       "      <td>1000</td>\n",
       "      <td>-1.0</td>\n",
       "      <td>-1.128412</td>\n",
       "      <td>366</td>\n",
       "      <td>1446</td>\n",
       "      <td>57</td>\n",
       "    </tr>\n",
       "    <tr>\n",
       "      <th>20</th>\n",
       "      <td>1000</td>\n",
       "      <td>-1.0</td>\n",
       "      <td>-1.145636</td>\n",
       "      <td>365</td>\n",
       "      <td>1456</td>\n",
       "      <td>54</td>\n",
       "    </tr>\n",
       "  </tbody>\n",
       "</table>\n",
       "</div>"
      ],
      "text/plain": [
       "       steps_in_trial  reward  avg_fitness  population  numerosity  reliable\n",
       "trial                                                                       \n",
       "0                1000    -1.0    -1.165528         367         523        38\n",
       "5                1000    -1.0    -1.207192         367         874        51\n",
       "10               1000    -1.0    -1.134928         370        1347        63\n",
       "15               1000    -1.0    -1.128412         366        1446        57\n",
       "20               1000    -1.0    -1.145636         365        1456        54"
      ]
     },
     "execution_count": 12,
     "metadata": {},
     "output_type": "execute_result"
    }
   ],
   "source": [
    "metrics_df = pd.DataFrame(metrics)\n",
    "metrics_df.set_index('trial', inplace=True)\n",
    "\n",
    "metrics_df.head()"
   ]
  },
  {
   "cell_type": "markdown",
   "metadata": {},
   "source": [
    "### Steps in trial"
   ]
  },
  {
   "cell_type": "code",
   "execution_count": 13,
   "metadata": {},
   "outputs": [
    {
     "data": {
      "image/png": "[encoded data removed]",
      "text/plain": [
       "<Figure size 1008x432 with 1 Axes>"
      ]
     },
     "metadata": {
      "needs_background": "light"
     },
     "output_type": "display_data"
    }
   ],
   "source": [
    "metrics_df['steps_in_trial'].plot(figsize=(14,6), title='Steps in each trial');"
   ]
  },
  {
   "cell_type": "markdown",
   "metadata": {},
   "source": [
    "### Average fitness\n",
    "Lower is better"
   ]
  },
  {
   "cell_type": "code",
   "execution_count": 14,
   "metadata": {},
   "outputs": [
    {
     "data": {
      "image/png": "[encoded data removed]",
      "text/plain": [
       "<Figure size 1008x432 with 1 Axes>"
      ]
     },
     "metadata": {
      "needs_background": "light"
     },
     "output_type": "display_data"
    }
   ],
   "source": [
    "window = 50\n",
    "\n",
    "fig, ax = plt.subplots(figsize=(14, 6))\n",
    "\n",
    "metrics_df['avg_fitness'].rolling(window=window).mean().plot(ax=ax)\n",
    "\n",
    "ax.set_title('Fitness')\n",
    "ax.set_xlabel('Trial')\n",
    "ax.set_ylabel('Avg population fitness')\n",
    "\n",
    "plt.show()"
   ]
  },
  {
   "cell_type": "markdown",
   "metadata": {},
   "source": [
    "## Classifiers"
   ]
  },
  {
   "cell_type": "code",
   "execution_count": 15,
   "metadata": {},
   "outputs": [
    {
     "data": {
      "image/png": "[encoded data removed]",
      "text/plain": [
       "<Figure size 1008x576 with 1 Axes>"
      ]
     },
     "metadata": {
      "needs_background": "light"
     },
     "output_type": "display_data"
    }
   ],
   "source": [
    "fig, ax = plt.subplots(figsize=(14,8))\n",
    "\n",
    "metrics_df['population'].plot(label='population', ax=ax)\n",
    "metrics_df['reliable'].plot(label='reliable', ax=ax)\n",
    "\n",
    "plt.legend()\n",
    "plt.show()"
   ]
  },
  {
   "cell_type": "markdown",
   "metadata": {},
   "source": [
    "## Policy plot"
   ]
  },
  {
   "cell_type": "code",
   "execution_count": 16,
   "metadata": {},
   "outputs": [
    {
     "name": "stdout",
     "output_type": "stream",
     "text": [
      "2\n"
     ]
    }
   ],
   "source": [
    "obs = (\"1\",\"1\")\n",
    "\n",
    "def best_action(obs, population):\n",
    "    matchset = population.form_match_set(Perception(obs))\n",
    "    anticipated_change_cls = [cl for cl in matchset if cl.does_anticipate_change()]\n",
    "\n",
    "    best_classifier = None\n",
    "    if len(anticipated_change_cls) > 0:\n",
    "        random.shuffle(anticipated_change_cls)\n",
    "        best_classifier = max(anticipated_change_cls, key=lambda cl: cl.fitness * cl.num)\n",
    "\n",
    "    if best_classifier is not None:\n",
    "        return best_classifier.action\n",
    "    else:\n",
    "        return None\n",
    "    \n",
    "a = best_action(obs, population)\n",
    "print(a)"
   ]
  },
  {
   "cell_type": "code",
   "execution_count": 17,
   "metadata": {},
   "outputs": [
    {
     "data": {
      "image/png": "[encoded data removed]",
      "text/plain": [
       "<Figure size 576x576 with 2 Axes>"
      ]
     },
     "metadata": {
      "needs_background": "light"
     },
     "output_type": "display_data"
    }
   ],
   "source": [
    "cmap = cm.get_cmap('Set3', 4)\n",
    "\n",
    "BINS = 14\n",
    "EMPTY = -1\n",
    "\n",
    "policy = np.full((BINS, BINS), EMPTY)\n",
    "\n",
    "for pos_bin in range(BINS):\n",
    "    for vel_bin in range(BINS):\n",
    "        obs = (str(pos_bin), str(vel_bin))\n",
    "        action = best_action(obs, population)\n",
    "        policy[pos_bin, vel_bin] = action if action != None else EMPTY\n",
    "        \n",
    "fig, ax = plt.subplots(figsize=(8,8))\n",
    "im = ax.imshow(policy, interpolation='none', cmap=cmap);\n",
    "\n",
    "fig.colorbar(im, ticks=[-1, 0, 1, 2])\n",
    "plt.xlabel('Position')\n",
    "plt.ylabel('Velocity')\n",
    "\n",
    "plt.show();"
   ]
  },
  {
   "cell_type": "markdown",
   "metadata": {},
   "source": [
    "## Save objects for reproduction"
   ]
  },
  {
   "cell_type": "code",
   "execution_count": 18,
   "metadata": {},
   "outputs": [],
   "source": [
    "filename = f'mountain_car_{trials}_trials_decay_{decay}_bins_{bins}.pickle'\n",
    "with open(filename, 'wb') as f:\n",
    "    pickle.dump((population, metrics_df), f)"
   ]
  }
 ],
 "metadata": {
  "kernelspec": {
   "display_name": "Python 3",
   "language": "python",
   "name": "python3"
  },
  "language_info": {
   "codemirror_mode": {
    "name": "ipython",
    "version": 3
   },
   "file_extension": ".py",
   "mimetype": "text/x-python",
   "name": "python",
   "nbconvert_exporter": "python",
   "pygments_lexer": "ipython3",
   "version": "3.7.0"
  }
 },
 "nbformat": 4,
 "nbformat_minor": 4
}
