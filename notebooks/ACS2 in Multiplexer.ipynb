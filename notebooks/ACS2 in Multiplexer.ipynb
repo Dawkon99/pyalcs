{
 "cells": [
  {
   "cell_type": "markdown",
   "metadata": {},
   "source": [
    "# ACS2 in Multiplexer"
   ]
  },
  {
   "cell_type": "code",
   "execution_count": 1,
   "metadata": {},
   "outputs": [],
   "source": [
    "%matplotlib inline\n",
    "\n",
    "# General\n",
    "from __future__ import unicode_literals\n",
    "\n",
    "import numpy as np\n",
    "import pandas as pd\n",
    "\n",
    "# Logger\n",
    "import logging\n",
    "logging.basicConfig(level=logging.WARN)\n",
    "\n",
    "# ALCS + custom environments\n",
    "import sys\n",
    "sys.path.append('/Users/khozzy/Projects/pyalcs')\n",
    "#sys.path.append(\"/Users/khozzy/Projects/openai-envs\")\n",
    "\n",
    "# Enable automatic module reload\n",
    "%load_ext autoreload\n",
    "%autoreload 2\n",
    "\n",
    "# Load PyALCS module\n",
    "from alcs import ACS2, ACS2Configuration\n",
    "\n",
    "# Load environments\n",
    "import gym\n",
    "import gym_multiplexer"
   ]
  },
  {
   "cell_type": "markdown",
   "metadata": {},
   "source": [
    "## Multiplexer"
   ]
  },
  {
   "cell_type": "code",
   "execution_count": 2,
   "metadata": {},
   "outputs": [
    {
     "data": {
      "text/plain": [
       "'011100101010110100110'"
      ]
     },
     "execution_count": 2,
     "metadata": {},
     "output_type": "execute_result"
    }
   ],
   "source": [
    "mp = gym.make('boolean-multiplexer-20bit-v0')\n",
    "situation = mp.reset()\n",
    "mp.render()"
   ]
  },
  {
   "cell_type": "code",
   "execution_count": 3,
   "metadata": {},
   "outputs": [
    {
     "name": "stdout",
     "output_type": "stream",
     "text": [
      "New state: 011100101010110100111, reward: 1000, is done: True\n"
     ]
    }
   ],
   "source": [
    "state, reward, done, _ = mp.step(0)\n",
    "\n",
    "print(\"New state: {}, reward: {}, is done: {}\".format(state, reward, done))"
   ]
  },
  {
   "cell_type": "code",
   "execution_count": 4,
   "metadata": {},
   "outputs": [
    {
     "data": {
      "text/plain": [
       "'011100101010110100111'"
      ]
     },
     "execution_count": 4,
     "metadata": {},
     "output_type": "execute_result"
    }
   ],
   "source": [
    "mp.render()"
   ]
  },
  {
   "cell_type": "markdown",
   "metadata": {},
   "source": [
    "### Evaluation\n",
    "Calculate knowledge - check if any of the reliable classifiers gives correct answer."
   ]
  },
  {
   "cell_type": "code",
   "execution_count": 5,
   "metadata": {},
   "outputs": [],
   "source": [
    "from gym_multiplexer.utils import get_correct_answer\n",
    "\n",
    "def evaluate_performance(env, population, ctrl_bits):\n",
    "    p1 = env.render()  # state after executing action\n",
    "    p0 = p1[:-1] + '0'  # initial state\n",
    "    true_action = get_correct_answer(p0, ctrl_bits)\n",
    "    \n",
    "    # get all classifiers matching initial state\n",
    "    matching_cls = {c for c in population if c.condition.does_match(p0)}\n",
    "    best_cl = max(matching_cls, key=lambda cl: cl.q)\n",
    "        \n",
    "    return {'was_correct': best_cl.predicts_successfully(p0, true_action, p1)}"
   ]
  },
  {
   "cell_type": "markdown",
   "metadata": {},
   "source": [
    "## Go agent, go...\n",
    "Perform experiment for a couple of explore/exploit trials."
   ]
  },
  {
   "cell_type": "code",
   "execution_count": 6,
   "metadata": {},
   "outputs": [],
   "source": [
    "def get_6bit_mp_actors():\n",
    "    mp = gym.make('boolean-multiplexer-6bit-v0')\n",
    "    cfg = ACS2Configuration(\n",
    "    mp.env.observation_space.n,\n",
    "    2,\n",
    "    performance_fcn=evaluate_performance,\n",
    "    performance_fcn_params={'ctrl_bits': 2},\n",
    "    do_ga=True)\n",
    "\n",
    "    return ACS2(cfg), mp\n",
    "\n",
    "def get_11bit_mp_actors():\n",
    "    mp = gym.make('boolean-multiplexer-11bit-v0')\n",
    "    cfg = ACS2Configuration(\n",
    "    mp.env.observation_space.n,\n",
    "    2,\n",
    "    performance_fcn=evaluate_performance,\n",
    "    performance_fcn_params={'ctrl_bits': 3},\n",
    "    do_ga=True)\n",
    "\n",
    "    return ACS2(cfg), mp\n",
    "\n",
    "def get_20bit_mp_actors():\n",
    "    mp = gym.make('boolean-multiplexer-20bit-v0')\n",
    "    cfg = ACS2Configuration(\n",
    "    mp.env.observation_space.n,\n",
    "    2,\n",
    "    performance_fcn=evaluate_performance,\n",
    "    performance_fcn_params={'ctrl_bits': 4},\n",
    "    do_ga=True)\n",
    "\n",
    "    return ACS2(cfg), mp\n",
    "\n",
    "def get_37bit_mp_actors():\n",
    "    mp = gym.make('boolean-multiplexer-37bit-v0')\n",
    "    cfg = ACS2Configuration(\n",
    "    mp.env.observation_space.n,\n",
    "    2,\n",
    "    performance_fcn=evaluate_performance,\n",
    "    performance_fcn_params={'ctrl_bits': 5},\n",
    "    do_ga=True)\n",
    "\n",
    "    return ACS2(cfg), mp"
   ]
  },
  {
   "cell_type": "code",
   "execution_count": 7,
   "metadata": {},
   "outputs": [],
   "source": [
    "def perform_experiment(agent, env, trials=500_000):\n",
    "    population, metrics = agent.explore_exploit(env, trials)\n",
    "    print(\"Population size: {}\".format(metrics[-1]['agent']['population']))\n",
    "    print(\"Reliable size: {}\".format(metrics[-1]['agent']['reliable']))\n",
    "    print(metrics[-1])\n",
    "    \n",
    "    reliable_classifiers = [c for c in population if c.is_reliable()]\n",
    "    reliable_classifiers = sorted(reliable_classifiers, key=lambda cl: -cl.q)\n",
    "\n",
    "    # Print top 20 reliable classifiers\n",
    "    for cl in reliable_classifiers[:20]:\n",
    "        print(f\"{cl}, q: {cl.q:.2f}, exp: {cl.exp:.2f}\")\n",
    "    \n",
    "    return population, metrics"
   ]
  },
  {
   "cell_type": "code",
   "execution_count": 8,
   "metadata": {},
   "outputs": [
    {
     "name": "stdout",
     "output_type": "stream",
     "text": [
      "Population size: 72\n",
      "Reliable size: 21\n",
      "{'agent': {'population': 72, 'numerosity': 304, 'reliable': 21, 'fitness': 465.78839710217085, 'trial': 499999, 'steps': 1, 'total_steps': 500000}, 'environment': None, 'performance': {'was_correct': False}}\n",
      "01#1###-0-####### @ 0x114332e10, q: 1.00, exp: 8519.00\n",
      "10##1##-0-####### @ 0x110e97240, q: 1.00, exp: 8458.00\n",
      "01#0###-0-######1 @ 0x11476ef28, q: 1.00, exp: 22771.00\n",
      "11###0#-0-######1 @ 0x1148687b8, q: 1.00, exp: 22774.00\n",
      "000####-0-######1 @ 0x114868908, q: 1.00, exp: 22804.00\n",
      "10##0##-0-######1 @ 0x114868400, q: 1.00, exp: 22574.00\n",
      "11###1#-0-####### @ 0x11475ccc0, q: 1.00, exp: 8391.00\n",
      "001####-1-######1 @ 0x11476e2e8, q: 1.00, exp: 22687.00\n",
      "001####-0-####### @ 0x11475c908, q: 1.00, exp: 8506.00\n",
      "10##1##-1-######1 @ 0x114868fd0, q: 1.00, exp: 22515.00\n",
      "11###1#-1-######1 @ 0x110e97c18, q: 1.00, exp: 22404.00\n",
      "10##0##-1-####### @ 0x114332358, q: 1.00, exp: 8535.00\n",
      "11###0#-1-####### @ 0x11475ce48, q: 1.00, exp: 8500.00\n",
      "000####-1-####### @ 0x11476ec50, q: 1.00, exp: 8608.00\n",
      "01#1###-1-######1 @ 0x11476e080, q: 1.00, exp: 22563.00\n",
      "01#0###-1-####### @ 0x11476e668, q: 1.00, exp: 8507.00\n",
      "0#11###-1-######1 @ 0x11476ecc0, q: 1.00, exp: 115.00\n",
      "1###00#-1-####### @ 0x110c7e6d8, q: 1.00, exp: 125.00\n",
      "#01#1##-1-######1 @ 0x10fd79e10, q: 1.00, exp: 103.00\n",
      "1###11#-1-######1 @ 0x1143323c8, q: 1.00, exp: 40.00\n"
     ]
    }
   ],
   "source": [
    "# 6bit\n",
    "p6, m6 = perform_experiment(*get_6bit_mp_actors())"
   ]
  },
  {
   "cell_type": "code",
   "execution_count": 9,
   "metadata": {
    "scrolled": false
   },
   "outputs": [
    {
     "name": "stdout",
     "output_type": "stream",
     "text": [
      "Population size: 170\n",
      "Reliable size: 43\n",
      "{'agent': {'population': 170, 'numerosity': 594, 'reliable': 43, 'fitness': 483.8730054665155, 'trial': 499999, 'steps': 1, 'total_steps': 500000}, 'environment': None, 'performance': {'was_correct': False}}\n",
      "101#####0###-1-############ @ 0x13236a2e8, q: 1.00, exp: 4136.00\n",
      "101#####0###-0-###########1 @ 0x1326466d8, q: 1.00, exp: 11472.00\n",
      "0001########-0-############ @ 0x1325540f0, q: 1.00, exp: 4205.00\n",
      "111#######1#-0-############ @ 0x132798668, q: 1.00, exp: 4140.00\n",
      "010##1######-0-############ @ 0x132505b70, q: 1.00, exp: 4204.00\n",
      "001#0#######-1-############ @ 0x132315940, q: 1.00, exp: 4038.00\n",
      "011###0#####-0-###########1 @ 0x132885198, q: 1.00, exp: 11377.00\n",
      "010##1######-1-###########1 @ 0x11476efd0, q: 1.00, exp: 11168.00\n",
      "100####0####-1-############ @ 0x1326a5ba8, q: 1.00, exp: 3995.00\n",
      "0000########-1-############ @ 0x1323b9a90, q: 1.00, exp: 4050.00\n",
      "111#######0#-0-###########1 @ 0x1325f8f60, q: 1.00, exp: 11317.00\n",
      "100####1####-1-###########1 @ 0x1323152e8, q: 1.00, exp: 11243.00\n",
      "110######0##-0-###########1 @ 0x132315588, q: 1.00, exp: 11211.00\n",
      "0001########-1-###########1 @ 0x13273d630, q: 1.00, exp: 11310.00\n",
      "001#0#######-0-###########1 @ 0x1325f8160, q: 1.00, exp: 11047.00\n",
      "001#0######0-0-###########1 @ 0x1323b92b0, q: 1.00, exp: 11039.00\n",
      "011###1#####-0-############ @ 0x1323b9f60, q: 1.00, exp: 4069.00\n",
      "011###1#####-1-###########1 @ 0x1327987f0, q: 1.00, exp: 11347.00\n",
      "0000########-0-###########1 @ 0x132885898, q: 1.00, exp: 11057.00\n",
      "011###0#####-1-############ @ 0x1326a5048, q: 1.00, exp: 4012.00\n"
     ]
    }
   ],
   "source": [
    "# 11bit\n",
    "p11, m11 = perform_experiment(*get_11bit_mp_actors())"
   ]
  },
  {
   "cell_type": "code",
   "execution_count": 10,
   "metadata": {},
   "outputs": [
    {
     "name": "stdout",
     "output_type": "stream",
     "text": [
      "Population size: 5888\n",
      "Reliable size: 66\n",
      "{'agent': {'population': 5888, 'numerosity': 6719, 'reliable': 66, 'fitness': 351.2487002352743, 'trial': 499999, 'steps': 1, 'total_steps': 500000}, 'environment': None, 'performance': {'was_correct': False}}\n",
      "00001################-1-####################1 @ 0x11476e828, q: 1.00, exp: 5480.00\n",
      "0110######1##########-1-####################1 @ 0x153cd0be0, q: 1.00, exp: 5179.00\n",
      "1110##############1##-0-##################### @ 0x153a94ba8, q: 1.00, exp: 1979.00\n",
      "1010##########1######-0-##################### @ 0x152be5780, q: 1.00, exp: 1963.00\n",
      "0001#0###############-1-##################### @ 0x152d2a358, q: 1.00, exp: 1784.00\n",
      "1111###############0#-1-##################### @ 0x1520bfda0, q: 1.00, exp: 1908.00\n",
      "1011###########0#####-0-####################1 @ 0x155eafef0, q: 1.00, exp: 5204.00\n",
      "0001#1###############-1-####################1 @ 0x15152f470, q: 1.00, exp: 4989.00\n",
      "1100############0####-0-####################1 @ 0x152883b70, q: 1.00, exp: 4845.00\n",
      "0010##1##############-1-####################1 @ 0x152492c18, q: 1.00, exp: 4896.00\n",
      "0111#######0#########-1-##################### @ 0x155a089b0, q: 1.00, exp: 1697.00\n",
      "1111###############0#-0-####################1 @ 0x15694dba8, q: 1.00, exp: 4771.00\n",
      "1010##########1######-1-####################1 @ 0x1510dd908, q: 1.00, exp: 4811.00\n",
      "1101#############1###-0-##################### @ 0x158147978, q: 1.00, exp: 1729.00\n",
      "0111#######0#########-0-####################1 @ 0x156807e80, q: 1.00, exp: 4668.00\n",
      "0110######0##########-0-####################1 @ 0x15694d160, q: 1.00, exp: 4686.00\n",
      "1101#############1###-1-####################1 @ 0x158fe8a20, q: 1.00, exp: 4478.00\n",
      "0011###1#############-1-####################1 @ 0x1581472b0, q: 1.00, exp: 4383.00\n",
      "1000########1########-1-####################1 @ 0x1590f4630, q: 1.00, exp: 4454.00\n",
      "0010##1##############-0-##################### @ 0x1582a5fd0, q: 1.00, exp: 1626.00\n"
     ]
    }
   ],
   "source": [
    "# 20bit\n",
    "p20, m20 = perform_experiment(*get_20bit_mp_actors())"
   ]
  },
  {
   "cell_type": "code",
   "execution_count": null,
   "metadata": {},
   "outputs": [],
   "source": [
    "# 37bit\n",
    "p37, m37 = perform_experiment(*get_37bit_mp_actors())"
   ]
  },
  {
   "cell_type": "code",
   "execution_count": null,
   "metadata": {},
   "outputs": [],
   "source": [
    "def parse_metrics_to_df(metrics):\n",
    "    def extract_details(row):\n",
    "        row['trial'] = row['agent']['trial']\n",
    "        row['numerosity'] = row['agent']['numerosity']\n",
    "        row['reliable'] = row['agent']['reliable']\n",
    "        row['was_correct'] = row['performance']['was_correct']\n",
    "        return row\n",
    "    \n",
    "    df = pd.DataFrame(metrics)\n",
    "    df = df.apply(extract_details, axis=1)\n",
    "    df.drop(['agent', 'environment', 'performance'], axis=1, inplace=True)\n",
    "    df.set_index('trial', inplace=True)\n",
    "    \n",
    "    return df"
   ]
  },
  {
   "cell_type": "code",
   "execution_count": null,
   "metadata": {},
   "outputs": [],
   "source": [
    "# parse metrics to df\n",
    "df6bit = parse_metrics_to_df(m6)\n",
    "df11bit = parse_metrics_to_df(m11)\n",
    "df20bit = parse_metrics_to_df(m20)\n",
    "df37bit = parse_metrics_to_df(m37)\n",
    "\n",
    "df6bit.head()"
   ]
  },
  {
   "cell_type": "code",
   "execution_count": null,
   "metadata": {},
   "outputs": [],
   "source": [
    "import matplotlib.pyplot as plt\n",
    "import matplotlib.ticker as tkr\n",
    "\n",
    "window=5000\n",
    "\n",
    "def func(x, pos):\n",
    "    return x / 100_000\n",
    "\n",
    "fig, ax = plt.subplots()\n",
    "\n",
    "df6bit['reliable'].head(300_000).rolling(window=window).mean().plot(color='r', linewidth=1.0, ax=ax)\n",
    "ax.text(275_000, 29, '6-bit', color='r')\n",
    "\n",
    "df11bit['reliable'].head(300_000).rolling(window=window).mean().plot(color='b', linewidth=1.0, ax=ax)\n",
    "ax.text(275_000, 51, '11-bit', color='b')\n",
    "\n",
    "df20bit['reliable'].head(300_000).rolling(window=window).mean().plot(color='g', linewidth=1.0, ax=ax)\n",
    "ax.text(275_000, 85, '20-bit', color='g')\n",
    "\n",
    "ax.set_xlabel('Trial (x 100 000)')\n",
    "ax.set_ylabel('Reliable classifiers')\n",
    "ax.xaxis.set_major_formatter(tkr.FuncFormatter(func))\n",
    "ax.set_title(f'Number of reliable classifiers for boolean MPX.\\nResults averaged over {window} trials')\n",
    "#plt.show()\n",
    "\n",
    "plt.savefig('mpx.eps', format='eps', dpi=100)"
   ]
  }
 ],
 "metadata": {
  "kernelspec": {
   "display_name": "Python 3",
   "language": "python",
   "name": "python3"
  },
  "language_info": {
   "codemirror_mode": {
    "name": "ipython",
    "version": 3
   },
   "file_extension": ".py",
   "mimetype": "text/x-python",
   "name": "python",
   "nbconvert_exporter": "python",
   "pygments_lexer": "ipython3",
   "version": "3.6.3"
  }
 },
 "nbformat": 4,
 "nbformat_minor": 2
}
