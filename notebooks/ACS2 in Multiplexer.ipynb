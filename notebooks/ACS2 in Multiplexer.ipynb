{
 "cells": [
  {
   "cell_type": "markdown",
   "metadata": {},
   "source": [
    "# ACS2 in Multiplexer"
   ]
  },
  {
   "cell_type": "code",
   "execution_count": 1,
   "metadata": {},
   "outputs": [],
   "source": [
    "%matplotlib inline\n",
    "\n",
    "# General\n",
    "from __future__ import unicode_literals\n",
    "\n",
    "import numpy as np\n",
    "import pandas as pd\n",
    "import matplotlib.pyplot as plt\n",
    "\n",
    "# Logger\n",
    "import logging\n",
    "logging.basicConfig(level=logging.WARN)\n",
    "\n",
    "# ALCS + Maze environment\n",
    "import sys\n",
    "sys.path.append('/Users/khozzy/Projects/pyalcs')\n",
    "sys.path.append(\"/Users/khozzy/Projects/openai-maze-envs\")\n",
    "\n",
    "# Enable automatic module reload\n",
    "%load_ext autoreload\n",
    "%autoreload 2\n",
    "\n",
    "# Load PyALCS module\n",
    "from alcs import ACS2, ACS2Configuration\n",
    "\n",
    "# Load environments\n",
    "import gym\n",
    "import gym_multiplexer"
   ]
  },
  {
   "cell_type": "markdown",
   "metadata": {},
   "source": [
    "## Multiplexer"
   ]
  },
  {
   "cell_type": "code",
   "execution_count": 2,
   "metadata": {},
   "outputs": [
    {
     "data": {
      "text/plain": [
       "'1101010'"
      ]
     },
     "execution_count": 2,
     "metadata": {},
     "output_type": "execute_result"
    }
   ],
   "source": [
    "mp = gym.make('boolean-multiplexer-6bit-v0')\n",
    "situation = mp.reset()\n",
    "mp.render()"
   ]
  },
  {
   "cell_type": "code",
   "execution_count": 3,
   "metadata": {},
   "outputs": [
    {
     "name": "stdout",
     "output_type": "stream",
     "text": [
      "New state: 1101010, reward: 0, is done: True\n"
     ]
    }
   ],
   "source": [
    "state, reward, done, _ = mp.step(0)\n",
    "\n",
    "print(\"New state: {}, reward: {}, is done: {}\".format(state, reward, done))"
   ]
  },
  {
   "cell_type": "code",
   "execution_count": 4,
   "metadata": {},
   "outputs": [
    {
     "data": {
      "text/plain": [
       "'1101010'"
      ]
     },
     "execution_count": 4,
     "metadata": {},
     "output_type": "execute_result"
    }
   ],
   "source": [
    "mp.render()"
   ]
  },
  {
   "cell_type": "markdown",
   "metadata": {},
   "source": [
    "### Evaluation\n",
    "Calculate knowledge - check if any of the reliable classifiers gives correct answer."
   ]
  },
  {
   "cell_type": "code",
   "execution_count": 5,
   "metadata": {},
   "outputs": [],
   "source": [
    "from gym_multiplexer.utils import get_correct_answer\n",
    "\n",
    "def calculate_knowledge(env, population, ctrl_bits):\n",
    "    p1 = env.render()  # state after executing action\n",
    "    p0 = p1[:-1] + '0'  # initial state\n",
    "    correct_answer = get_correct_answer(p0, ctrl_bits)  # true action\n",
    "    \n",
    "    reliable_classifiers = [c for c in population if c.is_reliable()]\n",
    "    \n",
    "    return any([1 for cl in reliable_classifiers if cl.predicts_successfully(p0, correct_answer, p1)])"
   ]
  },
  {
   "cell_type": "markdown",
   "metadata": {},
   "source": [
    "## Go agent, go..."
   ]
  },
  {
   "cell_type": "code",
   "execution_count": 6,
   "metadata": {},
   "outputs": [],
   "source": [
    "cfg = ACS2Configuration(mp.env.observation_space.n, 2, do_ga=True)\n",
    "agent = ACS2(cfg)\n",
    "\n",
    "population, metrics = agent.explore(mp, 10000)"
   ]
  },
  {
   "cell_type": "code",
   "execution_count": 7,
   "metadata": {},
   "outputs": [
    {
     "name": "stdout",
     "output_type": "stream",
     "text": [
      "Population size: 117\n",
      "Reliable size: 39\n",
      "Knowledge: 1.00%\n",
      "{'agent': {'population': 117, 'numerosity': 338, 'reliable': 39, 'fitness': 475.4286728999321, 'trial': 9999, 'steps': 1, 'total_steps': 10000}, 'environment': None}\n"
     ]
    }
   ],
   "source": [
    "print(\"Population size: {}\".format(metrics[-1]['agent']['population']))\n",
    "print(\"Reliable size: {}\".format(metrics[-1]['agent']['reliable']))\n",
    "print(\"Knowledge: {:.2f}%\".format(calculate_knowledge(mp, population, 2)))\n",
    "print(metrics[-1])"
   ]
  },
  {
   "cell_type": "code",
   "execution_count": 10,
   "metadata": {},
   "outputs": [
    {
     "name": "stdout",
     "output_type": "stream",
     "text": [
      "0101100-1-######1 @ 0x10673d668, q: 1.00, exp: 138.00\n",
      "000100#-1-####### @ 0x1067b72e8, q: 0.98, exp: 57.00\n",
      "001001#-0-####### @ 0x1067b7550, q: 0.98, exp: 56.00\n",
      "000111#-1-####### @ 0x1067b7cf8, q: 0.98, exp: 56.00\n",
      "001000#-0-####### @ 0x1067b7dd8, q: 0.98, exp: 56.00\n",
      "10##0##-1-####### @ 0x10322add8, q: 1.00, exp: 353.00\n",
      "010110#-0-####### @ 0x10213dd30, q: 0.96, exp: 44.00\n",
      "111001#-0-####### @ 0x106827908, q: 0.97, exp: 53.00\n",
      "11###1#-0-####### @ 0x1068278d0, q: 1.00, exp: 378.00\n",
      "01#1###-1-######1 @ 0x106827be0, q: 1.00, exp: 872.00\n",
      "1010010-0-######1 @ 0x106827e10, q: 1.00, exp: 131.00\n",
      "10#1010-0-######1 @ 0x1068a21d0, q: 1.00, exp: 194.00\n",
      "10##1##-0-####### @ 0x1068a2860, q: 1.00, exp: 360.00\n",
      "001####-0-####### @ 0x1068a2be0, q: 1.00, exp: 377.00\n",
      "010100#-0-####### @ 0x1068a2cc0, q: 0.93, exp: 37.00\n",
      "01#1###-0-####### @ 0x106920320, q: 1.00, exp: 343.00\n",
      "100#10#-1-######1 @ 0x1069206a0, q: 1.00, exp: 209.00\n",
      "10##0##-0-######1 @ 0x106920ac8, q: 1.00, exp: 858.00\n",
      "000####-0-######1 @ 0x10696a400, q: 1.00, exp: 833.00\n",
      "10##1##-1-######1 @ 0x1068dd7f0, q: 1.00, exp: 807.00\n",
      "#1#1#1#-1-######1 @ 0x10696a8d0, q: 1.00, exp: 831.00\n",
      "11###1#-1-######1 @ 0x1068a2208, q: 1.00, exp: 848.00\n",
      "11###0#-0-######1 @ 0x10696ada0, q: 1.00, exp: 768.00\n",
      "001####-1-######1 @ 0x10696aeb8, q: 1.00, exp: 747.00\n",
      "01#0###-0-######1 @ 0x1069207f0, q: 1.00, exp: 792.00\n",
      "0110###-1-####### @ 0x10696aba8, q: 1.00, exp: 155.00\n",
      "11###0#-1-####### @ 0x10696a4e0, q: 1.00, exp: 299.00\n",
      "000####-1-####### @ 0x106920828, q: 1.00, exp: 298.00\n",
      "0#11###-0-####### @ 0x10696a898, q: 1.00, exp: 251.00\n",
      "01#0###-1-####### @ 0x10318a470, q: 1.00, exp: 247.00\n",
      "#00#0##-0-######1 @ 0x10322aef0, q: 1.00, exp: 143.00\n",
      "#01#1##-1-######1 @ 0x1069200f0, q: 1.00, exp: 94.00\n",
      "1###11#-0-####### @ 0x1067495f8, q: 0.97, exp: 39.00\n",
      "1###11#-1-######1 @ 0x106920a90, q: 1.00, exp: 72.00\n",
      "0#11###-1-######1 @ 0x106920438, q: 1.00, exp: 88.00\n",
      "1###00#-0-######1 @ 0x101035f28, q: 0.98, exp: 51.00\n",
      "0#00###-1-####### @ 0x10155a710, q: 0.92, exp: 21.00\n",
      "0#00###-0-######1 @ 0x106920668, q: 0.95, exp: 39.00\n",
      "#1#0#0#-0-######1 @ 0x106920780, q: 0.93, exp: 24.00\n"
     ]
    }
   ],
   "source": [
    "p1 = mp.render()\n",
    "p0 = p1[:-1] + '0'\n",
    "correct_answer = get_correct_answer(p0, 2)\n",
    "\n",
    "reliable_classifiers = [c for c in population if c.is_reliable()]\n",
    "\n",
    "for cl in reliable_classifiers:\n",
    "    print(\"{}, q: {:.2f}, exp: {:.2f}\".format(cl, cl.q, cl.exp))"
   ]
  },
  {
   "cell_type": "code",
   "execution_count": 9,
   "metadata": {},
   "outputs": [
    {
     "name": "stdout",
     "output_type": "stream",
     "text": [
      "p0: 0000110\n",
      "p1: 0000111\n",
      "correct: 0\n"
     ]
    }
   ],
   "source": [
    "print(\"p0: {}\".format(p0))\n",
    "print(\"p1: {}\".format(p1))\n",
    "print(\"correct: {}\".format(correct_answer))"
   ]
  },
  {
   "cell_type": "code",
   "execution_count": 10,
   "metadata": {},
   "outputs": [
    {
     "ename": "NameError",
     "evalue": "name 'c' is not defined",
     "output_type": "error",
     "traceback": [
      "\u001b[0;31m---------------------------------------------------------------------------\u001b[0m",
      "\u001b[0;31mNameError\u001b[0m                                 Traceback (most recent call last)",
      "\u001b[0;32m<ipython-input-10-513d40c85067>\u001b[0m in \u001b[0;36m<module>\u001b[0;34m()\u001b[0m\n\u001b[0;32m----> 1\u001b[0;31m \u001b[0mnr_correct\u001b[0m \u001b[0;34m=\u001b[0m \u001b[0msum\u001b[0m\u001b[0;34m(\u001b[0m\u001b[0;34m[\u001b[0m\u001b[0;36m1\u001b[0m \u001b[0;32mfor\u001b[0m \u001b[0mcl\u001b[0m \u001b[0;32min\u001b[0m \u001b[0mreliable_classifiers\u001b[0m \u001b[0;32mif\u001b[0m \u001b[0mcl\u001b[0m\u001b[0;34m.\u001b[0m\u001b[0mpredicts_successfully\u001b[0m\u001b[0;34m(\u001b[0m\u001b[0mp0\u001b[0m\u001b[0;34m,\u001b[0m \u001b[0mcorrect_answer\u001b[0m\u001b[0;34m,\u001b[0m \u001b[0mp1\u001b[0m\u001b[0;34m)\u001b[0m \u001b[0;32mand\u001b[0m \u001b[0mc\u001b[0m\u001b[0;34m.\u001b[0m\u001b[0mcondition\u001b[0m\u001b[0;34m.\u001b[0m\u001b[0mdoes_match\u001b[0m\u001b[0;34m(\u001b[0m\u001b[0mp0\u001b[0m\u001b[0;34m)\u001b[0m\u001b[0;34m]\u001b[0m\u001b[0;34m)\u001b[0m\u001b[0;34m\u001b[0m\u001b[0m\n\u001b[0m\u001b[1;32m      2\u001b[0m \u001b[0mnr_correct\u001b[0m\u001b[0;34m\u001b[0m\u001b[0m\n",
      "\u001b[0;32m<ipython-input-10-513d40c85067>\u001b[0m in \u001b[0;36m<listcomp>\u001b[0;34m(.0)\u001b[0m\n\u001b[0;32m----> 1\u001b[0;31m \u001b[0mnr_correct\u001b[0m \u001b[0;34m=\u001b[0m \u001b[0msum\u001b[0m\u001b[0;34m(\u001b[0m\u001b[0;34m[\u001b[0m\u001b[0;36m1\u001b[0m \u001b[0;32mfor\u001b[0m \u001b[0mcl\u001b[0m \u001b[0;32min\u001b[0m \u001b[0mreliable_classifiers\u001b[0m \u001b[0;32mif\u001b[0m \u001b[0mcl\u001b[0m\u001b[0;34m.\u001b[0m\u001b[0mpredicts_successfully\u001b[0m\u001b[0;34m(\u001b[0m\u001b[0mp0\u001b[0m\u001b[0;34m,\u001b[0m \u001b[0mcorrect_answer\u001b[0m\u001b[0;34m,\u001b[0m \u001b[0mp1\u001b[0m\u001b[0;34m)\u001b[0m \u001b[0;32mand\u001b[0m \u001b[0mc\u001b[0m\u001b[0;34m.\u001b[0m\u001b[0mcondition\u001b[0m\u001b[0;34m.\u001b[0m\u001b[0mdoes_match\u001b[0m\u001b[0;34m(\u001b[0m\u001b[0mp0\u001b[0m\u001b[0;34m)\u001b[0m\u001b[0;34m]\u001b[0m\u001b[0;34m)\u001b[0m\u001b[0;34m\u001b[0m\u001b[0m\n\u001b[0m\u001b[1;32m      2\u001b[0m \u001b[0mnr_correct\u001b[0m\u001b[0;34m\u001b[0m\u001b[0m\n",
      "\u001b[0;31mNameError\u001b[0m: name 'c' is not defined"
     ]
    }
   ],
   "source": [
    "nr_correct = sum([1 for cl in reliable_classifiers if cl.predicts_successfully(p0, correct_answer, p1) and c.condition.does_match(p0)])\n",
    "nr_correct"
   ]
  },
  {
   "cell_type": "code",
   "execution_count": null,
   "metadata": {},
   "outputs": [],
   "source": []
  }
 ],
 "metadata": {
  "kernelspec": {
   "display_name": "Python 3",
   "language": "python",
   "name": "python3"
  },
  "language_info": {
   "codemirror_mode": {
    "name": "ipython",
    "version": 3
   },
   "file_extension": ".py",
   "mimetype": "text/x-python",
   "name": "python",
   "nbconvert_exporter": "python",
   "pygments_lexer": "ipython3",
   "version": "3.6.3"
  }
 },
 "nbformat": 4,
 "nbformat_minor": 2
}
