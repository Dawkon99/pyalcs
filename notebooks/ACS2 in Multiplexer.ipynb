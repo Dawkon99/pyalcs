{
 "cells": [
  {
   "cell_type": "markdown",
   "metadata": {},
   "source": [
    "# ACS2 in Multiplexer"
   ]
  },
  {
   "cell_type": "code",
   "execution_count": 1,
   "metadata": {},
   "outputs": [],
   "source": [
    "%matplotlib inline\n",
    "\n",
    "# General\n",
    "from __future__ import unicode_literals\n",
    "\n",
    "import numpy as np\n",
    "import pandas as pd\n",
    "import matplotlib.pyplot as plt\n",
    "\n",
    "# Logger\n",
    "import logging\n",
    "logging.basicConfig(level=logging.WARN)\n",
    "\n",
    "# ALCS + custom environments\n",
    "import sys\n",
    "sys.path.append('/Users/khozzy/Projects/pyalcs')\n",
    "sys.path.append(\"/Users/khozzy/Projects/openai-envs\")\n",
    "\n",
    "# Enable automatic module reload\n",
    "%load_ext autoreload\n",
    "%autoreload 2\n",
    "\n",
    "# Load PyALCS module\n",
    "from alcs import ACS2, ACS2Configuration\n",
    "\n",
    "# Load environments\n",
    "import gym\n",
    "import gym_multiplexer"
   ]
  },
  {
   "cell_type": "markdown",
   "metadata": {},
   "source": [
    "## Multiplexer"
   ]
  },
  {
   "cell_type": "code",
   "execution_count": 2,
   "metadata": {},
   "outputs": [
    {
     "data": {
      "text/plain": [
       "'1000010'"
      ]
     },
     "execution_count": 2,
     "metadata": {},
     "output_type": "execute_result"
    }
   ],
   "source": [
    "mp = gym.make('boolean-multiplexer-6bit-v0')\n",
    "situation = mp.reset()\n",
    "mp.render()"
   ]
  },
  {
   "cell_type": "code",
   "execution_count": 3,
   "metadata": {},
   "outputs": [
    {
     "name": "stdout",
     "output_type": "stream",
     "text": [
      "New state: 1000011, reward: 1000, is done: True\n"
     ]
    }
   ],
   "source": [
    "state, reward, done, _ = mp.step(0)\n",
    "\n",
    "print(\"New state: {}, reward: {}, is done: {}\".format(state, reward, done))"
   ]
  },
  {
   "cell_type": "code",
   "execution_count": 4,
   "metadata": {},
   "outputs": [
    {
     "data": {
      "text/plain": [
       "'1000011'"
      ]
     },
     "execution_count": 4,
     "metadata": {},
     "output_type": "execute_result"
    }
   ],
   "source": [
    "mp.render()"
   ]
  },
  {
   "cell_type": "markdown",
   "metadata": {},
   "source": [
    "### Evaluation\n",
    "Calculate knowledge - check if any of the reliable classifiers gives correct answer."
   ]
  },
  {
   "cell_type": "code",
   "execution_count": 7,
   "metadata": {},
   "outputs": [],
   "source": [
    "from gym_multiplexer.utils import get_correct_answer\n",
    "\n",
    "def evaluate_performance(env, population, ctrl_bits):\n",
    "    p1 = env.render()  # state after executing action\n",
    "    p0 = p1[:-1] + '0'  # initial state\n",
    "    true_action = get_correct_answer(p0, ctrl_bits)\n",
    "    \n",
    "    # get all classifiers matching initial state\n",
    "    matching_cls = {c for c in population if c.condition.does_match(p0)}\n",
    "    best_cl = max(matching_cls, key=lambda cl: cl.q)\n",
    "        \n",
    "    return {'was_correct': best_cl.predicts_successfully(p0, true_action, p1)}"
   ]
  },
  {
   "cell_type": "markdown",
   "metadata": {},
   "source": [
    "## Go agent, go...\n",
    "Perform experiment for a couple of explore/exploit trials."
   ]
  },
  {
   "cell_type": "code",
   "execution_count": 20,
   "metadata": {},
   "outputs": [],
   "source": [
    "def get_6bit_mp_actors():\n",
    "    mp = gym.make('boolean-multiplexer-6bit-v0')\n",
    "    cfg = ACS2Configuration(\n",
    "    mp.env.observation_space.n,\n",
    "    2,\n",
    "    performance_fcn=evaluate_performance,\n",
    "    performance_fcn_params={'ctrl_bits': 2},\n",
    "    do_ga=True)\n",
    "\n",
    "    return ACS2(cfg), mp\n",
    "\n",
    "def get_11bit_mp_actors():\n",
    "    mp = gym.make('boolean-multiplexer-11bit-v0')\n",
    "    cfg = ACS2Configuration(\n",
    "    mp.env.observation_space.n,\n",
    "    2,\n",
    "    performance_fcn=evaluate_performance,\n",
    "    performance_fcn_params={'ctrl_bits': 3},\n",
    "    do_ga=True)\n",
    "\n",
    "    return ACS2(cfg), mp"
   ]
  },
  {
   "cell_type": "code",
   "execution_count": 63,
   "metadata": {},
   "outputs": [],
   "source": [
    "def perform_experiment(agent, env, trials=50000):\n",
    "    population, metrics = agent.explore_exploit(env, trials)\n",
    "    print(\"Population size: {}\".format(metrics[-1]['agent']['population']))\n",
    "    print(\"Reliable size: {}\".format(metrics[-1]['agent']['reliable']))\n",
    "    print(metrics[-1])\n",
    "    \n",
    "    reliable_classifiers = [c for c in population if c.is_reliable()]\n",
    "    reliable_classifiers = sorted(reliable_classifiers, key=lambda cl: -cl.q)\n",
    "\n",
    "    # Print top 20 reliable classifiers\n",
    "    for cl in reliable_classifiers[:20]:\n",
    "        print(f\"{cl}, q: {cl.q:.2f}, exp: {cl.exp:.2f}\")\n",
    "    \n",
    "    return population, metrics"
   ]
  },
  {
   "cell_type": "code",
   "execution_count": 64,
   "metadata": {},
   "outputs": [
    {
     "name": "stdout",
     "output_type": "stream",
     "text": [
      "Population size: 77\n",
      "Reliable size: 22\n",
      "{'agent': {'population': 77, 'numerosity': 303, 'reliable': 22, 'fitness': 431.68185312265507, 'trial': 49999, 'steps': 1, 'total_steps': 50000}, 'environment': None, 'performance': {'was_correct': True}}\n",
      "01#0###-1-####### @ 0x1167dce80, q: 1.00, exp: 909.00\n",
      "11###0#-1-####### @ 0x11726e208, q: 1.00, exp: 856.00\n",
      "01#1###-1-######1 @ 0x1143210f0, q: 1.00, exp: 2189.00\n",
      "11###1#-0-####### @ 0x1143213c8, q: 1.00, exp: 868.00\n",
      "01#1###-0-####### @ 0x1143214e0, q: 1.00, exp: 820.00\n",
      "11###0#-0-######1 @ 0x1171a5ba8, q: 1.00, exp: 2252.00\n",
      "001####-1-######1 @ 0x1171a5898, q: 1.00, exp: 2239.00\n",
      "10##1##-0-####### @ 0x11726e0b8, q: 1.00, exp: 875.00\n",
      "01#0###-0-######1 @ 0x11726e0f0, q: 1.00, exp: 2207.00\n",
      "10##0##-1-####### @ 0x1171bcf98, q: 1.00, exp: 865.00\n",
      "000####-1-####### @ 0x116b318d0, q: 1.00, exp: 830.00\n",
      "000####-0-######1 @ 0x1171bc160, q: 1.00, exp: 2177.00\n",
      "10##0##-0-######1 @ 0x113b48438, q: 1.00, exp: 2115.00\n",
      "10##1##-1-######1 @ 0x1171a5f28, q: 1.00, exp: 2123.00\n",
      "11###1#-1-######1 @ 0x11001d7f0, q: 1.00, exp: 2073.00\n",
      "001####-0-####### @ 0x1171a5a90, q: 1.00, exp: 767.00\n",
      "#1#0#0#-0-######1 @ 0x113b484e0, q: 1.00, exp: 324.00\n",
      "#00#0##-1-####### @ 0x116b34b70, q: 1.00, exp: 166.00\n",
      "#00#0##-0-######1 @ 0x1171a5518, q: 1.00, exp: 90.00\n",
      "#01#1##-1-######1 @ 0x1171a52b0, q: 1.00, exp: 92.00\n"
     ]
    }
   ],
   "source": [
    "# 6bit\n",
    "p6, m6 = perform_experiment(*get_6bit_mp_actors())"
   ]
  },
  {
   "cell_type": "code",
   "execution_count": 65,
   "metadata": {
    "scrolled": false
   },
   "outputs": [
    {
     "name": "stdout",
     "output_type": "stream",
     "text": [
      "Population size: 392\n",
      "Reliable size: 47\n",
      "{'agent': {'population': 392, 'numerosity': 823, 'reliable': 47, 'fitness': 341.11354585150605, 'trial': 49999, 'steps': 1, 'total_steps': 50000}, 'environment': None, 'performance': {'was_correct': True}}\n",
      "1#1#####1#1#-0-############ @ 0x11718ff98, q: 1.00, exp: 469.00\n",
      "010##0######-0-###########1 @ 0x116e79a90, q: 1.00, exp: 1057.00\n",
      "100####1####-1-###########1 @ 0x116d036d8, q: 1.00, exp: 1004.00\n",
      "001#0#######-0-###########1 @ 0x116e57860, q: 1.00, exp: 939.00\n",
      "011###1#####-1-###########1 @ 0x1171b9470, q: 1.00, exp: 982.00\n",
      "011###0#####-0-###########1 @ 0x114321080, q: 1.00, exp: 919.00\n",
      "010##1######-1-###########1 @ 0x116d03e48, q: 1.00, exp: 930.00\n",
      "110######1##-1-###########1 @ 0x11722cf60, q: 1.00, exp: 909.00\n",
      "101#####1###-1-###########1 @ 0x11722c828, q: 1.00, exp: 882.00\n",
      "111#######0#-0-###########1 @ 0x116e6dd30, q: 1.00, exp: 831.00\n",
      "111#######1#-1-###########1 @ 0x116e6d668, q: 1.00, exp: 819.00\n",
      "001#1#######-1-###########1 @ 0x1171a7390, q: 1.00, exp: 853.00\n",
      "0001########-1-###########1 @ 0x1171a76a0, q: 1.00, exp: 812.00\n",
      "110######0##-0-###########1 @ 0x116b2ab70, q: 1.00, exp: 596.00\n",
      "100####0####-0-###########1 @ 0x1171a72e8, q: 1.00, exp: 522.00\n",
      "101#####0###-0-###########1 @ 0x116e79710, q: 1.00, exp: 490.00\n",
      "0000########-0-###########1 @ 0x1167d0080, q: 1.00, exp: 461.00\n",
      "011###1#####-0-############ @ 0x1171b99b0, q: 1.00, exp: 365.00\n",
      "011###0#####-1-############ @ 0x11727fd30, q: 1.00, exp: 338.00\n",
      "100####1####-0-############ @ 0x11722ca20, q: 1.00, exp: 361.00\n"
     ]
    }
   ],
   "source": [
    "# 11bit\n",
    "p11, m11 = perform_experiment(*get_11bit_mp_actors())"
   ]
  },
  {
   "cell_type": "code",
   "execution_count": 66,
   "metadata": {},
   "outputs": [],
   "source": [
    "def parse_metrics_to_df(metrics):\n",
    "    def extract_details(row):\n",
    "        row['trial'] = row['agent']['trial']\n",
    "        row['numerosity'] = row['agent']['numerosity']\n",
    "        row['reliable'] = row['agent']['reliable']\n",
    "        row['was_correct'] = row['performance']['was_correct']\n",
    "        return row\n",
    "    \n",
    "    df = pd.DataFrame(metrics)\n",
    "    df = df.apply(extract_details, axis=1)\n",
    "    df.drop(['agent', 'environment', 'performance'], axis=1, inplace=True)\n",
    "    df.set_index('trial', inplace=True)\n",
    "    \n",
    "    return df"
   ]
  },
  {
   "cell_type": "code",
   "execution_count": 67,
   "metadata": {},
   "outputs": [
    {
     "data": {
      "text/html": [
       "<div>\n",
       "<style scoped>\n",
       "    .dataframe tbody tr th:only-of-type {\n",
       "        vertical-align: middle;\n",
       "    }\n",
       "\n",
       "    .dataframe tbody tr th {\n",
       "        vertical-align: top;\n",
       "    }\n",
       "\n",
       "    .dataframe thead th {\n",
       "        text-align: right;\n",
       "    }\n",
       "</style>\n",
       "<table border=\"1\" class=\"dataframe\">\n",
       "  <thead>\n",
       "    <tr style=\"text-align: right;\">\n",
       "      <th></th>\n",
       "      <th>numerosity</th>\n",
       "      <th>reliable</th>\n",
       "      <th>was_correct</th>\n",
       "    </tr>\n",
       "    <tr>\n",
       "      <th>trial</th>\n",
       "      <th></th>\n",
       "      <th></th>\n",
       "      <th></th>\n",
       "    </tr>\n",
       "  </thead>\n",
       "  <tbody>\n",
       "    <tr>\n",
       "      <th>0</th>\n",
       "      <td>1</td>\n",
       "      <td>0</td>\n",
       "      <td>True</td>\n",
       "    </tr>\n",
       "    <tr>\n",
       "      <th>1</th>\n",
       "      <td>1</td>\n",
       "      <td>0</td>\n",
       "      <td>False</td>\n",
       "    </tr>\n",
       "    <tr>\n",
       "      <th>2</th>\n",
       "      <td>1</td>\n",
       "      <td>0</td>\n",
       "      <td>True</td>\n",
       "    </tr>\n",
       "    <tr>\n",
       "      <th>3</th>\n",
       "      <td>1</td>\n",
       "      <td>0</td>\n",
       "      <td>True</td>\n",
       "    </tr>\n",
       "    <tr>\n",
       "      <th>4</th>\n",
       "      <td>2</td>\n",
       "      <td>0</td>\n",
       "      <td>False</td>\n",
       "    </tr>\n",
       "  </tbody>\n",
       "</table>\n",
       "</div>"
      ],
      "text/plain": [
       "       numerosity  reliable  was_correct\n",
       "trial                                   \n",
       "0               1         0         True\n",
       "1               1         0        False\n",
       "2               1         0         True\n",
       "3               1         0         True\n",
       "4               2         0        False"
      ]
     },
     "execution_count": 67,
     "metadata": {},
     "output_type": "execute_result"
    }
   ],
   "source": [
    "# parse 6bit, 11bit metrics to df\n",
    "df6bit, df11bit = parse_metrics_to_df(m6), parse_metrics_to_df(m11)\n",
    "\n",
    "df6bit.head()"
   ]
  },
  {
   "cell_type": "code",
   "execution_count": 76,
   "metadata": {},
   "outputs": [
    {
     "data": {
      "image/png": "[encoded data removed]",
      "text/plain": [
       "<matplotlib.figure.Figure at 0x11ef936a0>"
      ]
     },
     "metadata": {},
     "output_type": "display_data"
    }
   ],
   "source": [
    "window=2000\n",
    "\n",
    "df6bit['reliable'].rolling(window=window).mean().plot(color='r', linewidth=1.0, label=f'6bit MPX')\n",
    "df11bit['reliable'].rolling(window=window).mean().plot(color='b', linewidth=1.0, label=f'11bit MPX')\n",
    "\n",
    "plt.ylabel('Number of classifiers')\n",
    "plt.xlabel('Trial')\n",
    "plt.title(f'Number of reliable classifiers.\\nResults averaged over {window} trials')\n",
    "plt.legend()\n",
    "#plt.show()\n",
    "\n",
    "plt.savefig('6bit_11bit_mpx.eps', format='eps', dpi=100)"
   ]
  }
 ],
 "metadata": {
  "kernelspec": {
   "display_name": "Python 3",
   "language": "python",
   "name": "python3"
  },
  "language_info": {
   "codemirror_mode": {
    "name": "ipython",
    "version": 3
   },
   "file_extension": ".py",
   "mimetype": "text/x-python",
   "name": "python",
   "nbconvert_exporter": "python",
   "pygments_lexer": "ipython3",
   "version": "3.6.3"
  }
 },
 "nbformat": 4,
 "nbformat_minor": 2
}
