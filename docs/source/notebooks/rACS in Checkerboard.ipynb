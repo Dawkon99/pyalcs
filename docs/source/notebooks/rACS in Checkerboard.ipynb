{
 "cells": [
  {
   "cell_type": "code",
   "execution_count": 1,
   "metadata": {},
   "outputs": [],
   "source": [
    "# Logger\n",
    "import logging\n",
    "logging.basicConfig(level=logging.INFO)\n",
    "\n",
    "import numpy as np\n",
    "import pandas as pd\n",
    "import matplotlib.pyplot as plt\n",
    "\n",
    "# Import local paths\n",
    "import sys, os\n",
    "sys.path.append(os.path.abspath('../../..'))\n",
    "sys.path.append(os.path.abspath('../../../../openai-envs'))\n",
    "\n",
    "# Enable automatic module reload\n",
    "%load_ext autoreload\n",
    "%autoreload 2\n",
    "\n",
    "# Load PyALCS module\n",
    "from lcs.representations.RealValueEncoder import RealValueEncoder\n",
    "from lcs.agents.racs import RACS, Configuration\n",
    "\n",
    "# Load OpenAI environments\n",
    "import gym\n",
    "import gym_checkerboard"
   ]
  },
  {
   "cell_type": "code",
   "execution_count": 2,
   "metadata": {},
   "outputs": [],
   "source": [
    "# checkerboard env\n",
    "env = gym.make('checkerboard-2D-3div-v0')\n",
    "env.reset();"
   ]
  },
  {
   "cell_type": "code",
   "execution_count": 3,
   "metadata": {},
   "outputs": [],
   "source": [
    "# agent\n",
    "ENCODER_BITS = 7\n",
    "\n",
    "cfg = Configuration(env.observation_space.shape[0], env.action_space.n,\n",
    "                    encoder=RealValueEncoder(ENCODER_BITS),\n",
    "                    epsilon=1.0,  # exploration-exploitation ratio\n",
    "                    do_ga=True,\n",
    "                    theta_r=0.9,  # reliablity threshold\n",
    "                    theta_i=0.3,  # inadequacy threshold\n",
    "                    theta_ga=100,\n",
    "                    chi=0.5,  # cross-over probability\n",
    "                    mu=0.2)  # mutation probability"
   ]
  },
  {
   "cell_type": "code",
   "execution_count": 4,
   "metadata": {},
   "outputs": [],
   "source": [
    "agent = RACS(cfg)"
   ]
  },
  {
   "cell_type": "code",
   "execution_count": 5,
   "metadata": {},
   "outputs": [
    {
     "name": "stderr",
     "output_type": "stream",
     "text": [
      "INFO:lcs.agents.racs.RACS:{'agent': {'population': 1, 'numerosity': 1, 'reliable': 0, 'fitness': 0.025, 'cover_ratio': 0.6666666666666666, 'region_1': 0.0, 'region_2': 0.3333333333333333, 'region_3': 0.0, 'region_4': 0.6666666666666666, 'trial': 0, 'steps': 1, 'total_steps': 1}, 'environment': None, 'performance': {'reward': 1}}\n",
      "INFO:lcs.agents.racs.RACS:{'agent': {'population': 521, 'numerosity': 573, 'reliable': 0, 'fitness': 0.2165707586431726, 'cover_ratio': 0.3875547226462338, 'region_1': 0.3902751119641715, 'region_2': 0.22264875239923224, 'region_3': 0.0012795905310300703, 'region_4': 0.3857965451055662, 'trial': 1000, 'steps': 1, 'total_steps': 1001}, 'environment': None, 'performance': {'reward': 1}}\n",
      "INFO:lcs.agents.racs.RACS:{'agent': {'population': 1290, 'numerosity': 1459, 'reliable': 0, 'fitness': 0.2177259977628051, 'cover_ratio': 0.2990966245498356, 'region_1': 0.4682170542635659, 'region_2': 0.23617571059431525, 'region_3': 0.0005167958656330749, 'region_4': 0.29509043927648576, 'trial': 2000, 'steps': 1, 'total_steps': 2001}, 'environment': None, 'performance': {'reward': 1}}\n",
      "INFO:lcs.agents.racs.RACS:{'agent': {'population': 2282, 'numerosity': 2583, 'reliable': 0, 'fitness': 0.22965881703902577, 'cover_ratio': 0.238276963845774, 'region_1': 0.5197195442594216, 'region_2': 0.24656733859187846, 'region_3': 0.0011685655857434998, 'region_4': 0.23254455156295648, 'trial': 3000, 'steps': 1, 'total_steps': 3001}, 'environment': None, 'performance': {'reward': 0}}\n",
      "INFO:lcs.agents.racs.RACS:{'agent': {'population': 3490, 'numerosity': 3908, 'reliable': 0, 'fitness': 0.23680907355359787, 'cover_ratio': 0.19611262775534202, 'region_1': 0.5586437440305635, 'region_2': 0.2510028653295129, 'region_3': 0.0016236867239732568, 'region_4': 0.18872970391595034, 'trial': 4000, 'steps': 1, 'total_steps': 4001}, 'environment': None, 'performance': {'reward': 0}}\n",
      "INFO:lcs.agents.racs.RACS:{'agent': {'population': 4738, 'numerosity': 5239, 'reliable': 0, 'fitness': 0.2429304556708077, 'cover_ratio': 0.17239130988744786, 'region_1': 0.580976502040242, 'region_2': 0.2529900098494442, 'region_3': 0.0016181229773462784, 'region_4': 0.1644153651329675, 'trial': 5000, 'steps': 1, 'total_steps': 5001}, 'environment': None, 'performance': {'reward': 1}}\n",
      "INFO:lcs.agents.racs.RACS:{'agent': {'population': 5971, 'numerosity': 6585, 'reliable': 0, 'fitness': 0.24442794893153705, 'cover_ratio': 0.15771592443090263, 'region_1': 0.5964941662479764, 'region_2': 0.25216323340590635, 'region_3': 0.0019538882375928096, 'region_4': 0.14938871210852453, 'trial': 6000, 'steps': 1, 'total_steps': 6001}, 'environment': None, 'performance': {'reward': 1}}\n",
      "INFO:lcs.agents.racs.RACS:{'agent': {'population': 7328, 'numerosity': 8041, 'reliable': 0, 'fitness': 0.24593864121303027, 'cover_ratio': 0.1467566963518226, 'region_1': 0.6047125181950509, 'region_2': 0.2548671761280932, 'region_3': 0.002183406113537118, 'region_4': 0.13823689956331878, 'trial': 7000, 'steps': 1, 'total_steps': 7001}, 'environment': None, 'performance': {'reward': 0}}\n",
      "INFO:lcs.agents.racs.RACS:{'agent': {'population': 8558, 'numerosity': 9375, 'reliable': 0, 'fitness': 0.2472215810915327, 'cover_ratio': 0.13744227285914978, 'region_1': 0.6147074861727818, 'region_2': 0.2546155643842019, 'region_3': 0.002025395341590714, 'region_4': 0.12865155410142556, 'trial': 8000, 'steps': 1, 'total_steps': 8001}, 'environment': None, 'performance': {'reward': 0}}\n",
      "INFO:lcs.agents.racs.RACS:{'agent': {'population': 9730, 'numerosity': 10618, 'reliable': 0, 'fitness': 0.2478677094516111, 'cover_ratio': 0.13171725836428458, 'region_1': 0.6195272353545734, 'region_2': 0.2551901336073998, 'region_3': 0.00236382322713258, 'region_4': 0.12291880781089415, 'trial': 9000, 'steps': 1, 'total_steps': 9001}, 'environment': None, 'performance': {'reward': 1}}\n",
      "INFO:lcs.agents.racs.RACS:{'agent': {'population': 10916, 'numerosity': 11913, 'reliable': 0, 'fitness': 0.24900401676263398, 'cover_ratio': 0.1260739370751938, 'region_1': 0.6240686454134604, 'region_2': 0.2563209967020887, 'region_3': 0.002442897276169537, 'region_4': 0.11716746060828143, 'trial': 10000, 'steps': 1, 'total_steps': 10001}, 'environment': None, 'performance': {'reward': 1}}\n"
     ]
    },
    {
     "ename": "KeyboardInterrupt",
     "evalue": "",
     "output_type": "error",
     "traceback": [
      "\u001b[0;31m---------------------------------------------------------------------------\u001b[0m",
      "\u001b[0;31mKeyboardInterrupt\u001b[0m                         Traceback (most recent call last)",
      "\u001b[0;32m<timed exec>\u001b[0m in \u001b[0;36m<module>\u001b[0;34m()\u001b[0m\n",
      "\u001b[0;32m~/Projects/pyalcs/lcs/agents/racs/RACS.py\u001b[0m in \u001b[0;36mexplore_exploit\u001b[0;34m(self, env, trials)\u001b[0m\n\u001b[1;32m     39\u001b[0m                 \u001b[0;32mreturn\u001b[0m \u001b[0mself\u001b[0m\u001b[0;34m.\u001b[0m\u001b[0m_run_trial_exploit\u001b[0m\u001b[0;34m(\u001b[0m\u001b[0menv\u001b[0m\u001b[0;34m,\u001b[0m \u001b[0;32mNone\u001b[0m\u001b[0;34m)\u001b[0m\u001b[0;34m\u001b[0m\u001b[0m\n\u001b[1;32m     40\u001b[0m \u001b[0;34m\u001b[0m\u001b[0m\n\u001b[0;32m---> 41\u001b[0;31m         \u001b[0;32mreturn\u001b[0m \u001b[0mself\u001b[0m\u001b[0;34m.\u001b[0m\u001b[0m_evaluate\u001b[0m\u001b[0;34m(\u001b[0m\u001b[0menv\u001b[0m\u001b[0;34m,\u001b[0m \u001b[0mtrials\u001b[0m\u001b[0;34m,\u001b[0m \u001b[0mswitch_phases\u001b[0m\u001b[0;34m)\u001b[0m\u001b[0;34m\u001b[0m\u001b[0m\n\u001b[0m\u001b[1;32m     42\u001b[0m \u001b[0;34m\u001b[0m\u001b[0m\n\u001b[1;32m     43\u001b[0m     \u001b[0;32mdef\u001b[0m \u001b[0m_evaluate\u001b[0m\u001b[0;34m(\u001b[0m\u001b[0mself\u001b[0m\u001b[0;34m,\u001b[0m \u001b[0menv\u001b[0m\u001b[0;34m,\u001b[0m \u001b[0mmax_trials\u001b[0m\u001b[0;34m:\u001b[0m \u001b[0mint\u001b[0m\u001b[0;34m,\u001b[0m \u001b[0mfunc\u001b[0m\u001b[0;34m:\u001b[0m \u001b[0mCallable\u001b[0m\u001b[0;34m)\u001b[0m \u001b[0;34m->\u001b[0m \u001b[0mTuple\u001b[0m\u001b[0;34m:\u001b[0m\u001b[0;34m\u001b[0m\u001b[0m\n",
      "\u001b[0;32m~/Projects/pyalcs/lcs/agents/racs/RACS.py\u001b[0m in \u001b[0;36m_evaluate\u001b[0;34m(self, env, max_trials, func)\u001b[0m\n\u001b[1;32m     70\u001b[0m \u001b[0;34m\u001b[0m\u001b[0m\n\u001b[1;32m     71\u001b[0m             trial_metrics = self._collect_metrics(\n\u001b[0;32m---> 72\u001b[0;31m                 env, current_trial, steps_in_trial, steps, reward)\n\u001b[0m\u001b[1;32m     73\u001b[0m             \u001b[0mmetrics\u001b[0m\u001b[0;34m.\u001b[0m\u001b[0mappend\u001b[0m\u001b[0;34m(\u001b[0m\u001b[0mtrial_metrics\u001b[0m\u001b[0;34m)\u001b[0m\u001b[0;34m\u001b[0m\u001b[0m\n\u001b[1;32m     74\u001b[0m \u001b[0;34m\u001b[0m\u001b[0m\n",
      "\u001b[0;32m~/Projects/pyalcs/lcs/agents/Agent.py\u001b[0m in \u001b[0;36m_collect_metrics\u001b[0;34m(self, env, current_trial, steps_in_trial, steps, reward)\u001b[0m\n\u001b[1;32m     46\u001b[0m         \"\"\"\n\u001b[1;32m     47\u001b[0m         agent_stats = self._collect_agent_metrics(\n\u001b[0;32m---> 48\u001b[0;31m             current_trial, steps_in_trial, steps)\n\u001b[0m\u001b[1;32m     49\u001b[0m         \u001b[0menv_stats\u001b[0m \u001b[0;34m=\u001b[0m \u001b[0mself\u001b[0m\u001b[0;34m.\u001b[0m\u001b[0m_collect_environment_metrics\u001b[0m\u001b[0;34m(\u001b[0m\u001b[0menv\u001b[0m\u001b[0;34m)\u001b[0m\u001b[0;34m\u001b[0m\u001b[0m\n\u001b[1;32m     50\u001b[0m         \u001b[0mperformance_stats\u001b[0m \u001b[0;34m=\u001b[0m \u001b[0mself\u001b[0m\u001b[0;34m.\u001b[0m\u001b[0m_collect_performance_metrics\u001b[0m\u001b[0;34m(\u001b[0m\u001b[0menv\u001b[0m\u001b[0;34m,\u001b[0m \u001b[0mreward\u001b[0m\u001b[0;34m)\u001b[0m\u001b[0;34m\u001b[0m\u001b[0m\n",
      "\u001b[0;32m~/Projects/pyalcs/lcs/agents/racs/RACS.py\u001b[0m in \u001b[0;36m_collect_agent_metrics\u001b[0;34m(self, trial, steps, total_steps)\u001b[0m\n\u001b[1;32m    245\u001b[0m                         len(self.population)),\n\u001b[1;32m    246\u001b[0m             'cover_ratio': (sum(cl.condition.cover_ratio for cl\n\u001b[0;32m--> 247\u001b[0;31m                                 in self.population) / len(self.population)),\n\u001b[0m\u001b[1;32m    248\u001b[0m             \u001b[0;34m'region_1'\u001b[0m\u001b[0;34m:\u001b[0m \u001b[0mregions\u001b[0m\u001b[0;34m[\u001b[0m\u001b[0;36m1\u001b[0m\u001b[0;34m]\u001b[0m\u001b[0;34m,\u001b[0m\u001b[0;34m\u001b[0m\u001b[0m\n\u001b[1;32m    249\u001b[0m             \u001b[0;34m'region_2'\u001b[0m\u001b[0;34m:\u001b[0m \u001b[0mregions\u001b[0m\u001b[0;34m[\u001b[0m\u001b[0;36m2\u001b[0m\u001b[0;34m]\u001b[0m\u001b[0;34m,\u001b[0m\u001b[0;34m\u001b[0m\u001b[0m\n",
      "\u001b[0;32m~/Projects/pyalcs/lcs/agents/racs/RACS.py\u001b[0m in \u001b[0;36m<genexpr>\u001b[0;34m(.0)\u001b[0m\n\u001b[1;32m    244\u001b[0m             'fitness': (sum(cl.fitness for cl in self.population) /\n\u001b[1;32m    245\u001b[0m                         len(self.population)),\n\u001b[0;32m--> 246\u001b[0;31m             'cover_ratio': (sum(cl.condition.cover_ratio for cl\n\u001b[0m\u001b[1;32m    247\u001b[0m                                 in self.population) / len(self.population)),\n\u001b[1;32m    248\u001b[0m             \u001b[0;34m'region_1'\u001b[0m\u001b[0;34m:\u001b[0m \u001b[0mregions\u001b[0m\u001b[0;34m[\u001b[0m\u001b[0;36m1\u001b[0m\u001b[0;34m]\u001b[0m\u001b[0;34m,\u001b[0m\u001b[0;34m\u001b[0m\u001b[0m\n",
      "\u001b[0;32m~/Projects/pyalcs/lcs/agents/racs/Condition.py\u001b[0m in \u001b[0;36mcover_ratio\u001b[0;34m(self)\u001b[0m\n\u001b[1;32m     47\u001b[0m             \u001b[0;36m1.0\u001b[0m \u001b[0mmeans\u001b[0m \u001b[0mthat\u001b[0m \u001b[0mcondition\u001b[0m \u001b[0;32mis\u001b[0m \u001b[0mmaximally\u001b[0m \u001b[0mgeneral\u001b[0m\u001b[0;34m\u001b[0m\u001b[0m\n\u001b[1;32m     48\u001b[0m         \"\"\"\n\u001b[0;32m---> 49\u001b[0;31m         \u001b[0mmaximum_span\u001b[0m \u001b[0;34m=\u001b[0m \u001b[0mself\u001b[0m\u001b[0;34m.\u001b[0m\u001b[0mcfg\u001b[0m\u001b[0;34m.\u001b[0m\u001b[0mencoder\u001b[0m\u001b[0;34m.\u001b[0m\u001b[0mrange\u001b[0m\u001b[0;34m[\u001b[0m\u001b[0;36m1\u001b[0m\u001b[0;34m]\u001b[0m\u001b[0;34m\u001b[0m\u001b[0m\n\u001b[0m\u001b[1;32m     50\u001b[0m         \u001b[0;32mreturn\u001b[0m \u001b[0mstatistics\u001b[0m\u001b[0;34m.\u001b[0m\u001b[0mmean\u001b[0m\u001b[0;34m(\u001b[0m\u001b[0mr\u001b[0m\u001b[0;34m.\u001b[0m\u001b[0mbound_span\u001b[0m \u001b[0;34m/\u001b[0m \u001b[0mmaximum_span\u001b[0m \u001b[0;32mfor\u001b[0m \u001b[0mr\u001b[0m \u001b[0;32min\u001b[0m \u001b[0mself\u001b[0m\u001b[0;34m)\u001b[0m\u001b[0;34m\u001b[0m\u001b[0m\n\u001b[1;32m     51\u001b[0m \u001b[0;34m\u001b[0m\u001b[0m\n",
      "\u001b[0;31mKeyboardInterrupt\u001b[0m: "
     ]
    }
   ],
   "source": [
    "%%time\n",
    "\n",
    "TRIALS = 50_000\n",
    "population, metrics = agent.explore_exploit(env, TRIALS)"
   ]
  },
  {
   "cell_type": "code",
   "execution_count": 6,
   "metadata": {},
   "outputs": [
    {
     "name": "stderr",
     "output_type": "stream",
     "text": [
      "Exception ignored in: 'zmq.backend.cython.message.Frame.__dealloc__'\n",
      "Traceback (most recent call last):\n",
      "  File \"zmq/backend/cython/checkrc.pxd\", line 12, in zmq.backend.cython.checkrc._check_rc\n",
      "KeyboardInterrupt: \n"
     ]
    },
    {
     "ename": "NameError",
     "evalue": "name 'metrics' is not defined",
     "output_type": "error",
     "traceback": [
      "\u001b[0;31m---------------------------------------------------------------------------\u001b[0m",
      "\u001b[0;31mNameError\u001b[0m                                 Traceback (most recent call last)",
      "\u001b[0;32m<ipython-input-6-5faa3f77605c>\u001b[0m in \u001b[0;36m<module>\u001b[0;34m()\u001b[0m\n\u001b[0;32m----> 1\u001b[0;31m \u001b[0mmetrics\u001b[0m\u001b[0;34m[\u001b[0m\u001b[0;34m-\u001b[0m\u001b[0;36m1\u001b[0m\u001b[0;34m]\u001b[0m\u001b[0;34m\u001b[0m\u001b[0m\n\u001b[0m",
      "\u001b[0;31mNameError\u001b[0m: name 'metrics' is not defined"
     ]
    }
   ],
   "source": [
    "metrics[-1]"
   ]
  },
  {
   "cell_type": "code",
   "execution_count": null,
   "metadata": {},
   "outputs": [],
   "source": [
    "reliable = [cl for cl in population if cl.is_reliable()]\n",
    "reliable = sorted(reliable, key=lambda cl: -cl.fitness)\n",
    "\n",
    "for cl in reliable[:5]:\n",
    "    print(cl.condition)\n",
    "    print(cl.effect)\n",
    "    print(f\"q: {cl.q:.3f}, r: {cl.r:.3f}, exp: {cl.exp}, num: {cl.num}\")\n",
    "    print(\"\\n\")"
   ]
  },
  {
   "cell_type": "code",
   "execution_count": null,
   "metadata": {},
   "outputs": [],
   "source": [
    "def parse_metrics(metrics):\n",
    "    lst = [[\n",
    "        d['agent']['trial'],\n",
    "        d['agent']['population'],\n",
    "        d['agent']['reliable'],\n",
    "        d['performance']['reward'],\n",
    "        d['agent']['region_1'],\n",
    "        d['agent']['region_2'],\n",
    "        d['agent']['region_3'],\n",
    "        d['agent']['region_4'],\n",
    "    ] for d in metrics]\n",
    "\n",
    "    df = pd.DataFrame(lst, columns=['trial', 'population', 'reliable', 'reward', 'region_1', 'region_2', 'region_3', 'region_4'])\n",
    "    df = df.set_index('trial')\n",
    "\n",
    "    return df\n",
    "\n",
    "df = parse_metrics(metrics)\n",
    "df['mode'] = df.index.map(lambda t: \"explore\" if t % 2 == 0 else \"exploit\")\n",
    "df.head()"
   ]
  },
  {
   "cell_type": "code",
   "execution_count": null,
   "metadata": {},
   "outputs": [],
   "source": [
    "explore_df = df[df['mode'] == 'explore']\n",
    "exploit_df = df[df['mode'] == 'exploit']"
   ]
  },
  {
   "cell_type": "code",
   "execution_count": null,
   "metadata": {},
   "outputs": [],
   "source": [
    "fig, ax = plt.subplots()\n",
    "explore_df['reward'].rolling(window=1000).mean().plot(label='explore', ax=ax)\n",
    "exploit_df['reward'].rolling(window=1000).mean().plot(label='exploit', ax=ax)\n",
    "\n",
    "ax.set_title('Performance')\n",
    "ax.set_xlabel('Trial')\n",
    "ax.set_ylabel('Average reward')\n",
    "\n",
    "plt.legend()\n",
    "plt.show()"
   ]
  },
  {
   "cell_type": "code",
   "execution_count": null,
   "metadata": {},
   "outputs": [],
   "source": [
    "fig, ax = plt.subplots()\n",
    "exploit_df['region_1'].rolling(window=50).mean().plot(label='Region 1 [pi, qi)', ax=ax)\n",
    "exploit_df['region_2'].rolling(window=50).mean().plot(label='Region 2 [pmin, qi)', ax=ax)\n",
    "exploit_df['region_3'].rolling(window=50).mean().plot(label='Region 3 [pi, qmax)', ax=ax)\n",
    "exploit_df['region_4'].rolling(window=50).mean().plot(label='Region 4 [pmin, qmax)', ax=ax)\n",
    "\n",
    "ax.set_title('Condition Interval Regions')\n",
    "ax.set_xlabel('Trial')\n",
    "ax.set_ylabel('Proportion')\n",
    "\n",
    "plt.legend()\n",
    "plt.show()"
   ]
  },
  {
   "cell_type": "code",
   "execution_count": null,
   "metadata": {},
   "outputs": [],
   "source": [
    "fig, ax = plt.subplots()\n",
    "df['population'].rolling(window=1000).mean().plot(label='macroclassifiers', ax=ax)\n",
    "df['reliable'].rolling(window=1000).mean().plot(label='reliable', ax=ax)\n",
    "\n",
    "ax.set_title('Classifier numerosity')\n",
    "ax.set_xlabel('Trial')\n",
    "ax.set_ylabel('Number of classifiers')\n",
    "\n",
    "plt.legend()\n",
    "plt.show()"
   ]
  }
 ],
 "metadata": {
  "kernelspec": {
   "display_name": "Python 3",
   "language": "python",
   "name": "python3"
  },
  "language_info": {
   "codemirror_mode": {
    "name": "ipython",
    "version": 3
   },
   "file_extension": ".py",
   "mimetype": "text/x-python",
   "name": "python",
   "nbconvert_exporter": "python",
   "pygments_lexer": "ipython3",
   "version": "3.7.0"
  }
 },
 "nbformat": 4,
 "nbformat_minor": 2
}
