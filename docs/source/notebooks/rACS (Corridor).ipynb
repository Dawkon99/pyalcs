{
 "cells": [
  {
   "cell_type": "code",
   "execution_count": 10,
   "metadata": {},
   "outputs": [
    {
     "name": "stdout",
     "output_type": "stream",
     "text": [
      "The autoreload extension is already loaded. To reload it, use:\n",
      "  %reload_ext autoreload\n"
     ]
    }
   ],
   "source": [
    "# Logger\n",
    "import logging\n",
    "logging.basicConfig(level=logging.INFO)\n",
    "\n",
    "# Import local paths\n",
    "import sys, os\n",
    "sys.path.append(os.path.abspath('../../..'))\n",
    "sys.path.append(os.path.abspath('../../../../openai-envs'))\n",
    "\n",
    "# Enable automatic module reload\n",
    "%load_ext autoreload\n",
    "%autoreload 2\n",
    "\n",
    "# Load PyALCS module\n",
    "from lcs.agents import EnvironmentAdapter\n",
    "from lcs.agents.acs2 import ACS2, Configuration, ClassifiersList\n",
    "\n",
    "# Load environments\n",
    "import gym\n",
    "import gym_corridor"
   ]
  },
  {
   "cell_type": "markdown",
   "metadata": {},
   "source": [
    "# Corridor\n",
    "\n",
    "Actions:\n",
    "\n",
    "    MOVE_LEFT = 0\n",
    "    MOVE_RIGHT = 1\n"
   ]
  },
  {
   "cell_type": "code",
   "execution_count": 11,
   "metadata": {},
   "outputs": [],
   "source": [
    "class CorridorAdapter(EnvironmentAdapter):\n",
    "    @staticmethod\n",
    "    def to_genotype(phenotype):\n",
    "        return phenotype,"
   ]
  },
  {
   "cell_type": "code",
   "execution_count": 12,
   "metadata": {},
   "outputs": [],
   "source": [
    "cfg = Configuration(\n",
    "        classifier_length=1,\n",
    "        number_of_possible_actions=2,\n",
    "        epsilon=1.0,\n",
    "        beta=0.05,\n",
    "        gamma=0.95,\n",
    "        theta_exp=50,\n",
    "        theta_ga=50,\n",
    "        do_ga=True,\n",
    "        mu=0.03,\n",
    "        u_max=1,\n",
    "        metrics_trial_frequency=20,\n",
    "        environment_adapter=CorridorAdapter)"
   ]
  },
  {
   "cell_type": "code",
   "execution_count": 13,
   "metadata": {},
   "outputs": [],
   "source": [
    "def print_simple_stats(population, metrics):\n",
    "    pop_size = len(population)\n",
    "    \n",
    "    # avg step in trial\n",
    "    steps = []\n",
    "    for m in metrics:\n",
    "        steps.append(m['steps_in_trial'])\n",
    "\n",
    "    print(f\"Population of {pop_size}, avg steps {sum(steps)/len(steps)}\")     "
   ]
  },
  {
   "cell_type": "markdown",
   "metadata": {},
   "source": [
    "## Corridor 20"
   ]
  },
  {
   "cell_type": "markdown",
   "metadata": {},
   "source": [
    "### Exploration"
   ]
  },
  {
   "cell_type": "code",
   "execution_count": 14,
   "metadata": {},
   "outputs": [],
   "source": [
    "corridor = gym.make('corridor-20-v0')"
   ]
  },
  {
   "cell_type": "code",
   "execution_count": 15,
   "metadata": {},
   "outputs": [
    {
     "name": "stderr",
     "output_type": "stream",
     "text": [
      "INFO:lcs.agents.Agent:{'trial': 0, 'steps_in_trial': 101, 'reward': 1000}\n",
      "INFO:lcs.agents.Agent:{'trial': 500, 'steps_in_trial': 200, 'reward': 0}\n"
     ]
    },
    {
     "name": "stdout",
     "output_type": "stream",
     "text": [
      "CPU times: user 31.8 s, sys: 157 ms, total: 32 s\n",
      "Wall time: 32.5 s\n"
     ]
    }
   ],
   "source": [
    "%%time\n",
    "agent = ACS2(cfg)\n",
    "population, metrics = agent.explore(corridor, 1000)"
   ]
  },
  {
   "cell_type": "code",
   "execution_count": 16,
   "metadata": {},
   "outputs": [
    {
     "name": "stdout",
     "output_type": "stream",
     "text": [
      "Population of 38, avg steps 160.28\n"
     ]
    }
   ],
   "source": [
    "print_simple_stats(population, metrics)"
   ]
  },
  {
   "cell_type": "code",
   "execution_count": 17,
   "metadata": {},
   "outputs": [
    {
     "data": {
      "text/plain": [
       "[19 1 20               (empty)               q: 1.0   r: 1e+03  ir: 1e+03  f: 1e+03  exp: 262 tga: 157928 talp: 157928 tav: 1.14e+03 num: 20,\n",
       " 18 1 19               (empty)               q: 1.0   r: 950.0  ir: 0.0    f: 950.0  exp: 475 tga: 157915 talp: 157928 tav: 6.32e+02 num: 20,\n",
       " 17 1 18               (empty)               q: 1.0   r: 902.5  ir: 0.0    f: 902.5  exp: 640 tga: 157914 talp: 157927 tav: 4.45e+02 num: 20,\n",
       " 19 0 18               (empty)               q: 1.0   r: 902.4  ir: 0.0    f: 902.4  exp: 264 tga: 157916 talp: 157917 tav: 1.1e+03 num: 20,\n",
       " 16 1 17               (empty)               q: 1.0   r: 857.4  ir: 0.0    f: 857.4  exp: 752 tga: 157925 talp: 157926 tav: 4.57e+02 num: 20]"
      ]
     },
     "execution_count": 17,
     "metadata": {},
     "output_type": "execute_result"
    }
   ],
   "source": [
    "sorted(population, key=lambda cl: -cl.fitness)[:5]"
   ]
  },
  {
   "cell_type": "markdown",
   "metadata": {},
   "source": [
    "### Exploitation"
   ]
  },
  {
   "cell_type": "code",
   "execution_count": 19,
   "metadata": {},
   "outputs": [
    {
     "name": "stderr",
     "output_type": "stream",
     "text": [
      "INFO:lcs.agents.Agent:{'trial': 0, 'steps_in_trial': 4, 'reward': 1000}\n"
     ]
    },
    {
     "name": "stdout",
     "output_type": "stream",
     "text": [
      "CPU times: user 106 ms, sys: 2.86 ms, total: 108 ms\n",
      "Wall time: 114 ms\n"
     ]
    }
   ],
   "source": [
    "%%time\n",
    "agent = ACS2(cfg, population)\n",
    "pop_exploit, metric_exploit = agent.exploit(corridor, 100)"
   ]
  },
  {
   "cell_type": "code",
   "execution_count": 20,
   "metadata": {},
   "outputs": [
    {
     "name": "stdout",
     "output_type": "stream",
     "text": [
      "Population of 38, avg steps 11.8\n"
     ]
    }
   ],
   "source": [
    "print_simple_stats(pop_exploit, metric_exploit)"
   ]
  },
  {
   "cell_type": "code",
   "execution_count": 21,
   "metadata": {},
   "outputs": [
    {
     "data": {
      "text/plain": [
       "[19 1 20               (empty)               q: 1.0   r: 1e+03  ir: 1e+03  f: 1e+03  exp: 262 tga: 157928 talp: 157928 tav: 1.14e+03 num: 20,\n",
       " 18 1 19               (empty)               q: 1.0   r: 950.0  ir: 0.0    f: 950.0  exp: 475 tga: 157915 talp: 157928 tav: 6.32e+02 num: 20,\n",
       " 17 1 18               (empty)               q: 1.0   r: 902.5  ir: 0.0    f: 902.5  exp: 640 tga: 157914 talp: 157927 tav: 4.45e+02 num: 20,\n",
       " 19 0 18               (empty)               q: 1.0   r: 902.4  ir: 0.0    f: 902.4  exp: 264 tga: 157916 talp: 157917 tav: 1.1e+03 num: 20,\n",
       " 16 1 17               (empty)               q: 1.0   r: 857.4  ir: 0.0    f: 857.4  exp: 752 tga: 157925 talp: 157926 tav: 4.57e+02 num: 20]"
      ]
     },
     "execution_count": 21,
     "metadata": {},
     "output_type": "execute_result"
    }
   ],
   "source": [
    "sorted(pop_exploit, key=lambda cl: -cl.fitness)[:5]"
   ]
  }
 ],
 "metadata": {
  "kernelspec": {
   "display_name": "Python 3",
   "language": "python",
   "name": "python3"
  },
  "language_info": {
   "codemirror_mode": {
    "name": "ipython",
    "version": 3
   },
   "file_extension": ".py",
   "mimetype": "text/x-python",
   "name": "python",
   "nbconvert_exporter": "python",
   "pygments_lexer": "ipython3",
   "version": "3.7.0"
  }
 },
 "nbformat": 4,
 "nbformat_minor": 2
}
