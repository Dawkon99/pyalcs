{
 "cells": [
  {
   "cell_type": "markdown",
   "metadata": {},
   "source": [
    "# rACS in Real-Multiplexer"
   ]
  },
  {
   "cell_type": "code",
   "execution_count": 1,
   "metadata": {},
   "outputs": [],
   "source": [
    "# Logger\n",
    "import logging\n",
    "logging.basicConfig(level=logging.INFO)\n",
    "\n",
    "import numpy as np\n",
    "import pandas as pd\n",
    "import matplotlib.pyplot as plt\n",
    "\n",
    "# Import local paths\n",
    "import sys, os\n",
    "sys.path.append(os.path.abspath('../../..'))\n",
    "sys.path.append(os.path.abspath('../../../../openai-envs'))\n",
    "\n",
    "# Enable automatic module reload\n",
    "%load_ext autoreload\n",
    "%autoreload 2\n",
    "\n",
    "# Load PyALCS module\n",
    "from lcs.representations.RealValueEncoder import RealValueEncoder\n",
    "from lcs.agents.racs import RACS, Configuration\n",
    "\n",
    "# Load OpenAI environments\n",
    "import gym\n",
    "import gym_multiplexer"
   ]
  },
  {
   "cell_type": "markdown",
   "metadata": {},
   "source": [
    "## Real-Multiplexer\n",
    "In 3-bit multiplexer first bit is responsible for addressing the correct answer.\n",
    "\n",
    "> For testing purposes the last bit is used as a flag indicating if the action chosen by the algorithm was correct. The environment always introduces it with 0. It's value is changed to 1 if the action was chosen correctly."
   ]
  },
  {
   "cell_type": "code",
   "execution_count": 2,
   "metadata": {},
   "outputs": [],
   "source": [
    "# Environment initialization\n",
    "rmpx = gym.make('real-multiplexer-3bit-v0')"
   ]
  },
  {
   "cell_type": "markdown",
   "metadata": {},
   "source": [
    "rMPX acts like a normal MPX with the difference that instead on boolean values floating numbers within range `[0,1]` are used. Environment used internal threshold to transform them into boolean values (`threshold=0.5` is used as default)."
   ]
  },
  {
   "cell_type": "code",
   "execution_count": 3,
   "metadata": {},
   "outputs": [
    {
     "data": {
      "text/plain": [
       "[0.44319905156876915, 0.27094940724807426, 0.10581927468978258, 0]"
      ]
     },
     "execution_count": 3,
     "metadata": {},
     "output_type": "execute_result"
    }
   ],
   "source": [
    "state = rmpx.reset()\n",
    "state"
   ]
  },
  {
   "cell_type": "markdown",
   "metadata": {},
   "source": [
    "Which corresponds to the following binary MPX:"
   ]
  },
  {
   "cell_type": "code",
   "execution_count": 4,
   "metadata": {},
   "outputs": [
    {
     "data": {
      "text/plain": [
       "[0, 0, 0, 0]"
      ]
     },
     "execution_count": 4,
     "metadata": {},
     "output_type": "execute_result"
    }
   ],
   "source": [
    "threshold = 0.5  # secret knowledge\n",
    "binary_state = map(lambda x: 1 if x > threshold else 0, state)\n",
    "\n",
    "list(binary_state)"
   ]
  },
  {
   "cell_type": "markdown",
   "metadata": {},
   "source": [
    "Depending on the MPX size we have some actions to be executed. In 3-bit variant first bit (_address bit_) points to the correct answer (two possible values)."
   ]
  },
  {
   "cell_type": "code",
   "execution_count": 5,
   "metadata": {},
   "outputs": [
    {
     "data": {
      "text/plain": [
       "2"
      ]
     },
     "execution_count": 5,
     "metadata": {},
     "output_type": "execute_result"
    }
   ],
   "source": [
    "rmpx.action_space.n"
   ]
  },
  {
   "cell_type": "markdown",
   "metadata": {},
   "source": [
    "We can also investigate the properties of a single observation (like vector dimension, lower and upper bound of each attribute)."
   ]
  },
  {
   "cell_type": "code",
   "execution_count": 6,
   "metadata": {},
   "outputs": [
    {
     "name": "stdout",
     "output_type": "stream",
     "text": [
      "Observation shape: (4,)\n",
      "Upper bounds: [0. 0. 0. 0.]\n",
      "Lower bounds: [1. 1. 1. 1.]\n"
     ]
    }
   ],
   "source": [
    "print(f\"Observation shape: {rmpx.observation_space.shape}\")\n",
    "print(f\"Upper bounds: {rmpx.observation_space.low}\")\n",
    "print(f\"Lower bounds: {rmpx.observation_space.high}\")"
   ]
  },
  {
   "cell_type": "markdown",
   "metadata": {},
   "source": [
    "## rACS\n",
    "\n",
    "- write abount _encoders_"
   ]
  },
  {
   "cell_type": "code",
   "execution_count": 7,
   "metadata": {},
   "outputs": [
    {
     "data": {
      "text/html": [
       "<div>\n",
       "<style scoped>\n",
       "    .dataframe tbody tr th:only-of-type {\n",
       "        vertical-align: middle;\n",
       "    }\n",
       "\n",
       "    .dataframe tbody tr th {\n",
       "        vertical-align: top;\n",
       "    }\n",
       "\n",
       "    .dataframe thead th {\n",
       "        text-align: right;\n",
       "    }\n",
       "</style>\n",
       "<table border=\"1\" class=\"dataframe\">\n",
       "  <thead>\n",
       "    <tr style=\"text-align: right;\">\n",
       "      <th></th>\n",
       "      <th>1-bit</th>\n",
       "      <th>2-bit</th>\n",
       "      <th>3-bit</th>\n",
       "      <th>4-bit</th>\n",
       "      <th>5-bit</th>\n",
       "      <th>6-bit</th>\n",
       "      <th>7-bit</th>\n",
       "    </tr>\n",
       "    <tr>\n",
       "      <th>Perception</th>\n",
       "      <th></th>\n",
       "      <th></th>\n",
       "      <th></th>\n",
       "      <th></th>\n",
       "      <th></th>\n",
       "      <th></th>\n",
       "      <th></th>\n",
       "    </tr>\n",
       "  </thead>\n",
       "  <tbody>\n",
       "    <tr>\n",
       "      <th>0.0</th>\n",
       "      <td>0</td>\n",
       "      <td>0</td>\n",
       "      <td>0</td>\n",
       "      <td>0</td>\n",
       "      <td>0</td>\n",
       "      <td>0</td>\n",
       "      <td>0</td>\n",
       "    </tr>\n",
       "    <tr>\n",
       "      <th>0.1</th>\n",
       "      <td>0</td>\n",
       "      <td>0</td>\n",
       "      <td>1</td>\n",
       "      <td>2</td>\n",
       "      <td>3</td>\n",
       "      <td>6</td>\n",
       "      <td>13</td>\n",
       "    </tr>\n",
       "    <tr>\n",
       "      <th>0.2</th>\n",
       "      <td>0</td>\n",
       "      <td>1</td>\n",
       "      <td>1</td>\n",
       "      <td>3</td>\n",
       "      <td>6</td>\n",
       "      <td>13</td>\n",
       "      <td>25</td>\n",
       "    </tr>\n",
       "    <tr>\n",
       "      <th>0.3</th>\n",
       "      <td>0</td>\n",
       "      <td>1</td>\n",
       "      <td>2</td>\n",
       "      <td>5</td>\n",
       "      <td>9</td>\n",
       "      <td>19</td>\n",
       "      <td>38</td>\n",
       "    </tr>\n",
       "    <tr>\n",
       "      <th>0.4</th>\n",
       "      <td>0</td>\n",
       "      <td>1</td>\n",
       "      <td>3</td>\n",
       "      <td>6</td>\n",
       "      <td>12</td>\n",
       "      <td>25</td>\n",
       "      <td>51</td>\n",
       "    </tr>\n",
       "    <tr>\n",
       "      <th>0.5</th>\n",
       "      <td>0</td>\n",
       "      <td>2</td>\n",
       "      <td>4</td>\n",
       "      <td>8</td>\n",
       "      <td>16</td>\n",
       "      <td>32</td>\n",
       "      <td>64</td>\n",
       "    </tr>\n",
       "    <tr>\n",
       "      <th>0.6</th>\n",
       "      <td>1</td>\n",
       "      <td>2</td>\n",
       "      <td>4</td>\n",
       "      <td>9</td>\n",
       "      <td>19</td>\n",
       "      <td>38</td>\n",
       "      <td>76</td>\n",
       "    </tr>\n",
       "    <tr>\n",
       "      <th>0.7</th>\n",
       "      <td>1</td>\n",
       "      <td>2</td>\n",
       "      <td>5</td>\n",
       "      <td>11</td>\n",
       "      <td>22</td>\n",
       "      <td>44</td>\n",
       "      <td>89</td>\n",
       "    </tr>\n",
       "    <tr>\n",
       "      <th>0.8</th>\n",
       "      <td>1</td>\n",
       "      <td>2</td>\n",
       "      <td>6</td>\n",
       "      <td>12</td>\n",
       "      <td>25</td>\n",
       "      <td>50</td>\n",
       "      <td>102</td>\n",
       "    </tr>\n",
       "    <tr>\n",
       "      <th>0.9</th>\n",
       "      <td>1</td>\n",
       "      <td>3</td>\n",
       "      <td>6</td>\n",
       "      <td>14</td>\n",
       "      <td>28</td>\n",
       "      <td>57</td>\n",
       "      <td>114</td>\n",
       "    </tr>\n",
       "    <tr>\n",
       "      <th>1.0</th>\n",
       "      <td>1</td>\n",
       "      <td>3</td>\n",
       "      <td>7</td>\n",
       "      <td>15</td>\n",
       "      <td>31</td>\n",
       "      <td>63</td>\n",
       "      <td>127</td>\n",
       "    </tr>\n",
       "  </tbody>\n",
       "</table>\n",
       "</div>"
      ],
      "text/plain": [
       "            1-bit  2-bit  3-bit  4-bit  5-bit  6-bit  7-bit\n",
       "Perception                                                 \n",
       "0.0             0      0      0      0      0      0      0\n",
       "0.1             0      0      1      2      3      6     13\n",
       "0.2             0      1      1      3      6     13     25\n",
       "0.3             0      1      2      5      9     19     38\n",
       "0.4             0      1      3      6     12     25     51\n",
       "0.5             0      2      4      8     16     32     64\n",
       "0.6             1      2      4      9     19     38     76\n",
       "0.7             1      2      5     11     22     44     89\n",
       "0.8             1      2      6     12     25     50    102\n",
       "0.9             1      3      6     14     28     57    114\n",
       "1.0             1      3      7     15     31     63    127"
      ]
     },
     "execution_count": 7,
     "metadata": {},
     "output_type": "execute_result"
    }
   ],
   "source": [
    "def encode(bits, val):\n",
    "    return int(RealValueEncoder(bits).encode(val))\n",
    "\n",
    "r = np.arange(0, 1.1, .1)\n",
    "\n",
    "df = pd.DataFrame(r, columns=['Perception'])\n",
    "\n",
    "for bit in [1, 2, 3, 4, 5, 6, 7]:\n",
    "    df[f'{bit}-bit'] = df.apply(lambda row: encode(bit, row['Perception']), axis=1)\n",
    "\n",
    "df.set_index('Perception', inplace=True)\n",
    "df"
   ]
  },
  {
   "cell_type": "markdown",
   "metadata": {},
   "source": [
    "## Experiment\n",
    "In the experiment each attribute range will be represented as an _unorded bounded tuple_ with desired encoding resolution."
   ]
  },
  {
   "cell_type": "code",
   "execution_count": 8,
   "metadata": {},
   "outputs": [],
   "source": [
    "# We will use 6bit rmpx\n",
    "rmpx = gym.make('real-multiplexer-3bit-v0')\n",
    "\n",
    "ENCODER_BITS = 7\n",
    "\n",
    "cfg = Configuration(rmpx.observation_space.shape[0], rmpx.action_space.n,\n",
    "                    encoder=RealValueEncoder(ENCODER_BITS),\n",
    "                    epsilon=1.0,  # exploration-exploitation ratio\n",
    "                    do_ga=True,\n",
    "                    theta_r=0.9,  # reliablity threshold\n",
    "                    theta_i=0.2,  # inadequacy threshold\n",
    "                    theta_ga=100,\n",
    "                    chi=0.5,  # cross-over probability\n",
    "                    mu=0.15)  # mutation probability"
   ]
  },
  {
   "cell_type": "markdown",
   "metadata": {},
   "source": [
    "Initialize agent with no initial classifiers using configuration above."
   ]
  },
  {
   "cell_type": "code",
   "execution_count": 9,
   "metadata": {},
   "outputs": [],
   "source": [
    "agent = RACS(cfg)"
   ]
  },
  {
   "cell_type": "markdown",
   "metadata": {},
   "source": [
    "Perform exploration for some trials"
   ]
  },
  {
   "cell_type": "code",
   "execution_count": 10,
   "metadata": {},
   "outputs": [
    {
     "name": "stderr",
     "output_type": "stream",
     "text": [
      "INFO:lcs.agents.racs.RACS:{'agent': {'population': 1, 'numerosity': 1, 'reliable': 0, 'fitness': 25.0, 'cover_ratio': 0.7519685039370079, 'trial': 0, 'steps': 1, 'total_steps': 1}, 'environment': None, 'performance': {'reward': 1000}}\n",
      "INFO:lcs.agents.racs.RACS:{'agent': {'population': 802, 'numerosity': 808, 'reliable': 0, 'fitness': 213.3901399182953, 'cover_ratio': 0.542897186168435, 'trial': 500, 'steps': 1, 'total_steps': 501}, 'environment': None, 'performance': {'reward': 1000}}\n",
      "INFO:lcs.agents.racs.RACS:{'agent': {'population': 1617, 'numerosity': 1691, 'reliable': 0, 'fitness': 227.8973337986668, 'cover_ratio': 0.5139657867441981, 'trial': 1000, 'steps': 1, 'total_steps': 1001}, 'environment': None, 'performance': {'reward': 0}}\n",
      "INFO:lcs.agents.racs.RACS:{'agent': {'population': 2161, 'numerosity': 2340, 'reliable': 0, 'fitness': 227.7305295550393, 'cover_ratio': 0.4976152043928443, 'trial': 1500, 'steps': 1, 'total_steps': 1501}, 'environment': None, 'performance': {'reward': 1000}}\n",
      "INFO:lcs.agents.racs.RACS:{'agent': {'population': 2799, 'numerosity': 3062, 'reliable': 0, 'fitness': 231.26642399615815, 'cover_ratio': 0.4781903266914921, 'trial': 2000, 'steps': 1, 'total_steps': 2001}, 'environment': None, 'performance': {'reward': 1000}}\n",
      "INFO:lcs.agents.racs.RACS:{'agent': {'population': 3379, 'numerosity': 3732, 'reliable': 0, 'fitness': 235.92760623509642, 'cover_ratio': 0.45994190612235736, 'trial': 2500, 'steps': 1, 'total_steps': 2501}, 'environment': None, 'performance': {'reward': 1000}}\n",
      "INFO:lcs.agents.racs.RACS:{'agent': {'population': 3965, 'numerosity': 4390, 'reliable': 0, 'fitness': 240.9338812344782, 'cover_ratio': 0.443803060241694, 'trial': 3000, 'steps': 1, 'total_steps': 3001}, 'environment': None, 'performance': {'reward': 0}}\n",
      "INFO:lcs.agents.racs.RACS:{'agent': {'population': 4512, 'numerosity': 5022, 'reliable': 0, 'fitness': 243.95689245879734, 'cover_ratio': 0.43005441307869713, 'trial': 3500, 'steps': 1, 'total_steps': 3501}, 'environment': None, 'performance': {'reward': 1000}}\n",
      "INFO:lcs.agents.racs.RACS:{'agent': {'population': 5065, 'numerosity': 5634, 'reliable': 0, 'fitness': 247.19089095449868, 'cover_ratio': 0.41822566478303164, 'trial': 4000, 'steps': 1, 'total_steps': 4001}, 'environment': None, 'performance': {'reward': 0}}\n",
      "INFO:lcs.agents.racs.RACS:{'agent': {'population': 5637, 'numerosity': 6296, 'reliable': 0, 'fitness': 247.81308905335396, 'cover_ratio': 0.41023908400487974, 'trial': 4500, 'steps': 1, 'total_steps': 4501}, 'environment': None, 'performance': {'reward': 1000}}\n",
      "INFO:lcs.agents.racs.RACS:{'agent': {'population': 6172, 'numerosity': 6941, 'reliable': 0, 'fitness': 249.7033917480428, 'cover_ratio': 0.40623485030185896, 'trial': 5000, 'steps': 1, 'total_steps': 5001}, 'environment': None, 'performance': {'reward': 1000}}\n",
      "INFO:lcs.agents.racs.RACS:{'agent': {'population': 6696, 'numerosity': 7563, 'reliable': 0, 'fitness': 249.67829278278504, 'cover_ratio': 0.4011067836950616, 'trial': 5500, 'steps': 1, 'total_steps': 5501}, 'environment': None, 'performance': {'reward': 1000}}\n",
      "INFO:lcs.agents.racs.RACS:{'agent': {'population': 7253, 'numerosity': 8206, 'reliable': 0, 'fitness': 251.487539538718, 'cover_ratio': 0.3974896078842316, 'trial': 6000, 'steps': 1, 'total_steps': 6001}, 'environment': None, 'performance': {'reward': 0}}\n",
      "INFO:lcs.agents.racs.RACS:{'agent': {'population': 7723, 'numerosity': 8774, 'reliable': 0, 'fitness': 251.6145385368147, 'cover_ratio': 0.3916874230874082, 'trial': 6500, 'steps': 1, 'total_steps': 6501}, 'environment': None, 'performance': {'reward': 0}}\n",
      "INFO:lcs.agents.racs.RACS:{'agent': {'population': 8261, 'numerosity': 9372, 'reliable': 0, 'fitness': 252.90535504956608, 'cover_ratio': 0.3862504491744404, 'trial': 7000, 'steps': 1, 'total_steps': 7001}, 'environment': None, 'performance': {'reward': 1000}}\n",
      "INFO:lcs.agents.racs.RACS:{'agent': {'population': 8741, 'numerosity': 9977, 'reliable': 0, 'fitness': 254.7461546303824, 'cover_ratio': 0.38210978761508363, 'trial': 7500, 'steps': 1, 'total_steps': 7501}, 'environment': None, 'performance': {'reward': 0}}\n",
      "INFO:lcs.agents.racs.RACS:{'agent': {'population': 9197, 'numerosity': 10557, 'reliable': 0, 'fitness': 255.16059594440713, 'cover_ratio': 0.3794582964832057, 'trial': 8000, 'steps': 1, 'total_steps': 8001}, 'environment': None, 'performance': {'reward': 1000}}\n",
      "INFO:lcs.agents.racs.RACS:{'agent': {'population': 9615, 'numerosity': 11070, 'reliable': 0, 'fitness': 257.1080777532752, 'cover_ratio': 0.37609050818727263, 'trial': 8500, 'steps': 1, 'total_steps': 8501}, 'environment': None, 'performance': {'reward': 1000}}\n",
      "INFO:lcs.agents.racs.RACS:{'agent': {'population': 10091, 'numerosity': 11635, 'reliable': 0, 'fitness': 258.8471486350001, 'cover_ratio': 0.37453854959242444, 'trial': 9000, 'steps': 1, 'total_steps': 9001}, 'environment': None, 'performance': {'reward': 0}}\n",
      "INFO:lcs.agents.racs.RACS:{'agent': {'population': 10483, 'numerosity': 12161, 'reliable': 0, 'fitness': 259.2669430476858, 'cover_ratio': 0.3724053416818234, 'trial': 9500, 'steps': 1, 'total_steps': 9501}, 'environment': None, 'performance': {'reward': 0}}\n",
      "INFO:lcs.agents.racs.RACS:{'agent': {'population': 10876, 'numerosity': 12643, 'reliable': 0, 'fitness': 260.3054052331738, 'cover_ratio': 0.3698423604092681, 'trial': 10000, 'steps': 1, 'total_steps': 10001}, 'environment': None, 'performance': {'reward': 1000}}\n",
      "INFO:lcs.agents.racs.RACS:{'agent': {'population': 11243, 'numerosity': 13115, 'reliable': 0, 'fitness': 261.85988224124736, 'cover_ratio': 0.3652666471036206, 'trial': 10500, 'steps': 1, 'total_steps': 10501}, 'environment': None, 'performance': {'reward': 1000}}\n",
      "INFO:lcs.agents.racs.RACS:{'agent': {'population': 11619, 'numerosity': 13566, 'reliable': 0, 'fitness': 263.37630190250604, 'cover_ratio': 0.36268435558647494, 'trial': 11000, 'steps': 1, 'total_steps': 11001}, 'environment': None, 'performance': {'reward': 1000}}\n",
      "INFO:lcs.agents.racs.RACS:{'agent': {'population': 12097, 'numerosity': 14134, 'reliable': 0, 'fitness': 264.5182882646513, 'cover_ratio': 0.36253082855840685, 'trial': 11500, 'steps': 1, 'total_steps': 11501}, 'environment': None, 'performance': {'reward': 1000}}\n",
      "INFO:lcs.agents.racs.RACS:{'agent': {'population': 12487, 'numerosity': 14633, 'reliable': 0, 'fitness': 264.68574949475783, 'cover_ratio': 0.3613758308641124, 'trial': 12000, 'steps': 1, 'total_steps': 12001}, 'environment': None, 'performance': {'reward': 1000}}\n",
      "INFO:lcs.agents.racs.RACS:{'agent': {'population': 12901, 'numerosity': 15172, 'reliable': 0, 'fitness': 266.17671174890495, 'cover_ratio': 0.3582472700950497, 'trial': 12500, 'steps': 1, 'total_steps': 12501}, 'environment': None, 'performance': {'reward': 0}}\n",
      "INFO:lcs.agents.racs.RACS:{'agent': {'population': 13300, 'numerosity': 15650, 'reliable': 1, 'fitness': 266.99060436658505, 'cover_ratio': 0.3562337931442934, 'trial': 13000, 'steps': 1, 'total_steps': 13001}, 'environment': None, 'performance': {'reward': 1000}}\n",
      "INFO:lcs.agents.racs.RACS:{'agent': {'population': 13696, 'numerosity': 16194, 'reliable': 1, 'fitness': 267.93906881775246, 'cover_ratio': 0.35490907167563274, 'trial': 13500, 'steps': 1, 'total_steps': 13501}, 'environment': None, 'performance': {'reward': 0}}\n",
      "INFO:lcs.agents.racs.RACS:{'agent': {'population': 14071, 'numerosity': 16667, 'reliable': 1, 'fitness': 268.2278376876533, 'cover_ratio': 0.35369109527218795, 'trial': 14000, 'steps': 1, 'total_steps': 14001}, 'environment': None, 'performance': {'reward': 1000}}\n",
      "INFO:lcs.agents.racs.RACS:{'agent': {'population': 14341, 'numerosity': 17023, 'reliable': 2, 'fitness': 269.05150296012437, 'cover_ratio': 0.3524372881672485, 'trial': 14500, 'steps': 1, 'total_steps': 14501}, 'environment': None, 'performance': {'reward': 1000}}\n",
      "INFO:lcs.agents.racs.RACS:{'agent': {'population': 14678, 'numerosity': 17453, 'reliable': 2, 'fitness': 269.89448072117307, 'cover_ratio': 0.35154760512547206, 'trial': 15000, 'steps': 1, 'total_steps': 15001}, 'environment': None, 'performance': {'reward': 1000}}\n",
      "INFO:lcs.agents.racs.RACS:{'agent': {'population': 15049, 'numerosity': 17891, 'reliable': 3, 'fitness': 270.1916234098821, 'cover_ratio': 0.3497530115533464, 'trial': 15500, 'steps': 1, 'total_steps': 15501}, 'environment': None, 'performance': {'reward': 0}}\n"
     ]
    },
    {
     "name": "stderr",
     "output_type": "stream",
     "text": [
      "INFO:lcs.agents.racs.RACS:{'agent': {'population': 15443, 'numerosity': 18398, 'reliable': 5, 'fitness': 270.8272169846251, 'cover_ratio': 0.3486477577436232, 'trial': 16000, 'steps': 1, 'total_steps': 16001}, 'environment': None, 'performance': {'reward': 0}}\n",
      "INFO:lcs.agents.racs.RACS:{'agent': {'population': 15833, 'numerosity': 18918, 'reliable': 4, 'fitness': 271.646125483481, 'cover_ratio': 0.3469726590182767, 'trial': 16500, 'steps': 1, 'total_steps': 16501}, 'environment': None, 'performance': {'reward': 1000}}\n",
      "INFO:lcs.agents.racs.RACS:{'agent': {'population': 16099, 'numerosity': 19242, 'reliable': 5, 'fitness': 272.29468096848797, 'cover_ratio': 0.3451940820895227, 'trial': 17000, 'steps': 1, 'total_steps': 17001}, 'environment': None, 'performance': {'reward': 0}}\n",
      "INFO:lcs.agents.racs.RACS:{'agent': {'population': 16430, 'numerosity': 19686, 'reliable': 6, 'fitness': 272.7706472364672, 'cover_ratio': 0.34393777466801295, 'trial': 17500, 'steps': 1, 'total_steps': 17501}, 'environment': None, 'performance': {'reward': 0}}\n",
      "INFO:lcs.agents.racs.RACS:{'agent': {'population': 16701, 'numerosity': 20034, 'reliable': 7, 'fitness': 273.17035037906595, 'cover_ratio': 0.34323254725188407, 'trial': 18000, 'steps': 1, 'total_steps': 18001}, 'environment': None, 'performance': {'reward': 1000}}\n",
      "INFO:lcs.agents.racs.RACS:{'agent': {'population': 17118, 'numerosity': 20564, 'reliable': 8, 'fitness': 274.05924356127167, 'cover_ratio': 0.34099679114769926, 'trial': 18500, 'steps': 1, 'total_steps': 18501}, 'environment': None, 'performance': {'reward': 0}}\n",
      "INFO:lcs.agents.racs.RACS:{'agent': {'population': 17444, 'numerosity': 20957, 'reliable': 8, 'fitness': 275.0143785101237, 'cover_ratio': 0.3395137781734056, 'trial': 19000, 'steps': 1, 'total_steps': 19001}, 'environment': None, 'performance': {'reward': 0}}\n",
      "INFO:lcs.agents.racs.RACS:{'agent': {'population': 17850, 'numerosity': 21487, 'reliable': 7, 'fitness': 275.7525266414608, 'cover_ratio': 0.3393802245307686, 'trial': 19500, 'steps': 1, 'total_steps': 19501}, 'environment': None, 'performance': {'reward': 1000}}\n",
      "INFO:lcs.agents.racs.RACS:{'agent': {'population': 18132, 'numerosity': 21840, 'reliable': 7, 'fitness': 276.9297202559733, 'cover_ratio': 0.33667942090462993, 'trial': 20000, 'steps': 1, 'total_steps': 20001}, 'environment': None, 'performance': {'reward': 1000}}\n",
      "INFO:lcs.agents.racs.RACS:{'agent': {'population': 18459, 'numerosity': 22239, 'reliable': 8, 'fitness': 277.6937876244427, 'cover_ratio': 0.33739916469486675, 'trial': 20500, 'steps': 1, 'total_steps': 20501}, 'environment': None, 'performance': {'reward': 1000}}\n",
      "INFO:lcs.agents.racs.RACS:{'agent': {'population': 18765, 'numerosity': 22662, 'reliable': 9, 'fitness': 278.3022028302992, 'cover_ratio': 0.3361428442547914, 'trial': 21000, 'steps': 1, 'total_steps': 21001}, 'environment': None, 'performance': {'reward': 0}}\n",
      "INFO:lcs.agents.racs.RACS:{'agent': {'population': 19050, 'numerosity': 23024, 'reliable': 8, 'fitness': 278.28225547917515, 'cover_ratio': 0.33600739868147556, 'trial': 21500, 'steps': 1, 'total_steps': 21501}, 'environment': None, 'performance': {'reward': 1000}}\n",
      "INFO:lcs.agents.racs.RACS:{'agent': {'population': 19291, 'numerosity': 23310, 'reliable': 11, 'fitness': 278.61383906848255, 'cover_ratio': 0.334765671397506, 'trial': 22000, 'steps': 1, 'total_steps': 22001}, 'environment': None, 'performance': {'reward': 1000}}\n",
      "INFO:lcs.agents.racs.RACS:{'agent': {'population': 19554, 'numerosity': 23693, 'reliable': 12, 'fitness': 279.0939710849959, 'cover_ratio': 0.3327783388460382, 'trial': 22500, 'steps': 1, 'total_steps': 22501}, 'environment': None, 'performance': {'reward': 1000}}\n",
      "INFO:lcs.agents.racs.RACS:{'agent': {'population': 19850, 'numerosity': 24078, 'reliable': 13, 'fitness': 279.67735873749206, 'cover_ratio': 0.3305850968880873, 'trial': 23000, 'steps': 1, 'total_steps': 23001}, 'environment': None, 'performance': {'reward': 0}}\n",
      "INFO:lcs.agents.racs.RACS:{'agent': {'population': 20141, 'numerosity': 24469, 'reliable': 12, 'fitness': 280.36572478418236, 'cover_ratio': 0.33005158123419664, 'trial': 23500, 'steps': 1, 'total_steps': 23501}, 'environment': None, 'performance': {'reward': 1000}}\n",
      "INFO:lcs.agents.racs.RACS:{'agent': {'population': 20390, 'numerosity': 24828, 'reliable': 12, 'fitness': 280.45745542388994, 'cover_ratio': 0.32793682637390476, 'trial': 24000, 'steps': 1, 'total_steps': 24001}, 'environment': None, 'performance': {'reward': 1000}}\n",
      "INFO:lcs.agents.racs.RACS:{'agent': {'population': 20694, 'numerosity': 25271, 'reliable': 13, 'fitness': 280.2731778876342, 'cover_ratio': 0.32752722650028854, 'trial': 24500, 'steps': 1, 'total_steps': 24501}, 'environment': None, 'performance': {'reward': 1000}}\n",
      "INFO:lcs.agents.racs.RACS:{'agent': {'population': 21057, 'numerosity': 25746, 'reliable': 13, 'fitness': 280.3860856236352, 'cover_ratio': 0.32607164131554034, 'trial': 25000, 'steps': 1, 'total_steps': 25001}, 'environment': None, 'performance': {'reward': 1000}}\n",
      "INFO:lcs.agents.racs.RACS:{'agent': {'population': 21367, 'numerosity': 26162, 'reliable': 13, 'fitness': 281.15990215690135, 'cover_ratio': 0.32641797325997546, 'trial': 25500, 'steps': 1, 'total_steps': 25501}, 'environment': None, 'performance': {'reward': 0}}\n",
      "INFO:lcs.agents.racs.RACS:{'agent': {'population': 21646, 'numerosity': 26552, 'reliable': 13, 'fitness': 281.750744005918, 'cover_ratio': 0.32489518166693393, 'trial': 26000, 'steps': 1, 'total_steps': 26001}, 'environment': None, 'performance': {'reward': 1000}}\n",
      "INFO:lcs.agents.racs.RACS:{'agent': {'population': 21843, 'numerosity': 26836, 'reliable': 12, 'fitness': 282.30648369343055, 'cover_ratio': 0.32340736198664255, 'trial': 26500, 'steps': 1, 'total_steps': 26501}, 'environment': None, 'performance': {'reward': 0}}\n",
      "INFO:lcs.agents.racs.RACS:{'agent': {'population': 22143, 'numerosity': 27222, 'reliable': 11, 'fitness': 282.5991500264015, 'cover_ratio': 0.3232176251644285, 'trial': 27000, 'steps': 1, 'total_steps': 27001}, 'environment': None, 'performance': {'reward': 0}}\n",
      "INFO:lcs.agents.racs.RACS:{'agent': {'population': 22429, 'numerosity': 27649, 'reliable': 12, 'fitness': 283.13172304561016, 'cover_ratio': 0.32181980724477577, 'trial': 27500, 'steps': 1, 'total_steps': 27501}, 'environment': None, 'performance': {'reward': 1000}}\n",
      "INFO:lcs.agents.racs.RACS:{'agent': {'population': 22750, 'numerosity': 28090, 'reliable': 13, 'fitness': 283.0869215959653, 'cover_ratio': 0.32157263995847096, 'trial': 28000, 'steps': 1, 'total_steps': 28001}, 'environment': None, 'performance': {'reward': 0}}\n",
      "INFO:lcs.agents.racs.RACS:{'agent': {'population': 23092, 'numerosity': 28531, 'reliable': 14, 'fitness': 283.4611488969136, 'cover_ratio': 0.32154342233940264, 'trial': 28500, 'steps': 1, 'total_steps': 28501}, 'environment': None, 'performance': {'reward': 1000}}\n",
      "INFO:lcs.agents.racs.RACS:{'agent': {'population': 23284, 'numerosity': 28820, 'reliable': 15, 'fitness': 283.4314641679989, 'cover_ratio': 0.3202720566453045, 'trial': 29000, 'steps': 1, 'total_steps': 29001}, 'environment': None, 'performance': {'reward': 1000}}\n",
      "INFO:lcs.agents.racs.RACS:{'agent': {'population': 23602, 'numerosity': 29266, 'reliable': 16, 'fitness': 283.9033021558765, 'cover_ratio': 0.3205235176252952, 'trial': 29500, 'steps': 1, 'total_steps': 29501}, 'environment': None, 'performance': {'reward': 0}}\n",
      "INFO:lcs.agents.racs.RACS:{'agent': {'population': 23845, 'numerosity': 29597, 'reliable': 17, 'fitness': 284.5087451668043, 'cover_ratio': 0.31919813493642823, 'trial': 30000, 'steps': 1, 'total_steps': 30001}, 'environment': None, 'performance': {'reward': 1000}}\n"
     ]
    },
    {
     "ename": "KeyboardInterrupt",
     "evalue": "",
     "output_type": "error",
     "traceback": [
      "\u001b[0;31m---------------------------------------------------------------------------\u001b[0m",
      "\u001b[0;31mKeyboardInterrupt\u001b[0m                         Traceback (most recent call last)",
      "\u001b[0;32m<timed exec>\u001b[0m in \u001b[0;36m<module>\u001b[0;34m()\u001b[0m\n",
      "\u001b[0;32m~/Projects/pyalcs/lcs/agents/racs/RACS.py\u001b[0m in \u001b[0;36mexplore_exploit\u001b[0;34m(self, env, trials)\u001b[0m\n\u001b[1;32m     39\u001b[0m                 \u001b[0;32mreturn\u001b[0m \u001b[0mself\u001b[0m\u001b[0;34m.\u001b[0m\u001b[0m_run_trial_exploit\u001b[0m\u001b[0;34m(\u001b[0m\u001b[0menv\u001b[0m\u001b[0;34m,\u001b[0m \u001b[0;32mNone\u001b[0m\u001b[0;34m)\u001b[0m\u001b[0;34m\u001b[0m\u001b[0m\n\u001b[1;32m     40\u001b[0m \u001b[0;34m\u001b[0m\u001b[0m\n\u001b[0;32m---> 41\u001b[0;31m         \u001b[0;32mreturn\u001b[0m \u001b[0mself\u001b[0m\u001b[0;34m.\u001b[0m\u001b[0m_evaluate\u001b[0m\u001b[0;34m(\u001b[0m\u001b[0menv\u001b[0m\u001b[0;34m,\u001b[0m \u001b[0mtrials\u001b[0m\u001b[0;34m,\u001b[0m \u001b[0mswitch_phases\u001b[0m\u001b[0;34m)\u001b[0m\u001b[0;34m\u001b[0m\u001b[0m\n\u001b[0m\u001b[1;32m     42\u001b[0m \u001b[0;34m\u001b[0m\u001b[0m\n\u001b[1;32m     43\u001b[0m     \u001b[0;32mdef\u001b[0m \u001b[0m_evaluate\u001b[0m\u001b[0;34m(\u001b[0m\u001b[0mself\u001b[0m\u001b[0;34m,\u001b[0m \u001b[0menv\u001b[0m\u001b[0;34m,\u001b[0m \u001b[0mmax_trials\u001b[0m\u001b[0;34m:\u001b[0m \u001b[0mint\u001b[0m\u001b[0;34m,\u001b[0m \u001b[0mfunc\u001b[0m\u001b[0;34m:\u001b[0m \u001b[0mCallable\u001b[0m\u001b[0;34m)\u001b[0m \u001b[0;34m->\u001b[0m \u001b[0mTuple\u001b[0m\u001b[0;34m:\u001b[0m\u001b[0;34m\u001b[0m\u001b[0m\n",
      "\u001b[0;32m~/Projects/pyalcs/lcs/agents/racs/RACS.py\u001b[0m in \u001b[0;36m_evaluate\u001b[0;34m(self, env, max_trials, func)\u001b[0m\n\u001b[1;32m     70\u001b[0m \u001b[0;34m\u001b[0m\u001b[0m\n\u001b[1;32m     71\u001b[0m             trial_metrics = self._collect_metrics(\n\u001b[0;32m---> 72\u001b[0;31m                 env, current_trial, steps_in_trial, steps, reward)\n\u001b[0m\u001b[1;32m     73\u001b[0m             \u001b[0mmetrics\u001b[0m\u001b[0;34m.\u001b[0m\u001b[0mappend\u001b[0m\u001b[0;34m(\u001b[0m\u001b[0mtrial_metrics\u001b[0m\u001b[0;34m)\u001b[0m\u001b[0;34m\u001b[0m\u001b[0m\n\u001b[1;32m     74\u001b[0m \u001b[0;34m\u001b[0m\u001b[0m\n",
      "\u001b[0;32m~/Projects/pyalcs/lcs/agents/Agent.py\u001b[0m in \u001b[0;36m_collect_metrics\u001b[0;34m(self, env, current_trial, steps_in_trial, steps, reward)\u001b[0m\n\u001b[1;32m     46\u001b[0m         \"\"\"\n\u001b[1;32m     47\u001b[0m         agent_stats = self._collect_agent_metrics(\n\u001b[0;32m---> 48\u001b[0;31m             current_trial, steps_in_trial, steps)\n\u001b[0m\u001b[1;32m     49\u001b[0m         \u001b[0menv_stats\u001b[0m \u001b[0;34m=\u001b[0m \u001b[0mself\u001b[0m\u001b[0;34m.\u001b[0m\u001b[0m_collect_environment_metrics\u001b[0m\u001b[0;34m(\u001b[0m\u001b[0menv\u001b[0m\u001b[0;34m)\u001b[0m\u001b[0;34m\u001b[0m\u001b[0m\n\u001b[1;32m     50\u001b[0m         \u001b[0mperformance_stats\u001b[0m \u001b[0;34m=\u001b[0m \u001b[0mself\u001b[0m\u001b[0;34m.\u001b[0m\u001b[0m_collect_performance_metrics\u001b[0m\u001b[0;34m(\u001b[0m\u001b[0menv\u001b[0m\u001b[0;34m,\u001b[0m \u001b[0mreward\u001b[0m\u001b[0;34m)\u001b[0m\u001b[0;34m\u001b[0m\u001b[0m\n",
      "\u001b[0;32m~/Projects/pyalcs/lcs/agents/racs/RACS.py\u001b[0m in \u001b[0;36m_collect_agent_metrics\u001b[0;34m(self, trial, steps, total_steps)\u001b[0m\n\u001b[1;32m    242\u001b[0m             'reliable': len([cl for cl in\n\u001b[1;32m    243\u001b[0m                              self.population if cl.is_reliable()]),\n\u001b[0;32m--> 244\u001b[0;31m             'fitness': (sum(cl.fitness for cl in self.population) /\n\u001b[0m\u001b[1;32m    245\u001b[0m                         len(self.population)),\n\u001b[1;32m    246\u001b[0m             'cover_ratio': (sum(cl.condition.cover_ratio for cl\n",
      "\u001b[0;32m~/Projects/pyalcs/lcs/agents/racs/RACS.py\u001b[0m in \u001b[0;36m<genexpr>\u001b[0;34m(.0)\u001b[0m\n\u001b[1;32m    242\u001b[0m             'reliable': len([cl for cl in\n\u001b[1;32m    243\u001b[0m                              self.population if cl.is_reliable()]),\n\u001b[0;32m--> 244\u001b[0;31m             'fitness': (sum(cl.fitness for cl in self.population) /\n\u001b[0m\u001b[1;32m    245\u001b[0m                         len(self.population)),\n\u001b[1;32m    246\u001b[0m             'cover_ratio': (sum(cl.condition.cover_ratio for cl\n",
      "\u001b[0;32m~/miniconda/envs/pyalcs/lib/python3.7/_collections_abc.py\u001b[0m in \u001b[0;36m__iter__\u001b[0;34m(self)\u001b[0m\n\u001b[1;32m    881\u001b[0m         \u001b[0;32mtry\u001b[0m\u001b[0;34m:\u001b[0m\u001b[0;34m\u001b[0m\u001b[0m\n\u001b[1;32m    882\u001b[0m             \u001b[0;32mwhile\u001b[0m \u001b[0;32mTrue\u001b[0m\u001b[0;34m:\u001b[0m\u001b[0;34m\u001b[0m\u001b[0m\n\u001b[0;32m--> 883\u001b[0;31m                 \u001b[0mv\u001b[0m \u001b[0;34m=\u001b[0m \u001b[0mself\u001b[0m\u001b[0;34m[\u001b[0m\u001b[0mi\u001b[0m\u001b[0;34m]\u001b[0m\u001b[0;34m\u001b[0m\u001b[0m\n\u001b[0m\u001b[1;32m    884\u001b[0m                 \u001b[0;32myield\u001b[0m \u001b[0mv\u001b[0m\u001b[0;34m\u001b[0m\u001b[0m\n\u001b[1;32m    885\u001b[0m                 \u001b[0mi\u001b[0m \u001b[0;34m+=\u001b[0m \u001b[0;36m1\u001b[0m\u001b[0;34m\u001b[0m\u001b[0m\n",
      "\u001b[0;32m~/Projects/pyalcs/lcs/TypedList.py\u001b[0m in \u001b[0;36m__getitem__\u001b[0;34m(self, i)\u001b[0m\n\u001b[1;32m     40\u001b[0m         \u001b[0;32mdel\u001b[0m \u001b[0mself\u001b[0m\u001b[0;34m.\u001b[0m\u001b[0m_items\u001b[0m\u001b[0;34m[\u001b[0m\u001b[0mi\u001b[0m\u001b[0;34m]\u001b[0m\u001b[0;34m\u001b[0m\u001b[0m\n\u001b[1;32m     41\u001b[0m \u001b[0;34m\u001b[0m\u001b[0m\n\u001b[0;32m---> 42\u001b[0;31m     \u001b[0;32mdef\u001b[0m \u001b[0m__getitem__\u001b[0m\u001b[0;34m(\u001b[0m\u001b[0mself\u001b[0m\u001b[0;34m,\u001b[0m \u001b[0mi\u001b[0m\u001b[0;34m)\u001b[0m\u001b[0;34m:\u001b[0m\u001b[0;34m\u001b[0m\u001b[0m\n\u001b[0m\u001b[1;32m     43\u001b[0m         \u001b[0;32mreturn\u001b[0m \u001b[0mself\u001b[0m\u001b[0;34m.\u001b[0m\u001b[0m_items\u001b[0m\u001b[0;34m[\u001b[0m\u001b[0mi\u001b[0m\u001b[0;34m]\u001b[0m\u001b[0;34m\u001b[0m\u001b[0m\n\u001b[1;32m     44\u001b[0m \u001b[0;34m\u001b[0m\u001b[0m\n",
      "\u001b[0;31mKeyboardInterrupt\u001b[0m: "
     ]
    }
   ],
   "source": [
    "%%time\n",
    "\n",
    "TRIALS = 50_000\n",
    "population, metrics = agent.explore_exploit(rmpx, TRIALS)"
   ]
  },
  {
   "cell_type": "markdown",
   "metadata": {},
   "source": [
    "During the process the algorithm is gathering metrics. Let's inspect the last one"
   ]
  },
  {
   "cell_type": "code",
   "execution_count": 11,
   "metadata": {},
   "outputs": [
    {
     "ename": "NameError",
     "evalue": "name 'metrics' is not defined",
     "output_type": "error",
     "traceback": [
      "\u001b[0;31m---------------------------------------------------------------------------\u001b[0m",
      "\u001b[0;31mNameError\u001b[0m                                 Traceback (most recent call last)",
      "\u001b[0;32m<ipython-input-11-5faa3f77605c>\u001b[0m in \u001b[0;36m<module>\u001b[0;34m()\u001b[0m\n\u001b[0;32m----> 1\u001b[0;31m \u001b[0mmetrics\u001b[0m\u001b[0;34m[\u001b[0m\u001b[0;34m-\u001b[0m\u001b[0;36m1\u001b[0m\u001b[0;34m]\u001b[0m\u001b[0;34m\u001b[0m\u001b[0m\n\u001b[0m",
      "\u001b[0;31mNameError\u001b[0m: name 'metrics' is not defined"
     ]
    }
   ],
   "source": [
    "metrics[-1]"
   ]
  },
  {
   "cell_type": "code",
   "execution_count": null,
   "metadata": {},
   "outputs": [],
   "source": [
    "reliable = [cl for cl in population ]\n",
    "reliable = sorted(reliable, key=lambda cl: -cl.fitness)\n",
    "\n",
    "for cl in reliable[:10]:\n",
    "    print(cl.condition)\n",
    "    print(cl.effect)\n",
    "    print(cl.q, cl.r, cl.exp, cl.num)\n",
    "    print(\"\\n\")"
   ]
  },
  {
   "cell_type": "code",
   "execution_count": null,
   "metadata": {},
   "outputs": [],
   "source": [
    "def parse_metrics(metrics):\n",
    "    lst = [[d['agent']['trial'], d['performance']['reward']] for d in metrics]\n",
    "\n",
    "    df = pd.DataFrame(lst, columns=['trial', 'reward'])\n",
    "    df = df.set_index('trial')\n",
    "\n",
    "    return df\n",
    "\n",
    "df = parse_metrics(metrics)\n",
    "df['mode'] = df.index.map(lambda t: \"explore\" if t % 2 == 0 else \"exploit\")\n",
    "df.head()"
   ]
  },
  {
   "cell_type": "code",
   "execution_count": null,
   "metadata": {},
   "outputs": [],
   "source": [
    "explore_df = df[df['mode'] == 'explore']\n",
    "exploit_df = df[df['mode'] == 'exploit']"
   ]
  },
  {
   "cell_type": "code",
   "execution_count": null,
   "metadata": {},
   "outputs": [],
   "source": [
    "fig, ax = plt.subplots()\n",
    "explore_df['reward'].rolling(window=500).mean().plot(label='explore', ax=ax)\n",
    "exploit_df['reward'].rolling(window=500).mean().plot(label='exploit', ax=ax)\n",
    "\n",
    "ax.set_xlabel('Trial')\n",
    "ax.set_ylabel('Average reward')\n",
    "\n",
    "plt.legend()\n",
    "plt.show()"
   ]
  },
  {
   "cell_type": "code",
   "execution_count": null,
   "metadata": {},
   "outputs": [],
   "source": []
  }
 ],
 "metadata": {
  "kernelspec": {
   "display_name": "Python 3",
   "language": "python",
   "name": "python3"
  },
  "language_info": {
   "codemirror_mode": {
    "name": "ipython",
    "version": 3
   },
   "file_extension": ".py",
   "mimetype": "text/x-python",
   "name": "python",
   "nbconvert_exporter": "python",
   "pygments_lexer": "ipython3",
   "version": "3.7.0"
  }
 },
 "nbformat": 4,
 "nbformat_minor": 2
}
