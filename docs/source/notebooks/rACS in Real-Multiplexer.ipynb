{
 "cells": [
  {
   "cell_type": "markdown",
   "metadata": {},
   "source": [
    "# rACS in Real-Multiplexer"
   ]
  },
  {
   "cell_type": "code",
   "execution_count": 1,
   "metadata": {},
   "outputs": [],
   "source": [
    "# Logger\n",
    "import logging\n",
    "logging.basicConfig(level=logging.INFO)\n",
    "\n",
    "import numpy as np\n",
    "import pandas as pd\n",
    "import matplotlib.pyplot as plt\n",
    "\n",
    "# Import local paths\n",
    "import sys, os\n",
    "sys.path.append(os.path.abspath('../../..'))\n",
    "sys.path.append(os.path.abspath('../../../../openai-envs'))\n",
    "\n",
    "# Enable automatic module reload\n",
    "%load_ext autoreload\n",
    "%autoreload 2\n",
    "\n",
    "# Load PyALCS module\n",
    "from lcs.representations.RealValueEncoder import RealValueEncoder\n",
    "from lcs.agents.racs import RACS, Configuration\n",
    "\n",
    "# Load OpenAI environments\n",
    "import gym\n",
    "import gym_multiplexer"
   ]
  },
  {
   "cell_type": "markdown",
   "metadata": {},
   "source": [
    "## Real-Multiplexer\n",
    "In 3-bit multiplexer first bit is responsible for addressing the correct answer.\n",
    "\n",
    "> For testing purposes the last bit is used as a flag indicating if the action chosen by the algorithm was correct. The environment always introduces it with 0. It's value is changed to 1 if the action was chosen correctly."
   ]
  },
  {
   "cell_type": "code",
   "execution_count": 2,
   "metadata": {},
   "outputs": [],
   "source": [
    "# Environment initialization\n",
    "rmpx = gym.make('real-multiplexer-3bit-v0')"
   ]
  },
  {
   "cell_type": "markdown",
   "metadata": {},
   "source": [
    "rMPX acts like a normal MPX with the difference that instead on boolean values floating numbers within range `[0,1]` are used. Environment used internal threshold to transform them into boolean values (`threshold=0.5` is used as default)."
   ]
  },
  {
   "cell_type": "code",
   "execution_count": 3,
   "metadata": {},
   "outputs": [
    {
     "data": {
      "text/plain": [
       "[0.810545883280684, 0.7985883164037659, 0.7730109069834438, 0]"
      ]
     },
     "execution_count": 3,
     "metadata": {},
     "output_type": "execute_result"
    }
   ],
   "source": [
    "state = rmpx.reset()\n",
    "state"
   ]
  },
  {
   "cell_type": "markdown",
   "metadata": {},
   "source": [
    "Which corresponds to the following binary MPX:"
   ]
  },
  {
   "cell_type": "code",
   "execution_count": 4,
   "metadata": {},
   "outputs": [
    {
     "data": {
      "text/plain": [
       "[1, 1, 1, 0]"
      ]
     },
     "execution_count": 4,
     "metadata": {},
     "output_type": "execute_result"
    }
   ],
   "source": [
    "threshold = 0.5  # secret knowledge\n",
    "binary_state = map(lambda x: 1 if x > threshold else 0, state)\n",
    "\n",
    "list(binary_state)"
   ]
  },
  {
   "cell_type": "markdown",
   "metadata": {},
   "source": [
    "Depending on the MPX size we have some actions to be executed. In 3-bit variant first bit (_address bit_) points to the correct answer (two possible values)."
   ]
  },
  {
   "cell_type": "code",
   "execution_count": 5,
   "metadata": {},
   "outputs": [
    {
     "data": {
      "text/plain": [
       "2"
      ]
     },
     "execution_count": 5,
     "metadata": {},
     "output_type": "execute_result"
    }
   ],
   "source": [
    "rmpx.action_space.n"
   ]
  },
  {
   "cell_type": "markdown",
   "metadata": {},
   "source": [
    "We can also investigate the properties of a single observation (like vector dimension, lower and upper bound of each attribute)."
   ]
  },
  {
   "cell_type": "code",
   "execution_count": 6,
   "metadata": {},
   "outputs": [
    {
     "name": "stdout",
     "output_type": "stream",
     "text": [
      "Observation shape: (4,)\n",
      "Upper bounds: [0. 0. 0. 0.]\n",
      "Lower bounds: [1. 1. 1. 1.]\n"
     ]
    }
   ],
   "source": [
    "print(f\"Observation shape: {rmpx.observation_space.shape}\")\n",
    "print(f\"Upper bounds: {rmpx.observation_space.low}\")\n",
    "print(f\"Lower bounds: {rmpx.observation_space.high}\")"
   ]
  },
  {
   "cell_type": "markdown",
   "metadata": {},
   "source": [
    "## rACS\n",
    "\n",
    "- write abount _encoders_"
   ]
  },
  {
   "cell_type": "code",
   "execution_count": 7,
   "metadata": {},
   "outputs": [
    {
     "data": {
      "text/html": [
       "<div>\n",
       "<style scoped>\n",
       "    .dataframe tbody tr th:only-of-type {\n",
       "        vertical-align: middle;\n",
       "    }\n",
       "\n",
       "    .dataframe tbody tr th {\n",
       "        vertical-align: top;\n",
       "    }\n",
       "\n",
       "    .dataframe thead th {\n",
       "        text-align: right;\n",
       "    }\n",
       "</style>\n",
       "<table border=\"1\" class=\"dataframe\">\n",
       "  <thead>\n",
       "    <tr style=\"text-align: right;\">\n",
       "      <th></th>\n",
       "      <th>1-bit</th>\n",
       "      <th>2-bit</th>\n",
       "      <th>3-bit</th>\n",
       "      <th>4-bit</th>\n",
       "      <th>5-bit</th>\n",
       "      <th>6-bit</th>\n",
       "      <th>7-bit</th>\n",
       "    </tr>\n",
       "    <tr>\n",
       "      <th>Perception</th>\n",
       "      <th></th>\n",
       "      <th></th>\n",
       "      <th></th>\n",
       "      <th></th>\n",
       "      <th></th>\n",
       "      <th></th>\n",
       "      <th></th>\n",
       "    </tr>\n",
       "  </thead>\n",
       "  <tbody>\n",
       "    <tr>\n",
       "      <th>0.0</th>\n",
       "      <td>0</td>\n",
       "      <td>0</td>\n",
       "      <td>0</td>\n",
       "      <td>0</td>\n",
       "      <td>0</td>\n",
       "      <td>0</td>\n",
       "      <td>0</td>\n",
       "    </tr>\n",
       "    <tr>\n",
       "      <th>0.1</th>\n",
       "      <td>0</td>\n",
       "      <td>0</td>\n",
       "      <td>1</td>\n",
       "      <td>2</td>\n",
       "      <td>3</td>\n",
       "      <td>6</td>\n",
       "      <td>13</td>\n",
       "    </tr>\n",
       "    <tr>\n",
       "      <th>0.2</th>\n",
       "      <td>0</td>\n",
       "      <td>1</td>\n",
       "      <td>1</td>\n",
       "      <td>3</td>\n",
       "      <td>6</td>\n",
       "      <td>13</td>\n",
       "      <td>25</td>\n",
       "    </tr>\n",
       "    <tr>\n",
       "      <th>0.3</th>\n",
       "      <td>0</td>\n",
       "      <td>1</td>\n",
       "      <td>2</td>\n",
       "      <td>5</td>\n",
       "      <td>9</td>\n",
       "      <td>19</td>\n",
       "      <td>38</td>\n",
       "    </tr>\n",
       "    <tr>\n",
       "      <th>0.4</th>\n",
       "      <td>0</td>\n",
       "      <td>1</td>\n",
       "      <td>3</td>\n",
       "      <td>6</td>\n",
       "      <td>12</td>\n",
       "      <td>25</td>\n",
       "      <td>51</td>\n",
       "    </tr>\n",
       "    <tr>\n",
       "      <th>0.5</th>\n",
       "      <td>0</td>\n",
       "      <td>2</td>\n",
       "      <td>4</td>\n",
       "      <td>8</td>\n",
       "      <td>16</td>\n",
       "      <td>32</td>\n",
       "      <td>64</td>\n",
       "    </tr>\n",
       "    <tr>\n",
       "      <th>0.6</th>\n",
       "      <td>1</td>\n",
       "      <td>2</td>\n",
       "      <td>4</td>\n",
       "      <td>9</td>\n",
       "      <td>19</td>\n",
       "      <td>38</td>\n",
       "      <td>76</td>\n",
       "    </tr>\n",
       "    <tr>\n",
       "      <th>0.7</th>\n",
       "      <td>1</td>\n",
       "      <td>2</td>\n",
       "      <td>5</td>\n",
       "      <td>11</td>\n",
       "      <td>22</td>\n",
       "      <td>44</td>\n",
       "      <td>89</td>\n",
       "    </tr>\n",
       "    <tr>\n",
       "      <th>0.8</th>\n",
       "      <td>1</td>\n",
       "      <td>2</td>\n",
       "      <td>6</td>\n",
       "      <td>12</td>\n",
       "      <td>25</td>\n",
       "      <td>50</td>\n",
       "      <td>102</td>\n",
       "    </tr>\n",
       "    <tr>\n",
       "      <th>0.9</th>\n",
       "      <td>1</td>\n",
       "      <td>3</td>\n",
       "      <td>6</td>\n",
       "      <td>14</td>\n",
       "      <td>28</td>\n",
       "      <td>57</td>\n",
       "      <td>114</td>\n",
       "    </tr>\n",
       "    <tr>\n",
       "      <th>1.0</th>\n",
       "      <td>1</td>\n",
       "      <td>3</td>\n",
       "      <td>7</td>\n",
       "      <td>15</td>\n",
       "      <td>31</td>\n",
       "      <td>63</td>\n",
       "      <td>127</td>\n",
       "    </tr>\n",
       "  </tbody>\n",
       "</table>\n",
       "</div>"
      ],
      "text/plain": [
       "            1-bit  2-bit  3-bit  4-bit  5-bit  6-bit  7-bit\n",
       "Perception                                                 \n",
       "0.0             0      0      0      0      0      0      0\n",
       "0.1             0      0      1      2      3      6     13\n",
       "0.2             0      1      1      3      6     13     25\n",
       "0.3             0      1      2      5      9     19     38\n",
       "0.4             0      1      3      6     12     25     51\n",
       "0.5             0      2      4      8     16     32     64\n",
       "0.6             1      2      4      9     19     38     76\n",
       "0.7             1      2      5     11     22     44     89\n",
       "0.8             1      2      6     12     25     50    102\n",
       "0.9             1      3      6     14     28     57    114\n",
       "1.0             1      3      7     15     31     63    127"
      ]
     },
     "execution_count": 7,
     "metadata": {},
     "output_type": "execute_result"
    }
   ],
   "source": [
    "def encode(bits, val):\n",
    "    return int(RealValueEncoder(bits).encode(val))\n",
    "\n",
    "r = np.arange(0, 1.1, .1)\n",
    "\n",
    "df = pd.DataFrame(r, columns=['Perception'])\n",
    "\n",
    "for bit in [1, 2, 3, 4, 5, 6, 7]:\n",
    "    df[f'{bit}-bit'] = df.apply(lambda row: encode(bit, row['Perception']), axis=1)\n",
    "\n",
    "df.set_index('Perception', inplace=True)\n",
    "df"
   ]
  },
  {
   "cell_type": "markdown",
   "metadata": {},
   "source": [
    "## Experiment\n",
    "In the experiment each attribute range will be represented as an _unorded bounded tuple_ with desired encoding resolution."
   ]
  },
  {
   "cell_type": "code",
   "execution_count": 8,
   "metadata": {},
   "outputs": [],
   "source": [
    "# We will use 6bit rmpx\n",
    "rmpx = gym.make('real-multiplexer-6bit-v0')\n",
    "\n",
    "ENCODER_BITS = 6\n",
    "\n",
    "cfg = Configuration(rmpx.observation_space.shape[0], rmpx.action_space.n,\n",
    "                    encoder=RealValueEncoder(ENCODER_BITS),\n",
    "                    epsilon=1.0,  # exploration-exploitation ratio\n",
    "                    do_ga=True,\n",
    "                    theta_r=0.9,  # reliablity threshold\n",
    "                    theta_i=0.2,  # inadequacy threshold\n",
    "                    theta_ga=100,\n",
    "                    chi=0.5,  # cross-over probability\n",
    "                    mu=0.15)  # mutation probability"
   ]
  },
  {
   "cell_type": "markdown",
   "metadata": {},
   "source": [
    "Initialize agent with no initial classifiers using configuration above."
   ]
  },
  {
   "cell_type": "code",
   "execution_count": 9,
   "metadata": {},
   "outputs": [],
   "source": [
    "agent = RACS(cfg)"
   ]
  },
  {
   "cell_type": "markdown",
   "metadata": {},
   "source": [
    "Perform exploration for some trials"
   ]
  },
  {
   "cell_type": "code",
   "execution_count": 10,
   "metadata": {},
   "outputs": [
    {
     "name": "stderr",
     "output_type": "stream",
     "text": [
      "INFO:lcs.agents.racs.RACS:{'agent': {'population': 1, 'numerosity': 1, 'reliable': 0, 'fitness': 25.0, 'cover_ratio': 0.8684807256235828, 'region_1': 0.0, 'region_2': 0.14285714285714285, 'region_3': 0.0, 'region_4': 0.8571428571428571, 'trial': 0, 'steps': 1, 'total_steps': 1}, 'environment': None, 'performance': {'reward': 1000}}\n",
      "INFO:lcs.agents.racs.RACS:{'agent': {'population': 1721, 'numerosity': 1781, 'reliable': 0, 'fitness': 224.98659832406457, 'cover_ratio': 0.7000636396336531, 'region_1': 0.19589939404000997, 'region_2': 0.10849174068232754, 'region_3': 0.0020752054453390886, 'region_4': 0.6935336598323234, 'trial': 1000, 'steps': 1, 'total_steps': 1001}, 'environment': None, 'performance': {'reward': 0}}\n",
      "INFO:lcs.agents.racs.RACS:{'agent': {'population': 3181, 'numerosity': 3350, 'reliable': 0, 'fitness': 227.49091438171743, 'cover_ratio': 0.6613694833482255, 'region_1': 0.2430951632460592, 'region_2': 0.10131584856514124, 'region_3': 0.002110746845107109, 'region_4': 0.6534782413436925, 'trial': 2000, 'steps': 1, 'total_steps': 2001}, 'environment': None, 'performance': {'reward': 0}}\n",
      "INFO:lcs.agents.racs.RACS:{'agent': {'population': 4480, 'numerosity': 4772, 'reliable': 0, 'fitness': 232.40725188670154, 'cover_ratio': 0.6456480806608482, 'region_1': 0.2627551020408163, 'region_2': 0.09802295918367347, 'region_3': 0.0029017857142857144, 'region_4': 0.6363201530612245, 'trial': 3000, 'steps': 1, 'total_steps': 3001}, 'environment': None, 'performance': {'reward': 1000}}\n",
      "INFO:lcs.agents.racs.RACS:{'agent': {'population': 5707, 'numerosity': 6108, 'reliable': 0, 'fitness': 232.9507647760933, 'cover_ratio': 0.6367038609147355, 'region_1': 0.27444992365265714, 'region_2': 0.09452051365491002, 'region_3': 0.004055170342186287, 'region_4': 0.6269743923502465, 'trial': 4000, 'steps': 1, 'total_steps': 4001}, 'environment': None, 'performance': {'reward': 0}}\n",
      "INFO:lcs.agents.racs.RACS:{'agent': {'population': 6866, 'numerosity': 7437, 'reliable': 0, 'fitness': 234.64133415443789, 'cover_ratio': 0.6335606191209384, 'region_1': 0.2775789605093421, 'region_2': 0.09402438516915651, 'region_3': 0.004743872498023386, 'region_4': 0.623652781823478, 'trial': 5000, 'steps': 1, 'total_steps': 5001}, 'environment': None, 'performance': {'reward': 1000}}\n",
      "INFO:lcs.agents.racs.RACS:{'agent': {'population': 7824, 'numerosity': 8495, 'reliable': 0, 'fitness': 232.81751664466566, 'cover_ratio': 0.6316030331696348, 'region_1': 0.2825555068653228, 'region_2': 0.0913672217353199, 'region_3': 0.004637744668419515, 'region_4': 0.6214395267309377, 'trial': 6000, 'steps': 1, 'total_steps': 6001}, 'environment': None, 'performance': {'reward': 1000}}\n",
      "INFO:lcs.agents.racs.RACS:{'agent': {'population': 8690, 'numerosity': 9484, 'reliable': 0, 'fitness': 229.67439906629542, 'cover_ratio': 0.6301929133755425, 'region_1': 0.28602663159625186, 'region_2': 0.0900871280618116, 'region_3': 0.00450435640309058, 'region_4': 0.619381883938846, 'trial': 7000, 'steps': 1, 'total_steps': 7001}, 'environment': None, 'performance': {'reward': 1000}}\n",
      "INFO:lcs.agents.racs.RACS:{'agent': {'population': 9713, 'numerosity': 10675, 'reliable': 0, 'fitness': 229.1044587630716, 'cover_ratio': 0.6290431063121387, 'region_1': 0.2889058846023738, 'region_2': 0.08818814254827845, 'region_3': 0.004897707049462429, 'region_4': 0.6180082657998853, 'trial': 8000, 'steps': 1, 'total_steps': 8001}, 'environment': None, 'performance': {'reward': 0}}\n",
      "INFO:lcs.agents.racs.RACS:{'agent': {'population': 10733, 'numerosity': 11872, 'reliable': 0, 'fitness': 229.9086428296791, 'cover_ratio': 0.6259285104768192, 'region_1': 0.29135776177609773, 'region_2': 0.08909770933436265, 'region_3': 0.004951351639136974, 'region_4': 0.6145931772504026, 'trial': 9000, 'steps': 1, 'total_steps': 9001}, 'environment': None, 'performance': {'reward': 1000}}\n",
      "INFO:lcs.agents.racs.RACS:{'agent': {'population': 11638, 'numerosity': 12925, 'reliable': 0, 'fitness': 230.54279721773855, 'cover_ratio': 0.6237339639985993, 'region_1': 0.29523973191269975, 'region_2': 0.08775440060884296, 'region_3': 0.004811823337343186, 'region_4': 0.6121940441411141, 'trial': 10000, 'steps': 1, 'total_steps': 10001}, 'environment': None, 'performance': {'reward': 1000}}\n",
      "INFO:lcs.agents.racs.RACS:{'agent': {'population': 12509, 'numerosity': 13935, 'reliable': 0, 'fitness': 231.01262700770653, 'cover_ratio': 0.622340486278431, 'region_1': 0.29706611239907266, 'region_2': 0.08775396000593857, 'region_3': 0.004728024393864988, 'region_4': 0.6104519032011237, 'trial': 11000, 'steps': 1, 'total_steps': 11001}, 'environment': None, 'performance': {'reward': 0}}\n",
      "INFO:lcs.agents.racs.RACS:{'agent': {'population': 13302, 'numerosity': 14887, 'reliable': 0, 'fitness': 231.84017977158385, 'cover_ratio': 0.6202209546174823, 'region_1': 0.2985265373628026, 'region_2': 0.08850441394419743, 'region_3': 0.004897222759198402, 'region_4': 0.6080718259338016, 'trial': 12000, 'steps': 1, 'total_steps': 12001}, 'environment': None, 'performance': {'reward': 1000}}\n",
      "INFO:lcs.agents.racs.RACS:{'agent': {'population': 14193, 'numerosity': 15903, 'reliable': 0, 'fitness': 232.19237722810004, 'cover_ratio': 0.6192212858275425, 'region_1': 0.30006743767048144, 'region_2': 0.08790047407675816, 'region_3': 0.005032661976225705, 'region_4': 0.6069994262765347, 'trial': 13000, 'steps': 1, 'total_steps': 13001}, 'environment': None, 'performance': {'reward': 0}}\n",
      "INFO:lcs.agents.racs.RACS:{'agent': {'population': 15119, 'numerosity': 17012, 'reliable': 0, 'fitness': 232.97264388753044, 'cover_ratio': 0.6169741217032518, 'region_1': 0.3025332363251538, 'region_2': 0.08801602524732362, 'region_3': 0.0049606455453403, 'region_4': 0.6044900928821824, 'trial': 14000, 'steps': 1, 'total_steps': 14001}, 'environment': None, 'performance': {'reward': 1000}}\n",
      "INFO:lcs.agents.racs.RACS:{'agent': {'population': 15960, 'numerosity': 17981, 'reliable': 0, 'fitness': 234.67609173956015, 'cover_ratio': 0.6146380690956242, 'region_1': 0.30533476548514144, 'region_2': 0.08752237737200143, 'region_3': 0.005424274973147154, 'region_4': 0.60171858216971, 'trial': 15000, 'steps': 1, 'total_steps': 15001}, 'environment': None, 'performance': {'reward': 0}}\n",
      "INFO:lcs.agents.racs.RACS:{'agent': {'population': 16805, 'numerosity': 19039, 'reliable': 0, 'fitness': 234.53921427980416, 'cover_ratio': 0.6135775107424549, 'region_1': 0.30700046754792365, 'region_2': 0.08661537807625282, 'region_3': 0.0060611212649296555, 'region_4': 0.6003230331108939, 'trial': 16000, 'steps': 1, 'total_steps': 16001}, 'environment': None, 'performance': {'reward': 1000}}\n",
      "INFO:lcs.agents.racs.RACS:{'agent': {'population': 17503, 'numerosity': 19925, 'reliable': 0, 'fitness': 235.05010868608488, 'cover_ratio': 0.6122542258061762, 'region_1': 0.3088042049934297, 'region_2': 0.08661372336170942, 'region_3': 0.005933676675835163, 'region_4': 0.5986483949690257, 'trial': 17000, 'steps': 1, 'total_steps': 17001}, 'environment': None, 'performance': {'reward': 0}}\n",
      "INFO:lcs.agents.racs.RACS:{'agent': {'population': 18191, 'numerosity': 20714, 'reliable': 0, 'fitness': 235.4713234976722, 'cover_ratio': 0.6105993457430876, 'region_1': 0.31171615477041237, 'region_2': 0.08616505807424393, 'region_3': 0.005536489786943308, 'region_4': 0.5965822973684004, 'trial': 18000, 'steps': 1, 'total_steps': 18001}, 'environment': None, 'performance': {'reward': 1000}}\n",
      "INFO:lcs.agents.racs.RACS:{'agent': {'population': 18922, 'numerosity': 21594, 'reliable': 0, 'fitness': 235.5699626960682, 'cover_ratio': 0.6083988187812788, 'region_1': 0.31553595965391756, 'region_2': 0.08528243767647636, 'region_3': 0.004862065320790614, 'region_4': 0.5943195373488155, 'trial': 19000, 'steps': 1, 'total_steps': 19001}, 'environment': None, 'performance': {'reward': 0}}\n"
     ]
    },
    {
     "name": "stdout",
     "output_type": "stream",
     "text": [
      "CPU times: user 6h 54min 6s, sys: 1min 15s, total: 6h 55min 22s\n",
      "Wall time: 7h 1min 1s\n"
     ]
    }
   ],
   "source": [
    "%%time\n",
    "\n",
    "TRIALS = 20_000\n",
    "population, metrics = agent.explore_exploit(rmpx, TRIALS)"
   ]
  },
  {
   "cell_type": "markdown",
   "metadata": {},
   "source": [
    "During the process the algorithm is gathering metrics. Let's inspect the last one"
   ]
  },
  {
   "cell_type": "code",
   "execution_count": 11,
   "metadata": {},
   "outputs": [
    {
     "data": {
      "text/plain": [
       "{'agent': {'population': 19771,\n",
       "  'numerosity': 22553,\n",
       "  'reliable': 0,\n",
       "  'fitness': 237.04223516935033,\n",
       "  'cover_ratio': 0.6075300283483859,\n",
       "  'region_1': 0.31703721901486304,\n",
       "  'region_2': 0.08495848898458781,\n",
       "  'region_3': 0.0047544383187496835,\n",
       "  'region_4': 0.5932498536817995,\n",
       "  'trial': 19999,\n",
       "  'steps': 1,\n",
       "  'total_steps': 20000},\n",
       " 'environment': None,\n",
       " 'performance': {'reward': 0}}"
      ]
     },
     "execution_count": 11,
     "metadata": {},
     "output_type": "execute_result"
    }
   ],
   "source": [
    "metrics[-1]"
   ]
  },
  {
   "cell_type": "code",
   "execution_count": 18,
   "metadata": {},
   "outputs": [
    {
     "name": "stdout",
     "output_type": "stream",
     "text": [
      "OOOOOOOOOOO|OOOOOOOOOOO|OOOOOOOOOOO|...OO.....|OOOOOOOOOOO|...OO.....|.OO.......\n",
      "OOOOOOOOOOO|OOOOOOOOOOO|OOOOOOOOOOO|OOOOOOOOOOO|OOOOOOOOOOO|OOOOOOOOOOO|........OOO\n",
      "0.7561625104422353 806.8064574483574 15 5\n",
      "\n",
      "\n",
      "OOOOOOOOOOO|OOOOOOOOOOO|OOOOOOOOOOO|OOOOOOOOOOO|........OO|OOOOOOOOOOO|.O........\n",
      "OOOOOOOOOOO|OOOOOOOOOOO|OOOOOOOOOOO|OOOOOOOOOOO|OOOOOOOOOOO|OOOOOOOOOOO|.........OO\n",
      "0.7155999538617702 834.2925862355269 12 8\n",
      "\n",
      "\n",
      "..O.......|OOOOOOOOOOO|OOOOOOOOOOO|OOO.......|OOOOOOOOOOO|OOOOOOOOOOO|OO........\n",
      "OOOOOOOOOOO|OOOOOOOOOOO|OOOOOOOOOOO|OOOOOOOOOOO|OOOOOOOOOOO|OOOOOOOOOOO|..........O\n",
      "0.7154371979422351 825.2361311751746 5 1\n",
      "\n",
      "\n",
      "OOOOOOOOOOO|OOOOOOOOOOO|..O.......|OOOOOOOOOOO|OOOOOOOOOOO|..OOO.....|O.........\n",
      "OOOOOOOOOOO|OOOOOOOOOOO|OOOOOOOOOOO|OOOOOOOOOOO|OOOOOOOOOOO|OOOOOOOOOOO|.........OO\n",
      "0.7541852378591615 775.3819532241926 7 2\n",
      "\n",
      "\n",
      "OOOOOOOOOOO|......OOO.|OOOOOOOOOOO|OOOOOOOOOOO|OOOOOOOOOOO|OO........|OO........\n",
      "OOOOOOOOOOO|OOOOOOOOOOO|OOOOOOOOOOO|OOOOOOOOOOO|OOOOOOOOOOO|OOOOOOOOOOO|..........O\n",
      "0.7714158913771108 729.7987927448627 10 3\n",
      "\n",
      "\n",
      ".....O....|..OOOOO...|OOOOOOOOOOO|OOOOOOOOOOO|......O...|OOOOOOOOOOO|OO........\n",
      "OOOOOOOOOOO|OOOOOOOOOOO|OOOOOOOOOOO|OOOOOOOOOOO|OOOOOOOOOOO|OOOOOOOOOOO|..........O\n",
      "0.630336308818746 882.213580758412 1 1\n",
      "\n",
      "\n",
      "OOOOOOOOOOO|OOOOOOOOOOO|OOOOOOOOOOO|.......O..|......OO..|OOOOOOOOOOO|OO........\n",
      "OOOOOOOOOOO|OOOOOOOOOOO|OOOOOOOOOOO|OOOOOOOOOOO|OOOOOOOOOOO|OOOOOOOOOOO|.........OO\n",
      "0.733437520115436 757.772357593569 8 5\n",
      "\n",
      "\n",
      "OOOOOOOOOOO|OOOOOOOOOOO|OOOOOOOOOOO|OO........|...O......|OOOOOOOOOOO|OO........\n",
      "OOOOOOOOOOO|OOOOOOOOOOO|OOOOOOOOOOO|OOOOOOOOOOO|OOOOOOOOOOO|OOOOOOOOOOO|..........O\n",
      "0.7177987782708909 774.1262808699963 4 1\n",
      "\n",
      "\n",
      "OOOOOOOOOOO|OOO.......|OOOOOOOOOOO|OOOOOOOOOOO|....OO....|OOOOOOOOOOO|.O........\n",
      "OOOOOOOOOOO|OOOOOOOOOOO|OOOOOOOOOOO|OOOOOOOOOOO|OOOOOOOOOOO|OOOOOOOOOOO|..........O\n",
      "0.6926872807561483 796.2264218891269 13 2\n",
      "\n",
      "\n",
      ".....O....|.OO.......|OOOOOOOOOOO|OOOOOOOOOOO|........OO|OOOOOOOOOOO|OO........\n",
      "OOOOOOOOOOO|OOOOOOOOOOO|OOOOOOOOOOO|OOOOOOOOOOO|OOOOOOOOOOO|OOOOOOOOOOO|..........O\n",
      "0.6324540546875002 867.9197511200528 7 4\n",
      "\n",
      "\n"
     ]
    }
   ],
   "source": [
    "reliable = [cl for cl in population ]\n",
    "reliable = sorted(reliable, key=lambda cl: -cl.fitness)\n",
    "\n",
    "for cl in reliable[:10]:\n",
    "    print(cl.condition)\n",
    "    print(cl.effect)\n",
    "    print(cl.q, cl.r, cl.exp, cl.num)\n",
    "    print(\"\\n\")"
   ]
  },
  {
   "cell_type": "code",
   "execution_count": 13,
   "metadata": {},
   "outputs": [
    {
     "data": {
      "text/html": [
       "<div>\n",
       "<style scoped>\n",
       "    .dataframe tbody tr th:only-of-type {\n",
       "        vertical-align: middle;\n",
       "    }\n",
       "\n",
       "    .dataframe tbody tr th {\n",
       "        vertical-align: top;\n",
       "    }\n",
       "\n",
       "    .dataframe thead th {\n",
       "        text-align: right;\n",
       "    }\n",
       "</style>\n",
       "<table border=\"1\" class=\"dataframe\">\n",
       "  <thead>\n",
       "    <tr style=\"text-align: right;\">\n",
       "      <th></th>\n",
       "      <th>reward</th>\n",
       "      <th>mode</th>\n",
       "    </tr>\n",
       "    <tr>\n",
       "      <th>trial</th>\n",
       "      <th></th>\n",
       "      <th></th>\n",
       "    </tr>\n",
       "  </thead>\n",
       "  <tbody>\n",
       "    <tr>\n",
       "      <th>0</th>\n",
       "      <td>1000</td>\n",
       "      <td>explore</td>\n",
       "    </tr>\n",
       "    <tr>\n",
       "      <th>1</th>\n",
       "      <td>0</td>\n",
       "      <td>exploit</td>\n",
       "    </tr>\n",
       "    <tr>\n",
       "      <th>2</th>\n",
       "      <td>0</td>\n",
       "      <td>explore</td>\n",
       "    </tr>\n",
       "    <tr>\n",
       "      <th>3</th>\n",
       "      <td>0</td>\n",
       "      <td>exploit</td>\n",
       "    </tr>\n",
       "    <tr>\n",
       "      <th>4</th>\n",
       "      <td>0</td>\n",
       "      <td>explore</td>\n",
       "    </tr>\n",
       "  </tbody>\n",
       "</table>\n",
       "</div>"
      ],
      "text/plain": [
       "       reward     mode\n",
       "trial                 \n",
       "0        1000  explore\n",
       "1           0  exploit\n",
       "2           0  explore\n",
       "3           0  exploit\n",
       "4           0  explore"
      ]
     },
     "execution_count": 13,
     "metadata": {},
     "output_type": "execute_result"
    }
   ],
   "source": [
    "def parse_metrics(metrics):\n",
    "    lst = [[d['agent']['trial'], d['performance']['reward']] for d in metrics]\n",
    "\n",
    "    df = pd.DataFrame(lst, columns=['trial', 'reward'])\n",
    "    df = df.set_index('trial')\n",
    "\n",
    "    return df\n",
    "\n",
    "df = parse_metrics(metrics)\n",
    "df['mode'] = df.index.map(lambda t: \"explore\" if t % 2 == 0 else \"exploit\")\n",
    "df.head()"
   ]
  },
  {
   "cell_type": "code",
   "execution_count": 14,
   "metadata": {},
   "outputs": [],
   "source": [
    "explore_df = df[df['mode'] == 'explore']\n",
    "exploit_df = df[df['mode'] == 'exploit']"
   ]
  },
  {
   "cell_type": "code",
   "execution_count": 20,
   "metadata": {},
   "outputs": [
    {
     "data": {
      "image/png": "[encoded data removed]",
      "text/plain": [
       "<Figure size 432x288 with 1 Axes>"
      ]
     },
     "metadata": {},
     "output_type": "display_data"
    }
   ],
   "source": [
    "fig, ax = plt.subplots()\n",
    "explore_df['reward'].rolling(window=500).mean().plot(label='explore', ax=ax)\n",
    "exploit_df['reward'].rolling(window=500).mean().plot(label='exploit', ax=ax)\n",
    "\n",
    "ax.set_xlabel('Trial')\n",
    "ax.set_ylabel('Average reward')\n",
    "\n",
    "plt.legend()\n",
    "plt.show()"
   ]
  },
  {
   "cell_type": "code",
   "execution_count": null,
   "metadata": {},
   "outputs": [],
   "source": []
  }
 ],
 "metadata": {
  "kernelspec": {
   "display_name": "Python 3",
   "language": "python",
   "name": "python3"
  },
  "language_info": {
   "codemirror_mode": {
    "name": "ipython",
    "version": 3
   },
   "file_extension": ".py",
   "mimetype": "text/x-python",
   "name": "python",
   "nbconvert_exporter": "python",
   "pygments_lexer": "ipython3",
   "version": "3.7.0"
  }
 },
 "nbformat": 4,
 "nbformat_minor": 2
}
