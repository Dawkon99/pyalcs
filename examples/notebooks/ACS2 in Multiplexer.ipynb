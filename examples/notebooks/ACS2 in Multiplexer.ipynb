{
 "cells": [
  {
   "cell_type": "markdown",
   "metadata": {},
   "source": [
    "# ACS2 in Multiplexer"
   ]
  },
  {
   "cell_type": "code",
   "execution_count": 1,
   "metadata": {},
   "outputs": [],
   "source": [
    "%matplotlib inline\n",
    "\n",
    "# General\n",
    "from __future__ import unicode_literals\n",
    "\n",
    "import numpy as np\n",
    "import pandas as pd\n",
    "import matplotlib.pyplot as plt\n",
    "\n",
    "# Logger\n",
    "import logging\n",
    "logging.basicConfig(level=logging.WARN)\n",
    "\n",
    "# ALCS + Maze environment\n",
    "import sys\n",
    "sys.path.append('/Users/khozzy/Projects/pyalcs')\n",
    "sys.path.append(\"/Users/khozzy/Projects/openai-maze-envs\")\n",
    "\n",
    "# Enable automatic module reload\n",
    "%load_ext autoreload\n",
    "%autoreload 2\n",
    "\n",
    "# Load PyALCS module\n",
    "from alcs import ACS2, ACS2Configuration\n",
    "\n",
    "# Load environments\n",
    "import gym\n",
    "import gym_multiplexer"
   ]
  },
  {
   "cell_type": "markdown",
   "metadata": {},
   "source": [
    "## Multiplexer"
   ]
  },
  {
   "cell_type": "code",
   "execution_count": 2,
   "metadata": {},
   "outputs": [
    {
     "data": {
      "text/plain": [
       "'0101100'"
      ]
     },
     "execution_count": 2,
     "metadata": {},
     "output_type": "execute_result"
    }
   ],
   "source": [
    "mp = gym.make('boolean-multiplexer-6bit-v0')\n",
    "situation = mp.reset()\n",
    "mp.render()"
   ]
  },
  {
   "cell_type": "code",
   "execution_count": 3,
   "metadata": {},
   "outputs": [
    {
     "name": "stdout",
     "output_type": "stream",
     "text": [
      "New state: 0101100, reward: 0, is done: True\n"
     ]
    }
   ],
   "source": [
    "state, reward, done, _ = mp.step(0)\n",
    "\n",
    "print(\"New state: {}, reward: {}, is done: {}\".format(state, reward, done))"
   ]
  },
  {
   "cell_type": "code",
   "execution_count": 4,
   "metadata": {},
   "outputs": [
    {
     "data": {
      "text/plain": [
       "'0101100'"
      ]
     },
     "execution_count": 4,
     "metadata": {},
     "output_type": "execute_result"
    }
   ],
   "source": [
    "mp.render()"
   ]
  },
  {
   "cell_type": "markdown",
   "metadata": {},
   "source": [
    "### Evaluation\n",
    "Calculate knowledge - analyze all **reliable** classifiers and see what percentage of them makes proper classification"
   ]
  },
  {
   "cell_type": "code",
   "execution_count": 5,
   "metadata": {},
   "outputs": [],
   "source": [
    "from gym_multiplexer.utils import get_correct_answer\n",
    "\n",
    "def calculate_knowledge(env, population, ctrl_bits):\n",
    "    p1 = env.render()  # state after executing action\n",
    "    p0 = p1[:-1] + '0'  # initial state\n",
    "    correct_answer = get_correct_answer(p0, ctrl_bits)  # true action\n",
    "    \n",
    "    reliable_classifiers = [c for c in population if c.is_reliable() and c.condition.does_match(p0)]\n",
    "    nr_correct = sum([1 for cl in reliable_classifiers if cl.predicts_successfully(p0, correct_answer, p1)])\n",
    "    \n",
    "    return nr_correct / len(reliable_classifiers) * 100.0"
   ]
  },
  {
   "cell_type": "markdown",
   "metadata": {},
   "source": [
    "## Go agent, go..."
   ]
  },
  {
   "cell_type": "code",
   "execution_count": 11,
   "metadata": {},
   "outputs": [],
   "source": [
    "cfg = ACS2Configuration(mp.env.observation_space.n, 2, do_ga=True)\n",
    "agent = ACS2(cfg)\n",
    "\n",
    "population, metrics = agent.explore(mp, 10000)"
   ]
  },
  {
   "cell_type": "code",
   "execution_count": 13,
   "metadata": {},
   "outputs": [
    {
     "name": "stdout",
     "output_type": "stream",
     "text": [
      "Population size: 454\n",
      "Reliable size: 297\n",
      "Knowledge: 0.00%\n",
      "{'agent': {'population': 454, 'numerosity': 454, 'reliable': 297, 'fitness': 454.34897965995276, 'trial': 9999, 'steps': 1, 'total_steps': 10000}, 'environment': None}\n"
     ]
    }
   ],
   "source": [
    "print(\"Population size: {}\".format(metrics[-1]['agent']['population']))\n",
    "print(\"Reliable size: {}\".format(metrics[-1]['agent']['reliable']))\n",
    "print(\"Knowledge: {:.2f}%\".format(calculate_knowledge(mp, population, 2)))\n",
    "print(metrics[-1])"
   ]
  },
  {
   "cell_type": "code",
   "execution_count": 14,
   "metadata": {},
   "outputs": [
    {
     "name": "stdout",
     "output_type": "stream",
     "text": [
      "01#0000-0-######1 @ 0x113c79cc0, q: 1.00, r: 999.98\n",
      "01100#0-0-######1 @ 0x113cb37b8, q: 1.00, r: 999.99\n",
      "0110###-1-####### @ 0x113d666d8, q: 1.00, r: 0.11\n",
      "0110###-1-####### @ 0x113d66cc0, q: 1.00, r: 0.19\n",
      "01#00##-0-######1 @ 0x113d66160, q: 1.00, r: 1000.00\n",
      "#1#0#0#-1-####### @ 0x113cb3f98, q: 1.00, r: 0.00\n",
      "#1#0#0#-0-######1 @ 0x113c0d908, q: 1.00, r: 1000.00\n",
      "01#0###-1-####### @ 0x113c79e48, q: 1.00, r: 0.00\n",
      "01#0###-1-####### @ 0x113d66d68, q: 1.00, r: 0.02\n",
      "#1#000#-0-######1 @ 0x113c0d710, q: 1.00, r: 1000.00\n",
      "01#0###-1-####### @ 0x113d66550, q: 1.00, r: 0.00\n",
      "01#0#00-0-######1 @ 0x113ce7630, q: 1.00, r: 1000.00\n",
      "01#0###-0-######1 @ 0x113d66278, q: 1.00, r: 1000.00\n",
      "01#0###-1-####### @ 0x113d24d30, q: 0.99, r: 0.02\n",
      "01#0#0#-1-####### @ 0x1136a5f28, q: 0.95, r: 0.87\n",
      "0110##0-0-######1 @ 0x113ce7b70, q: 1.00, r: 993.84\n",
      "01#0###-1-####### @ 0x113cb3208, q: 0.98, r: 0.02\n",
      "#1#0#0#-0-######1 @ 0x113c0d470, q: 1.00, r: 1000.00\n",
      "01#00##-0-######1 @ 0x113cb3dd8, q: 0.97, r: 1000.00\n",
      "01#0###-1-####### @ 0x113cb3cc0, q: 0.95, r: 0.02\n",
      "#1#0#0#-0-######1 @ 0x113cb35c0, q: 0.95, r: 1000.00\n",
      "01#0###-0-######1 @ 0x113d66e48, q: 0.95, r: 1000.00\n"
     ]
    }
   ],
   "source": [
    "p1 = mp.render()\n",
    "p0 = p1[:-1] + '0'\n",
    "correct_answer = get_correct_answer(p0, 2)\n",
    "\n",
    "reliable_classifiers = [c for c in population if c.is_reliable() and c.condition.does_match(p0)]\n",
    "for cl in reliable_classifiers:\n",
    "    print(\"{}, q: {:.2f}, r: {:.2f}\".format(cl, cl.q, cl.r))"
   ]
  },
  {
   "cell_type": "code",
   "execution_count": 9,
   "metadata": {},
   "outputs": [
    {
     "name": "stdout",
     "output_type": "stream",
     "text": [
      "p0: 0000110\n",
      "p1: 0000111\n",
      "correct: 0\n"
     ]
    }
   ],
   "source": [
    "print(\"p0: {}\".format(p0))\n",
    "print(\"p1: {}\".format(p1))\n",
    "print(\"correct: {}\".format(correct_answer))"
   ]
  },
  {
   "cell_type": "code",
   "execution_count": 10,
   "metadata": {},
   "outputs": [
    {
     "ename": "NameError",
     "evalue": "name 'c' is not defined",
     "output_type": "error",
     "traceback": [
      "\u001b[0;31m---------------------------------------------------------------------------\u001b[0m",
      "\u001b[0;31mNameError\u001b[0m                                 Traceback (most recent call last)",
      "\u001b[0;32m<ipython-input-10-513d40c85067>\u001b[0m in \u001b[0;36m<module>\u001b[0;34m()\u001b[0m\n\u001b[0;32m----> 1\u001b[0;31m \u001b[0mnr_correct\u001b[0m \u001b[0;34m=\u001b[0m \u001b[0msum\u001b[0m\u001b[0;34m(\u001b[0m\u001b[0;34m[\u001b[0m\u001b[0;36m1\u001b[0m \u001b[0;32mfor\u001b[0m \u001b[0mcl\u001b[0m \u001b[0;32min\u001b[0m \u001b[0mreliable_classifiers\u001b[0m \u001b[0;32mif\u001b[0m \u001b[0mcl\u001b[0m\u001b[0;34m.\u001b[0m\u001b[0mpredicts_successfully\u001b[0m\u001b[0;34m(\u001b[0m\u001b[0mp0\u001b[0m\u001b[0;34m,\u001b[0m \u001b[0mcorrect_answer\u001b[0m\u001b[0;34m,\u001b[0m \u001b[0mp1\u001b[0m\u001b[0;34m)\u001b[0m \u001b[0;32mand\u001b[0m \u001b[0mc\u001b[0m\u001b[0;34m.\u001b[0m\u001b[0mcondition\u001b[0m\u001b[0;34m.\u001b[0m\u001b[0mdoes_match\u001b[0m\u001b[0;34m(\u001b[0m\u001b[0mp0\u001b[0m\u001b[0;34m)\u001b[0m\u001b[0;34m]\u001b[0m\u001b[0;34m)\u001b[0m\u001b[0;34m\u001b[0m\u001b[0m\n\u001b[0m\u001b[1;32m      2\u001b[0m \u001b[0mnr_correct\u001b[0m\u001b[0;34m\u001b[0m\u001b[0m\n",
      "\u001b[0;32m<ipython-input-10-513d40c85067>\u001b[0m in \u001b[0;36m<listcomp>\u001b[0;34m(.0)\u001b[0m\n\u001b[0;32m----> 1\u001b[0;31m \u001b[0mnr_correct\u001b[0m \u001b[0;34m=\u001b[0m \u001b[0msum\u001b[0m\u001b[0;34m(\u001b[0m\u001b[0;34m[\u001b[0m\u001b[0;36m1\u001b[0m \u001b[0;32mfor\u001b[0m \u001b[0mcl\u001b[0m \u001b[0;32min\u001b[0m \u001b[0mreliable_classifiers\u001b[0m \u001b[0;32mif\u001b[0m \u001b[0mcl\u001b[0m\u001b[0;34m.\u001b[0m\u001b[0mpredicts_successfully\u001b[0m\u001b[0;34m(\u001b[0m\u001b[0mp0\u001b[0m\u001b[0;34m,\u001b[0m \u001b[0mcorrect_answer\u001b[0m\u001b[0;34m,\u001b[0m \u001b[0mp1\u001b[0m\u001b[0;34m)\u001b[0m \u001b[0;32mand\u001b[0m \u001b[0mc\u001b[0m\u001b[0;34m.\u001b[0m\u001b[0mcondition\u001b[0m\u001b[0;34m.\u001b[0m\u001b[0mdoes_match\u001b[0m\u001b[0;34m(\u001b[0m\u001b[0mp0\u001b[0m\u001b[0;34m)\u001b[0m\u001b[0;34m]\u001b[0m\u001b[0;34m)\u001b[0m\u001b[0;34m\u001b[0m\u001b[0m\n\u001b[0m\u001b[1;32m      2\u001b[0m \u001b[0mnr_correct\u001b[0m\u001b[0;34m\u001b[0m\u001b[0m\n",
      "\u001b[0;31mNameError\u001b[0m: name 'c' is not defined"
     ]
    }
   ],
   "source": [
    "nr_correct = sum([1 for cl in reliable_classifiers if cl.predicts_successfully(p0, correct_answer, p1) and c.condition.does_match(p0)])\n",
    "nr_correct"
   ]
  },
  {
   "cell_type": "code",
   "execution_count": null,
   "metadata": {},
   "outputs": [],
   "source": []
  }
 ],
 "metadata": {
  "kernelspec": {
   "display_name": "Python 3",
   "language": "python",
   "name": "python3"
  },
  "language_info": {
   "codemirror_mode": {
    "name": "ipython",
    "version": 3
   },
   "file_extension": ".py",
   "mimetype": "text/x-python",
   "name": "python",
   "nbconvert_exporter": "python",
   "pygments_lexer": "ipython3",
   "version": "3.6.3"
  }
 },
 "nbformat": 4,
 "nbformat_minor": 2
}
