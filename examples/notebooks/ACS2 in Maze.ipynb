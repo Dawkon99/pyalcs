{
 "cells": [
  {
   "cell_type": "markdown",
   "metadata": {},
   "source": [
    "# ACS2 in Maze Experiments\n",
    "The following notebooks provides reproducible playground for experimenting how ACS2 agent behaves inside Maze environments.\n",
    "\n",
    "## Checklist:\n",
    "- check if classifiers with $q < 0.1$ are deleted,\n",
    "- [ALP] - parameters update process,\n",
    "- **Deletion of classifiers** - I think we are loosing good classifiers along the way\n",
    "- ALP expected case\n",
    "- ALP covering\n",
    "- RL what is `maxP`\n",
    "\n",
    "Butz notes:\n",
    "- ACS2 should start with initially empty classifiers list (what does it mean)?\n",
    "- e-greedy cannot be applied on the start with empty population,\n",
    "- second learning should be triggered after successful step of finding reward?\n",
    "- set_mark should mark the whole perception (probably not only changing parts) (unexpected case ACS2 p9)\n",
    "\n",
    "TODO:\n",
    "- set_mark copies whole perception (not indivudial points). But will it make any difference?\n",
    "\n",
    "## My modifications\n",
    "- behaviour policy strategies,\n",
    "- dynamic exploration rate,\n",
    "- offspring is not marked,"
   ]
  },
  {
   "cell_type": "markdown",
   "metadata": {},
   "source": [
    "## Imports and configuration\n",
    "Load project files from upper directory (nasty solution)."
   ]
  },
  {
   "cell_type": "code",
   "execution_count": 1,
   "metadata": {
    "collapsed": false
   },
   "outputs": [],
   "source": [
    "import sys\n",
    "sys.path.append('/Users/khozzy/Projects/pyalcs')"
   ]
  },
  {
   "cell_type": "markdown",
   "metadata": {},
   "source": [
    "Import `pyalcs` module"
   ]
  },
  {
   "cell_type": "code",
   "execution_count": 2,
   "metadata": {
    "collapsed": false
   },
   "outputs": [],
   "source": [
    "# Enable automatic module reload\n",
    "%load_ext autoreload\n",
    "%autoreload 2\n",
    "\n",
    "from alcs.agent.acs2 import ACS2\n",
    "from alcs.environment.maze import Maze\n",
    "\n",
    "# Exploration strategies\n",
    "from alcs.strategies.ActionSelection import Random, ActionDelayBias, KnowledgeArrayBias\n",
    "\n",
    "# Metrics\n",
    "from alcs.helpers.metrics import \\\n",
    "    ActualStep,\\\n",
    "    ClassifierPopulationSize,\\\n",
    "    AveragedFitnessScore,\\\n",
    "    SuccessfulTrial,\\\n",
    "    AveragedConditionSpecificity,\\\n",
    "    AchievedKnowledge"
   ]
  },
  {
   "cell_type": "markdown",
   "metadata": {},
   "source": [
    "Other helpers"
   ]
  },
  {
   "cell_type": "code",
   "execution_count": 3,
   "metadata": {
    "collapsed": true
   },
   "outputs": [],
   "source": [
    "%matplotlib inline\n",
    "\n",
    "from concurrent.futures import ProcessPoolExecutor, as_completed\n",
    "\n",
    "import numpy as np\n",
    "import pandas as pd\n",
    "import matplotlib.pyplot as plt"
   ]
  },
  {
   "cell_type": "markdown",
   "metadata": {},
   "source": [
    "## Experiment\n",
    "We are going to test ACS2 **agent** inside **maze** environment. The agent will have 2 tasks:\n",
    "1. learn the shortest path to the goal state,\n",
    "2. learn the internal model of the environment"
   ]
  },
  {
   "cell_type": "markdown",
   "metadata": {},
   "source": [
    "### Maze\n",
    "Currently there are 4 mazes implemented:\n",
    "- `mazes/MazeF1.maze` (deterministic),\n",
    "- `mazes/MazeF2.maze` (deterministic),\n",
    "- `mazes/MazeF3.maze` (deterministic),\n",
    "- `mazes/MazeF4.maze` (non-deterministic)\n",
    "\n",
    "Maze `MazeF4` introduces also the *aliasing* problem - the are two states that looks exactly the same for an agent."
   ]
  },
  {
   "cell_type": "code",
   "execution_count": 4,
   "metadata": {
    "collapsed": true
   },
   "outputs": [],
   "source": [
    "# Location of the maze file\n",
    "MAZE_LOCATION = 'mazes/Maze5.maze'"
   ]
  },
  {
   "cell_type": "markdown",
   "metadata": {},
   "source": [
    "And visualize it"
   ]
  },
  {
   "cell_type": "code",
   "execution_count": 5,
   "metadata": {
    "collapsed": false
   },
   "outputs": [
    {
     "data": {
      "image/png": "[encoded data removed]",
      "text/plain": [
       "<matplotlib.figure.Figure at 0x107277128>"
      ]
     },
     "metadata": {},
     "output_type": "display_data"
    }
   ],
   "source": [
    "env = Maze(MAZE_LOCATION)\n",
    "\n",
    "fig = plt.figure(figsize=(env.max_x, env.max_y))\n",
    "ax = fig.add_subplot(111, aspect='equal')\n",
    "\n",
    "# Render maze as image\n",
    "plt.imshow(env.matrix, interpolation='none', cmap='Set3', aspect='auto',\n",
    "           extent=[0, env.max_x, env.max_y, 0])\n",
    "\n",
    "# Add labels to each cell\n",
    "for x in range(0, env.max_x):\n",
    "    for y in range(0, env.max_y):\n",
    "        plt.text(x+0.4, y+0.5, env.matrix[y][x])\n",
    "\n",
    "ax.set_title(MAZE_LOCATION)\n",
    "ax.set_xlabel('x')\n",
    "ax.set_ylabel('y')\n",
    "\n",
    "plt.xlim(0, env.max_x)\n",
    "plt.ylim(env.max_y, 0)\n",
    "\n",
    "plt.xticks(range(0, env.max_x))\n",
    "plt.yticks(range(0, env.max_y))\n",
    "\n",
    "plt.grid(True)\n",
    "plt.show()"
   ]
  },
  {
   "cell_type": "markdown",
   "metadata": {},
   "source": [
    "**Legend / reward map**:\n",
    "- `0` is a $wall$ (cannot cross),\n",
    "- `1` is a $path$ (reward $\\rho = 0$),\n",
    "- `9` is a $price$ (reward $\\rho = 1000$)"
   ]
  },
  {
   "cell_type": "markdown",
   "metadata": {},
   "source": [
    "### Agent\n",
    "Agent interacts autonomously with the environment.\n",
    "\n",
    "In this notebook it moves in maze for the certain number of steps.\n",
    "\n",
    "> **Trial** is a successful run of agent when he manages to find the reward.\n",
    "\n",
    "> After learning it should take him less and less steps to reach the goal.\n",
    "\n",
    "At the beginning of each trial an agent is randomly placed inside the maze. He can perceive 4 values (neighbourhood cells - N, E, S, W) and move in 4 directions (N, E, S, W)."
   ]
  },
  {
   "cell_type": "markdown",
   "metadata": {},
   "source": [
    "### Run the simulation\n",
    "The whole simulation will run a certain number of times for certain number of steps."
   ]
  },
  {
   "cell_type": "code",
   "execution_count": 6,
   "metadata": {
    "collapsed": false
   },
   "outputs": [],
   "source": [
    "# Number of experiments\n",
    "EXPERIMENTS = 5\n",
    "\n",
    "# Number of agent steps for each experiment\n",
    "STEPS = 25000 # 10 000\n",
    "\n",
    "# Maximum number of steps in single trial (before resetting an animat)\n",
    "# Set to None for no limits\n",
    "MAX_STEPS_IN_TRIAL = None\n",
    "\n",
    "# Amount of processes pool\n",
    "PROCESSES = 2\n",
    "\n",
    "# Exploration strategy\n",
    "# Available Greedy(), ActionDelayBias(), KnowledgeArrayBias()\n",
    "EPSILON = 0.5\n",
    "EXPLORATION_STRATEGY = KnowledgeArrayBias()"
   ]
  },
  {
   "cell_type": "markdown",
   "metadata": {},
   "source": [
    "Let's declare a function performing a single experiment.\n",
    "\n",
    "We are:\n",
    "1. initializing an agent,\n",
    "2. instructing him to collect specified measurements,\n",
    "3. initializing the environment,\n",
    "4. running the simulation,\n",
    "5. returning obtained classifiers and metrics\n"
   ]
  },
  {
   "cell_type": "code",
   "execution_count": 7,
   "metadata": {
    "collapsed": false
   },
   "outputs": [],
   "source": [
    "def perform_experiment(experiment):\n",
    "    # Initialize the agent\n",
    "    agent = ACS2(\n",
    "        epsilon=EPSILON,\n",
    "        strategy=EXPLORATION_STRATEGY\n",
    "    )\n",
    "    \n",
    "    agent.add_metrics_handlers([\n",
    "        ActualStep('time'),\n",
    "        SuccessfulTrial('found_reward'),\n",
    "        ClassifierPopulationSize('total_classifiers'),\n",
    "        AveragedFitnessScore('average_fitness'),\n",
    "        AveragedConditionSpecificity('average_specificity'),\n",
    "        AchievedKnowledge('achieved_knowledge')\n",
    "    ])\n",
    "\n",
    "    # Initialize the environment\n",
    "    env = Maze(MAZE_LOCATION)\n",
    "\n",
    "    # Evaluate algorithm\n",
    "    classifiers, metrics = agent.evaluate(env, STEPS, MAX_STEPS_IN_TRIAL)\n",
    "\n",
    "    # Add information about the experiment into metrics\n",
    "    metrics['experiment_id'] = [experiment] * len(metrics['time'])\n",
    "\n",
    "    return classifiers, metrics"
   ]
  },
  {
   "cell_type": "markdown",
   "metadata": {},
   "source": [
    "Then firing many jobs in parallel."
   ]
  },
  {
   "cell_type": "code",
   "execution_count": 8,
   "metadata": {
    "collapsed": false
   },
   "outputs": [],
   "source": [
    "all_classifiers = []\n",
    "all_metrics = pd.DataFrame()\n",
    "\n",
    "with ProcessPoolExecutor(PROCESSES) as executor:\n",
    "    futures = []\n",
    "\n",
    "    for i in range(EXPERIMENTS):\n",
    "        future = executor.submit(perform_experiment, i)\n",
    "        futures.append(future)\n",
    "\n",
    "    for idx, el in enumerate(as_completed(futures)):\n",
    "        classifiers, metrics = el.result()\n",
    "\n",
    "        all_classifiers.append(classifiers)\n",
    "        all_metrics = all_metrics.append(pd.DataFrame(metrics))"
   ]
  },
  {
   "cell_type": "markdown",
   "metadata": {},
   "source": [
    "We can also inspect how the classifier population looks. Internal model of the environment is specified only by reliable classifiers."
   ]
  },
  {
   "cell_type": "code",
   "execution_count": 9,
   "metadata": {
    "collapsed": false
   },
   "outputs": [
    {
     "name": "stdout",
     "output_type": "stream",
     "text": [
      "Population classifiers: 796\n",
      "Reliable classifiers: 264\n",
      "\n",
      "Classifier{11111001 ↑ 00##0#1# q:0.91, r:2417.57, ir:0.01}\n",
      "Classifier{11110#11 ↑ 0####### q:1.00, r:2604.91, ir:0.00}\n",
      "Classifier{11110##1 ↑ 0####### q:1.00, r:2604.91, ir:0.00}\n",
      "Classifier{0011##00 ↑ ######## q:0.98, r:2849.44, ir:2.29}\n",
      "Classifier{00110011 ↑ ######## q:1.00, r:3773.34, ir:0.40}\n",
      "Classifier{1#110#1# ↑ 0####### q:0.94, r:2670.28, ir:3.73}\n",
      "Classifier{001###00 ↑ ######## q:0.96, r:2831.96, ir:2.29}\n",
      "Classifier{001###0# ↑ ######## q:0.96, r:2849.44, ir:2.29}\n",
      "Classifier{#0111#11 ↑ #10#0### q:0.97, r:3100.64, ir:0.83}\n",
      "Classifier{#0111#1# ↑ #10#0### q:0.87, r:3264.68, ir:0.83}\n",
      "Classifier{01100011 ↑ ######## q:0.90, r:2825.05, ir:0.20}\n",
      "Classifier{##11#010 ↑ ######## q:0.99, r:4722.10, ir:0.01}\n",
      "Classifier{##0#0#0# ↑ 0###1#1# q:0.99, r:2939.79, ir:0.00}\n",
      "Classifier{01111010 ↑ ######## q:0.99, r:4737.42, ir:2.13}\n",
      "Classifier{0111#010 ↑ ######## q:0.98, r:4729.76, ir:2.13}\n",
      "Classifier{011#1010 ↑ ######## q:0.97, r:4733.59, ir:2.13}\n",
      "Classifier{011##0#0 ↑ ######## q:0.97, r:4733.59, ir:2.13}\n",
      "Classifier{0#10#010 ↑ ######## q:0.98, r:2675.91, ir:0.01}\n",
      "Classifier{0##0#010 ↑ ######## q:0.97, r:2675.91, ir:0.01}\n",
      "Classifier{#11#01#0 ↑ ######## q:0.99, r:2970.33, ir:0.00}\n",
      "Classifier{0#10#0#0 ↑ ######## q:0.95, r:2675.91, ir:0.01}\n",
      "Classifier{01#11111 ↑ ######## q:0.93, r:3009.80, ir:0.15}\n",
      "Classifier{01#1##11 ↑ ######## q:0.99, r:3075.13, ir:0.02}\n",
      "Classifier{01#1#1#1 ↑ ######## q:0.99, r:3075.13, ir:0.02}\n",
      "Classifier{##9##### ↑ ######## q:0.87, r:4660.52, ir:0.01}\n",
      "Classifier{#1111010 ↑ ######## q:0.93, r:4628.37, ir:0.83}\n",
      "Classifier{0000##1# ↑ ######## q:0.95, r:3377.71, ir:0.04}\n",
      "Classifier{11011111 ↑ 00100##0 q:1.00, r:3280.54, ir:0.00}\n",
      "Classifier{11011#11 ↑ 00100##0 q:1.00, r:3280.54, ir:0.00}\n",
      "Classifier{0110#101 ↑ ######## q:0.87, r:3793.18, ir:0.00}\n",
      "Classifier{0110###1 ↑ ######## q:0.92, r:3374.74, ir:0.00}\n",
      "Classifier{#0100#10 ↑ #1011#01 q:0.89, r:3745.11, ir:0.00}\n",
      "Classifier{0#100#1# ↑ ######## q:0.94, r:3344.83, ir:4.02}\n",
      "Classifier{11#01110 ↑ 0##10#0# q:0.99, r:3393.60, ir:0.00}\n",
      "Classifier{11101110 ↑ 0##10#0# q:1.00, r:3381.54, ir:0.00}\n",
      "Classifier{11##10#1 ↑ 00##01#0 q:1.00, r:2664.66, ir:15.94}\n",
      "Classifier{00001011 ↑ ######## q:0.95, r:3299.12, ir:0.00}\n",
      "Classifier{000###11 ↑ ######## q:0.92, r:3306.29, ir:0.00}\n",
      "Classifier{1101#101 ↑ 0010#010 q:0.96, r:3110.46, ir:15.10}\n",
      "Classifier{#1100010 ↑ #0#1110# q:0.88, r:3642.02, ir:0.00}\n",
      "Classifier{0#1#1110 ↑ ######## q:0.89, r:2980.54, ir:0.00}\n",
      "Classifier{11010##1 ↑ 00101##0 q:1.00, r:3618.55, ir:2.31}\n",
      "Classifier{11##1011 ↑ 00##01#0 q:0.92, r:2533.56, ir:2.31}\n",
      "Classifier{11###011 ↑ 00##01#0 q:0.87, r:2533.56, ir:2.31}\n",
      "Classifier{11###0#1 ↑ 00##01#0 q:0.87, r:2533.56, ir:2.31}\n",
      "Classifier{11011##1 ↑ 00100##0 q:0.97, r:3300.83, ir:0.10}\n",
      "Classifier{0##0###0 ↑ ######## q:0.96, r:3299.92, ir:0.00}\n",
      "Classifier{110#1##1 ↑ 00100##0 q:0.87, r:3304.86, ir:0.00}\n",
      "Classifier{1#00#010 ↑ 0#1##101 q:1.00, r:3849.97, ir:0.00}\n",
      "Classifier{###111#0 ↑ ##0##0#1 q:1.00, r:3462.70, ir:0.00}\n",
      "Classifier{1#001010 ↑ 0#1##101 q:0.99, r:3922.23, ir:5.63}\n",
      "Classifier{1##0#0#1 ↑ 010111## q:0.96, r:3595.38, ir:0.00}\n",
      "Classifier{101000#1 ↑ 010111## q:0.96, r:3595.38, ir:0.00}\n",
      "Classifier{#0##00#1 ↑ 010111## q:0.94, r:3595.38, ir:0.00}\n",
      "Classifier{##01##10 ↑ ##10#101 q:0.90, r:3946.31, ir:0.00}\n",
      "Classifier{##01#010 ↑ ##10#101 q:0.98, r:3846.75, ir:1.44}\n",
      "Classifier{1##0#101 ↑ 0##1#010 q:0.97, r:4441.77, ir:0.92}\n",
      "Classifier{1110#101 ↑ 0##1#010 q:0.96, r:4494.31, ir:0.00}\n",
      "Classifier{1#10#101 ↑ 0##1#010 q:0.87, r:4468.04, ir:0.92}\n",
      "Classifier{#0000#11 ↑ ####1##0 q:0.90, r:6053.01, ir:0.00}\n",
      "Classifier{##0001#1 ↑ ####1##0 q:0.90, r:6217.86, ir:0.00}\n",
      "Classifier{##1#0#0# ↑ #10#1010 q:0.86, r:4013.33, ir:0.00}\n",
      "Classifier{#01#0101 ↑ #10#1010 q:1.00, r:4015.58, ir:5.51}\n",
      "Classifier{1000##10 ↑ 9#####01 q:0.99, r:6466.29, ir:0.00}\n",
      "Classifier{1#00##10 ↑ 9#####01 q:0.95, r:6650.92, ir:0.00}\n",
      "Classifier{0#001### ↗ ######## q:0.98, r:3196.28, ir:0.00}\n",
      "Classifier{111101#1 ↗ ##0010#0 q:0.99, r:2632.59, ir:0.00}\n",
      "Classifier{1111#1#1 ↗ ##0010#0 q:0.86, r:2632.59, ir:0.00}\n",
      "Classifier{011##0## ↗ ######## q:0.99, r:4681.02, ir:0.00}\n",
      "Classifier{10110#0# ↗ ##001#1# q:1.00, r:3382.73, ir:0.00}\n",
      "Classifier{11##00## ↗ 0#0111#1 q:0.92, r:2937.91, ir:0.00}\n",
      "Classifier{11#000#0 ↗ 0#0111#1 q:0.92, r:2937.91, ir:0.00}\n",
      "Classifier{#1#00##0 ↗ 0#0111#1 q:0.91, r:2937.81, ir:0.00}\n",
      "Classifier{111000#0 ↗ 0#0111#1 q:0.99, r:2950.39, ir:0.00}\n",
      "Classifier{1#100010 ↗ 0#0111#1 q:0.99, r:2934.31, ir:0.00}\n",
      "Classifier{##0##010 ↗ ######## q:0.99, r:3775.39, ir:0.00}\n",
      "Classifier{#0##00#1 ↗ #1##11#0 q:0.99, r:3784.09, ir:0.00}\n",
      "Classifier{10#000#0 ↗ 01#11111 q:0.90, r:3877.77, ir:0.00}\n",
      "Classifier{10#00000 ↗ 01#11111 q:1.00, r:4019.84, ir:0.00}\n",
      "Classifier{#110#11# ↗ ##01#0## q:0.94, r:4068.29, ir:0.00}\n",
      "Classifier{10100000 ↗ 01#11111 q:0.97, r:3938.21, ir:0.00}\n",
      "Classifier{9####### ↗ ######## q:0.92, r:6967.53, ir:0.00}\n",
      "Classifier{90###### ↗ ######## q:0.92, r:6967.53, ir:0.00}\n",
      "Classifier{1##1##00 ↗ 0##0##11 q:0.99, r:3379.13, ir:0.00}\n",
      "Classifier{9##0#### ↗ ######## q:0.90, r:6363.32, ir:0.00}\n",
      "Classifier{1#11##00 ↗ 0##0##11 q:0.93, r:3411.63, ir:0.00}\n",
      "Classifier{1##11100 ↗ 0##0##11 q:0.88, r:3997.90, ir:0.00}\n",
      "Classifier{110101## → ######## q:0.99, r:3139.03, ir:2.33}\n",
      "Classifier{1#0101## → ######## q:0.98, r:3123.84, ir:2.33}\n",
      "Classifier{10000111 → ######## q:0.99, r:4729.16, ir:2.88}\n",
      "Classifier{10#001#1 → ######## q:0.98, r:4712.32, ir:0.86}\n",
      "Classifier{#0##0111 → ######## q:0.94, r:4685.90, ir:1.85}\n",
      "Classifier{1#010### → ######## q:0.89, r:3131.44, ir:2.33}\n",
      "Classifier{10#1##1# → 01#0##0# q:1.00, r:4102.65, ir:0.00}\n",
      "Classifier{#1101000 → ##010111 q:1.00, r:3221.54, ir:0.00}\n",
      "Classifier{11001000 → ######## q:0.95, r:2801.16, ir:17.18}\n",
      "Classifier{#11##00# → ##010111 q:0.98, r:3219.44, ir:0.00}\n",
      "Classifier{010111#1 → ######## q:0.99, r:2880.22, ir:0.04}\n",
      "Classifier{1#1#1011 → ##0##10# q:0.90, r:2937.93, ir:0.56}\n",
      "Classifier{10#11#11 → 01#0##0# q:0.94, r:4048.82, ir:0.18}\n",
      "Classifier{10#1111# → 01#0##0# q:0.92, r:3976.01, ir:0.00}\n",
      "Classifier{10#1##11 → 01#0##0# q:0.96, r:4094.73, ir:0.00}\n",
      "Classifier{010111## → ######## q:0.94, r:2881.61, ir:0.05}\n",
      "Classifier{010#11#1 → ######## q:0.94, r:2881.61, ir:0.05}\n",
      "Classifier{#101##0# → ######## q:0.96, r:3108.56, ir:0.00}\n",
      "Classifier{10#01000 → 01#10111 q:1.00, r:3318.35, ir:0.08}\n",
      "Classifier{11#11010 → ######## q:0.97, r:3875.99, ir:0.16}\n",
      "Classifier{0#01#1#1 → ######## q:0.92, r:2884.89, ir:0.04}\n",
      "Classifier{10#01110 → ######## q:0.99, r:6135.68, ir:0.00}\n",
      "Classifier{11#110#0 → ######## q:0.97, r:3889.72, ir:11.00}\n",
      "Classifier{#1#0#110 → #0#10#01 q:0.93, r:3978.60, ir:0.00}\n",
      "Classifier{##101000 → ##010111 q:0.90, r:3387.93, ir:0.16}\n",
      "Classifier{#1#01110 → #0#10#01 q:0.99, r:3996.90, ir:0.00}\n",
      "Classifier{11#1#0#0 → ######## q:0.85, r:3889.72, ir:11.00}\n",
      "Classifier{0#1#010# → 1#0#101# q:1.00, r:4025.36, ir:0.05}\n",
      "Classifier{011#010# → 1#0#101# q:1.00, r:4027.67, ir:0.00}\n",
      "Classifier{#1##010# → 1#0#101# q:0.99, r:4026.52, ir:0.00}\n",
      "Classifier{01##010# → 1#0#101# q:0.99, r:4038.32, ir:0.00}\n",
      "Classifier{0#1101#1 → 1#0010#0 q:0.92, r:3235.00, ir:0.00}\n",
      "Classifier{1#0##00# → ######## q:0.87, r:3633.07, ir:0.00}\n",
      "Classifier{###1##01 → 0#00101# q:0.97, r:3670.98, ir:0.00}\n",
      "Classifier{####0#01 → 0#00101# q:0.99, r:3663.31, ir:0.00}\n",
      "Classifier{1#11010# → 0#00101# q:1.00, r:3701.96, ir:3.60}\n",
      "Classifier{##01#### → ######## q:0.97, r:4091.76, ir:0.00}\n",
      "Classifier{9####### → ######## q:0.89, r:8054.55, ir:0.00}\n",
      "Classifier{0111#0## → 1000#1## q:1.00, r:5586.86, ir:1.25}\n",
      "Classifier{011110## → 1000#1## q:1.00, r:5511.07, ir:7.21}\n",
      "Classifier{10#0#1#0 → 0##1#0#1 q:0.99, r:4350.47, ir:0.00}\n",
      "Classifier{10#0#0## → 010##### q:0.93, r:3491.06, ir:0.00}\n",
      "Classifier{01####01 → 10##0#10 q:0.87, r:4045.88, ir:0.00}\n",
      "Classifier{01##1#01 → 10##0#10 q:1.00, r:4162.70, ir:33.59}\n",
      "Classifier{00##00#1 → #1##1##0 q:1.00, r:4492.29, ir:0.00}\n",
      "Classifier{00##0##1 → #1##1##0 q:0.99, r:4490.85, ir:0.00}\n",
      "Classifier{01##1101 → 10##0#10 q:0.90, r:4238.52, ir:0.07}\n",
      "Classifier{101#0#11 → 010##### q:0.97, r:3709.82, ir:0.48}\n",
      "Classifier{#1#01#10 → #0#10#01 q:0.92, r:4029.07, ir:0.01}\n",
      "Classifier{0111101# → 1000#1## q:1.00, r:5450.36, ir:0.00}\n",
      "Classifier{#111#0## → 1000#1## q:0.93, r:5586.86, ir:1.25}\n",
      "Classifier{01#11### → 1000#1## q:0.92, r:5463.03, ir:7.21}\n",
      "Classifier{1#110101 → 0#00101# q:1.00, r:3715.21, ir:0.00}\n",
      "Classifier{10110101 → 0#00101# q:1.00, r:3677.87, ir:0.01}\n",
      "Classifier{###011## → ###10### q:0.94, r:3120.78, ir:0.00}\n",
      "Classifier{#01111#1 ↘ #100#0#0 q:1.00, r:3399.29, ir:0.00}\n",
      "Classifier{0#1111#1 ↘ 1##000#0 q:0.97, r:3621.26, ir:0.00}\n",
      "Classifier{#011#111 ↘ #100#0#0 q:0.99, r:3412.28, ir:0.00}\n",
      "Classifier{#0111111 ↘ #100#0#0 q:0.98, r:3418.62, ir:0.00}\n",
      "Classifier{90###### ↘ ######## q:0.97, r:7149.06, ir:0.00}\n",
      "Classifier{#0#01000 ↘ #1#10111 q:0.92, r:2763.46, ir:0.00}\n",
      "Classifier{010##### ↘ ######## q:0.99, r:3118.83, ir:0.00}\n",
      "Classifier{0010#0#0 ↘ 1101#1#1 q:1.00, r:2689.64, ir:0.00}\n",
      "Classifier{011110#0 ↘ 100001#1 q:1.00, r:5174.32, ir:0.00}\n",
      "Classifier{0#10#0#0 ↘ 1101#1#1 q:0.97, r:2689.64, ir:0.00}\n",
      "Classifier{01111##0 ↘ 100001#1 q:1.00, r:5173.72, ir:0.00}\n",
      "Classifier{0111#0## ↘ 100001#1 q:1.00, r:5173.72, ir:0.00}\n",
      "Classifier{01111010 ↘ 100001#1 q:1.00, r:5174.04, ir:0.00}\n",
      "Classifier{10#01000 ↘ #1#10111 q:0.87, r:2912.80, ir:0.00}\n",
      "Classifier{111###0# ↘ #00###1# q:0.98, r:3396.40, ir:0.00}\n",
      "Classifier{###11100 ↘ ###00011 q:0.98, r:3565.94, ir:0.00}\n",
      "Classifier{00#011#0 ↘ 11#1#0#1 q:0.97, r:3224.59, ir:0.00}\n",
      "Classifier{01#110## ↘ 100001#1 q:0.99, r:5174.18, ir:0.00}\n",
      "Classifier{01#11##0 ↘ 100001#1 q:0.99, r:5174.18, ir:0.00}\n",
      "Classifier{0#101#0# ↘ 1#010#1# q:0.85, r:3435.76, ir:0.00}\n",
      "Classifier{001#1000 ↘ 110#0111 q:0.99, r:3477.48, ir:0.00}\n",
      "Classifier{#10###1# ↘ ######## q:0.96, r:4081.12, ir:0.00}\n",
      "Classifier{###00### ↘ ######## q:0.97, r:3806.78, ir:0.00}\n",
      "Classifier{#####00# ↘ ######## q:0.90, r:3411.88, ir:0.00}\n",
      "Classifier{#10##### ↘ ######## q:0.90, r:3899.54, ir:0.00}\n",
      "Classifier{#11###0# ↘ #00###1# q:0.96, r:3512.58, ir:0.00}\n",
      "Classifier{#####0## ↘ ######## q:0.93, r:3923.82, ir:0.00}\n",
      "Classifier{###0##1# ↘ ######## q:0.87, r:4659.42, ir:0.00}\n",
      "Classifier{######10 ↘ ######## q:0.87, r:5023.80, ir:0.00}\n",
      "Classifier{#0#1110# ↓ #1#0001# q:1.00, r:2057.52, ir:0.00}\n",
      "Classifier{1011110# ↓ #1#0001# q:0.99, r:2057.32, ir:0.00}\n",
      "Classifier{110#1111 ↓ 001#00## q:1.00, r:2822.03, ir:0.00}\n",
      "Classifier{11##1111 ↓ 001#00## q:0.98, r:2822.03, ir:0.00}\n",
      "Classifier{10#1110# ↓ #1#0001# q:0.94, r:2177.41, ir:0.00}\n",
      "Classifier{001011#0 ↓ 11010##1 q:1.00, r:2375.64, ir:0.00}\n",
      "Classifier{#011110# ↓ #1#0001# q:0.86, r:2057.32, ir:0.00}\n",
      "Classifier{110#111# ↓ 001#00## q:0.96, r:2884.84, ir:0.00}\n",
      "Classifier{1#11#01# ↓ 0##0#10# q:0.90, r:2804.46, ir:0.00}\n",
      "Classifier{00#011#0 ↓ 11010##1 q:0.88, r:2566.68, ir:0.00}\n",
      "Classifier{1#10#101 ↓ ##01#010 q:0.94, r:3216.27, ir:0.00}\n",
      "Classifier{#010#011 ↓ ######## q:0.92, r:3332.79, ir:0.00}\n",
      "Classifier{##10#011 ↓ ######## q:0.90, r:3100.93, ir:0.00}\n",
      "Classifier{#1#0##10 ↓ #0#1##01 q:0.90, r:3182.85, ir:0.00}\n",
      "Classifier{9#####01 ↓ 1#####10 q:1.00, r:4633.39, ir:0.00}\n",
      "Classifier{900###01 ↓ 1#####10 q:1.00, r:4669.83, ir:0.00}\n",
      "Classifier{9#0###01 ↓ 1#####10 q:0.96, r:4651.61, ir:0.00}\n",
      "Classifier{1#101110 ↓ 0#0#00#1 q:0.89, r:2875.82, ir:0.00}\n",
      "Classifier{1#1011#0 ↓ 0#0#00#1 q:0.92, r:3063.04, ir:0.00}\n",
      "Classifier{11011010 ↓ #01#0101 q:1.00, r:3846.87, ir:0.00}\n",
      "Classifier{000#1#1# ↓ 1###0#0# q:0.95, r:2837.60, ir:0.00}\n",
      "Classifier{#1011#01 ↓ #0100#10 q:1.00, r:4065.81, ir:0.00}\n",
      "Classifier{010111## ↓ 101000## q:1.00, r:3610.74, ir:0.00}\n",
      "Classifier{0#1##101 ↓ 1#0##010 q:0.96, r:3328.74, ir:0.00}\n",
      "Classifier{#1011101 ↓ #0100#10 q:1.00, r:4065.62, ir:0.00}\n",
      "Classifier{0101#1## ↓ 101000## q:1.00, r:3611.02, ir:0.00}\n",
      "Classifier{0101111# ↓ 101000## q:0.99, r:3612.77, ir:0.00}\n",
      "Classifier{#0####11 ↓ ######## q:0.87, r:4477.77, ir:0.00}\n",
      "Classifier{0###1011 ↓ 1###0#0# q:0.89, r:3135.78, ir:0.00}\n",
      "Classifier{00##1#11 ↓ 1###0#0# q:0.87, r:3301.25, ir:0.00}\n",
      "Classifier{#0#####1 ↓ ######## q:0.90, r:4442.71, ir:0.00}\n",
      "Classifier{0010##1# ↓ 1101#101 q:0.89, r:3442.43, ir:0.00}\n",
      "Classifier{0010#010 ↓ 1101#101 q:1.00, r:3617.50, ir:0.00}\n",
      "Classifier{010#1### ↓ 101000## q:0.96, r:3610.74, ir:0.00}\n",
      "Classifier{010##1## ↓ 101000## q:0.95, r:3610.81, ir:0.00}\n",
      "Classifier{010111#1 ↓ 101000## q:0.99, r:3727.46, ir:0.00}\n",
      "Classifier{01011111 ↓ 101000## q:0.99, r:3727.46, ir:0.00}\n",
      "Classifier{#1##11#0 ↙ #0##00#1 q:0.92, r:2178.46, ir:0.00}\n",
      "Classifier{01111111 ↙ 10#00000 q:1.00, r:2639.40, ir:0.00}\n",
      "Classifier{01111#11 ↙ 10#00000 q:0.98, r:2639.40, ir:0.00}\n",
      "Classifier{#09##### ↙ ######## q:0.93, r:4902.37, ir:0.00}\n",
      "Classifier{01####10 ↙ 1#####01 q:1.00, r:3495.38, ir:0.00}\n",
      "Classifier{#00###10 ↙ #11###01 q:1.00, r:2316.08, ir:0.00}\n",
      "Classifier{##001010 ↙ ##1101#1 q:0.99, r:2503.69, ir:0.00}\n",
      "Classifier{#1001010 ↙ ##1101#1 q:0.99, r:2517.83, ir:0.00}\n",
      "Classifier{#000##10 ↙ #11###01 q:1.00, r:2308.99, ir:0.00}\n",
      "Classifier{9#0##### ↙ ######## q:0.97, r:6330.64, ir:0.00}\n",
      "Classifier{000##### ↙ 111#0##0 q:0.99, r:2708.60, ir:0.00}\n",
      "Classifier{000#1### ↙ 111#0##0 q:0.99, r:2708.60, ir:0.00}\n",
      "Classifier{000#1##1 ↙ 111#0##0 q:1.00, r:2715.62, ir:0.00}\n",
      "Classifier{0##0#111 ↙ 1##1##00 q:1.00, r:3115.84, ir:0.00}\n",
      "Classifier{00#0#0#0 ↙ 11#1###1 q:0.99, r:2586.94, ir:0.00}\n",
      "Classifier{####01## ↙ ######## q:0.94, r:2359.23, ir:0.00}\n",
      "Classifier{#011#111 ↙ ###0#000 q:0.94, r:2679.58, ir:0.00}\n",
      "Classifier{##1#0### ↙ ######## q:0.93, r:2919.28, ir:0.00}\n",
      "Classifier{00#0###0 ↙ 11#1###1 q:0.91, r:2659.87, ir:0.00}\n",
      "Classifier{0##01111 ↙ 1##1##00 q:0.91, r:3116.98, ir:0.00}\n",
      "Classifier{0#0111#1 ↙ 1#1000#0 q:0.98, r:3401.43, ir:0.00}\n",
      "Classifier{#10110## ↙ ##10#1## q:0.86, r:4394.61, ir:0.00}\n",
      "Classifier{010111#1 ↙ 1#1000#0 q:0.97, r:3886.56, ir:0.00}\n",
      "Classifier{#011#111 ← #10##000 q:0.90, r:1563.01, ir:0.00}\n",
      "Classifier{01111111 ← 100##000 q:0.90, r:2190.33, ir:0.00}\n",
      "Classifier{#010#0#1 ← #1#####0 q:1.00, r:1704.23, ir:0.00}\n",
      "Classifier{101##1#1 ← ######## q:0.96, r:3211.79, ir:0.00}\n",
      "Classifier{##1#10#1 ← ##0#01## q:0.99, r:2363.60, ir:0.00}\n",
      "Classifier{10#010#0 ← ######## q:0.90, r:2378.16, ir:0.00}\n",
      "Classifier{1#1010#0 ← ######## q:0.87, r:2295.70, ir:0.00}\n",
      "Classifier{1#1#11## ← ######## q:0.95, r:3037.83, ir:0.00}\n",
      "Classifier{10#000#0 ← ######## q:0.87, r:2684.08, ir:0.00}\n",
      "Classifier{01#011#1 ← ######## q:0.93, r:3241.16, ir:0.00}\n",
      "Classifier{1000#1#0 ← 0111#0## q:1.00, r:2933.53, ir:0.00}\n",
      "Classifier{#000#1#0 ← 0111#0## q:0.99, r:2933.53, ir:0.00}\n",
      "Classifier{1#01101# ← 0#1#010# q:1.00, r:2744.78, ir:0.00}\n",
      "Classifier{01#10111 ← 10#01000 q:1.00, r:2711.42, ir:0.00}\n",
      "Classifier{#1###1#0 ← ######## q:0.90, r:2863.45, ir:0.00}\n",
      "Classifier{11011111 ← ######0# q:1.00, r:2527.29, ir:0.00}\n",
      "Classifier{11110111 ← ##001000 q:0.92, r:2475.91, ir:0.00}\n",
      "Classifier{0##1#0#1 ← 1##0#1#0 q:1.00, r:2981.19, ir:0.00}\n",
      "Classifier{10##0#10 ← 01##1#01 q:1.00, r:2888.28, ir:0.00}\n",
      "Classifier{##1010## ← ###101## q:0.96, r:2555.81, ir:0.00}\n",
      "Classifier{##91#### ← ##10#1## q:0.87, r:3386.67, ir:0.00}\n",
      "Classifier{##91#0## ← ##10#1## q:0.96, r:3363.19, ir:0.00}\n",
      "Classifier{##91#0#0 ← ##10#1## q:0.90, r:3332.85, ir:0.00}\n",
      "Classifier{0101##11 ← 101###00 q:0.99, r:2870.01, ir:0.00}\n",
      "Classifier{##010111 ← ##101000 q:0.99, r:3123.46, ir:0.00}\n",
      "Classifier{0101##1# ← 101###00 q:0.95, r:2874.04, ir:0.00}\n",
      "Classifier{#01101## ← ###01### q:0.93, r:2511.24, ir:0.00}\n",
      "Classifier{#0#101## ← ###01### q:0.93, r:2511.24, ir:0.00}\n",
      "Classifier{011#1111 ← 100##000 q:0.97, r:2829.03, ir:0.00}\n",
      "Classifier{#00#0#1# ← #11#1#0# q:1.00, r:3679.64, ir:0.00}\n",
      "Classifier{01#0#### ← 101##### q:0.89, r:3270.21, ir:0.00}\n",
      "Classifier{010##### ← 101##### q:1.00, r:3270.21, ir:0.00}\n",
      "Classifier{######## ↖ ######## q:1.00, r:0.00, ir:0.00}\n"
     ]
    }
   ],
   "source": [
    "## take classifiers from the first experiment\n",
    "classifiers = all_classifiers[0]\n",
    "\n",
    "# Select only 'reliable' ones\n",
    "reliable = [c for c in classifiers if c.is_reliable()]\n",
    "reliable.sort(key=lambda cls: cls.action)\n",
    "\n",
    "print(\"Population classifiers: {}\".format(len(classifiers)))\n",
    "print(\"Reliable classifiers: {}\\n\".format(len(reliable)))\n",
    "\n",
    "for cls in reliable:\n",
    "    print(cls)"
   ]
  },
  {
   "cell_type": "markdown",
   "metadata": {},
   "source": [
    "<p style=\"color:red\">**TODO**: There are duplicate classifiers!!!! Maybe subsumption does not works. Why low quality classifiers are not removed?</p>"
   ]
  },
  {
   "cell_type": "markdown",
   "metadata": {},
   "source": [
    "## Performance metrics\n",
    "Let's have a look how the performance metrics look like by taking 5 random samples:"
   ]
  },
  {
   "cell_type": "code",
   "execution_count": 10,
   "metadata": {
    "collapsed": false,
    "scrolled": true
   },
   "outputs": [
    {
     "data": {
      "text/html": [
       "<div>\n",
       "<table border=\"1\" class=\"dataframe\">\n",
       "  <thead>\n",
       "    <tr style=\"text-align: right;\">\n",
       "      <th></th>\n",
       "      <th>achieved_knowledge</th>\n",
       "      <th>average_fitness</th>\n",
       "      <th>average_specificity</th>\n",
       "      <th>experiment_id</th>\n",
       "      <th>found_reward</th>\n",
       "      <th>time</th>\n",
       "      <th>total_classifiers</th>\n",
       "    </tr>\n",
       "  </thead>\n",
       "  <tbody>\n",
       "    <tr>\n",
       "      <th>797</th>\n",
       "      <td>0.402439</td>\n",
       "      <td>254.995376</td>\n",
       "      <td>0.464556</td>\n",
       "      <td>3</td>\n",
       "      <td>False</td>\n",
       "      <td>798</td>\n",
       "      <td>462</td>\n",
       "    </tr>\n",
       "    <tr>\n",
       "      <th>23556</th>\n",
       "      <td>0.609756</td>\n",
       "      <td>1958.134702</td>\n",
       "      <td>0.530840</td>\n",
       "      <td>2</td>\n",
       "      <td>False</td>\n",
       "      <td>23557</td>\n",
       "      <td>762</td>\n",
       "    </tr>\n",
       "    <tr>\n",
       "      <th>22257</th>\n",
       "      <td>0.560976</td>\n",
       "      <td>2149.846924</td>\n",
       "      <td>0.534666</td>\n",
       "      <td>1</td>\n",
       "      <td>False</td>\n",
       "      <td>22258</td>\n",
       "      <td>869</td>\n",
       "    </tr>\n",
       "    <tr>\n",
       "      <th>8918</th>\n",
       "      <td>0.573171</td>\n",
       "      <td>1636.124334</td>\n",
       "      <td>0.533608</td>\n",
       "      <td>1</td>\n",
       "      <td>False</td>\n",
       "      <td>8919</td>\n",
       "      <td>729</td>\n",
       "    </tr>\n",
       "    <tr>\n",
       "      <th>17456</th>\n",
       "      <td>0.560976</td>\n",
       "      <td>1993.105195</td>\n",
       "      <td>0.552826</td>\n",
       "      <td>2</td>\n",
       "      <td>False</td>\n",
       "      <td>17457</td>\n",
       "      <td>743</td>\n",
       "    </tr>\n",
       "  </tbody>\n",
       "</table>\n",
       "</div>"
      ],
      "text/plain": [
       "       achieved_knowledge  average_fitness  average_specificity  \\\n",
       "797              0.402439       254.995376             0.464556   \n",
       "23556            0.609756      1958.134702             0.530840   \n",
       "22257            0.560976      2149.846924             0.534666   \n",
       "8918             0.573171      1636.124334             0.533608   \n",
       "17456            0.560976      1993.105195             0.552826   \n",
       "\n",
       "       experiment_id found_reward   time  total_classifiers  \n",
       "797                3        False    798                462  \n",
       "23556              2        False  23557                762  \n",
       "22257              1        False  22258                869  \n",
       "8918               1        False   8919                729  \n",
       "17456              2        False  17457                743  "
      ]
     },
     "execution_count": 10,
     "metadata": {},
     "output_type": "execute_result"
    }
   ],
   "source": [
    "all_metrics.sample(5)"
   ]
  },
  {
   "cell_type": "markdown",
   "metadata": {},
   "source": [
    "### Number of steps to food\n",
    "Measures if the classifier actually *learns* something along the time.\n",
    "\n",
    "> **Number of steps to food** - How many steps were needed in **each trial** to found the reward.\n",
    "\n",
    "We need to have a little helper function for operating on obtained measurements."
   ]
  },
  {
   "cell_type": "code",
   "execution_count": 11,
   "metadata": {
    "collapsed": false
   },
   "outputs": [],
   "source": [
    "def get_avg_number_of_steps_to_food(performance):\n",
    "    trials_by_experiment = pd.DataFrame(performance\n",
    "                                        .groupby('experiment_id')\n",
    "                                        .apply(lambda x: x['found_reward'].cumsum())\n",
    "                                        .stack())\n",
    "    trials_by_experiment.reset_index(inplace=True)\n",
    "    trials_by_experiment.rename(columns = {'found_reward': 'time', 0: 'trial'},\n",
    "                                inplace=True)\n",
    "\n",
    "    # Experiment_id, trial, steps\n",
    "    steps_per_trial_in_experiment = pd.DataFrame(trials_by_experiment\n",
    "                                                 .groupby(['experiment_id', 'trial'])\n",
    "                                                 .size())\n",
    "    steps_per_trial_in_experiment.reset_index(inplace=True)\n",
    "    steps_per_trial_in_experiment.rename(columns = {0: 'steps'}, inplace=True)\n",
    "\n",
    "    # Trial, averaged steps\n",
    "    averaged_steps_per_trial = pd.DataFrame(steps_per_trial_in_experiment.groupby('trial')['steps'].mean())\n",
    "    averaged_steps_per_trial.rename(columns = {'steps': 'averaged_steps'}, inplace=True)\n",
    "    averaged_steps_per_trial.reset_index(inplace=True)\n",
    "    \n",
    "    return averaged_steps_per_trial"
   ]
  },
  {
   "cell_type": "markdown",
   "metadata": {},
   "source": [
    "Now we can visualize the results"
   ]
  },
  {
   "cell_type": "code",
   "execution_count": 12,
   "metadata": {
    "collapsed": false
   },
   "outputs": [
    {
     "data": {
      "image/png": "[encoded data removed]",
      "text/plain": [
       "<matplotlib.figure.Figure at 0x107959f28>"
      ]
     },
     "metadata": {},
     "output_type": "display_data"
    }
   ],
   "source": [
    "steps_to_food = get_avg_number_of_steps_to_food(all_metrics)[:80]\n",
    "steps_to_food['MA'] = steps_to_food['averaged_steps'].rolling(window=50).mean()\n",
    "\n",
    "fig = plt.figure(figsize=(15, 8), dpi=100)\n",
    "\n",
    "plt.bar(steps_to_food['trial'], steps_to_food['averaged_steps'])\n",
    "plt.plot(steps_to_food['trial'], steps_to_food['MA'], 'r', linewidth=2.0)\n",
    "\n",
    "plt.title('Averaged number of steps to food')\n",
    "plt.xlabel('Trial')\n",
    "plt.ylabel('Steps')\n",
    "\n",
    "#plt.yscale('log')\n",
    "plt.grid(True)\n",
    "\n",
    "plt.show()"
   ]
  },
  {
   "cell_type": "markdown",
   "metadata": {},
   "source": [
    "### Achieved knowledge\n",
    "Measures if an agent is *learning* the environment.\n",
    "\n",
    "> **Achieved knowledge** - test whether or not there is a **reliable classifier** for each transition $(\\sigma_{1}, \\alpha, \\sigma_{2})$ with $\\sigma_{1} \\neq \\sigma_{2}$ that can be applied in $\\sigma_{1}$ and anticipates $\\sigma_{2}$ correctly.\n",
    "\n",
    "This metric is calculated after each time-step done by the agent."
   ]
  },
  {
   "cell_type": "code",
   "execution_count": 13,
   "metadata": {
    "collapsed": false
   },
   "outputs": [],
   "source": [
    "def get_avg_achieved_knowledge_per_step(performance):\n",
    "    knowledge_per_step = pd.DataFrame(performance.groupby('time')['achieved_knowledge'].mean())\n",
    "    knowledge_per_step.reset_index(inplace=True)\n",
    "    return knowledge_per_step"
   ]
  },
  {
   "cell_type": "markdown",
   "metadata": {},
   "source": [
    "Plot the results"
   ]
  },
  {
   "cell_type": "code",
   "execution_count": 14,
   "metadata": {
    "collapsed": false
   },
   "outputs": [
    {
     "data": {
      "image/png": "[encoded data removed]",
      "text/plain": [
       "<matplotlib.figure.Figure at 0x1075ff588>"
      ]
     },
     "metadata": {},
     "output_type": "display_data"
    }
   ],
   "source": [
    "knowledge_per_step = get_avg_achieved_knowledge_per_step(all_metrics)\n",
    "knowledge_per_step['MA'] = knowledge_per_step['achieved_knowledge'].rolling(window=500).mean()\n",
    "\n",
    "fig = plt.figure(figsize=(15, 8), dpi=100)\n",
    "\n",
    "plt.plot(knowledge_per_step['time'], knowledge_per_step['achieved_knowledge'], 'b')\n",
    "plt.plot(knowledge_per_step['time'], knowledge_per_step['MA'], 'r', linewidth=2.0)\n",
    "\n",
    "plt.title('Averaged achieved knowledge')\n",
    "plt.xlabel('Step')\n",
    "plt.ylabel('Achieved knowledge')\n",
    "\n",
    "plt.grid(True)\n",
    "\n",
    "plt.show()"
   ]
  },
  {
   "cell_type": "markdown",
   "metadata": {},
   "source": [
    "### Specificity measure\n",
    "Measure the *generalization* in classifier population.\n",
    "\n",
    "> **Specificity measure** - Equal to the **sum** of all specialized attributed in condition part of all classifiers in population **divided** by the number of classifiers **times** the length of  the perception $\\sigma$.\n",
    "\n",
    "You can read more about this metric in \"*Introducing a Genetic Generalization Pressure to the\n",
    "Anticipatory Classfierier System - Part2: Performance Analysis*\" by Martin V. Butz.\n",
    "\n",
    "Plot should change after modifing the agent's *mutation* and *cross over* values. The author claims that the best generalization was reached for mutation rate $\\mu = 0.4$."
   ]
  },
  {
   "cell_type": "code",
   "execution_count": 15,
   "metadata": {
    "collapsed": false
   },
   "outputs": [],
   "source": [
    "def get_avg_specificity_per_step(performance):\n",
    "    spec_per_step = pd.DataFrame(performance.groupby('time')['average_specificity'].mean())\n",
    "    spec_per_step.reset_index(inplace=True)\n",
    "    return spec_per_step"
   ]
  },
  {
   "cell_type": "markdown",
   "metadata": {},
   "source": [
    "Plot the results"
   ]
  },
  {
   "cell_type": "code",
   "execution_count": 16,
   "metadata": {
    "collapsed": false,
    "scrolled": true
   },
   "outputs": [
    {
     "data": {
      "image/png": "[encoded data removed]",
      "text/plain": [
       "<matplotlib.figure.Figure at 0x1085946d8>"
      ]
     },
     "metadata": {},
     "output_type": "display_data"
    }
   ],
   "source": [
    "spec_per_step = get_avg_specificity_per_step(all_metrics)\n",
    "\n",
    "fig = plt.figure(figsize=(15, 8), dpi=100)\n",
    "\n",
    "plt.plot(spec_per_step['time'], spec_per_step['average_specificity'], 'r', linewidth=2)\n",
    "plt.title('Averaged specificity of condition parts for classifiers')\n",
    "plt.xlabel('Step')\n",
    "plt.ylabel('Specificity')\n",
    "\n",
    "plt.grid(True)\n",
    "\n",
    "plt.show()"
   ]
  },
  {
   "cell_type": "markdown",
   "metadata": {},
   "source": [
    "We can observe that the value stabilizes near 0.45 which means most elements of condition part is wildcards.\n",
    "\n",
    "We can execute another experiment, but this time also the mutation ratio will change."
   ]
  },
  {
   "cell_type": "markdown",
   "metadata": {},
   "source": [
    "The following image presents how the alternative plot can look like:\n",
    "![title](temp/generalization.png)"
   ]
  },
  {
   "cell_type": "markdown",
   "metadata": {},
   "source": [
    "Prepare variables for the simulation"
   ]
  },
  {
   "cell_type": "code",
   "execution_count": 17,
   "metadata": {
    "collapsed": true
   },
   "outputs": [],
   "source": [
    "# Create an array containing possible values of mutation rate\n",
    "mutation_rates = np.linspace(0, 1, 9)\n",
    "\n",
    "# Number of experiments\n",
    "EXPERIMENTS = 10\n",
    "\n",
    "# Number of steps in each experiment\n",
    "STEPS = 10000"
   ]
  },
  {
   "cell_type": "markdown",
   "metadata": {},
   "source": [
    "Run the simulation"
   ]
  },
  {
   "cell_type": "code",
   "execution_count": 18,
   "metadata": {
    "collapsed": false
   },
   "outputs": [
    {
     "name": "stdout",
     "output_type": "stream",
     "text": [
      "Experiment: [0]\n",
      "\tMutation rate: 0.0\n",
      "\tMutation rate: 0.125\n",
      "\tMutation rate: 0.25\n",
      "\tMutation rate: 0.375\n",
      "\tMutation rate: 0.5\n",
      "\tMutation rate: 0.625\n",
      "\tMutation rate: 0.75\n",
      "\tMutation rate: 0.875\n",
      "\tMutation rate: 1.0\n",
      "Experiment: [1]\n",
      "\tMutation rate: 0.0\n",
      "\tMutation rate: 0.125\n",
      "\tMutation rate: 0.25\n",
      "\tMutation rate: 0.375\n",
      "\tMutation rate: 0.5\n",
      "\tMutation rate: 0.625\n",
      "\tMutation rate: 0.75\n",
      "\tMutation rate: 0.875\n",
      "\tMutation rate: 1.0\n",
      "Experiment: [2]\n",
      "\tMutation rate: 0.0\n",
      "\tMutation rate: 0.125\n",
      "\tMutation rate: 0.25\n",
      "\tMutation rate: 0.375\n",
      "\tMutation rate: 0.5\n",
      "\tMutation rate: 0.625\n",
      "\tMutation rate: 0.75\n",
      "\tMutation rate: 0.875\n",
      "\tMutation rate: 1.0\n",
      "Experiment: [3]\n",
      "\tMutation rate: 0.0\n",
      "\tMutation rate: 0.125\n",
      "\tMutation rate: 0.25\n",
      "\tMutation rate: 0.375\n",
      "\tMutation rate: 0.5\n",
      "\tMutation rate: 0.625\n",
      "\tMutation rate: 0.75\n",
      "\tMutation rate: 0.875\n",
      "\tMutation rate: 1.0\n",
      "Experiment: [4]\n",
      "\tMutation rate: 0.0\n",
      "\tMutation rate: 0.125\n",
      "\tMutation rate: 0.25\n",
      "\tMutation rate: 0.375\n",
      "\tMutation rate: 0.5\n",
      "\tMutation rate: 0.625\n",
      "\tMutation rate: 0.75\n",
      "\tMutation rate: 0.875\n",
      "\tMutation rate: 1.0\n",
      "Experiment: [5]\n",
      "\tMutation rate: 0.0\n",
      "\tMutation rate: 0.125\n",
      "\tMutation rate: 0.25\n",
      "\tMutation rate: 0.375\n",
      "\tMutation rate: 0.5\n",
      "\tMutation rate: 0.625\n",
      "\tMutation rate: 0.75\n",
      "\tMutation rate: 0.875\n",
      "\tMutation rate: 1.0\n",
      "Experiment: [6]\n",
      "\tMutation rate: 0.0\n",
      "\tMutation rate: 0.125\n",
      "\tMutation rate: 0.25\n",
      "\tMutation rate: 0.375\n",
      "\tMutation rate: 0.5\n",
      "\tMutation rate: 0.625\n",
      "\tMutation rate: 0.75\n",
      "\tMutation rate: 0.875\n",
      "\tMutation rate: 1.0\n",
      "Experiment: [7]\n",
      "\tMutation rate: 0.0\n",
      "\tMutation rate: 0.125\n",
      "\tMutation rate: 0.25\n",
      "\tMutation rate: 0.375\n",
      "\tMutation rate: 0.5\n",
      "\tMutation rate: 0.625\n",
      "\tMutation rate: 0.75\n",
      "\tMutation rate: 0.875\n",
      "\tMutation rate: 1.0\n",
      "Experiment: [8]\n",
      "\tMutation rate: 0.0\n",
      "\tMutation rate: 0.125\n",
      "\tMutation rate: 0.25\n",
      "\tMutation rate: 0.375\n",
      "\tMutation rate: 0.5\n",
      "\tMutation rate: 0.625\n",
      "\tMutation rate: 0.75\n",
      "\tMutation rate: 0.875\n",
      "\tMutation rate: 1.0\n",
      "Experiment: [9]\n",
      "\tMutation rate: 0.0\n",
      "\tMutation rate: 0.125\n",
      "\tMutation rate: 0.25\n",
      "\tMutation rate: 0.375\n",
      "\tMutation rate: 0.5\n",
      "\tMutation rate: 0.625\n",
      "\tMutation rate: 0.75\n",
      "\tMutation rate: 0.875\n",
      "\tMutation rate: 1.0\n"
     ]
    }
   ],
   "source": [
    "performance = pd.DataFrame()\n",
    "\n",
    "for experiment in range(EXPERIMENTS):\n",
    "    print(\"Experiment: [{}]\".format(experiment))\n",
    "    \n",
    "    for mutation_rate in mutation_rates:\n",
    "        print(\"\\tMutation rate: {}\".format(mutation_rate))\n",
    "        \n",
    "        # Re-initialize the environment\n",
    "        env = Maze(MAZE_LOCATION)\n",
    "\n",
    "        # Initialize the agent with metric handler\n",
    "        agent = ACS2(mu=mutation_rate)\n",
    "        agent.add_metrics_handlers([\n",
    "            ActualStep('time'),\n",
    "            AveragedConditionSpecificity('average_specificity'),\n",
    "        ])\n",
    "        \n",
    "        # Evaluate algorithm\n",
    "        #classifiers, metrics = agent.evaluate(env, STEPS)\n",
    "\n",
    "        # Add information about the experiment into metrics\n",
    "        metrics['experiment_id'] = [experiment] * len(metrics['time'])\n",
    "        metrics['mutation_rate'] = [mutation_rate] * len(metrics['time'])\n",
    "\n",
    "        # Append performance metrics\n",
    "        performance = performance.append(pd.DataFrame(metrics))"
   ]
  },
  {
   "cell_type": "markdown",
   "metadata": {},
   "source": [
    "To calculate the condition specificity we will take it's value obtained after last step in each experiment and average it."
   ]
  },
  {
   "cell_type": "code",
   "execution_count": 19,
   "metadata": {
    "collapsed": false
   },
   "outputs": [],
   "source": [
    "def get_avg_specificity_by_mutation_rate(performance):\n",
    "    last_as_by_experiment = pd.DataFrame(performance\n",
    "                                         .groupby(['experiment_id','mutation_rate'])['average_specificity']\n",
    "                                         .last())\n",
    "    last_as_by_experiment.reset_index(inplace=True)\n",
    "    \n",
    "    avg_as_by_mutation_rate = pd.DataFrame(last_as_by_experiment\n",
    "                                           .groupby(['mutation_rate'])['average_specificity']\n",
    "                                           .mean())\n",
    "    avg_as_by_mutation_rate.reset_index(inplace=True)\n",
    "    \n",
    "    return avg_as_by_mutation_rate"
   ]
  },
  {
   "cell_type": "markdown",
   "metadata": {},
   "source": [
    "See how the results look like"
   ]
  },
  {
   "cell_type": "code",
   "execution_count": 20,
   "metadata": {
    "collapsed": false
   },
   "outputs": [
    {
     "data": {
      "text/html": [
       "<div>\n",
       "<table border=\"1\" class=\"dataframe\">\n",
       "  <thead>\n",
       "    <tr style=\"text-align: right;\">\n",
       "      <th></th>\n",
       "      <th>mutation_rate</th>\n",
       "      <th>average_specificity</th>\n",
       "    </tr>\n",
       "  </thead>\n",
       "  <tbody>\n",
       "    <tr>\n",
       "      <th>0</th>\n",
       "      <td>0.000</td>\n",
       "      <td>0.561707</td>\n",
       "    </tr>\n",
       "    <tr>\n",
       "      <th>1</th>\n",
       "      <td>0.125</td>\n",
       "      <td>0.561707</td>\n",
       "    </tr>\n",
       "    <tr>\n",
       "      <th>2</th>\n",
       "      <td>0.250</td>\n",
       "      <td>0.561707</td>\n",
       "    </tr>\n",
       "    <tr>\n",
       "      <th>3</th>\n",
       "      <td>0.375</td>\n",
       "      <td>0.561707</td>\n",
       "    </tr>\n",
       "    <tr>\n",
       "      <th>4</th>\n",
       "      <td>0.500</td>\n",
       "      <td>0.561707</td>\n",
       "    </tr>\n",
       "    <tr>\n",
       "      <th>5</th>\n",
       "      <td>0.625</td>\n",
       "      <td>0.561707</td>\n",
       "    </tr>\n",
       "    <tr>\n",
       "      <th>6</th>\n",
       "      <td>0.750</td>\n",
       "      <td>0.561707</td>\n",
       "    </tr>\n",
       "    <tr>\n",
       "      <th>7</th>\n",
       "      <td>0.875</td>\n",
       "      <td>0.561707</td>\n",
       "    </tr>\n",
       "    <tr>\n",
       "      <th>8</th>\n",
       "      <td>1.000</td>\n",
       "      <td>0.561707</td>\n",
       "    </tr>\n",
       "  </tbody>\n",
       "</table>\n",
       "</div>"
      ],
      "text/plain": [
       "   mutation_rate  average_specificity\n",
       "0          0.000             0.561707\n",
       "1          0.125             0.561707\n",
       "2          0.250             0.561707\n",
       "3          0.375             0.561707\n",
       "4          0.500             0.561707\n",
       "5          0.625             0.561707\n",
       "6          0.750             0.561707\n",
       "7          0.875             0.561707\n",
       "8          1.000             0.561707"
      ]
     },
     "execution_count": 20,
     "metadata": {},
     "output_type": "execute_result"
    }
   ],
   "source": [
    "avg_as_by_mutation_rate = get_avg_specificity_by_mutation_rate(performance)\n",
    "avg_as_by_mutation_rate"
   ]
  },
  {
   "cell_type": "code",
   "execution_count": 21,
   "metadata": {
    "collapsed": false
   },
   "outputs": [
    {
     "data": {
      "image/png": "[encoded data removed]",
      "text/plain": [
       "<matplotlib.figure.Figure at 0x1085dda58>"
      ]
     },
     "metadata": {},
     "output_type": "display_data"
    }
   ],
   "source": [
    "fig = plt.figure(figsize=(15, 8), dpi=100)\n",
    "\n",
    "plt.plot(avg_as_by_mutation_rate['mutation_rate'],\n",
    "         avg_as_by_mutation_rate['average_specificity'], 'r', linewidth=2)\n",
    "plt.title('Averaged specificity ratio')\n",
    "plt.xlabel('Mutation rate')\n",
    "plt.ylabel('Specificity')\n",
    "\n",
    "plt.grid(True)\n",
    "plt.show()"
   ]
  },
  {
   "cell_type": "code",
   "execution_count": null,
   "metadata": {
    "collapsed": true
   },
   "outputs": [],
   "source": []
  }
 ],
 "metadata": {
  "kernelspec": {
   "display_name": "Python 3",
   "language": "python",
   "name": "python3"
  },
  "language_info": {
   "codemirror_mode": {
    "name": "ipython",
    "version": 3
   },
   "file_extension": ".py",
   "mimetype": "text/x-python",
   "name": "python",
   "nbconvert_exporter": "python",
   "pygments_lexer": "ipython3",
   "version": "3.5.0"
  }
 },
 "nbformat": 4,
 "nbformat_minor": 0
}
