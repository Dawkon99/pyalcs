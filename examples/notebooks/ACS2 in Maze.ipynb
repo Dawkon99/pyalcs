{
 "cells": [
  {
   "cell_type": "markdown",
   "metadata": {},
   "source": [
    "# ACS2 in Maze Experiments\n",
    "The following notebooks provides reproducible playground for experimenting how ACS2 agent behaves inside Maze environments.\n",
    "\n",
    "TODO:\n",
    "- check if classifiers with $q < 0.1$ are deleted,\n",
    "\n",
    "#### Resources\n",
    "- Nice [presentation](http://www.psychologie.uni-wuerzburg.de/stolzmann/ACS-tutorial/ACS-tutorial.pdf),\n",
    "\n",
    "### History of ACS\n",
    "First ALCS ([ACS](http://www.psychologie.uni-wuerzburg.de/stolzmann/gp-98.ps.gz)) was developed by Stolzmanm in 1997 (with puts an additional anticipatory part in each classifier). Another ALCS with an explicit anticipatory part [YACS](http://citeseerx.ist.psu.edu/viewdoc/summary?doi=10.1.1.26.1149), has been published in Gerard and Siguad (2001). Tomlison and Bull (2000) published a cooperate learning classifier system ([CXCS](http://dl.acm.org/citation.cfm?id=689033)) in which cooperations between rules allow antitipatory proceses.\n",
    "\n",
    "\n",
    "ACS2 (derived from Stolzmann's work) is intendet to create a solution that is *complete*, *accurate* and *maximally general*. Major differences between ACS and ACS2:\n",
    "- ACS2 evolves explicit rules for situation-action tuples in which no changes occurs (a *pass-through-symbol* in E part **requires** a change in value),\n",
    "- ACS2's ALP (specialization pressure) and GA (generalization pressure) processes are improved"
   ]
  },
  {
   "cell_type": "markdown",
   "metadata": {},
   "source": [
    "### Knowledge representation\n",
    "Knowledge in an ACS2 is represented by a population of classifiers. Each classifier represents a *condition-action-effect* that anticipates the model *state* resulting from the execution of the *action* given the specified *conditions*.\n",
    "\n",
    "> A classifier in ACS2 always specifes a complete resulting state.\n",
    "\n",
    "It consists of the following main components:\n",
    "- *condition part (C)* - specifies the set of situations in which a classifier is applicable,\n",
    "- *action part (A)* - proposes an available action,\n",
    "- *effect part (E)* - anticipates the effects of the proposed action in the specific conditions,\n",
    "- *quality (q)* - measures the accuracy of the anticipated results, $q \\in [0,1]$,\n",
    "- *reward prediction (r)* - estimates the reward encountered after the execution of action A in condition C, $r \\in \\!R$\n",
    "- *intermediate reward prediction (ir)* - estimates the *direct* reinforcement encountered after execution of action A in condition C, $ir \\in \\!R$\n",
    "\n",
    "The *condition* and *effect* part consist of the values perceived from the environment and `#` symbols (i.e. $C,E \\in \\{ l_1, l_2, \\dots, l_m, \\# \\}^L$. \n",
    "\n",
    "> A `#`-symbol in the:\n",
    "- condition part is called *\"don't care\"* and denotes that the classifier matches any value in this attribute,\n",
    "- effect part is called *\"pass-through\"* specifies that the classifier anticipates that the value of this attribute will not change after the execution of the specified action\n",
    "\n",
    "> **Non pass-through symbols in E anticipate the change of the particular attribute to the specified value** (in contrast to ACS in which a non pass-through symbol did not require a change in value).\n",
    "\n",
    "Additionally each classifier compromises:\n",
    "- *Mark (M)* - records the values of each attribute of all situations in which the classifer did not anticipate correctly sometimes,\n",
    "- *GA timestamp ($t_{ga}$)* - timestamp when GA was last applied,\n",
    "- *ALP timestamp ($t_{alp}$)* - timestamp when ALP was last applied,\n",
    "- *application average (aav)* - estimates the frequency a classifier is updated (i.e. part of an action set),\n",
    "- *experience counter (exp)* - counts the number of applications,\n",
    "- *numerosity (num)* - denotes the number of micro-classifers this macroclassifier represents (one classifier may represent many identical micro-classifier)"
   ]
  },
  {
   "cell_type": "markdown",
   "metadata": {},
   "source": [
    "### Agent interaction\n",
    "ACS2 interacts *autonomously* with an environment.\n",
    "<img src=\"temp/agent_environment_interaction.png\" alt=\"agent_env_interaction\" style=\"width: 400px;\"/>\n",
    "\n",
    "In a *behavioral act* at a certain time $t$, the agent perceives a situation $\\sigma(t) = \\{ l_1, l_2, \\dots, l_m \\}^L$, where: \n",
    "\n",
    "- $m$ denotes the number of possible values of each environmental attribute (or feature), \n",
    "- $l_1, l_2, \\dots, l_n$ denote the different possible values for each attribute,\n",
    "- $L$ denotes the string length.\n",
    "\n",
    "> Note that each attribute can only take **discrete** values.\n",
    "\n",
    "The system can act upon the environment with an action $\\alpha(t) = \\{ \\alpha_1, \\alpha_2, \\dots, \\alpha_n \\}$, where:\n",
    "\n",
    "- $n$ specifies the number of different possible actions in in the environment,\n",
    "- $\\alpha_1, \\alpha_2, \\dots, \\alpha_n$ denote the different possible actions\n",
    "\n",
    "After the execution of an action, the environment provides a scalar reinforcement value $\\rho(t) \\in \\mathbb{R}$"
   ]
  },
  {
   "cell_type": "markdown",
   "metadata": {},
   "source": [
    "### Environmental Model\n",
    "By interacting with the environemnt the ACS2 learns about it's structure. Usually the agent starts without any prior knowledge. Initially new classifiers are mainly generated by a *covering* mechanizm in ALP. Later the ALP generates specialized clasifiers while the GG tries to introduce some genetic generalization.\n",
    "\n",
    "Figure below presents the interaction with greater details.\n",
    "1. After the **perception of the current situation** $\\sigma(t)$, ACS2 forms a **match set** `[M]` comprising all classifiers in the population `[P]` whose conditions are satisfied in $\\sigma(t)$,\n",
    "2. ACS2 **chooses an action** $\\alpha(t)$ according to some strategy (see below),\n",
    "3. With respect to the chosen action, an **action set** `[A]` is generated that consist of all classifiers in `[M]` that specify the chosen action $\\alpha(t)$,\n",
    "4. After the execution of $\\alpha(t)$ **classifier parameters are updated** by ALP and RL. New classifiers might be added or deleted due to the ALP and GG (see below).\n",
    "\n",
    "\n",
    "<img src=\"temp/ACS2.png\" alt=\"Environmental model\" style=\"width: 600px;\"/>\n",
    "\n",
    "##### Action selection Strategies\n",
    "Possible strategies used for choosing which action to execute next:\n",
    "\n",
    "- $\\epsilon$-greedy (Sutton and Barto, 1998, often used in reinforcement learning),\n",
    "- ..."
   ]
  },
  {
   "cell_type": "markdown",
   "metadata": {},
   "source": [
    "#### Anticipatory Learning Process (ALP)\n",
    "The ALP was originally derived from the cognitive theory of anticipatory behavioral control (Hoffman, 1993). The process results in the evaluation and specialization of the anticipatory model in ACS2.\n",
    "\n",
    "> ALP first update classifier parameters. Next an offspring is generated and inaccuate classifiers are removed.\n",
    "\n",
    "##### Parameter updates\n",
    "The following parameters are updated in the **following order** - quality ($q$), mark ($M$), application average ($aav$), ALP timestamp ($t_{alp}$) and the experience counter ($exp$).\n",
    "\n",
    "###### Quality\n",
    "The quality $q$ is updated according to the classifiers anticipation. If the classifier predicted correctly, the quality is increased using the following formula:\n",
    "$$q \\leftarrow q + \\beta (1- q)$$\n",
    "\n",
    "Otherwise it is decreased:\n",
    "$$q \\leftarrow q - \\beta q$$\n",
    "\n",
    "> In the equation, $\\beta \\in [0,1]$ denotes the **learning rate** of ACS2. The smaller the learning rate, the more passive ACS2 updates its values and the less are the values biased towards recent environmental interactions. On the other hand, the larger the learning rate, the faster the parameters adapt to changes in the environment but also the more noisy are the parameters.\n",
    "\n",
    "###### Mark\n",
    "Situation $\\sigma(t) = (\\sigma_1, \\dots, \\sigma_L)$ is added to the mark $M = (m_i, \\dots, m_L)$ if the classifier did not anticipate correctly. In this case $\\forall_i m_i = m_i \\cup \\{ \\sigma_i\\} $.\n",
    "\n",
    "###### Application average\n",
    "Parameter is updated using the *\"moyenne adaptive modifiee\"* technique as introduced in Venturini (1994).\n",
    "\n",
    "$$\n",
    "cl.aav \\leftarrow \\left\\{\n",
    "                \\begin{array}{ll}\n",
    "                  \\frac{cl.aav(cl.exp -1) + (t - cl.t_{alp})}{cl.exp} & \\text{if}\\ cl.exp < \\frac{1}{\\beta}\\\\\n",
    "                  cl.aav + \\beta (t - cl.t_{alp}) & \\text{otherwise}\\\\\n",
    "                \\end{array}\n",
    "              \\right.\n",
    "$$\n",
    "\n",
    "> The technique assures the fast adaptation of $aav$ once the classifier is introduced and later assures a continues update according to the overall learning rate $\\beta$. Note, this technique also introduces a possible high factor of noise in the young classifier. Thus, the technique is not applied in the quality updates.\n",
    "\n",
    "###### ALP timestamp\n",
    "The ALP time stamp is set to the current time t recording the last parameter update in the ALP.\n",
    "$$cl.t_{alp} \\leftarrow t$$\n",
    "\n",
    "###### Experience\n",
    "Increment experience by 1\n",
    "\n",
    "$$cl.exp \\leftarrow cl.exp + 1$$\n",
    "\n",
    "##### Classifier generation and deletion\n",
    "The ALP generates specialized offspring and/or deletes *inaccurate* classifiers.\n",
    "\n",
    "> Inaccurate classifiers are classifiers whose quality is lower than the inaccuracy threshold $\\theta_i$. When the quality of a classifiers falls below $\\theta_i$ after an update, it is deleted.\n",
    "\n",
    "More specialized classifiers are generated in two ways.\n",
    "\n",
    "1. An **expected case**, in which a classifier anticipated the correct outcome, a classifier *might* be generated if the mark $M$ differs from the situation $\\sigma(t)$ in some attributes, i.e. $\\exists_{i,j} l_j \\in m_i \\wedge l_j \\neq \\sigma_i$. Since the mark specifies the characteristics of situations in which a classifier did not work correctly, a **difference indicates that the specific position might be important to distinguish the correct and wrong outcome case**. Thus, the ALP generates an offspring whose conditions are further specialized. If there are unique differences in the mark compared to the current situation, i.e. $\\exists_i \\sigma_i \\notin m_i$, then one of the unique difference is specialized in the offspring. However, if there are only positions that differ but $\\sigma_i$ is always part of $m_i$, i.e. $\\forall_i \\sigma_i \\in m_i$, then all differing positions are specialized.\n",
    "> The number of specialized positions in the conditions that are not specialized in the effects is limited to $u_{max}$.\n",
    "\n",
    "2. In an **unexpected case**, a classifier did not anticipate the correct outcome. In this case, an offspring classifier is generated, if the effect part of the classifier can be further specialized (by changing pass-through symbols to specific values) to specify the perceived outcome correctly. All positions in condition and effect part are specialized that change from $\\sigma(t)$ to $\\sigma(t+1)$.\n",
    "\n",
    "> In both reproduction cases:\n",
    "- the Mark $M$ of the offspring is emptied - $cl.M \\leftarrow \\emptyset$,\n",
    "- the experience counter $exp$ is set to zero - $cl.exp \\leftarrow 0$, \n",
    "- ALP and GA time stamp are set to the current time t - $cl.t_{alp}, cl.t_{ga} \\leftarrow t$,\n",
    "- the numerosity is set to one - $cl.num \\leftarrow 0$,\n",
    "- all other parameters are inherited from the parents.\n",
    "\n",
    "> If the generated offspring already exists in the population `[P]`, the offspring is discarded and the quality q of the old classifier is increased applying equation 1.\n",
    "    \n",
    "    \n",
    "A classifier is also generated if there was no other classifier in the actual action set `[A]` that anticipated the effect correctly. In this case, a **covering classifier** is generated that is specialized in all attributes in condition and effect part that changed from $\\sigma(t)$ to $\\sigma(t+1)$.\n",
    "> The covering method was not applied in ACS since in ACS a completely general classifiers was always present for each action.\n",
    "\n",
    "The attributes of the Mark $M$ of the covering classifier are initially empty. Quality $q$ is set to 0.5 as well as the reward prediction $r$, while the immediate reward prediction $ir$ as well as the application average $avv$ are set to 0. The time stamps are set to the current time $t$.\n",
    "$$\n",
    "cl.M \\leftarrow \\emptyset \\\\\n",
    "cl.q \\leftarrow 0.5 \\\\\n",
    "cl.r \\leftarrow 0.5 \\\\\n",
    "cl.ir \\leftarrow 0 \\\\\n",
    "cl.aav \\leftarrow 0 \\\\\n",
    "cl.t_{alp} \\leftarrow t \\\\\n",
    "cl.t_{ga} \\leftarrow t\n",
    "$$"
   ]
  },
  {
   "cell_type": "markdown",
   "metadata": {},
   "source": [
    "#### Genetic Generalization (GG)\n",
    "While the ALP specializes classifiers in a quite competent way, over-specializations can occur sometimes as studied in (Butz, 2001). Since the over-specialization cases can be caused by various circumstances, a *genetic generalization* (GG) mechanism was applied that, interacting with the ALP, results in the evolution of a complete, accurate, and maximally general model.\n",
    "\n",
    "The mechanism starts after applying ALP module, and looks as follow:\n",
    "\n",
    "1. **Determine if GG should be applied**. GG is applied if the average time since last GG application in the current action set `[A]` is larger than the threshold $\\theta_{ga}$.\n",
    "$$\n",
    "t - \\frac{\\sum_{cl \\in [A]} cl.t_{ga} cl.num}{\\sum_{cl \\in [A]} cl.num} > \\theta_{ga}\n",
    "$$\n",
    "\n",
    "2. If the mechanism is applied update the application time for all classifiers  $\\forall_{cl \\in [A]} cl.t_{ga} \\leftarrow t$,\n",
    "\n",
    "3. Select two classifiers using *\"roulette-wheel selection\"*, with respect to their qualities $q$.\n",
    "4. Reproduce two classifiers, by removing marks and halving the qualities.\n",
    "$$\n",
    "cl_1.M \\leftarrow \\emptyset \\\\\n",
    "cl_2.M \\leftarrow \\emptyset \\\\\n",
    "cl_1.q \\leftarrow \\frac{cl_1.q}{2} \\\\\n",
    "cl_2.q \\leftarrow \\frac{cl_2.q}{2}\n",
    "$$\n",
    "5. Mutate classifiers, by applying a *\"generalizing mutation\"*.\n",
    ">Generalizing mutation is only mutating **specified** attributes in the condition part C back to don’t care `#` symbols. A specialized attribute is generalized with a probability $\\mu$. Moreover, conditions of the offspring are crossed applying **two-point crossover** with a probability of $\\chi$. In the case of a crossover application, quality, reward prediction, and immediate reward prediction are averaged over the offspring.\n",
    "\n",
    "6. Insert new offspring classifiers into `[P]` and `[A]`\n",
    "> If a generated offspring already exists in the population, the offspring classifier is discarded and if the existing classifier is not marked its numerosity is increased by one.\n",
    "$$\n",
    "cl.M \\leftarrow \\emptyset \\\\\n",
    "cl.num \\leftarrow cl.num + 1\n",
    "$$\n",
    "\n",
    "The GG mechanism also applies a **deletion procedure** inside the action sets. If an action set `[A]` exceeds the action set size threshold $\\theta_{as}$, excess classifiers are deleted in `[A]`. The procedure applies a *\"tournament selection\"* process in which the classifier with the significant lowest quality, or the classifier with the highest specificity is deleted. Thus, deletion causes the extinction of low-quality as well as over-specialized classifiers."
   ]
  },
  {
   "cell_type": "markdown",
   "metadata": {},
   "source": [
    "#### Reinforcement Learning (RL)\n",
    "About RL"
   ]
  },
  {
   "cell_type": "markdown",
   "metadata": {},
   "source": [
    "## Imports and configuration\n",
    "Load project files from upper directory (nasty solution)."
   ]
  },
  {
   "cell_type": "code",
   "execution_count": 1,
   "metadata": {
    "collapsed": false
   },
   "outputs": [],
   "source": [
    "import sys\n",
    "sys.path.append('/Users/khozzy/Projects/pyalcs')"
   ]
  },
  {
   "cell_type": "markdown",
   "metadata": {},
   "source": [
    "Import `pyalcs` module"
   ]
  },
  {
   "cell_type": "code",
   "execution_count": 2,
   "metadata": {
    "collapsed": false
   },
   "outputs": [],
   "source": [
    "# Enable automatic module reload\n",
    "%load_ext autoreload\n",
    "%autoreload 2\n",
    "\n",
    "from alcs.agent.acs2 import ACS2\n",
    "from alcs.environment.maze import Maze\n",
    "\n",
    "# Metrics\n",
    "from alcs.helpers.metrics import \\\n",
    "    ActualStep,\\\n",
    "    ClassifierPopulationSize,\\\n",
    "    AveragedFitnessScore,\\\n",
    "    SuccessfulTrial,\\\n",
    "    AveragedConditionSpecificity,\\\n",
    "    AchievedKnowledge"
   ]
  },
  {
   "cell_type": "markdown",
   "metadata": {},
   "source": [
    "Other helpers"
   ]
  },
  {
   "cell_type": "code",
   "execution_count": 3,
   "metadata": {
    "collapsed": true
   },
   "outputs": [],
   "source": [
    "%matplotlib inline\n",
    "\n",
    "from concurrent.futures import ProcessPoolExecutor, as_completed\n",
    "\n",
    "import numpy as np\n",
    "import pandas as pd\n",
    "import matplotlib.pyplot as plt"
   ]
  },
  {
   "cell_type": "markdown",
   "metadata": {},
   "source": [
    "## Experiment\n",
    "We are going to test ACS2 **agent** inside **maze** environment. The agent will have 2 tasks:\n",
    "1. learn the shortest path to the goal state,\n",
    "2. learn the internal model of the environment"
   ]
  },
  {
   "cell_type": "markdown",
   "metadata": {},
   "source": [
    "### Maze\n",
    "Currently there are 4 mazes implemented:\n",
    "- `mazes/MazeF1.maze` (deterministic),\n",
    "- `mazes/MazeF2.maze` (deterministic),\n",
    "- `mazes/MazeF3.maze` (deterministic),\n",
    "- `mazes/MazeF4.maze` (non-deterministic)\n",
    "\n",
    "Maze `MazeF4` introduces also the *aliasing* problem - the are two states that looks exactly the same for an agent."
   ]
  },
  {
   "cell_type": "code",
   "execution_count": 4,
   "metadata": {
    "collapsed": true
   },
   "outputs": [],
   "source": [
    "# Location of the maze file\n",
    "MAZE_LOCATION = 'mazes/MazeF2.maze'"
   ]
  },
  {
   "cell_type": "markdown",
   "metadata": {},
   "source": [
    "And visualize it"
   ]
  },
  {
   "cell_type": "code",
   "execution_count": 5,
   "metadata": {
    "collapsed": false
   },
   "outputs": [
    {
     "data": {
      "image/png": "[encoded data removed]",
      "text/plain": [
       "<matplotlib.figure.Figure at 0x1070184a8>"
      ]
     },
     "metadata": {},
     "output_type": "display_data"
    }
   ],
   "source": [
    "env = Maze(MAZE_LOCATION)\n",
    "\n",
    "fig = plt.figure(figsize=(env.max_x, env.max_y))\n",
    "ax = fig.add_subplot(111, aspect='equal')\n",
    "\n",
    "# Render maze as image\n",
    "plt.imshow(env.matrix, interpolation='none', cmap='Set3', aspect='auto',\n",
    "           extent=[0, env.max_x, env.max_y, 0])\n",
    "\n",
    "# Add labels to each cell\n",
    "for x in range(0, env.max_x):\n",
    "    for y in range(0, env.max_y):\n",
    "        plt.text(x+0.4, y+0.5, env.matrix[y][x])\n",
    "\n",
    "ax.set_title(MAZE_LOCATION)\n",
    "ax.set_xlabel('x')\n",
    "ax.set_ylabel('y')\n",
    "\n",
    "plt.xlim(0, env.max_x)\n",
    "plt.ylim(env.max_y, 0)\n",
    "\n",
    "plt.xticks(range(0, env.max_x))\n",
    "plt.yticks(range(0, env.max_y))\n",
    "\n",
    "plt.grid(True)\n",
    "plt.show()"
   ]
  },
  {
   "cell_type": "markdown",
   "metadata": {},
   "source": [
    "**Legend / reward map**:\n",
    "- `0` is a $wall$ (cannot cross),\n",
    "- `1` is a $path$ (reward $\\rho = 0$),\n",
    "- `9` is a $price$ (reward $\\rho = 1000$)"
   ]
  },
  {
   "cell_type": "markdown",
   "metadata": {},
   "source": [
    "### Agent\n",
    "Agent interacts autonomously with the environment.\n",
    "\n",
    "In this notebook it moves in maze for the certain number of steps.\n",
    "\n",
    "> **Trial** is a successful run of agent when he manages to find the reward.\n",
    "\n",
    "> After learning it should take him less and less steps to reach the goal.\n",
    "\n",
    "At the beginning of each trial an agent is randomly placed inside the maze. He can perceive 4 values (neighbourhood cells - N, E, S, W) and move in 4 directions (N, E, S, W)."
   ]
  },
  {
   "cell_type": "markdown",
   "metadata": {},
   "source": [
    "### Run the simulation\n",
    "The whole simulation will run a certain number of times for certain number of steps."
   ]
  },
  {
   "cell_type": "code",
   "execution_count": null,
   "metadata": {
    "collapsed": true
   },
   "outputs": [],
   "source": [
    "# Number of experiments\n",
    "EXPERIMENTS = 20\n",
    "\n",
    "# Number of agent steps for each experiment\n",
    "STEPS = 3000 # 10 000\n",
    "\n",
    "# Maximum number of steps in single trial (before resetting an animat)\n",
    "# Set to None for no limits\n",
    "MAX_STEPS_IN_TRIAL = 50\n",
    "\n",
    "# Amount of processes pool\n",
    "PROCESSES = 2"
   ]
  },
  {
   "cell_type": "markdown",
   "metadata": {},
   "source": [
    "Let's declare a function performing a single experiment.\n",
    "\n",
    "We are:\n",
    "1. initializing an agent,\n",
    "2. instructing him to collect specified measurements,\n",
    "3. initializing the environment,\n",
    "4. running the simulation,\n",
    "5. returning obtained classifiers and metrics\n"
   ]
  },
  {
   "cell_type": "code",
   "execution_count": null,
   "metadata": {
    "collapsed": false
   },
   "outputs": [],
   "source": [
    "def perform_experiment(experiment):\n",
    "    # Initialize the agent\n",
    "    agent = ACS2()\n",
    "    agent.add_metrics_handlers([\n",
    "        ActualStep('time'),\n",
    "        SuccessfulTrial('found_reward'),\n",
    "        ClassifierPopulationSize('total_classifiers'),\n",
    "        AveragedFitnessScore('average_fitness'),\n",
    "        AveragedConditionSpecificity('average_specificity'),\n",
    "        AchievedKnowledge('achieved_knowledge')\n",
    "    ])\n",
    "\n",
    "    # Initialize the environment\n",
    "    env = Maze(MAZE_LOCATION)\n",
    "\n",
    "    # Evaluate algorithm\n",
    "    classifiers, metrics = agent.evaluate(env, STEPS, MAX_STEPS_IN_TRIAL)\n",
    "\n",
    "    # Add information about the experiment into metrics\n",
    "    metrics['experiment_id'] = [experiment] * len(metrics['time'])\n",
    "\n",
    "    return classifiers, metrics"
   ]
  },
  {
   "cell_type": "markdown",
   "metadata": {},
   "source": [
    "Then firing many jobs in parallel."
   ]
  },
  {
   "cell_type": "code",
   "execution_count": null,
   "metadata": {
    "collapsed": false
   },
   "outputs": [],
   "source": [
    "all_classifiers = []\n",
    "all_metrics = pd.DataFrame()\n",
    "\n",
    "with ProcessPoolExecutor(PROCESSES) as executor:\n",
    "    futures = []\n",
    "\n",
    "    for i in range(EXPERIMENTS):\n",
    "        future = executor.submit(perform_experiment, i)\n",
    "        futures.append(future)\n",
    "\n",
    "    for idx, el in enumerate(as_completed(futures)):\n",
    "        classifiers, metrics = el.result()\n",
    "\n",
    "        all_classifiers.append(classifiers)\n",
    "        all_metrics = all_metrics.append(pd.DataFrame(metrics))"
   ]
  },
  {
   "cell_type": "markdown",
   "metadata": {},
   "source": [
    "We can also inspect how the classifier population looks. Internal model of the environment is specified only by reliable classifiers."
   ]
  },
  {
   "cell_type": "code",
   "execution_count": null,
   "metadata": {
    "collapsed": false
   },
   "outputs": [],
   "source": [
    "# take classifiers from the first experiment\n",
    "classifiers = all_classifiers[0]\n",
    "\n",
    "# Select only 'reliable' ones\n",
    "reliable = [c for c in classifiers if c.q > 0.9]\n",
    "\n",
    "print(\"Population classifiers: {}\".format(len(classifiers)))\n",
    "print(\"Reliable classifiers: {}\\n\".format(len(reliable)))\n",
    "\n",
    "for cls in reliable:\n",
    "    print(cls)"
   ]
  },
  {
   "cell_type": "markdown",
   "metadata": {},
   "source": [
    "<p style=\"color:red\">**TODO**: There are duplicate classifiers!!!! Maybe subsumption does not works. Why low quality classifiers are not removed?</p>"
   ]
  },
  {
   "cell_type": "markdown",
   "metadata": {},
   "source": [
    "## Performance metrics\n",
    "Let's have a look how the performance metrics look like by taking 5 random samples:"
   ]
  },
  {
   "cell_type": "code",
   "execution_count": null,
   "metadata": {
    "collapsed": false,
    "scrolled": true
   },
   "outputs": [],
   "source": [
    "all_metrics.sample(5)"
   ]
  },
  {
   "cell_type": "markdown",
   "metadata": {},
   "source": [
    "### Number of steps to food\n",
    "Measures if the classifier actually *learns* something along the time.\n",
    "\n",
    "> **Number of steps to food** - How many steps were needed in **each trial** to found the reward.\n",
    "\n",
    "We need to have a little helper function for operating on obtained measurements."
   ]
  },
  {
   "cell_type": "code",
   "execution_count": null,
   "metadata": {
    "collapsed": false
   },
   "outputs": [],
   "source": [
    "def get_avg_number_of_steps_to_food(performance):\n",
    "    trials_by_experiment = pd.DataFrame(performance\n",
    "                                        .groupby('experiment_id')\n",
    "                                        .apply(lambda x: x['found_reward'].cumsum())\n",
    "                                        .stack())\n",
    "    trials_by_experiment.reset_index(inplace=True)\n",
    "    trials_by_experiment.rename(columns = {'found_reward': 'time', 0: 'trial'},\n",
    "                                inplace=True)\n",
    "\n",
    "    # Experiment_id, trial, steps\n",
    "    steps_per_trial_in_experiment = pd.DataFrame(trials_by_experiment\n",
    "                                                 .groupby(['experiment_id', 'trial'])\n",
    "                                                 .size())\n",
    "    steps_per_trial_in_experiment.reset_index(inplace=True)\n",
    "    steps_per_trial_in_experiment.rename(columns = {0: 'steps'}, inplace=True)\n",
    "\n",
    "    # Trial, averaged steps\n",
    "    averaged_steps_per_trial = pd.DataFrame(steps_per_trial_in_experiment.groupby('trial')['steps'].mean())\n",
    "    averaged_steps_per_trial.rename(columns = {'steps': 'averaged_steps'}, inplace=True)\n",
    "    averaged_steps_per_trial.reset_index(inplace=True)\n",
    "    \n",
    "    return averaged_steps_per_trial"
   ]
  },
  {
   "cell_type": "markdown",
   "metadata": {},
   "source": [
    "Now we can visualize the results"
   ]
  },
  {
   "cell_type": "code",
   "execution_count": null,
   "metadata": {
    "collapsed": false
   },
   "outputs": [],
   "source": [
    "steps_to_food = get_avg_number_of_steps_to_food(all_metrics)\n",
    "\n",
    "fig = plt.figure(figsize=(15, 8), dpi=100)\n",
    "\n",
    "plt.bar(steps_to_food['trial'], steps_to_food['averaged_steps'])\n",
    "plt.title('Averaged number of steps to food')\n",
    "plt.xlabel('Trial')\n",
    "plt.ylabel('Steps')\n",
    "\n",
    "# plt.yscale('log')\n",
    "plt.grid(True)\n",
    "\n",
    "plt.show()"
   ]
  },
  {
   "cell_type": "markdown",
   "metadata": {},
   "source": [
    "### Achieved knowledge\n",
    "Measures if an agent is *learning* the environment.\n",
    "\n",
    "> **Achieved knowledge** - test whether or not there is a **reliable classifier** for each transition $(\\sigma_{1}, \\alpha, \\sigma_{2})$ with $\\sigma_{1} \\neq \\sigma_{2}$ that can be applied in $\\sigma_{1}$ and anticipates $\\sigma_{2}$ correctly.\n",
    "\n",
    "This metric is calculated after each time-step done by the agent."
   ]
  },
  {
   "cell_type": "code",
   "execution_count": null,
   "metadata": {
    "collapsed": false
   },
   "outputs": [],
   "source": [
    "def get_avg_achieved_knowledge_per_step(performance):\n",
    "    knowledge_per_step = pd.DataFrame(performance.groupby('time')['achieved_knowledge'].mean())\n",
    "    knowledge_per_step.reset_index(inplace=True)\n",
    "    return knowledge_per_step"
   ]
  },
  {
   "cell_type": "markdown",
   "metadata": {},
   "source": [
    "Plot the results"
   ]
  },
  {
   "cell_type": "code",
   "execution_count": null,
   "metadata": {
    "collapsed": false
   },
   "outputs": [],
   "source": [
    "knowledge_per_step = get_avg_achieved_knowledge_per_step(all_metrics)\n",
    "\n",
    "fig = plt.figure(figsize=(15, 8), dpi=100)\n",
    "\n",
    "plt.plot(knowledge_per_step['time'], knowledge_per_step['achieved_knowledge'], 'r')\n",
    "plt.title('Averaged achieved knowledge')\n",
    "plt.xlabel('Step')\n",
    "plt.ylabel('Achieved knowledge')\n",
    "\n",
    "plt.grid(True)\n",
    "\n",
    "plt.show()"
   ]
  },
  {
   "cell_type": "markdown",
   "metadata": {},
   "source": [
    "### Specificity measure\n",
    "Measure the *generalization* in classifier population.\n",
    "\n",
    "> **Specificity measure** - Equal to the **sum** of all specialized attributed in condition part of all classifiers in population **divided** by the number of classifiers **times** the length of  the perception $\\sigma$.\n",
    "\n",
    "You can read more about this metric in \"*Introducing a Genetic Generalization Pressure to the\n",
    "Anticipatory Classfierier System - Part2: Performance Analysis*\" by Martin V. Butz.\n",
    "\n",
    "Plot should change after modifing the agent's *mutation* and *cross over* values. The author claims that the best generalization was reached for mutation rate $\\mu = 0.4$."
   ]
  },
  {
   "cell_type": "code",
   "execution_count": null,
   "metadata": {
    "collapsed": false
   },
   "outputs": [],
   "source": [
    "def get_avg_specificity_per_step(performance):\n",
    "    spec_per_step = pd.DataFrame(performance.groupby('time')['average_specificity'].mean())\n",
    "    spec_per_step.reset_index(inplace=True)\n",
    "    return spec_per_step"
   ]
  },
  {
   "cell_type": "markdown",
   "metadata": {},
   "source": [
    "Plot the results"
   ]
  },
  {
   "cell_type": "code",
   "execution_count": null,
   "metadata": {
    "collapsed": false,
    "scrolled": true
   },
   "outputs": [],
   "source": [
    "spec_per_step = get_avg_specificity_per_step(all_metrics)\n",
    "\n",
    "fig = plt.figure(figsize=(15, 8), dpi=100)\n",
    "\n",
    "plt.plot(spec_per_step['time'], spec_per_step['average_specificity'], 'r', linewidth=2)\n",
    "plt.title('Averaged specificity of condition parts for classifiers')\n",
    "plt.xlabel('Step')\n",
    "plt.ylabel('Specificity')\n",
    "\n",
    "plt.grid(True)\n",
    "\n",
    "plt.show()"
   ]
  },
  {
   "cell_type": "markdown",
   "metadata": {},
   "source": [
    "We can observe that the value stabilizes near 0.45 which means most elements of condition part is wildcards.\n",
    "\n",
    "We can execute another experiment, but this time also the mutation ratio will change."
   ]
  },
  {
   "cell_type": "markdown",
   "metadata": {},
   "source": [
    "The following image presents how the alternative plot can look like:\n",
    "![title](temp/generalization.png)"
   ]
  },
  {
   "cell_type": "markdown",
   "metadata": {},
   "source": [
    "Prepare variables for the simulation"
   ]
  },
  {
   "cell_type": "code",
   "execution_count": null,
   "metadata": {
    "collapsed": true
   },
   "outputs": [],
   "source": [
    "# Create an array containing possible values of mutation rate\n",
    "mutation_rates = np.arange(0, 1, 0.2)\n",
    "\n",
    "# Number of experiments\n",
    "EXPERIMENTS = 10\n",
    "\n",
    "# Number of steps in each experiment\n",
    "STEPS = 1000"
   ]
  },
  {
   "cell_type": "markdown",
   "metadata": {},
   "source": [
    "Run the simulation"
   ]
  },
  {
   "cell_type": "code",
   "execution_count": null,
   "metadata": {
    "collapsed": false
   },
   "outputs": [],
   "source": [
    "performance = pd.DataFrame()\n",
    "\n",
    "for experiment in range(EXPERIMENTS):\n",
    "    print(\"Experiment: [{}]\".format(experiment))\n",
    "    \n",
    "    for mutation_rate in mutation_rates:\n",
    "        print(\"\\tMutation rate: {}\".format(mutation_rate))\n",
    "        \n",
    "        # Re-initialize the environment\n",
    "        env = Maze(MAZE_LOCATION)\n",
    "\n",
    "        # Initialize the agent with metric handler\n",
    "        agent = ACS2(mu=mutation_rate)\n",
    "        agent.add_metrics_handlers([\n",
    "            ActualStep('time'),\n",
    "            AveragedConditionSpecificity('average_specificity'),\n",
    "        ])\n",
    "        \n",
    "        # Evaluate algorithm\n",
    "        #classifiers, metrics = agent.evaluate(env, STEPS)\n",
    "\n",
    "        # Add information about the experiment into metrics\n",
    "        metrics['experiment_id'] = [experiment] * len(metrics['time'])\n",
    "        metrics['mutation_rate'] = [mutation_rate] * len(metrics['time'])\n",
    "\n",
    "        # Append performance metrics\n",
    "        performance = performance.append(pd.DataFrame(metrics))"
   ]
  },
  {
   "cell_type": "markdown",
   "metadata": {},
   "source": [
    "To calculate the condition specificity we will take it's value obtained after last step in each experiment and average it."
   ]
  },
  {
   "cell_type": "code",
   "execution_count": null,
   "metadata": {
    "collapsed": false
   },
   "outputs": [],
   "source": [
    "def get_avg_specificity_by_mutation_rate(performance):\n",
    "    last_as_by_experiment = pd.DataFrame(performance\n",
    "                                         .groupby(['experiment_id','mutation_rate'])['average_specificity']\n",
    "                                         .last())\n",
    "    last_as_by_experiment.reset_index(inplace=True)\n",
    "    \n",
    "    avg_as_by_mutation_rate = pd.DataFrame(last_as_by_experiment\n",
    "                                           .groupby(['mutation_rate'])['average_specificity']\n",
    "                                           .mean())\n",
    "    avg_as_by_mutation_rate.reset_index(inplace=True)\n",
    "    \n",
    "    return avg_as_by_mutation_rate"
   ]
  },
  {
   "cell_type": "markdown",
   "metadata": {},
   "source": [
    "See how the results look like"
   ]
  },
  {
   "cell_type": "code",
   "execution_count": null,
   "metadata": {
    "collapsed": false
   },
   "outputs": [],
   "source": [
    "avg_as_by_mutation_rate = get_avg_specificity_by_mutation_rate(performance)\n",
    "avg_as_by_mutation_rate"
   ]
  },
  {
   "cell_type": "code",
   "execution_count": null,
   "metadata": {
    "collapsed": false
   },
   "outputs": [],
   "source": [
    "fig = plt.figure(figsize=(15, 8), dpi=100)\n",
    "\n",
    "plt.plot(avg_as_by_mutation_rate['mutation_rate'],\n",
    "         avg_as_by_mutation_rate['average_specificity'], 'r', linewidth=2)\n",
    "plt.title('Averaged specificity ratio')\n",
    "plt.xlabel('Mutation rate')\n",
    "plt.ylabel('Specificity')\n",
    "\n",
    "plt.grid(True)\n",
    "plt.show()"
   ]
  }
 ],
 "metadata": {
  "kernelspec": {
   "display_name": "Python 3",
   "language": "python",
   "name": "python3"
  },
  "language_info": {
   "codemirror_mode": {
    "name": "ipython",
    "version": 3
   },
   "file_extension": ".py",
   "mimetype": "text/x-python",
   "name": "python",
   "nbconvert_exporter": "python",
   "pygments_lexer": "ipython3",
   "version": "3.5.0"
  }
 },
 "nbformat": 4,
 "nbformat_minor": 0
}
