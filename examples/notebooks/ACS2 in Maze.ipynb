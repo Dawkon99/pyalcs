{
 "cells": [
  {
   "cell_type": "markdown",
   "metadata": {},
   "source": [
    "# ACS2 in Maze Experiments\n",
    "The following notebooks provides reproducible playground for experimenting how ACS2 agent behaves inside Maze environments.\n",
    "\n",
    "## Checklist:\n",
    "- check if classifiers with $q < 0.1$ are deleted,\n",
    "- [ALP] - parameters update process,\n",
    "- **Deletion of classifiers** - I think we are loosing good classifiers along the way\n",
    "- ALP expected case\n",
    "- ALP covering\n",
    "- RL what is `maxP`\n",
    "\n",
    "Butz notes:\n",
    "- ACS2 should start with initially empty classifiers list (what does it mean)?\n",
    "- e-greedy cannot be applied on the start with empty population,\n",
    "- second learning should be triggered after successful step of finding reward?\n",
    "- set_mark should mark the whole perception (probably not only changing parts) (unexpected case ACS2 p9)\n",
    "\n",
    "TODO:\n",
    "- set_mark copies whole perception (not indivudial points). But will it make any difference?\n",
    "\n",
    "## My modifications\n",
    "- behaviour policy strategies,\n",
    "- dynamic exploration rate,\n",
    "- offspring is not marked,"
   ]
  },
  {
   "cell_type": "markdown",
   "metadata": {},
   "source": [
    "## Imports and configuration\n",
    "Load project files from upper directory (nasty solution)."
   ]
  },
  {
   "cell_type": "code",
   "execution_count": 1,
   "metadata": {
    "collapsed": false
   },
   "outputs": [],
   "source": [
    "# import logging\n",
    "# from imp import reload\n",
    "\n",
    "# reload(logging)\n",
    "# logger = logging.getLogger()\n",
    "# logging.basicConfig(\n",
    "#     filename='/tmp/acs2.log',\n",
    "#     format='[%(asctime)s] [%(levelname)s] [%(threadName)s]: %(message)s',\n",
    "#     level=logging.DEBUG)\n",
    "\n",
    "import sys\n",
    "sys.path.append('/Users/khozzy/Projects/pyalcs')"
   ]
  },
  {
   "cell_type": "markdown",
   "metadata": {},
   "source": [
    "Import `pyalcs` module"
   ]
  },
  {
   "cell_type": "code",
   "execution_count": 2,
   "metadata": {
    "collapsed": false
   },
   "outputs": [],
   "source": [
    "# Enable automatic module reload\n",
    "%load_ext autoreload\n",
    "%autoreload 2\n",
    "\n",
    "from alcs.agent.acs2 import ACS2\n",
    "from alcs.environment.maze import Maze\n",
    "\n",
    "# Exploration strategies\n",
    "from alcs.strategies.ActionSelection import Random, ActionDelayBias, KnowledgeArrayBias\n",
    "\n",
    "# Metrics\n",
    "from alcs.helpers.metrics import \\\n",
    "    ActualStep,\\\n",
    "    ClassifierPopulationSize,\\\n",
    "    AveragedFitnessScore,\\\n",
    "    SuccessfulTrial,\\\n",
    "    AveragedConditionSpecificity,\\\n",
    "    AchievedKnowledge"
   ]
  },
  {
   "cell_type": "markdown",
   "metadata": {},
   "source": [
    "Other helpers"
   ]
  },
  {
   "cell_type": "code",
   "execution_count": 3,
   "metadata": {
    "collapsed": true
   },
   "outputs": [],
   "source": [
    "%matplotlib inline\n",
    "\n",
    "from concurrent.futures import ProcessPoolExecutor, as_completed\n",
    "\n",
    "import numpy as np\n",
    "import pandas as pd\n",
    "import matplotlib.pyplot as plt"
   ]
  },
  {
   "cell_type": "markdown",
   "metadata": {},
   "source": [
    "## Experiment\n",
    "We are going to test ACS2 **agent** inside **maze** environment. The agent will have 2 tasks:\n",
    "1. learn the shortest path to the goal state,\n",
    "2. learn the internal model of the environment"
   ]
  },
  {
   "cell_type": "markdown",
   "metadata": {},
   "source": [
    "### Maze\n",
    "Currently there are 4 mazes implemented:\n",
    "- `mazes/MazeF1.maze` (deterministic),\n",
    "- `mazes/MazeF2.maze` (deterministic),\n",
    "- `mazes/MazeF3.maze` (deterministic),\n",
    "- `mazes/MazeF4.maze` (non-deterministic)\n",
    "\n",
    "Maze `MazeF4` introduces also the *aliasing* problem - the are two states that looks exactly the same for an agent."
   ]
  },
  {
   "cell_type": "code",
   "execution_count": 4,
   "metadata": {
    "collapsed": true
   },
   "outputs": [],
   "source": [
    "# Location of the maze file\n",
    "MAZE_LOCATION = 'mazes/Maze5.maze'"
   ]
  },
  {
   "cell_type": "markdown",
   "metadata": {},
   "source": [
    "And visualize it"
   ]
  },
  {
   "cell_type": "code",
   "execution_count": 5,
   "metadata": {
    "collapsed": false
   },
   "outputs": [
    {
     "data": {
      "image/png": "[encoded data removed]",
      "text/plain": [
       "<matplotlib.figure.Figure at 0x10729ce80>"
      ]
     },
     "metadata": {},
     "output_type": "display_data"
    }
   ],
   "source": [
    "env = Maze(MAZE_LOCATION)\n",
    "\n",
    "fig = plt.figure(figsize=(env.max_x, env.max_y))\n",
    "ax = fig.add_subplot(111, aspect='equal')\n",
    "\n",
    "# Render maze as image\n",
    "plt.imshow(env.matrix, interpolation='none', cmap='Set3', aspect='auto',\n",
    "           extent=[0, env.max_x, env.max_y, 0])\n",
    "\n",
    "# Add labels to each cell\n",
    "for x in range(0, env.max_x):\n",
    "    for y in range(0, env.max_y):\n",
    "        plt.text(x+0.4, y+0.5, env.matrix[y][x])\n",
    "\n",
    "ax.set_title(MAZE_LOCATION)\n",
    "ax.set_xlabel('x')\n",
    "ax.set_ylabel('y')\n",
    "\n",
    "plt.xlim(0, env.max_x)\n",
    "plt.ylim(env.max_y, 0)\n",
    "\n",
    "plt.xticks(range(0, env.max_x))\n",
    "plt.yticks(range(0, env.max_y))\n",
    "\n",
    "plt.grid(True)\n",
    "plt.show()"
   ]
  },
  {
   "cell_type": "markdown",
   "metadata": {},
   "source": [
    "**Legend / reward map**:\n",
    "- `0` is a $wall$ (cannot cross),\n",
    "- `1` is a $path$ (reward $\\rho = 0$),\n",
    "- `9` is a $price$ (reward $\\rho = 1000$)"
   ]
  },
  {
   "cell_type": "markdown",
   "metadata": {},
   "source": [
    "### Agent\n",
    "Agent interacts autonomously with the environment.\n",
    "\n",
    "In this notebook it moves in maze for the certain number of steps.\n",
    "\n",
    "> **Trial** is a successful run of agent when he manages to find the reward.\n",
    "\n",
    "> After learning it should take him less and less steps to reach the goal.\n",
    "\n",
    "At the beginning of each trial an agent is randomly placed inside the maze. He can perceive 4 values (neighbourhood cells - N, E, S, W) and move in 4 directions (N, E, S, W)."
   ]
  },
  {
   "cell_type": "markdown",
   "metadata": {},
   "source": [
    "### Run the simulation\n",
    "The whole simulation will run a certain number of times for certain number of steps."
   ]
  },
  {
   "cell_type": "code",
   "execution_count": 6,
   "metadata": {
    "collapsed": false
   },
   "outputs": [],
   "source": [
    "# Number of experiments\n",
    "EXPERIMENTS = 5\n",
    "\n",
    "# Number of agent steps for each experiment\n",
    "STEPS = 10000 # 10 000\n",
    "\n",
    "# Maximum number of steps in single trial (before resetting an animat)\n",
    "# Set to None for no limits\n",
    "MAX_STEPS_IN_TRIAL = None\n",
    "\n",
    "# Amount of processes pool\n",
    "PROCESSES = 2\n",
    "\n",
    "# Exploration strategy\n",
    "# Available Greedy(), ActionDelayBias(), KnowledgeArrayBias()\n",
    "EPSILON = 0.5\n",
    "EXPLORATION_STRATEGY = KnowledgeArrayBias()"
   ]
  },
  {
   "cell_type": "markdown",
   "metadata": {},
   "source": [
    "Let's declare a function performing a single experiment.\n",
    "\n",
    "We are:\n",
    "1. initializing an agent,\n",
    "2. instructing him to collect specified measurements,\n",
    "3. initializing the environment,\n",
    "4. running the simulation,\n",
    "5. returning obtained classifiers and metrics\n"
   ]
  },
  {
   "cell_type": "code",
   "execution_count": 7,
   "metadata": {
    "collapsed": false
   },
   "outputs": [],
   "source": [
    "def perform_experiment(experiment):\n",
    "    # Initialize the agent\n",
    "    agent = ACS2(\n",
    "        epsilon=EPSILON,\n",
    "        strategy=EXPLORATION_STRATEGY\n",
    "    )\n",
    "    \n",
    "    agent.add_metrics_handlers([\n",
    "        ActualStep('time'),\n",
    "        SuccessfulTrial('found_reward'),\n",
    "        ClassifierPopulationSize('total_classifiers'),\n",
    "        AveragedFitnessScore('average_fitness'),\n",
    "        AveragedConditionSpecificity('average_specificity'),\n",
    "        AchievedKnowledge('achieved_knowledge')\n",
    "    ])\n",
    "\n",
    "    # Initialize the environment\n",
    "    env = Maze(MAZE_LOCATION)\n",
    "\n",
    "    # Evaluate algorithm\n",
    "    classifiers, metrics = agent.evaluate(env, STEPS, MAX_STEPS_IN_TRIAL)\n",
    "\n",
    "    # Add information about the experiment into metrics\n",
    "    metrics['experiment_id'] = [experiment] * len(metrics['time'])\n",
    "\n",
    "    return classifiers, metrics"
   ]
  },
  {
   "cell_type": "markdown",
   "metadata": {},
   "source": [
    "Then firing many jobs in parallel."
   ]
  },
  {
   "cell_type": "code",
   "execution_count": 8,
   "metadata": {
    "collapsed": false
   },
   "outputs": [],
   "source": [
    "all_classifiers = []\n",
    "all_metrics = pd.DataFrame()\n",
    "\n",
    "with ProcessPoolExecutor(PROCESSES) as executor:\n",
    "    futures = []\n",
    "\n",
    "    for i in range(EXPERIMENTS):\n",
    "        future = executor.submit(perform_experiment, i)\n",
    "        futures.append(future)\n",
    "\n",
    "    for idx, el in enumerate(as_completed(futures)):\n",
    "        classifiers, metrics = el.result()\n",
    "\n",
    "        all_classifiers.append(classifiers)\n",
    "        all_metrics = all_metrics.append(pd.DataFrame(metrics))"
   ]
  },
  {
   "cell_type": "markdown",
   "metadata": {},
   "source": [
    "We can also inspect how the classifier population looks. Internal model of the environment is specified only by reliable classifiers."
   ]
  },
  {
   "cell_type": "code",
   "execution_count": 9,
   "metadata": {
    "collapsed": false
   },
   "outputs": [
    {
     "name": "stdout",
     "output_type": "stream",
     "text": [
      "Population classifiers: 93\n",
      "Reliable classifiers: 40\n",
      "\n",
      "Classifier{####-0-#### q:0.93, r:0.00, ir:0.00}\n",
      "Classifier{0##1-0-#### q:0.93, r:0.00, ir:0.00}\n",
      "Classifier{0##0-0-1##1 q:0.92, r:0.00, ir:0.00}\n",
      "Classifier{###9-0-###1 q:0.96, r:0.00, ir:0.00}\n",
      "Classifier{0110-0-10#1 q:1.00, r:0.00, ir:0.00}\n",
      "Classifier{0#1#-0-#### q:0.96, r:0.00, ir:0.00}\n",
      "Classifier{##00-0-#011 q:1.00, r:0.00, ir:0.00}\n",
      "Classifier{#100-0-#011 q:1.00, r:0.00, ir:0.00}\n",
      "Classifier{##10-0-#### q:1.00, r:0.00, ir:0.00}\n",
      "Classifier{01##-0-#0## q:1.00, r:0.00, ir:0.00}\n",
      "Classifier{#11#-0-#0## q:0.99, r:0.00, ir:0.00}\n",
      "Classifier{0###-0-#### q:0.93, r:0.00, ir:0.00}\n",
      "Classifier{011#-0-#0## q:1.00, r:0.00, ir:0.00}\n",
      "Classifier{010#-0-101# q:1.00, r:0.00, ir:0.00}\n",
      "Classifier{0101-0-101# q:1.00, r:0.00, ir:0.00}\n",
      "Classifier{0#0#-0-101# q:1.00, r:0.00, ir:0.00}\n",
      "Classifier{01#1-0-#0## q:0.99, r:0.00, ir:0.00}\n",
      "Classifier{#1#1-0-#0## q:0.98, r:0.00, ir:0.00}\n",
      "Classifier{#111-0-#0## q:0.99, r:0.00, ir:0.00}\n",
      "Classifier{###1-0-#### q:0.95, r:0.00, ir:0.00}\n",
      "Classifier{##11-0-#### q:0.97, r:0.00, ir:0.00}\n",
      "Classifier{1110-1-00#1 q:0.99, r:0.00, ir:0.00}\n",
      "Classifier{1#01-1-##10 q:0.99, r:0.00, ir:0.00}\n",
      "Classifier{1#11-1-0### q:1.00, r:0.00, ir:0.00}\n",
      "Classifier{##11-1-#### q:0.85, r:0.00, ir:0.00}\n",
      "Classifier{1##1-1-0### q:0.97, r:0.00, ir:0.00}\n",
      "Classifier{###1-1-#### q:0.85, r:0.00, ir:0.00}\n",
      "Classifier{1#00-1-0#11 q:0.87, r:0.00, ir:0.00}\n",
      "Classifier{##10-2-#### q:1.00, r:0.00, ir:0.00}\n",
      "Classifier{0#01-2-1#10 q:1.00, r:0.00, ir:0.00}\n",
      "Classifier{1010-2-#### q:0.98, r:0.00, ir:0.00}\n",
      "Classifier{0#1#-2-#1## q:1.00, r:0.00, ir:0.00}\n",
      "Classifier{0#11-2-#1## q:0.92, r:0.00, ir:0.00}\n",
      "Classifier{##00-3-#### q:0.98, r:0.00, ir:0.00}\n",
      "Classifier{#0#0-3-###1 q:1.00, r:0.00, ir:0.00}\n",
      "Classifier{10#0-3-###1 q:1.00, r:0.00, ir:0.00}\n",
      "Classifier{10#1-3-###0 q:1.00, r:0.00, ir:0.00}\n",
      "Classifier{00##-3-1### q:1.00, r:0.00, ir:0.00}\n",
      "Classifier{##10-3-###1 q:0.95, r:0.00, ir:0.00}\n",
      "Classifier{0#11-3-1#00 q:0.87, r:0.00, ir:0.00}\n"
     ]
    }
   ],
   "source": [
    "## take classifiers from the first experiment\n",
    "classifiers = all_classifiers[0]\n",
    "\n",
    "# Select only 'reliable' ones\n",
    "reliable = [c for c in classifiers if c.is_reliable()]\n",
    "reliable.sort(key=lambda cls: cls.action)\n",
    "\n",
    "print(\"Population classifiers: {}\".format(len(classifiers)))\n",
    "print(\"Reliable classifiers: {}\\n\".format(len(reliable)))\n",
    "\n",
    "for cls in reliable:\n",
    "    print(cls)"
   ]
  },
  {
   "cell_type": "markdown",
   "metadata": {},
   "source": [
    "<p style=\"color:red\">**TODO**: There are duplicate classifiers!!!! Maybe subsumption does not works. Why low quality classifiers are not removed?</p>"
   ]
  },
  {
   "cell_type": "markdown",
   "metadata": {},
   "source": [
    "## Performance metrics\n",
    "Let's have a look how the performance metrics look like by taking 5 random samples:"
   ]
  },
  {
   "cell_type": "code",
   "execution_count": 10,
   "metadata": {
    "collapsed": false,
    "scrolled": true
   },
   "outputs": [
    {
     "data": {
      "text/html": [
       "<div>\n",
       "<table border=\"1\" class=\"dataframe\">\n",
       "  <thead>\n",
       "    <tr style=\"text-align: right;\">\n",
       "      <th></th>\n",
       "      <th>achieved_knowledge</th>\n",
       "      <th>average_fitness</th>\n",
       "      <th>average_specificity</th>\n",
       "      <th>experiment_id</th>\n",
       "      <th>found_reward</th>\n",
       "      <th>time</th>\n",
       "      <th>total_classifiers</th>\n",
       "    </tr>\n",
       "  </thead>\n",
       "  <tbody>\n",
       "    <tr>\n",
       "      <th>744</th>\n",
       "      <td>0.219512</td>\n",
       "      <td>0.000000</td>\n",
       "      <td>0.479167</td>\n",
       "      <td>2</td>\n",
       "      <td>False</td>\n",
       "      <td>745</td>\n",
       "      <td>96</td>\n",
       "    </tr>\n",
       "    <tr>\n",
       "      <th>4072</th>\n",
       "      <td>0.268293</td>\n",
       "      <td>0.000000</td>\n",
       "      <td>0.553398</td>\n",
       "      <td>3</td>\n",
       "      <td>False</td>\n",
       "      <td>4073</td>\n",
       "      <td>103</td>\n",
       "    </tr>\n",
       "    <tr>\n",
       "      <th>3999</th>\n",
       "      <td>0.304878</td>\n",
       "      <td>0.000000</td>\n",
       "      <td>0.510081</td>\n",
       "      <td>1</td>\n",
       "      <td>False</td>\n",
       "      <td>4000</td>\n",
       "      <td>124</td>\n",
       "    </tr>\n",
       "    <tr>\n",
       "      <th>6955</th>\n",
       "      <td>0.292683</td>\n",
       "      <td>404.199256</td>\n",
       "      <td>0.596649</td>\n",
       "      <td>4</td>\n",
       "      <td>False</td>\n",
       "      <td>6956</td>\n",
       "      <td>194</td>\n",
       "    </tr>\n",
       "    <tr>\n",
       "      <th>1220</th>\n",
       "      <td>0.304878</td>\n",
       "      <td>74.327130</td>\n",
       "      <td>0.542169</td>\n",
       "      <td>2</td>\n",
       "      <td>False</td>\n",
       "      <td>1221</td>\n",
       "      <td>166</td>\n",
       "    </tr>\n",
       "  </tbody>\n",
       "</table>\n",
       "</div>"
      ],
      "text/plain": [
       "      achieved_knowledge  average_fitness  average_specificity  experiment_id  \\\n",
       "744             0.219512         0.000000             0.479167              2   \n",
       "4072            0.268293         0.000000             0.553398              3   \n",
       "3999            0.304878         0.000000             0.510081              1   \n",
       "6955            0.292683       404.199256             0.596649              4   \n",
       "1220            0.304878        74.327130             0.542169              2   \n",
       "\n",
       "     found_reward  time  total_classifiers  \n",
       "744         False   745                 96  \n",
       "4072        False  4073                103  \n",
       "3999        False  4000                124  \n",
       "6955        False  6956                194  \n",
       "1220        False  1221                166  "
      ]
     },
     "execution_count": 10,
     "metadata": {},
     "output_type": "execute_result"
    }
   ],
   "source": [
    "all_metrics.sample(5)"
   ]
  },
  {
   "cell_type": "markdown",
   "metadata": {},
   "source": [
    "### Number of steps to food\n",
    "Measures if the classifier actually *learns* something along the time.\n",
    "\n",
    "> **Number of steps to food** - How many steps were needed in **each trial** to found the reward.\n",
    "\n",
    "We need to have a little helper function for operating on obtained measurements."
   ]
  },
  {
   "cell_type": "code",
   "execution_count": 11,
   "metadata": {
    "collapsed": false
   },
   "outputs": [],
   "source": [
    "def get_avg_number_of_steps_to_food(performance):\n",
    "    trials_by_experiment = pd.DataFrame(performance\n",
    "                                        .groupby('experiment_id')\n",
    "                                        .apply(lambda x: x['found_reward'].cumsum())\n",
    "                                        .stack())\n",
    "    trials_by_experiment.reset_index(inplace=True)\n",
    "    trials_by_experiment.rename(columns = {'found_reward': 'time', 0: 'trial'},\n",
    "                                inplace=True)\n",
    "\n",
    "    # Experiment_id, trial, steps\n",
    "    steps_per_trial_in_experiment = pd.DataFrame(trials_by_experiment\n",
    "                                                 .groupby(['experiment_id', 'trial'])\n",
    "                                                 .size())\n",
    "    steps_per_trial_in_experiment.reset_index(inplace=True)\n",
    "    steps_per_trial_in_experiment.rename(columns = {0: 'steps'}, inplace=True)\n",
    "\n",
    "    # Trial, averaged steps\n",
    "    averaged_steps_per_trial = pd.DataFrame(steps_per_trial_in_experiment.groupby('trial')['steps'].mean())\n",
    "    averaged_steps_per_trial.rename(columns = {'steps': 'averaged_steps'}, inplace=True)\n",
    "    averaged_steps_per_trial.reset_index(inplace=True)\n",
    "    \n",
    "    return averaged_steps_per_trial"
   ]
  },
  {
   "cell_type": "markdown",
   "metadata": {},
   "source": [
    "Now we can visualize the results"
   ]
  },
  {
   "cell_type": "code",
   "execution_count": 22,
   "metadata": {
    "collapsed": false
   },
   "outputs": [
    {
     "name": "stderr",
     "output_type": "stream",
     "text": [
      "/Library/Frameworks/Python.framework/Versions/3.5/lib/python3.5/site-packages/matplotlib/scale.py:101: RuntimeWarning: invalid value encountered in less_equal\n",
      "  a[a <= 0.0] = 1e-300\n"
     ]
    },
    {
     "data": {
      "image/png": "[encoded data removed]",
      "text/plain": [
       "<matplotlib.figure.Figure at 0x10750c048>"
      ]
     },
     "metadata": {},
     "output_type": "display_data"
    }
   ],
   "source": [
    "steps_to_food = get_avg_number_of_steps_to_food(all_metrics)[:80]\n",
    "steps_to_food['MA'] = steps_to_food['averaged_steps'].rolling(window=50).mean()\n",
    "\n",
    "fig = plt.figure(figsize=(15, 8), dpi=100)\n",
    "\n",
    "plt.bar(steps_to_food['trial'], steps_to_food['averaged_steps'])\n",
    "plt.plot(steps_to_food['trial'], steps_to_food['MA'], 'r', linewidth=2.0)\n",
    "\n",
    "plt.title('Averaged number of steps to food')\n",
    "plt.xlabel('Trial')\n",
    "plt.ylabel('Steps')\n",
    "\n",
    "#plt.yscale('log')\n",
    "plt.grid(True)\n",
    "\n",
    "plt.show()"
   ]
  },
  {
   "cell_type": "markdown",
   "metadata": {},
   "source": [
    "### Achieved knowledge\n",
    "Measures if an agent is *learning* the environment.\n",
    "\n",
    "> **Achieved knowledge** - test whether or not there is a **reliable classifier** for each transition $(\\sigma_{1}, \\alpha, \\sigma_{2})$ with $\\sigma_{1} \\neq \\sigma_{2}$ that can be applied in $\\sigma_{1}$ and anticipates $\\sigma_{2}$ correctly.\n",
    "\n",
    "This metric is calculated after each time-step done by the agent."
   ]
  },
  {
   "cell_type": "code",
   "execution_count": 13,
   "metadata": {
    "collapsed": false
   },
   "outputs": [],
   "source": [
    "def get_avg_achieved_knowledge_per_step(performance):\n",
    "    knowledge_per_step = pd.DataFrame(performance.groupby('time')['achieved_knowledge'].mean())\n",
    "    knowledge_per_step.reset_index(inplace=True)\n",
    "    return knowledge_per_step"
   ]
  },
  {
   "cell_type": "markdown",
   "metadata": {},
   "source": [
    "Plot the results"
   ]
  },
  {
   "cell_type": "code",
   "execution_count": 14,
   "metadata": {
    "collapsed": false
   },
   "outputs": [
    {
     "data": {
      "image/png": "[encoded data removed]",
      "text/plain": [
       "<matplotlib.figure.Figure at 0x1076457b8>"
      ]
     },
     "metadata": {},
     "output_type": "display_data"
    }
   ],
   "source": [
    "knowledge_per_step = get_avg_achieved_knowledge_per_step(all_metrics)\n",
    "knowledge_per_step['MA'] = knowledge_per_step['achieved_knowledge'].rolling(window=500).mean()\n",
    "\n",
    "fig = plt.figure(figsize=(15, 8), dpi=100)\n",
    "\n",
    "plt.plot(knowledge_per_step['time'], knowledge_per_step['achieved_knowledge'], 'b')\n",
    "plt.plot(knowledge_per_step['time'], knowledge_per_step['MA'], 'r', linewidth=2.0)\n",
    "\n",
    "plt.title('Averaged achieved knowledge')\n",
    "plt.xlabel('Step')\n",
    "plt.ylabel('Achieved knowledge')\n",
    "\n",
    "plt.grid(True)\n",
    "\n",
    "plt.show()"
   ]
  },
  {
   "cell_type": "markdown",
   "metadata": {},
   "source": [
    "### Specificity measure\n",
    "Measure the *generalization* in classifier population.\n",
    "\n",
    "> **Specificity measure** - Equal to the **sum** of all specialized attributed in condition part of all classifiers in population **divided** by the number of classifiers **times** the length of  the perception $\\sigma$.\n",
    "\n",
    "You can read more about this metric in \"*Introducing a Genetic Generalization Pressure to the\n",
    "Anticipatory Classfierier System - Part2: Performance Analysis*\" by Martin V. Butz.\n",
    "\n",
    "Plot should change after modifing the agent's *mutation* and *cross over* values. The author claims that the best generalization was reached for mutation rate $\\mu = 0.4$."
   ]
  },
  {
   "cell_type": "code",
   "execution_count": 15,
   "metadata": {
    "collapsed": false
   },
   "outputs": [],
   "source": [
    "def get_avg_specificity_per_step(performance):\n",
    "    spec_per_step = pd.DataFrame(performance.groupby('time')['average_specificity'].mean())\n",
    "    spec_per_step.reset_index(inplace=True)\n",
    "    return spec_per_step"
   ]
  },
  {
   "cell_type": "markdown",
   "metadata": {},
   "source": [
    "Plot the results"
   ]
  },
  {
   "cell_type": "code",
   "execution_count": 16,
   "metadata": {
    "collapsed": false,
    "scrolled": true
   },
   "outputs": [
    {
     "data": {
      "image/png": "[encoded data removed]",
      "text/plain": [
       "<matplotlib.figure.Figure at 0x10785af98>"
      ]
     },
     "metadata": {},
     "output_type": "display_data"
    }
   ],
   "source": [
    "spec_per_step = get_avg_specificity_per_step(all_metrics)\n",
    "\n",
    "fig = plt.figure(figsize=(15, 8), dpi=100)\n",
    "\n",
    "plt.plot(spec_per_step['time'], spec_per_step['average_specificity'], 'r', linewidth=2)\n",
    "plt.title('Averaged specificity of condition parts for classifiers')\n",
    "plt.xlabel('Step')\n",
    "plt.ylabel('Specificity')\n",
    "\n",
    "plt.grid(True)\n",
    "\n",
    "plt.show()"
   ]
  },
  {
   "cell_type": "markdown",
   "metadata": {},
   "source": [
    "We can observe that the value stabilizes near 0.45 which means most elements of condition part is wildcards.\n",
    "\n",
    "We can execute another experiment, but this time also the mutation ratio will change."
   ]
  },
  {
   "cell_type": "markdown",
   "metadata": {},
   "source": [
    "The following image presents how the alternative plot can look like:\n",
    "![title](temp/generalization.png)"
   ]
  },
  {
   "cell_type": "markdown",
   "metadata": {},
   "source": [
    "Prepare variables for the simulation"
   ]
  },
  {
   "cell_type": "code",
   "execution_count": 17,
   "metadata": {
    "collapsed": true
   },
   "outputs": [],
   "source": [
    "# Create an array containing possible values of mutation rate\n",
    "mutation_rates = np.linspace(0, 1, 9)\n",
    "\n",
    "# Number of experiments\n",
    "EXPERIMENTS = 10\n",
    "\n",
    "# Number of steps in each experiment\n",
    "STEPS = 10000"
   ]
  },
  {
   "cell_type": "markdown",
   "metadata": {},
   "source": [
    "Run the simulation"
   ]
  },
  {
   "cell_type": "code",
   "execution_count": 18,
   "metadata": {
    "collapsed": false
   },
   "outputs": [
    {
     "name": "stdout",
     "output_type": "stream",
     "text": [
      "Experiment: [0]\n",
      "\tMutation rate: 0.0\n",
      "\tMutation rate: 0.125\n",
      "\tMutation rate: 0.25\n",
      "\tMutation rate: 0.375\n",
      "\tMutation rate: 0.5\n",
      "\tMutation rate: 0.625\n",
      "\tMutation rate: 0.75\n",
      "\tMutation rate: 0.875\n",
      "\tMutation rate: 1.0\n",
      "Experiment: [1]\n",
      "\tMutation rate: 0.0\n",
      "\tMutation rate: 0.125\n",
      "\tMutation rate: 0.25\n",
      "\tMutation rate: 0.375\n",
      "\tMutation rate: 0.5\n",
      "\tMutation rate: 0.625\n",
      "\tMutation rate: 0.75\n",
      "\tMutation rate: 0.875\n",
      "\tMutation rate: 1.0\n",
      "Experiment: [2]\n",
      "\tMutation rate: 0.0\n",
      "\tMutation rate: 0.125\n",
      "\tMutation rate: 0.25\n",
      "\tMutation rate: 0.375\n",
      "\tMutation rate: 0.5\n",
      "\tMutation rate: 0.625\n",
      "\tMutation rate: 0.75\n",
      "\tMutation rate: 0.875\n",
      "\tMutation rate: 1.0\n",
      "Experiment: [3]\n",
      "\tMutation rate: 0.0\n",
      "\tMutation rate: 0.125\n",
      "\tMutation rate: 0.25\n",
      "\tMutation rate: 0.375\n",
      "\tMutation rate: 0.5\n",
      "\tMutation rate: 0.625\n",
      "\tMutation rate: 0.75\n",
      "\tMutation rate: 0.875\n",
      "\tMutation rate: 1.0\n",
      "Experiment: [4]\n",
      "\tMutation rate: 0.0\n",
      "\tMutation rate: 0.125\n",
      "\tMutation rate: 0.25\n",
      "\tMutation rate: 0.375\n",
      "\tMutation rate: 0.5\n",
      "\tMutation rate: 0.625\n",
      "\tMutation rate: 0.75\n",
      "\tMutation rate: 0.875\n",
      "\tMutation rate: 1.0\n",
      "Experiment: [5]\n",
      "\tMutation rate: 0.0\n",
      "\tMutation rate: 0.125\n",
      "\tMutation rate: 0.25\n",
      "\tMutation rate: 0.375\n",
      "\tMutation rate: 0.5\n",
      "\tMutation rate: 0.625\n",
      "\tMutation rate: 0.75\n",
      "\tMutation rate: 0.875\n",
      "\tMutation rate: 1.0\n",
      "Experiment: [6]\n",
      "\tMutation rate: 0.0\n",
      "\tMutation rate: 0.125\n",
      "\tMutation rate: 0.25\n",
      "\tMutation rate: 0.375\n",
      "\tMutation rate: 0.5\n",
      "\tMutation rate: 0.625\n",
      "\tMutation rate: 0.75\n",
      "\tMutation rate: 0.875\n",
      "\tMutation rate: 1.0\n",
      "Experiment: [7]\n",
      "\tMutation rate: 0.0\n",
      "\tMutation rate: 0.125\n",
      "\tMutation rate: 0.25\n",
      "\tMutation rate: 0.375\n",
      "\tMutation rate: 0.5\n",
      "\tMutation rate: 0.625\n",
      "\tMutation rate: 0.75\n",
      "\tMutation rate: 0.875\n",
      "\tMutation rate: 1.0\n",
      "Experiment: [8]\n",
      "\tMutation rate: 0.0\n",
      "\tMutation rate: 0.125\n",
      "\tMutation rate: 0.25\n",
      "\tMutation rate: 0.375\n",
      "\tMutation rate: 0.5\n",
      "\tMutation rate: 0.625\n",
      "\tMutation rate: 0.75\n",
      "\tMutation rate: 0.875\n",
      "\tMutation rate: 1.0\n",
      "Experiment: [9]\n",
      "\tMutation rate: 0.0\n",
      "\tMutation rate: 0.125\n",
      "\tMutation rate: 0.25\n",
      "\tMutation rate: 0.375\n",
      "\tMutation rate: 0.5\n",
      "\tMutation rate: 0.625\n",
      "\tMutation rate: 0.75\n",
      "\tMutation rate: 0.875\n",
      "\tMutation rate: 1.0\n"
     ]
    }
   ],
   "source": [
    "performance = pd.DataFrame()\n",
    "\n",
    "for experiment in range(EXPERIMENTS):\n",
    "    print(\"Experiment: [{}]\".format(experiment))\n",
    "    \n",
    "    for mutation_rate in mutation_rates:\n",
    "        print(\"\\tMutation rate: {}\".format(mutation_rate))\n",
    "        \n",
    "        # Re-initialize the environment\n",
    "        env = Maze(MAZE_LOCATION)\n",
    "\n",
    "        # Initialize the agent with metric handler\n",
    "        agent = ACS2(mu=mutation_rate)\n",
    "        agent.add_metrics_handlers([\n",
    "            ActualStep('time'),\n",
    "            AveragedConditionSpecificity('average_specificity'),\n",
    "        ])\n",
    "        \n",
    "        # Evaluate algorithm\n",
    "        #classifiers, metrics = agent.evaluate(env, STEPS)\n",
    "\n",
    "        # Add information about the experiment into metrics\n",
    "        metrics['experiment_id'] = [experiment] * len(metrics['time'])\n",
    "        metrics['mutation_rate'] = [mutation_rate] * len(metrics['time'])\n",
    "\n",
    "        # Append performance metrics\n",
    "        performance = performance.append(pd.DataFrame(metrics))"
   ]
  },
  {
   "cell_type": "markdown",
   "metadata": {},
   "source": [
    "To calculate the condition specificity we will take it's value obtained after last step in each experiment and average it."
   ]
  },
  {
   "cell_type": "code",
   "execution_count": 19,
   "metadata": {
    "collapsed": false
   },
   "outputs": [],
   "source": [
    "def get_avg_specificity_by_mutation_rate(performance):\n",
    "    last_as_by_experiment = pd.DataFrame(performance\n",
    "                                         .groupby(['experiment_id','mutation_rate'])['average_specificity']\n",
    "                                         .last())\n",
    "    last_as_by_experiment.reset_index(inplace=True)\n",
    "    \n",
    "    avg_as_by_mutation_rate = pd.DataFrame(last_as_by_experiment\n",
    "                                           .groupby(['mutation_rate'])['average_specificity']\n",
    "                                           .mean())\n",
    "    avg_as_by_mutation_rate.reset_index(inplace=True)\n",
    "    \n",
    "    return avg_as_by_mutation_rate"
   ]
  },
  {
   "cell_type": "markdown",
   "metadata": {},
   "source": [
    "See how the results look like"
   ]
  },
  {
   "cell_type": "code",
   "execution_count": 20,
   "metadata": {
    "collapsed": false
   },
   "outputs": [
    {
     "data": {
      "text/html": [
       "<div>\n",
       "<table border=\"1\" class=\"dataframe\">\n",
       "  <thead>\n",
       "    <tr style=\"text-align: right;\">\n",
       "      <th></th>\n",
       "      <th>mutation_rate</th>\n",
       "      <th>average_specificity</th>\n",
       "    </tr>\n",
       "  </thead>\n",
       "  <tbody>\n",
       "    <tr>\n",
       "      <th>0</th>\n",
       "      <td>0.000</td>\n",
       "      <td>0.591535</td>\n",
       "    </tr>\n",
       "    <tr>\n",
       "      <th>1</th>\n",
       "      <td>0.125</td>\n",
       "      <td>0.591535</td>\n",
       "    </tr>\n",
       "    <tr>\n",
       "      <th>2</th>\n",
       "      <td>0.250</td>\n",
       "      <td>0.591535</td>\n",
       "    </tr>\n",
       "    <tr>\n",
       "      <th>3</th>\n",
       "      <td>0.375</td>\n",
       "      <td>0.591535</td>\n",
       "    </tr>\n",
       "    <tr>\n",
       "      <th>4</th>\n",
       "      <td>0.500</td>\n",
       "      <td>0.591535</td>\n",
       "    </tr>\n",
       "    <tr>\n",
       "      <th>5</th>\n",
       "      <td>0.625</td>\n",
       "      <td>0.591535</td>\n",
       "    </tr>\n",
       "    <tr>\n",
       "      <th>6</th>\n",
       "      <td>0.750</td>\n",
       "      <td>0.591535</td>\n",
       "    </tr>\n",
       "    <tr>\n",
       "      <th>7</th>\n",
       "      <td>0.875</td>\n",
       "      <td>0.591535</td>\n",
       "    </tr>\n",
       "    <tr>\n",
       "      <th>8</th>\n",
       "      <td>1.000</td>\n",
       "      <td>0.591535</td>\n",
       "    </tr>\n",
       "  </tbody>\n",
       "</table>\n",
       "</div>"
      ],
      "text/plain": [
       "   mutation_rate  average_specificity\n",
       "0          0.000             0.591535\n",
       "1          0.125             0.591535\n",
       "2          0.250             0.591535\n",
       "3          0.375             0.591535\n",
       "4          0.500             0.591535\n",
       "5          0.625             0.591535\n",
       "6          0.750             0.591535\n",
       "7          0.875             0.591535\n",
       "8          1.000             0.591535"
      ]
     },
     "execution_count": 20,
     "metadata": {},
     "output_type": "execute_result"
    }
   ],
   "source": [
    "avg_as_by_mutation_rate = get_avg_specificity_by_mutation_rate(performance)\n",
    "avg_as_by_mutation_rate"
   ]
  },
  {
   "cell_type": "code",
   "execution_count": 21,
   "metadata": {
    "collapsed": false
   },
   "outputs": [
    {
     "data": {
      "image/png": "[encoded data removed]",
      "text/plain": [
       "<matplotlib.figure.Figure at 0x1076c7358>"
      ]
     },
     "metadata": {},
     "output_type": "display_data"
    }
   ],
   "source": [
    "fig = plt.figure(figsize=(15, 8), dpi=100)\n",
    "\n",
    "plt.plot(avg_as_by_mutation_rate['mutation_rate'],\n",
    "         avg_as_by_mutation_rate['average_specificity'], 'r', linewidth=2)\n",
    "plt.title('Averaged specificity ratio')\n",
    "plt.xlabel('Mutation rate')\n",
    "plt.ylabel('Specificity')\n",
    "\n",
    "plt.grid(True)\n",
    "plt.show()"
   ]
  },
  {
   "cell_type": "code",
   "execution_count": null,
   "metadata": {
    "collapsed": true
   },
   "outputs": [],
   "source": []
  }
 ],
 "metadata": {
  "kernelspec": {
   "display_name": "Python 3",
   "language": "python",
   "name": "python3"
  },
  "language_info": {
   "codemirror_mode": {
    "name": "ipython",
    "version": 3
   },
   "file_extension": ".py",
   "mimetype": "text/x-python",
   "name": "python",
   "nbconvert_exporter": "python",
   "pygments_lexer": "ipython3",
   "version": "3.5.0"
  }
 },
 "nbformat": 4,
 "nbformat_minor": 0
}
