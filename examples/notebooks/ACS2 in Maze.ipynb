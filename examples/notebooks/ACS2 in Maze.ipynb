{
 "cells": [
  {
   "cell_type": "markdown",
   "metadata": {},
   "source": [
    "# ACS2 in Maze Experiments\n",
    "The following notebooks provides reproducible playground for experimenting how ACS2 agent behaves inside Maze environments.\n",
    "## Imports and configuration\n",
    "Load project files from upper directory (nasty solution)."
   ]
  },
  {
   "cell_type": "code",
   "execution_count": 1,
   "metadata": {
    "collapsed": false
   },
   "outputs": [],
   "source": [
    "import sys\n",
    "sys.path.append('/Users/khozzy/Projects/pyalcs')"
   ]
  },
  {
   "cell_type": "markdown",
   "metadata": {},
   "source": [
    "Import `pyalcs` module"
   ]
  },
  {
   "cell_type": "code",
   "execution_count": 19,
   "metadata": {
    "collapsed": false
   },
   "outputs": [],
   "source": [
    "# Enable automatic module reload\n",
    "%load_ext autoreload\n",
    "%autoreload 2\n",
    "\n",
    "from alcs.agent.acs2 import ACS2\n",
    "from alcs.environment.maze import Maze"
   ]
  },
  {
   "cell_type": "markdown",
   "metadata": {},
   "source": [
    "Other helpers"
   ]
  },
  {
   "cell_type": "code",
   "execution_count": 20,
   "metadata": {
    "collapsed": true
   },
   "outputs": [],
   "source": [
    "%matplotlib inline\n",
    "\n",
    "import matplotlib.pyplot as plt\n",
    "import pandas as pd\n",
    "\n",
    "# Visualization\n",
    "from examples.helpers.visualization import plot_performance"
   ]
  },
  {
   "cell_type": "markdown",
   "metadata": {},
   "source": [
    "## Experiment\n",
    "We are going to test ACS2 **agent** inside **maze** environment."
   ]
  },
  {
   "cell_type": "markdown",
   "metadata": {},
   "source": [
    "### Agent\n",
    "Agent moves in maze for the certain number of steps.\n",
    "\n",
    "> **Trial** is a successful run of agent when he manages to find the reward.\n",
    "\n",
    "> After learning it should take him less and less steps to reach the goal.\n",
    "\n",
    "At the beginning of each trial an agent is randomly placed inside the maze. He can perceive 4 values (neighbourhood cells - N, E, S, W) and move in 4 directions (N, E, S, W)."
   ]
  },
  {
   "cell_type": "markdown",
   "metadata": {},
   "source": [
    "### Maze\n",
    "See how does the maze file definitions looks."
   ]
  },
  {
   "cell_type": "code",
   "execution_count": 57,
   "metadata": {
    "collapsed": false
   },
   "outputs": [
    {
     "name": "stdout",
     "output_type": "stream",
     "text": [
      "4\n",
      "6\n",
      "####\n",
      "#.$#\n",
      "#.##\n",
      "#..#\n",
      "#.##\n",
      "####\n"
     ]
    }
   ],
   "source": [
    "# Location of the maze file\n",
    "MAZE_LOCATION = 'mazes/MazeF1.maze'\n",
    "\n",
    "with open('../../' + MAZE_LOCATION, 'rt', ) as f:\n",
    "    print(f.read())"
   ]
  },
  {
   "cell_type": "markdown",
   "metadata": {},
   "source": [
    "The first two lines represents the width and height of the maze.\n",
    "\n",
    "**Legend**:\n",
    "- `#` is a $wall$ (cannot cross),\n",
    "- `.` is a $path$ (reward $\\rho = 0$),\n",
    "- `$` is a $price$ (reward $\\rho = 1000$)"
   ]
  },
  {
   "cell_type": "markdown",
   "metadata": {},
   "source": [
    "### Run the simulation\n",
    "The whole simulation will run a certain number of times for certain number of steps."
   ]
  },
  {
   "cell_type": "code",
   "execution_count": null,
   "metadata": {
    "collapsed": true
   },
   "outputs": [],
   "source": [
    "# Number of experiments\n",
    "EXPERIMENTS = 50 # 10\n",
    "\n",
    "# Number of agent steps for each experiment\n",
    "STEPS = 500 # 10 000"
   ]
  },
  {
   "cell_type": "markdown",
   "metadata": {},
   "source": [
    "After all the object `performance` will hold performance metrics useful for visualization."
   ]
  },
  {
   "cell_type": "code",
   "execution_count": 41,
   "metadata": {
    "collapsed": false
   },
   "outputs": [],
   "source": [
    "performance = pd.DataFrame()\n",
    "\n",
    "for experiment in range(EXPERIMENTS):\n",
    "    \n",
    "    # Initialize the environment\n",
    "    env = Maze(MAZE_LOCATION)\n",
    "\n",
    "    # Initialize the agent\n",
    "    agent = ACS2(env)\n",
    "    \n",
    "    # Evaluate classifier\n",
    "    classifiers, metrics = agent.evaluate(STEPS)\n",
    "    \n",
    "    # Add information about the experiment into metrics\n",
    "    metrics['experiment_id'] = [experiment] * len(metrics['time'])\n",
    "    \n",
    "    # Append performance metrics\n",
    "    performance = performance.append(pd.DataFrame(metrics))"
   ]
  },
  {
   "cell_type": "markdown",
   "metadata": {},
   "source": [
    "We can also inspect how the classifier population looks."
   ]
  },
  {
   "cell_type": "code",
   "execution_count": 52,
   "metadata": {
    "collapsed": false
   },
   "outputs": [
    {
     "name": "stdout",
     "output_type": "stream",
     "text": [
      "Population consists of 124 classifiers\n",
      "\n",
      "Classifier{####-0-#### q:0.50, r:1247.59}\n",
      "Classifier{####-1-#### q:0.50, r:1217.40}\n",
      "Classifier{####-2-#### q:0.50, r:1317.38}\n",
      "Classifier{####-3-#### q:0.50, r:1176.37}\n",
      "Classifier{##11-3-##00 q:1.00, r:1086.61}\n",
      "Classifier{##00-3-#### q:0.60, r:872.77}\n",
      "Classifier{##00-3-#### q:1.00, r:872.77}\n",
      "Classifier{###0-3-#### q:0.60, r:1006.16}\n",
      "Classifier{###1-1-###0 q:0.99, r:551.07}\n",
      "Classifier{###0-3-###1 q:0.46, r:1006.16}\n",
      "Classifier{##0#-3-#### q:1.00, r:872.77}\n",
      "Classifier{1011-2-0100 q:1.00, r:1397.29}\n",
      "Classifier{0100-0-1011 q:1.00, r:1214.73}\n",
      "Classifier{#01#-0-#### q:0.71, r:641.91}\n",
      "Classifier{10##-0-#### q:0.64, r:690.54}\n",
      "Classifier{###1-0-#### q:0.64, r:254.72}\n",
      "Classifier{##11-0-#### q:1.00, r:254.72}\n",
      "Classifier{#01#-0-#### q:1.00, r:641.91}\n",
      "Classifier{###1-0-#### q:1.00, r:254.72}\n",
      "Classifier{10##-0-#### q:1.00, r:690.54}\n",
      "Classifier{#0##-0-#### q:1.00, r:690.54}\n",
      "Classifier{##00-2-#### q:0.50, r:1278.87}\n",
      "Classifier{###0-2-#### q:0.50, r:1281.92}\n",
      "Classifier{##1#-0-#### q:0.88, r:641.91}\n",
      "Classifier{##1#-0-#### q:1.00, r:641.91}\n",
      "Classifier{1##0-1-0##9 q:0.16, r:1245.82}\n",
      "Classifier{###9-1-0##9 q:0.54, r:308.41}\n",
      "Classifier{0##9-1-0##9 q:0.49, r:308.41}\n",
      "Classifier{##19-0-#### q:0.97, r:0.00}\n",
      "Classifier{###9-0-#### q:1.00, r:0.00}\n",
      "Classifier{###9-0-#### q:0.96, r:0.00}\n",
      "Classifier{#019-2-#100 q:1.00, r:3727.99}\n",
      "Classifier{1000-2-#### q:0.90, r:1154.41}\n",
      "Classifier{1000-2-#### q:1.00, r:1155.34}\n",
      "Classifier{01##-1-#### q:0.67, r:345.69}\n",
      "Classifier{#1##-1-#### q:0.67, r:345.69}\n",
      "Classifier{0100-2-#### q:0.50, r:1272.48}\n",
      "Classifier{0100-2-#### q:1.00, r:1272.48}\n",
      "Classifier{###9-1-0##9 q:0.60, r:355.50}\n",
      "Classifier{###9-1-#019 q:0.55, r:436.62}\n",
      "Classifier{1010-2-#### q:0.84, r:1389.60}\n",
      "Classifier{1010-2-#### q:1.00, r:1389.75}\n",
      "Classifier{###9-1-0##9 q:0.63, r:479.74}\n",
      "Classifier{0##9-1-0##9 q:0.63, r:479.74}\n",
      "Classifier{0100-1-#### q:1.00, r:355.62}\n",
      "Classifier{01##-3-#### q:0.98, r:867.57}\n",
      "Classifier{#10#-3-#### q:1.00, r:867.57}\n",
      "Classifier{##11-0-1011 q:0.13, r:258.55}\n",
      "Classifier{##11-0-1011 q:0.11, r:257.97}\n",
      "Classifier{##11-0-1011 q:0.17, r:257.94}\n",
      "Classifier{##11-0-1011 q:0.17, r:257.07}\n",
      "Classifier{##00-1-##11 q:0.93, r:966.55}\n",
      "Classifier{##11-0-1011 q:0.21, r:255.83}\n",
      "Classifier{##11-0-1011 q:0.26, r:255.64}\n",
      "Classifier{##11-0-1011 q:0.26, r:254.37}\n",
      "Classifier{##11-0-1011 q:0.26, r:253.36}\n",
      "Classifier{##11-0-1011 q:0.41, r:253.65}\n",
      "Classifier{##11-0-1011 q:0.51, r:253.04}\n",
      "Classifier{##11-0-1011 q:0.51, r:248.88}\n",
      "Classifier{#01#-0-1011 q:0.21, r:640.12}\n",
      "Classifier{10##-0-1011 q:0.17, r:690.59}\n",
      "Classifier{##11-0-1011 q:0.80, r:247.93}\n",
      "Classifier{0##9-1-0##9 q:0.54, r:639.18}\n",
      "Classifier{###9-1-0##9 q:0.54, r:639.18}\n",
      "Classifier{###9-1-0##9 q:0.82, r:617.79}\n",
      "Classifier{###9-1-#### q:0.60, r:846.08}\n",
      "Classifier{###1-0-1011 q:0.80, r:254.63}\n",
      "Classifier{##11-0-1011 q:0.80, r:254.63}\n",
      "Classifier{10##-0-1011 q:0.33, r:654.13}\n",
      "Classifier{##00-3-##00 q:0.40, r:831.09}\n",
      "Classifier{###9-1-0##9 q:0.59, r:751.17}\n",
      "Classifier{0##9-1-0##9 q:0.83, r:751.17}\n",
      "Classifier{0##9-1-0##9 q:0.83, r:1010.89}\n",
      "Classifier{###9-1-0##9 q:0.83, r:1010.89}\n",
      "Classifier{0##9-3-1##0 q:0.52, r:779.72}\n",
      "Classifier{1##0-3-1##0 q:0.30, r:947.73}\n",
      "Classifier{###9-1-0##9 q:0.91, r:1220.70}\n",
      "Classifier{0##9-1-0##9 q:0.89, r:1220.70}\n",
      "Classifier{1010-2-101# q:0.47, r:1498.28}\n",
      "Classifier{0##9-1-0##9 q:0.93, r:1459.39}\n",
      "Classifier{###9-1-0##9 q:0.93, r:1459.39}\n",
      "Classifier{1010-2-101# q:0.62, r:1584.43}\n",
      "Classifier{0##9-1-0##9 q:0.97, r:1718.58}\n",
      "Classifier{###9-1-0##9 q:0.95, r:1718.58}\n",
      "Classifier{##11-0-1011 q:0.80, r:297.11}\n",
      "Classifier{#01#-0-1011 q:1.00, r:300.02}\n",
      "Classifier{###1-0-1011 q:1.00, r:300.02}\n",
      "Classifier{###9-1-0##9 q:0.97, r:1991.82}\n",
      "Classifier{0##9-1-0##9 q:0.97, r:1991.82}\n",
      "Classifier{#10#-2-#100 q:0.13, r:1415.51}\n",
      "Classifier{1010-2-101# q:0.79, r:1646.62}\n",
      "Classifier{##00-3-##00 q:0.63, r:937.20}\n",
      "Classifier{###0-3-##00 q:0.63, r:937.20}\n",
      "Classifier{1011-1-##11 q:0.83, r:624.44}\n",
      "Classifier{##00-3-##00 q:0.64, r:934.36}\n",
      "Classifier{###0-3-##00 q:0.64, r:934.36}\n",
      "Classifier{1011-1-##11 q:0.89, r:726.71}\n",
      "Classifier{##00-3-##00 q:0.64, r:922.14}\n",
      "Classifier{###0-3-##00 q:0.80, r:930.33}\n",
      "Classifier{1011-1-##11 q:0.93, r:756.01}\n",
      "Classifier{10##-0-1011 q:1.00, r:946.92}\n",
      "Classifier{###1-0-1011 q:1.00, r:946.92}\n",
      "Classifier{##11-0-1011 q:1.00, r:946.92}\n",
      "Classifier{#01#-0-1011 q:1.00, r:1034.80}\n",
      "Classifier{10##-0-1011 q:1.00, r:1034.80}\n",
      "Classifier{###1-0-1011 q:1.00, r:1034.80}\n",
      "Classifier{10##-0-1011 q:1.00, r:1098.72}\n",
      "Classifier{##11-0-1011 q:1.00, r:1098.72}\n",
      "Classifier{#01#-0-1011 q:1.00, r:1098.72}\n",
      "Classifier{10##-0-1011 q:1.00, r:1143.80}\n",
      "Classifier{##11-0-1011 q:1.00, r:1143.80}\n",
      "Classifier{#01#-0-1011 q:1.00, r:1143.80}\n",
      "Classifier{###1-0-1011 q:1.00, r:1143.80}\n",
      "Classifier{01##-2-0100 q:1.00, r:1411.40}\n",
      "Classifier{##00-2-0100 q:1.00, r:1411.40}\n",
      "Classifier{10##-0-1011 q:1.00, r:1214.73}\n",
      "Classifier{##11-0-1011 q:1.00, r:1214.73}\n",
      "Classifier{###1-0-1011 q:1.00, r:1214.73}\n",
      "Classifier{#01#-0-1011 q:1.00, r:1214.73}\n",
      "Classifier{###0-3-##00 q:1.00, r:1086.61}\n",
      "Classifier{##00-3-##00 q:1.00, r:1086.61}\n",
      "Classifier{1011-1-##11 q:0.95, r:966.55}\n",
      "Classifier{##00-2-0100 q:1.00, r:1397.29}\n",
      "Classifier{###0-2-0100 q:1.00, r:1397.29}\n"
     ]
    }
   ],
   "source": [
    "print(\"Population consists of {} classifiers\\n\".format(len(classifiers)))\n",
    "for cls in classifiers:\n",
    "    print(cls)"
   ]
  },
  {
   "cell_type": "markdown",
   "metadata": {},
   "source": [
    "<p style=\"color:red\">**TODO**: There are duplicate classifiers!!!! Maybe subsumption does not works. Why low quality classifiers are not removed?</p>"
   ]
  },
  {
   "cell_type": "markdown",
   "metadata": {},
   "source": [
    "## Performance metrics\n",
    "Let's have a look how the performance metrics look like by taking 5 random samples:"
   ]
  },
  {
   "cell_type": "code",
   "execution_count": 39,
   "metadata": {
    "collapsed": false,
    "scrolled": true
   },
   "outputs": [
    {
     "data": {
      "text/html": [
       "<div>\n",
       "<table border=\"1\" class=\"dataframe\">\n",
       "  <thead>\n",
       "    <tr style=\"text-align: right;\">\n",
       "      <th></th>\n",
       "      <th>average_fitness</th>\n",
       "      <th>experiment_id</th>\n",
       "      <th>found_reward</th>\n",
       "      <th>time</th>\n",
       "      <th>total_classifiers</th>\n",
       "    </tr>\n",
       "  </thead>\n",
       "  <tbody>\n",
       "    <tr>\n",
       "      <th>296</th>\n",
       "      <td>140.510473</td>\n",
       "      <td>28</td>\n",
       "      <td>False</td>\n",
       "      <td>297</td>\n",
       "      <td>82</td>\n",
       "    </tr>\n",
       "    <tr>\n",
       "      <th>477</th>\n",
       "      <td>127.640900</td>\n",
       "      <td>36</td>\n",
       "      <td>False</td>\n",
       "      <td>478</td>\n",
       "      <td>110</td>\n",
       "    </tr>\n",
       "    <tr>\n",
       "      <th>257</th>\n",
       "      <td>107.108482</td>\n",
       "      <td>10</td>\n",
       "      <td>False</td>\n",
       "      <td>258</td>\n",
       "      <td>79</td>\n",
       "    </tr>\n",
       "    <tr>\n",
       "      <th>272</th>\n",
       "      <td>547.351340</td>\n",
       "      <td>14</td>\n",
       "      <td>False</td>\n",
       "      <td>273</td>\n",
       "      <td>114</td>\n",
       "    </tr>\n",
       "    <tr>\n",
       "      <th>350</th>\n",
       "      <td>461.394528</td>\n",
       "      <td>43</td>\n",
       "      <td>False</td>\n",
       "      <td>351</td>\n",
       "      <td>113</td>\n",
       "    </tr>\n",
       "  </tbody>\n",
       "</table>\n",
       "</div>"
      ],
      "text/plain": [
       "     average_fitness  experiment_id found_reward  time  total_classifiers\n",
       "296       140.510473             28        False   297                 82\n",
       "477       127.640900             36        False   478                110\n",
       "257       107.108482             10        False   258                 79\n",
       "272       547.351340             14        False   273                114\n",
       "350       461.394528             43        False   351                113"
      ]
     },
     "execution_count": 39,
     "metadata": {},
     "output_type": "execute_result"
    }
   ],
   "source": [
    "performance.sample(5)"
   ]
  },
  {
   "cell_type": "markdown",
   "metadata": {},
   "source": [
    "### Number of steps to food\n",
    "Measures if the classifier actually *learns* something along the time.\n",
    "\n",
    "> **Number of steps to food** - How many steps were needed in **each trial** to found the reward.\n",
    "\n",
    "We need to have a little helper function for operating on obtained measurements."
   ]
  },
  {
   "cell_type": "code",
   "execution_count": 17,
   "metadata": {
    "collapsed": false
   },
   "outputs": [],
   "source": [
    "def get_avg_number_of_steps_to_food(performance):\n",
    "    trials_by_experiment = pd.DataFrame(performance\n",
    "                                        .groupby('experiment_id')\n",
    "                                        .apply(lambda x: x['found_reward'].cumsum())\n",
    "                                        .stack())\n",
    "    trials_by_experiment.reset_index(inplace=True)\n",
    "    trials_by_experiment.rename(columns = {'found_reward': 'time', 0: 'trial'},\n",
    "                                inplace=True)\n",
    "\n",
    "    # Experiment_id, trial, steps\n",
    "    steps_per_trial_in_experiment = pd.DataFrame(trials_by_experiment\n",
    "                                                 .groupby(['experiment_id', 'trial'])\n",
    "                                                 .size())\n",
    "    steps_per_trial_in_experiment.reset_index(inplace=True)\n",
    "    steps_per_trial_in_experiment.rename(columns = {0: 'steps'}, inplace=True)\n",
    "\n",
    "    # Trial, averaged steps\n",
    "    averaged_steps_per_trial = pd.DataFrame(steps_per_trial_in_experiment.groupby('trial')['steps'].mean())\n",
    "    averaged_steps_per_trial.rename(columns = {'steps': 'averaged_steps'}, inplace=True)\n",
    "    averaged_steps_per_trial.reset_index(inplace=True)\n",
    "    \n",
    "    return averaged_steps_per_trial"
   ]
  },
  {
   "cell_type": "markdown",
   "metadata": {},
   "source": [
    "Now we can visualize the results"
   ]
  },
  {
   "cell_type": "code",
   "execution_count": 40,
   "metadata": {
    "collapsed": false
   },
   "outputs": [
    {
     "data": {
      "image/png": "[encoded data removed]",
      "text/plain": [
       "<matplotlib.figure.Figure at 0x1073c9860>"
      ]
     },
     "metadata": {},
     "output_type": "display_data"
    }
   ],
   "source": [
    "steps_to_food = get_avg_number_of_steps_to_food(performance)\n",
    "\n",
    "fig = plt.figure(figsize=(15, 8), dpi=100)\n",
    "\n",
    "plt.bar(steps_to_food['trial'], steps_to_food['averaged_steps'])\n",
    "plt.title('Averaged number of steps to food')\n",
    "plt.xlabel('Trial')\n",
    "plt.ylabel('Steps')\n",
    "\n",
    "plt.grid(True)\n",
    "\n",
    "plt.show()"
   ]
  },
  {
   "cell_type": "markdown",
   "metadata": {},
   "source": [
    "### Achieved knowledge"
   ]
  },
  {
   "cell_type": "code",
   "execution_count": null,
   "metadata": {
    "collapsed": true
   },
   "outputs": [],
   "source": []
  },
  {
   "cell_type": "markdown",
   "metadata": {},
   "source": [
    "### Specificity measure\n",
    "Measure the *generalization* in classifier population.\n",
    "\n",
    "> **Specificity measure** - Equal to the **sum** of all specialized attributed in condition part of all classifiers in population **divided** by the number of classifiers **times** the length of  the perception $\\sigma$.\n",
    "\n",
    "You can read more about this metric in \"*Introducing a Genetic Generalization Pressure to the\n",
    "Anticipatory Classfierier System - Part2: Performance Analysis*\" by Martin V. Butz.\n",
    "\n",
    "Plot should change after modifing the agent's *mutation* and *cross over* values. The author claims that the best generalization was reached for mutation rate $\\mu = 0.4$.\n",
    "\n",
    "<hr />\n",
    "The following image presents how the plot can look like:\n",
    "![title](temp/generalization.png)"
   ]
  },
  {
   "cell_type": "code",
   "execution_count": null,
   "metadata": {
    "collapsed": true
   },
   "outputs": [],
   "source": []
  }
 ],
 "metadata": {
  "kernelspec": {
   "display_name": "Python 3",
   "language": "python",
   "name": "python3"
  },
  "language_info": {
   "codemirror_mode": {
    "name": "ipython",
    "version": 3
   },
   "file_extension": ".py",
   "mimetype": "text/x-python",
   "name": "python",
   "nbconvert_exporter": "python",
   "pygments_lexer": "ipython3",
   "version": "3.5.0"
  }
 },
 "nbformat": 4,
 "nbformat_minor": 0
}
